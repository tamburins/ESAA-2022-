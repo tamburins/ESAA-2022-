{
  "nbformat": 4,
  "nbformat_minor": 0,
  "metadata": {
    "colab": {
      "provenance": [],
      "collapsed_sections": [],
      "authorship_tag": "ABX9TyMgqwPNL5KVrcBeo8ZSNOBG",
      "include_colab_link": true
    },
    "kernelspec": {
      "name": "python3",
      "display_name": "Python 3"
    },
    "language_info": {
      "name": "python"
    }
  },
  "cells": [
    {
      "cell_type": "markdown",
      "metadata": {
        "id": "view-in-github",
        "colab_type": "text"
      },
      "source": [
        "<a href=\"https://colab.research.google.com/github/tamburins/ESAA-2022-/blob/main/ESAA_09_30_assignment(_131).ipynb\" target=\"_parent\"><img src=\"https://colab.research.google.com/assets/colab-badge.svg\" alt=\"Open In Colab\"/></a>"
      ]
    },
    {
      "cell_type": "markdown",
      "source": [
        "파이썬 머신러닝 완벽가이드\n",
        "\n",
        "ch2. 1~5\n",
        "pg. 87 ~ 131\n",
        "\n"
      ],
      "metadata": {
        "id": "f_KaeBNVHYbS"
      }
    },
    {
      "cell_type": "markdown",
      "source": [
        "## 02 사이킷런으로 시작하는 머신러닝\n",
        "### 01 사이킷런 소개와 특징\n",
        "\n",
        "- 파이썬 기반의 다른 머신러닝 패키지도 사이킷런 스타일의 API를 지향할 정도로 쉽고 가장 파이썬스러운 API\n",
        "\n",
        "- 머신러닝을 위한 매우 다양한 알고리즘과 개발을 위한 편리한 프레임워크와 API 제공\n",
        "\n",
        "- 오랜 기간 실전 환경에서 검증, 매우 많은 환경에서 사용"
      ],
      "metadata": {
        "id": "NNNo5w9zHr9V"
      }
    },
    {
      "cell_type": "code",
      "source": [
        "pip install scikit-learn"
      ],
      "metadata": {
        "colab": {
          "base_uri": "https://localhost:8080/"
        },
        "id": "adL7b0jxHkQh",
        "outputId": "f37a59b9-f692-4bc5-b187-57df0025c0e7"
      },
      "execution_count": 1,
      "outputs": [
        {
          "output_type": "stream",
          "name": "stdout",
          "text": [
            "Looking in indexes: https://pypi.org/simple, https://us-python.pkg.dev/colab-wheels/public/simple/\n",
            "Requirement already satisfied: scikit-learn in /usr/local/lib/python3.7/dist-packages (1.0.2)\n",
            "Requirement already satisfied: scipy>=1.1.0 in /usr/local/lib/python3.7/dist-packages (from scikit-learn) (1.7.3)\n",
            "Requirement already satisfied: threadpoolctl>=2.0.0 in /usr/local/lib/python3.7/dist-packages (from scikit-learn) (3.1.0)\n",
            "Requirement already satisfied: joblib>=0.11 in /usr/local/lib/python3.7/dist-packages (from scikit-learn) (1.1.0)\n",
            "Requirement already satisfied: numpy>=1.14.6 in /usr/local/lib/python3.7/dist-packages (from scikit-learn) (1.21.6)\n"
          ]
        }
      ]
    },
    {
      "cell_type": "code",
      "execution_count": 2,
      "metadata": {
        "id": "N4jP768EF8d-",
        "colab": {
          "base_uri": "https://localhost:8080/"
        },
        "outputId": "57f201d2-53d3-4b5d-d4af-3a056a7f9f70"
      },
      "outputs": [
        {
          "output_type": "stream",
          "name": "stdout",
          "text": [
            "1.0.2\n"
          ]
        }
      ],
      "source": [
        "import sklearn\n",
        "print(sklearn.__version__) #사이킷런 버전 확인"
      ]
    },
    {
      "cell_type": "markdown",
      "source": [
        "### 02 첫 번째 머신러닝 만들어 보기 - 붓꽃 품종 예측하기\n",
        "\n",
        "분류 = 지도학습\n",
        "\n",
        "= 학습을 위한 다양한 피처와 분류 결정값인 레이블 데이터로 모델을 학습한 뒤, 별도의 테스트 데이터 세트에서 미지의 레이블을 예측하는 방법"
      ],
      "metadata": {
        "id": "LWYcJIdJIq4U"
      }
    },
    {
      "cell_type": "code",
      "source": [
        "#사이킷런에서 사용할 모듈 임포트\n",
        "from sklearn.datasets import load_iris #붓꽃 데이터 생성\n",
        "from sklearn.tree import DecisionTreeClassifier\n",
        "from sklearn.model_selection import train_test_split \n",
        "# 학습데이터, 검증데이터, 예측 데이터로 데이터를 분리하거나 최적의 하이퍼 파라미터로 평가하기 이한 다양한 모듈의 모임"
      ],
      "metadata": {
        "id": "CoYfujZOMbv3"
      },
      "execution_count": 3,
      "outputs": []
    },
    {
      "cell_type": "code",
      "source": [
        "import pandas as pd\n",
        "\n",
        "iris=load_iris() #붓꽃 데이터 세트 로딩\n",
        "iris_data=iris.data #iris.data는 데이터세트에서 feature만으로 된 데이터를 numpy로 가짐\n",
        "\n",
        "#iris.target은 데이터세트에서 레이블(결정값) 데이터를 numpy로 가짐\n",
        "iris_label=iris.target\n",
        "print('iris target값:', iris_label)\n",
        "print('iris target명: ', iris.target_names)\n",
        "\n",
        "#붓꽃 데이터 세트를 자세히 보기 위해 dataframe으로 변환\n",
        "iris_df=pd.DataFrame(data=iris_data, columns=iris.feature_names)\n",
        "iris_df['label']=iris.target\n",
        "iris_df.head(3)"
      ],
      "metadata": {
        "colab": {
          "base_uri": "https://localhost:8080/",
          "height": 244
        },
        "id": "V2yNRLpZM8J6",
        "outputId": "15420b30-a11b-4e45-f9a2-e8598258b1f3"
      },
      "execution_count": 4,
      "outputs": [
        {
          "output_type": "stream",
          "name": "stdout",
          "text": [
            "iris target값: [0 0 0 0 0 0 0 0 0 0 0 0 0 0 0 0 0 0 0 0 0 0 0 0 0 0 0 0 0 0 0 0 0 0 0 0 0\n",
            " 0 0 0 0 0 0 0 0 0 0 0 0 0 1 1 1 1 1 1 1 1 1 1 1 1 1 1 1 1 1 1 1 1 1 1 1 1\n",
            " 1 1 1 1 1 1 1 1 1 1 1 1 1 1 1 1 1 1 1 1 1 1 1 1 1 1 2 2 2 2 2 2 2 2 2 2 2\n",
            " 2 2 2 2 2 2 2 2 2 2 2 2 2 2 2 2 2 2 2 2 2 2 2 2 2 2 2 2 2 2 2 2 2 2 2 2 2\n",
            " 2 2]\n",
            "iris target명:  ['setosa' 'versicolor' 'virginica']\n"
          ]
        },
        {
          "output_type": "execute_result",
          "data": {
            "text/plain": [
              "   sepal length (cm)  sepal width (cm)  petal length (cm)  petal width (cm)  \\\n",
              "0                5.1               3.5                1.4               0.2   \n",
              "1                4.9               3.0                1.4               0.2   \n",
              "2                4.7               3.2                1.3               0.2   \n",
              "\n",
              "   label  \n",
              "0      0  \n",
              "1      0  \n",
              "2      0  "
            ],
            "text/html": [
              "\n",
              "  <div id=\"df-b1c07b66-508a-456f-99e0-75d6ccab23db\">\n",
              "    <div class=\"colab-df-container\">\n",
              "      <div>\n",
              "<style scoped>\n",
              "    .dataframe tbody tr th:only-of-type {\n",
              "        vertical-align: middle;\n",
              "    }\n",
              "\n",
              "    .dataframe tbody tr th {\n",
              "        vertical-align: top;\n",
              "    }\n",
              "\n",
              "    .dataframe thead th {\n",
              "        text-align: right;\n",
              "    }\n",
              "</style>\n",
              "<table border=\"1\" class=\"dataframe\">\n",
              "  <thead>\n",
              "    <tr style=\"text-align: right;\">\n",
              "      <th></th>\n",
              "      <th>sepal length (cm)</th>\n",
              "      <th>sepal width (cm)</th>\n",
              "      <th>petal length (cm)</th>\n",
              "      <th>petal width (cm)</th>\n",
              "      <th>label</th>\n",
              "    </tr>\n",
              "  </thead>\n",
              "  <tbody>\n",
              "    <tr>\n",
              "      <th>0</th>\n",
              "      <td>5.1</td>\n",
              "      <td>3.5</td>\n",
              "      <td>1.4</td>\n",
              "      <td>0.2</td>\n",
              "      <td>0</td>\n",
              "    </tr>\n",
              "    <tr>\n",
              "      <th>1</th>\n",
              "      <td>4.9</td>\n",
              "      <td>3.0</td>\n",
              "      <td>1.4</td>\n",
              "      <td>0.2</td>\n",
              "      <td>0</td>\n",
              "    </tr>\n",
              "    <tr>\n",
              "      <th>2</th>\n",
              "      <td>4.7</td>\n",
              "      <td>3.2</td>\n",
              "      <td>1.3</td>\n",
              "      <td>0.2</td>\n",
              "      <td>0</td>\n",
              "    </tr>\n",
              "  </tbody>\n",
              "</table>\n",
              "</div>\n",
              "      <button class=\"colab-df-convert\" onclick=\"convertToInteractive('df-b1c07b66-508a-456f-99e0-75d6ccab23db')\"\n",
              "              title=\"Convert this dataframe to an interactive table.\"\n",
              "              style=\"display:none;\">\n",
              "        \n",
              "  <svg xmlns=\"http://www.w3.org/2000/svg\" height=\"24px\"viewBox=\"0 0 24 24\"\n",
              "       width=\"24px\">\n",
              "    <path d=\"M0 0h24v24H0V0z\" fill=\"none\"/>\n",
              "    <path d=\"M18.56 5.44l.94 2.06.94-2.06 2.06-.94-2.06-.94-.94-2.06-.94 2.06-2.06.94zm-11 1L8.5 8.5l.94-2.06 2.06-.94-2.06-.94L8.5 2.5l-.94 2.06-2.06.94zm10 10l.94 2.06.94-2.06 2.06-.94-2.06-.94-.94-2.06-.94 2.06-2.06.94z\"/><path d=\"M17.41 7.96l-1.37-1.37c-.4-.4-.92-.59-1.43-.59-.52 0-1.04.2-1.43.59L10.3 9.45l-7.72 7.72c-.78.78-.78 2.05 0 2.83L4 21.41c.39.39.9.59 1.41.59.51 0 1.02-.2 1.41-.59l7.78-7.78 2.81-2.81c.8-.78.8-2.07 0-2.86zM5.41 20L4 18.59l7.72-7.72 1.47 1.35L5.41 20z\"/>\n",
              "  </svg>\n",
              "      </button>\n",
              "      \n",
              "  <style>\n",
              "    .colab-df-container {\n",
              "      display:flex;\n",
              "      flex-wrap:wrap;\n",
              "      gap: 12px;\n",
              "    }\n",
              "\n",
              "    .colab-df-convert {\n",
              "      background-color: #E8F0FE;\n",
              "      border: none;\n",
              "      border-radius: 50%;\n",
              "      cursor: pointer;\n",
              "      display: none;\n",
              "      fill: #1967D2;\n",
              "      height: 32px;\n",
              "      padding: 0 0 0 0;\n",
              "      width: 32px;\n",
              "    }\n",
              "\n",
              "    .colab-df-convert:hover {\n",
              "      background-color: #E2EBFA;\n",
              "      box-shadow: 0px 1px 2px rgba(60, 64, 67, 0.3), 0px 1px 3px 1px rgba(60, 64, 67, 0.15);\n",
              "      fill: #174EA6;\n",
              "    }\n",
              "\n",
              "    [theme=dark] .colab-df-convert {\n",
              "      background-color: #3B4455;\n",
              "      fill: #D2E3FC;\n",
              "    }\n",
              "\n",
              "    [theme=dark] .colab-df-convert:hover {\n",
              "      background-color: #434B5C;\n",
              "      box-shadow: 0px 1px 3px 1px rgba(0, 0, 0, 0.15);\n",
              "      filter: drop-shadow(0px 1px 2px rgba(0, 0, 0, 0.3));\n",
              "      fill: #FFFFFF;\n",
              "    }\n",
              "  </style>\n",
              "\n",
              "      <script>\n",
              "        const buttonEl =\n",
              "          document.querySelector('#df-b1c07b66-508a-456f-99e0-75d6ccab23db button.colab-df-convert');\n",
              "        buttonEl.style.display =\n",
              "          google.colab.kernel.accessAllowed ? 'block' : 'none';\n",
              "\n",
              "        async function convertToInteractive(key) {\n",
              "          const element = document.querySelector('#df-b1c07b66-508a-456f-99e0-75d6ccab23db');\n",
              "          const dataTable =\n",
              "            await google.colab.kernel.invokeFunction('convertToInteractive',\n",
              "                                                     [key], {});\n",
              "          if (!dataTable) return;\n",
              "\n",
              "          const docLinkHtml = 'Like what you see? Visit the ' +\n",
              "            '<a target=\"_blank\" href=https://colab.research.google.com/notebooks/data_table.ipynb>data table notebook</a>'\n",
              "            + ' to learn more about interactive tables.';\n",
              "          element.innerHTML = '';\n",
              "          dataTable['output_type'] = 'display_data';\n",
              "          await google.colab.output.renderOutput(dataTable, element);\n",
              "          const docLink = document.createElement('div');\n",
              "          docLink.innerHTML = docLinkHtml;\n",
              "          element.appendChild(docLink);\n",
              "        }\n",
              "      </script>\n",
              "    </div>\n",
              "  </div>\n",
              "  "
            ]
          },
          "metadata": {},
          "execution_count": 4
        }
      ]
    },
    {
      "cell_type": "code",
      "source": [
        "#학습용 데이터와 테스트용 데이터 분리\n",
        "\n",
        "X_train, X_test, y_train, y_test=train_test_split(iris_data,iris_label, test_size=0.2, random_state=11)\n",
        "#피처 데이터 세트, 레이블 데이터 세트, 테스트 데이터 세트 비율, 호출할 때 마다 같은 학습/테스트데이터 세트를 생성하기 위한 난수발생\n"
      ],
      "metadata": {
        "id": "2mDO6l2aRbJJ"
      },
      "execution_count": 5,
      "outputs": []
    },
    {
      "cell_type": "code",
      "source": [
        "#의사결정트리를 이용한 핟습과 예측 수행\n",
        "#DecisionTreeClassifier 객체 생성\n",
        "dt_clf=DecisionTreeClassifier(random_state=11)"
      ],
      "metadata": {
        "id": "XyTIwDncSQ8H"
      },
      "execution_count": null,
      "outputs": []
    },
    {
      "cell_type": "code",
      "source": [
        "#학습 수행\n",
        "pred=dt_clf.fit(X_train, y_train)"
      ],
      "metadata": {
        "id": "ecNDG8FFSkYo"
      },
      "execution_count": null,
      "outputs": []
    },
    {
      "cell_type": "code",
      "source": [
        "#학습데이터가 아닌 다른 데이터(테스트 데이터)로 예측 수행\n",
        "pred=dt_clf.predict(X_test)"
      ],
      "metadata": {
        "id": "skMJ9N2TSxC9"
      },
      "execution_count": null,
      "outputs": []
    },
    {
      "cell_type": "code",
      "source": [
        "#예측 성능 평가 - accuracy_score(실제 레이블 데이터세트, 예측 레이블 데이터 세트)\n",
        "from sklearn.metrics import accuracy_score\n",
        "print('예측 정확도: {0:.4f}'.format(accuracy_score(y_test, pred)))"
      ],
      "metadata": {
        "colab": {
          "base_uri": "https://localhost:8080/"
        },
        "id": "9VzsrjEgTH_M",
        "outputId": "cd21edcf-0f7e-402f-ebcd-9ba632b1bfa8"
      },
      "execution_count": 10,
      "outputs": [
        {
          "output_type": "stream",
          "name": "stdout",
          "text": [
            "예측 정확도: 0.9333\n"
          ]
        }
      ]
    },
    {
      "cell_type": "markdown",
      "source": [
        ">분류 예측 프로세스\n",
        "1. 데이터 세트 분리 데이터를 학습 데이터와 테스트 데이터로 분리\n",
        "\n",
        "2. 모델 학습: 학습된 데이터 기반, ML 알고리즘을 적용해 모델 학습\n",
        "\n",
        "3. 예측 수행: 학습된 ML모델을 이용, 테스트 데이터 분류 진행\n",
        "\n",
        "4. 평가: 예측된 결과값과 테스트 데이터의 실제 결괏값을 비교하여 ML모델 성능 평가"
      ],
      "metadata": {
        "id": "DnbVY77lTjxq"
      }
    },
    {
      "cell_type": "markdown",
      "source": [
        "###03 사이킷런의 기반 프레임워크 익히기"
      ],
      "metadata": {
        "id": "wCUQnxcMT5jc"
      }
    },
    {
      "cell_type": "markdown",
      "source": [
        "**Estimator 이해 및 fit(), predict() 메서드**\n",
        "- 분류 알고리즘 - classifier, 회귀 알고리즘 - regressor로 지칭하며 이를 합쳐 Estimator라 지칭\n",
        "\n",
        "- cross_val_score()과 같은 evaluation 함수, GridSearchCV와 같은 하이퍼 파라미터 튜닝을 지원하는 클래스의 경우 이 Estimator를 인자로 받으며, 인자로 받은 Estimator에 대해 cross_val_score(), GidSEarchCV.fit()함수\n",
        "\n",
        "-비지도학습의 fit(): 지도학습의 fit처럼 학습하는 것이 아니라 입력 데이터 형태에 맞춰 데이터를 변환하기 위한 사전 구조를 맞추는 작업\n",
        "Transform() fit으로 맞춘 입력데이터에 대해 차원변환, 클러스터링, 피처추출\n",
        "\n"
      ],
      "metadata": {
        "id": "XN3odukNT9nc"
      }
    },
    {
      "cell_type": "markdown",
      "source": [
        "\n",
        "**사이킷런의 주요모듈**\n",
        "> 예제데이터\n",
        "- sklearn.datasets 사이킷런에 내장되어 예제로 제공하는 데이터 세트\n",
        "\n",
        "\n",
        "> 피처처리\n",
        "- sklearn.preprocessing 데이터 전처리에 필요한 다양한 가공기능 제공(문자열을 숫자형 코드값으로 인코딩, 정규화, 스케일링 등\n",
        "- Sklearn, feature_selection 알고리즘에 큰 영향을 미치는 피처를 우선순위대로 셀렉션 작업을 수행하는 다양한 기능 제공\n",
        "- Sklearn.feature_extraction 텍스트 데이터나 이미지 데이터의 벡터화된 피처를 추출하는데 사용됨. 예를 들어 텍스트 데이터에서 count vectorizer나 Tt-ldf Vectorizer 등을 생성하는 기능 제공. \n",
        "텍스트 데이터의 피처 추출은 sklearn.feature_extraction, text 모듈에, 이미지 데이터의 피처추출은 sklearn.feature_extraction.image 모듈에 지원 API가 있음.\n",
        "\n",
        "\n",
        "> 피처처리&차원 축소\n",
        "- sklearn.decomposition 차원 축소와 관련한 알고리즘을 지원하는 모듈로 PCA, NMF, Trncated SVD 등을 통해 차원 축소 가능\n",
        "데이터 분리, 검증 & 파라미터 튜닝 sklearn.model_selcletion 교차 검증을 위한 학습용/테스트용 분리. 그리드 서치로 최적 파라미터 추출 등의 API 제공\n",
        "\n",
        "\n",
        "> 평가\n",
        "- sklearn.metrics 분류, 회귀, 클러스터링, 페어와이즈에 대한 다양한 성능 측정 방법 제공(Accuracy, Precision, Recall, ROC-AUC, RMSE 등 제공)\n",
        "\n",
        "\n",
        "> ML 알고리즘\n",
        "- Sklearn.ensemble 앙상블 알고리즘 제공, 랜덤 포레스트, 에이다 부스트, 그래디언트 부스팅 등 제공\n",
        "- Sklearn.linear_model 주로 선형회귀, 릿지, 라쏘 및 로지스틱 회귀 등 회귀 관련 알고리즘 지원 및 SGD(stochastic Gradient Descent) 관련 알고리즘도 제공\n",
        "- Sklearn.naive_bayes 나이브 베이즈 알고리즘 제공, 가우시안 NB, 다항 분포 NB 등\n",
        "- Sklearn.neighbors 최근접 이웃 알고리즘 제공. K-NN 등\n",
        "- Sklearn.svm 서포트 벡터 머신 알고리즘 제공\n",
        "- Sklearn.tree 의사결정 트리 알고리즘 제공\n",
        "- Sklearn.cluster 비지도 클러스터링 알고리즘 제공(K-평균, 계층형, DBSCAN 등)\n",
        "\n",
        "\n",
        "> 유틸리티\n",
        "- Sklearn.pipeline 피처처리 등의 변환과 ML 알고리즘 학습, 예측 등을 함께 묶어서 진행할 수 있는 유틸리티 제공\n",
        "\n",
        "\n"
      ],
      "metadata": {
        "id": "JU23937mzgkd"
      }
    },
    {
      "cell_type": "markdown",
      "source": [
        "**내장된 예제 데이터 세트 **\n",
        ">분류나 회귀 연습용 예제 데이터\n",
        "- Datasetsl.load_boston() 회귀 용도, 미국 보스턴의 집 피처들과 가격\n",
        "- Datasetsl.load 분류 용도, 위스콘신 유방암 피처와 악성/음성 레이블 데이터 세트\n",
        "- Datasetsl.load 회귀 용도, 당뇨 데이터 세트\n",
        "- Datasetsl.load 분류 용도, 0에서 9까지 숫자의 이미지 픽셀 데이터\n",
        "- Datasetsl.load 분류 용도, 붓꽃에 대한 피처를 가진 데이터 세트\n",
        "\n",
        ">Fetch 계열\n",
        "- Fetch_covtype() 회귀분석용 토지조사자료\n",
        "- Fetch_20newsgroups() 뉴스 그룹 텍스트 자료\n",
        "- Fetch_ oliverti_faces() 얼굴 이미지 자료\n",
        "- Fetch_lfw_people()얼굴 이미지 자료\n",
        "- Fetch_lfw_pairs()얼굴 이미지 자료\n",
        "- Fetch_rcv1() 로이터 뉴스 말뭉치\n",
        "- Fetch_mldata() ML 웹사이트에서 다운로드\n",
        "\n",
        ">분류와 클러스터링을 위한 표본데이터\n",
        "- Datasets,make_classification 분류를 위한 데이터 세트 생성, 높은 상관도와 불필요한 속성 등 노이즈 효과를 위한 데이터를 무작위로 생성\n",
        "- Datasets,make_blobs() 클러스터링을 위한 데이터 세트를 무작위로 생성, 군집 지정 개수에 따라 여러 클러스터링을 위한 데이터 세트를 쉽게 생성\n",
        "\n"
      ],
      "metadata": {
        "id": "UUIWo6pc47st"
      }
    },
    {
      "cell_type": "markdown",
      "source": [
        "*개별 키 속 데이터세트의 의미\n",
        "\n",
        "1) Data – 피처의 데이터 세트 (넘파이 배열)\n",
        "\n",
        "2) Target – 분류 시 레이블 값, 회귀일 때는 숫자 결괏값 데이터 세트 (넘파이 배열)\n",
        "\n",
        "3) Target_names – 개별 레이블의 이름 (넘파이 배열 또는 파이썬 리스트 타입)\n",
        "\n",
        "4) Feature_names – 피처의 이름 (넘파이 배열 또는 파이썬 리스트 타입)\n",
        "\n",
        "5) DESCR – 데이터 세트에 대한 설명과 각 피처의 설명 (스트링 타입)\n",
        "\n"
      ],
      "metadata": {
        "id": "CmzSY6NX5maX"
      }
    },
    {
      "cell_type": "code",
      "source": [
        "from sklearn.datasets import load_iris\n",
        "iris_data=load_iris()\n",
        "print(type(iris_data))"
      ],
      "metadata": {
        "colab": {
          "base_uri": "https://localhost:8080/"
        },
        "id": "R-wUUQvm6AMM",
        "outputId": "e61a6ac4-0ac4-49bb-aaf3-2d9c10d97195"
      },
      "execution_count": 6,
      "outputs": [
        {
          "output_type": "stream",
          "name": "stdout",
          "text": [
            "<class 'sklearn.utils.Bunch'>\n"
          ]
        }
      ]
    },
    {
      "cell_type": "code",
      "source": [
        "keys = iris_data.keys()\n",
        "print('붓꽃데이터 세트의 키들: ', keys)"
      ],
      "metadata": {
        "colab": {
          "base_uri": "https://localhost:8080/"
        },
        "id": "FhxO1-1P6iHI",
        "outputId": "fea7be4c-3b0c-4d12-94af-3f0f60c83e0a"
      },
      "execution_count": 8,
      "outputs": [
        {
          "output_type": "stream",
          "name": "stdout",
          "text": [
            "붓꽃데이터 세트의 키들:  dict_keys(['data', 'target', 'frame', 'target_names', 'DESCR', 'feature_names', 'filename', 'data_module'])\n"
          ]
        }
      ]
    },
    {
      "cell_type": "code",
      "source": [
        "print('\\n feautre names의 type: ', type(iris_data.feature_names))\n",
        "print('feautre names의 shape: ', len(iris_data.feature_names))\n",
        "print(iris_data.feature_names)\n",
        "\n",
        "print('\\n target_names의 type: ', type(iris_data.target_names))\n",
        "print('target_names의 shape: ', len(iris_data.feature_names))\n",
        "print(iris_data.target_names)\n",
        "\n",
        "print('\\n data의 type: ', type(iris_data.data))\n",
        "print('data의 shape: ', len(iris_data.data.shape))\n",
        "print(iris_data['data'])\n",
        "\n",
        "print('\\n target의 type: ', type(iris_data.target))\n",
        "print('target의 shape: ', len(iris_data.target.shape))\n",
        "print(iris_data.target)"
      ],
      "metadata": {
        "colab": {
          "base_uri": "https://localhost:8080/"
        },
        "id": "YbjZfht76wBK",
        "outputId": "93bd64b2-79f1-452b-b3d0-6d2cd87a18cf"
      },
      "execution_count": 14,
      "outputs": [
        {
          "output_type": "stream",
          "name": "stdout",
          "text": [
            "\n",
            " feautre names의 type:  <class 'list'>\n",
            "feautre names의 shape:  4\n",
            "['sepal length (cm)', 'sepal width (cm)', 'petal length (cm)', 'petal width (cm)']\n",
            "\n",
            " target_names의 type:  <class 'numpy.ndarray'>\n",
            "target_names의 shape:  4\n",
            "['setosa' 'versicolor' 'virginica']\n",
            "\n",
            " data의 type:  <class 'numpy.ndarray'>\n",
            "data의 shape:  2\n",
            "[[5.1 3.5 1.4 0.2]\n",
            " [4.9 3.  1.4 0.2]\n",
            " [4.7 3.2 1.3 0.2]\n",
            " [4.6 3.1 1.5 0.2]\n",
            " [5.  3.6 1.4 0.2]\n",
            " [5.4 3.9 1.7 0.4]\n",
            " [4.6 3.4 1.4 0.3]\n",
            " [5.  3.4 1.5 0.2]\n",
            " [4.4 2.9 1.4 0.2]\n",
            " [4.9 3.1 1.5 0.1]\n",
            " [5.4 3.7 1.5 0.2]\n",
            " [4.8 3.4 1.6 0.2]\n",
            " [4.8 3.  1.4 0.1]\n",
            " [4.3 3.  1.1 0.1]\n",
            " [5.8 4.  1.2 0.2]\n",
            " [5.7 4.4 1.5 0.4]\n",
            " [5.4 3.9 1.3 0.4]\n",
            " [5.1 3.5 1.4 0.3]\n",
            " [5.7 3.8 1.7 0.3]\n",
            " [5.1 3.8 1.5 0.3]\n",
            " [5.4 3.4 1.7 0.2]\n",
            " [5.1 3.7 1.5 0.4]\n",
            " [4.6 3.6 1.  0.2]\n",
            " [5.1 3.3 1.7 0.5]\n",
            " [4.8 3.4 1.9 0.2]\n",
            " [5.  3.  1.6 0.2]\n",
            " [5.  3.4 1.6 0.4]\n",
            " [5.2 3.5 1.5 0.2]\n",
            " [5.2 3.4 1.4 0.2]\n",
            " [4.7 3.2 1.6 0.2]\n",
            " [4.8 3.1 1.6 0.2]\n",
            " [5.4 3.4 1.5 0.4]\n",
            " [5.2 4.1 1.5 0.1]\n",
            " [5.5 4.2 1.4 0.2]\n",
            " [4.9 3.1 1.5 0.2]\n",
            " [5.  3.2 1.2 0.2]\n",
            " [5.5 3.5 1.3 0.2]\n",
            " [4.9 3.6 1.4 0.1]\n",
            " [4.4 3.  1.3 0.2]\n",
            " [5.1 3.4 1.5 0.2]\n",
            " [5.  3.5 1.3 0.3]\n",
            " [4.5 2.3 1.3 0.3]\n",
            " [4.4 3.2 1.3 0.2]\n",
            " [5.  3.5 1.6 0.6]\n",
            " [5.1 3.8 1.9 0.4]\n",
            " [4.8 3.  1.4 0.3]\n",
            " [5.1 3.8 1.6 0.2]\n",
            " [4.6 3.2 1.4 0.2]\n",
            " [5.3 3.7 1.5 0.2]\n",
            " [5.  3.3 1.4 0.2]\n",
            " [7.  3.2 4.7 1.4]\n",
            " [6.4 3.2 4.5 1.5]\n",
            " [6.9 3.1 4.9 1.5]\n",
            " [5.5 2.3 4.  1.3]\n",
            " [6.5 2.8 4.6 1.5]\n",
            " [5.7 2.8 4.5 1.3]\n",
            " [6.3 3.3 4.7 1.6]\n",
            " [4.9 2.4 3.3 1. ]\n",
            " [6.6 2.9 4.6 1.3]\n",
            " [5.2 2.7 3.9 1.4]\n",
            " [5.  2.  3.5 1. ]\n",
            " [5.9 3.  4.2 1.5]\n",
            " [6.  2.2 4.  1. ]\n",
            " [6.1 2.9 4.7 1.4]\n",
            " [5.6 2.9 3.6 1.3]\n",
            " [6.7 3.1 4.4 1.4]\n",
            " [5.6 3.  4.5 1.5]\n",
            " [5.8 2.7 4.1 1. ]\n",
            " [6.2 2.2 4.5 1.5]\n",
            " [5.6 2.5 3.9 1.1]\n",
            " [5.9 3.2 4.8 1.8]\n",
            " [6.1 2.8 4.  1.3]\n",
            " [6.3 2.5 4.9 1.5]\n",
            " [6.1 2.8 4.7 1.2]\n",
            " [6.4 2.9 4.3 1.3]\n",
            " [6.6 3.  4.4 1.4]\n",
            " [6.8 2.8 4.8 1.4]\n",
            " [6.7 3.  5.  1.7]\n",
            " [6.  2.9 4.5 1.5]\n",
            " [5.7 2.6 3.5 1. ]\n",
            " [5.5 2.4 3.8 1.1]\n",
            " [5.5 2.4 3.7 1. ]\n",
            " [5.8 2.7 3.9 1.2]\n",
            " [6.  2.7 5.1 1.6]\n",
            " [5.4 3.  4.5 1.5]\n",
            " [6.  3.4 4.5 1.6]\n",
            " [6.7 3.1 4.7 1.5]\n",
            " [6.3 2.3 4.4 1.3]\n",
            " [5.6 3.  4.1 1.3]\n",
            " [5.5 2.5 4.  1.3]\n",
            " [5.5 2.6 4.4 1.2]\n",
            " [6.1 3.  4.6 1.4]\n",
            " [5.8 2.6 4.  1.2]\n",
            " [5.  2.3 3.3 1. ]\n",
            " [5.6 2.7 4.2 1.3]\n",
            " [5.7 3.  4.2 1.2]\n",
            " [5.7 2.9 4.2 1.3]\n",
            " [6.2 2.9 4.3 1.3]\n",
            " [5.1 2.5 3.  1.1]\n",
            " [5.7 2.8 4.1 1.3]\n",
            " [6.3 3.3 6.  2.5]\n",
            " [5.8 2.7 5.1 1.9]\n",
            " [7.1 3.  5.9 2.1]\n",
            " [6.3 2.9 5.6 1.8]\n",
            " [6.5 3.  5.8 2.2]\n",
            " [7.6 3.  6.6 2.1]\n",
            " [4.9 2.5 4.5 1.7]\n",
            " [7.3 2.9 6.3 1.8]\n",
            " [6.7 2.5 5.8 1.8]\n",
            " [7.2 3.6 6.1 2.5]\n",
            " [6.5 3.2 5.1 2. ]\n",
            " [6.4 2.7 5.3 1.9]\n",
            " [6.8 3.  5.5 2.1]\n",
            " [5.7 2.5 5.  2. ]\n",
            " [5.8 2.8 5.1 2.4]\n",
            " [6.4 3.2 5.3 2.3]\n",
            " [6.5 3.  5.5 1.8]\n",
            " [7.7 3.8 6.7 2.2]\n",
            " [7.7 2.6 6.9 2.3]\n",
            " [6.  2.2 5.  1.5]\n",
            " [6.9 3.2 5.7 2.3]\n",
            " [5.6 2.8 4.9 2. ]\n",
            " [7.7 2.8 6.7 2. ]\n",
            " [6.3 2.7 4.9 1.8]\n",
            " [6.7 3.3 5.7 2.1]\n",
            " [7.2 3.2 6.  1.8]\n",
            " [6.2 2.8 4.8 1.8]\n",
            " [6.1 3.  4.9 1.8]\n",
            " [6.4 2.8 5.6 2.1]\n",
            " [7.2 3.  5.8 1.6]\n",
            " [7.4 2.8 6.1 1.9]\n",
            " [7.9 3.8 6.4 2. ]\n",
            " [6.4 2.8 5.6 2.2]\n",
            " [6.3 2.8 5.1 1.5]\n",
            " [6.1 2.6 5.6 1.4]\n",
            " [7.7 3.  6.1 2.3]\n",
            " [6.3 3.4 5.6 2.4]\n",
            " [6.4 3.1 5.5 1.8]\n",
            " [6.  3.  4.8 1.8]\n",
            " [6.9 3.1 5.4 2.1]\n",
            " [6.7 3.1 5.6 2.4]\n",
            " [6.9 3.1 5.1 2.3]\n",
            " [5.8 2.7 5.1 1.9]\n",
            " [6.8 3.2 5.9 2.3]\n",
            " [6.7 3.3 5.7 2.5]\n",
            " [6.7 3.  5.2 2.3]\n",
            " [6.3 2.5 5.  1.9]\n",
            " [6.5 3.  5.2 2. ]\n",
            " [6.2 3.4 5.4 2.3]\n",
            " [5.9 3.  5.1 1.8]]\n",
            "\n",
            " target의 type:  <class 'numpy.ndarray'>\n",
            "target의 shape:  1\n",
            "[0 0 0 0 0 0 0 0 0 0 0 0 0 0 0 0 0 0 0 0 0 0 0 0 0 0 0 0 0 0 0 0 0 0 0 0 0\n",
            " 0 0 0 0 0 0 0 0 0 0 0 0 0 1 1 1 1 1 1 1 1 1 1 1 1 1 1 1 1 1 1 1 1 1 1 1 1\n",
            " 1 1 1 1 1 1 1 1 1 1 1 1 1 1 1 1 1 1 1 1 1 1 1 1 1 1 2 2 2 2 2 2 2 2 2 2 2\n",
            " 2 2 2 2 2 2 2 2 2 2 2 2 2 2 2 2 2 2 2 2 2 2 2 2 2 2 2 2 2 2 2 2 2 2 2 2 2\n",
            " 2 2]\n"
          ]
        }
      ]
    },
    {
      "cell_type": "markdown",
      "source": [
        "###04 Model Selection 모듈 소개\n",
        "\n",
        "**학습/ 테스트 데이터 세트 분리 – train_test_split()**\n"
      ],
      "metadata": {
        "id": "LCaHu20T5wrh"
      }
    },
    {
      "cell_type": "code",
      "source": [
        "from sklearn.datasets import load_iris\n",
        "from sklearn.tree import DecisionTreeClassifier\n",
        "from sklearn.metrics import accuracy_score\n",
        "\n",
        "iris=load_iris()\n",
        "dt_clf=DecisionTreeClassifier()\n",
        "train_data=iris.data\n",
        "train_label=iris.target\n",
        "dt_clf.fit(train_data, train_label)\n",
        "\n",
        "#학습데이터 세트로 예측 수행\n",
        "pred=dt_clf.predict(train_data)\n",
        "print('예측정확도:', accuracy_score(train_label, pred))\n"
      ],
      "metadata": {
        "colab": {
          "base_uri": "https://localhost:8080/"
        },
        "id": "8NK-Qq2C8UaF",
        "outputId": "42592a31-1ced-4e06-b402-cac72851fce1"
      },
      "execution_count": 16,
      "outputs": [
        {
          "output_type": "stream",
          "name": "stdout",
          "text": [
            "예측정확도: 1.0\n"
          ]
        }
      ]
    },
    {
      "cell_type": "markdown",
      "source": [
        "1) train_Test_split()에서 피처데이터 세트, 레이블 데이터 세트 이후 선택적으로 다음 파라미터 입력받음\n",
        "\n",
        "- Test_size 전체 데이터에서 테스트 데이터 세트를 얼마로 샘플링 할 것인가. 디폴트-0.25\n",
        "- Train_size 학습용 데이터 세트의 비율\n",
        "- Shuffle 데이터 분리 전 미리 섞을지 여부로 디폴트는 True\n",
        "- Random_State 호출 때마다 동일한 데이터 생성을 위한 난수 값\n",
        "- Train_test_split()의 반환 값은 튜플 값으로 학습용 데이터의 피처 데이터 세트, 테스트용 데이터의 피처 데이터 세트, 학습용 데이터의 레이블 데이터 세트, 테스트용 데이터의 레이블 데이터 세트 반환"
      ],
      "metadata": {
        "id": "eeL5XPGm8T74"
      }
    },
    {
      "cell_type": "code",
      "source": [
        "\n",
        "from sklearn.tree import DecisionTreeClassifier\n",
        "from sklearn.metrics import accuracy_score\n",
        "from sklearn.datasets import load_iris\n",
        "from sklearn.model_selection import train_test_split\n",
        "\n",
        "dt_clf=DecisionTreeClassifier()\n",
        "iris=load_iris()\n",
        "\n",
        "X_train, X_test, y_train, y_test=train_test_split(iris_data.data, iris_data.target,test_size=0.3, random_state=121)\n"
      ],
      "metadata": {
        "id": "0wMLRD2X8oGW"
      },
      "execution_count": 20,
      "outputs": []
    },
    {
      "cell_type": "code",
      "source": [
        "dt_clf.fit(X_train, y_train)\n",
        "pred=dt_clf.predict(X_test)\n",
        "print('예측 정확도: {0:.4f}'.format(accuracy_score(y_test, pred)))"
      ],
      "metadata": {
        "colab": {
          "base_uri": "https://localhost:8080/"
        },
        "id": "UP3T_Udp-SgM",
        "outputId": "30b16f3f-abec-4916-915d-c1ea7c850a6d"
      },
      "execution_count": 22,
      "outputs": [
        {
          "output_type": "stream",
          "name": "stdout",
          "text": [
            "예측 정확도: 0.9556\n"
          ]
        }
      ]
    },
    {
      "cell_type": "markdown",
      "source": [
        "**교차검증**\n",
        "\n",
        "- 앞서 언급한 테스트용 데이터 또한 과적합(실제 데이터에 성능 감소) 문제 발생 가능성이 있어 교차 검증을 진행함\n",
        "데이터 편중을 막기 위해 별도의 여러 세트로 구성된 학습 데이터 세트와 검증 데이터 세트에서 학습과 평가를 수행하느 것으로 1차 평가 후 최종적으로 테스트 데이터 세트에 적용해 평가하는 프로세스\n",
        "- ML에 사용하는 데이터 세트를 세분화하여 학습, 검증, 테스트 데이터 세트로 구분하여 사용\n",
        "\n"
      ],
      "metadata": {
        "id": "JoHjpvOE-aM1"
      }
    },
    {
      "cell_type": "markdown",
      "source": [
        "**K 폴드 교차 검증**\n",
        "\n",
        ":K개의 데이터 폴드세트를 만들어 K번만큼 각 폴드 세트에 학습과 검증 평가를 반복적으로 수행하는 방법\n",
        "예시로 5 폴드 교차검증을 할 경우 5개의 폴드된 데이터 세트를 학습과 검증을 위한 데이터 세트로 변경하면서 5번 평가를 수행한 뒤, 이 5개의 평가를 평균한 결과를 통해 예측 성능을 평가\n",
        "\n",
        "1) 데이터 세트를 K 등분\n",
        "\n",
        "2) 첫 번째 반복에서는 처음부터 4등분을 학습데이터 세트, 5번째 등분 하나를 검증 데이터 세트로 설정하고 학습 데이터 세트에서 학습 수행, 검증 데이터 세트에서 평가 수행\n",
        "\n",
        "3) 첫 번째 평가 수행 후 두 번째 반복에서는 학습 데이터와 검증 데이터를 처음부터 3개등분까지, 마지막 마지막 5번째 등분을 학습데이터로, 4번째 등분 하나를 검증 데이터 세트로 설정하는 등 순서를 바꾸어 진행\n",
        "\n",
        "4) 이를 반복하여 5번 진행\n",
        "\n"
      ],
      "metadata": {
        "id": "ca0Kfvne-dv0"
      }
    },
    {
      "cell_type": "code",
      "source": [
        "from sklearn.tree import DecisionTreeClassifier\n",
        "from sklearn.metrics import accuracy_score\n",
        "from sklearn.model_selection import KFold\n",
        "import numpy as np\n",
        "\n",
        "iris=load_iris()\n",
        "features=iris.data\n",
        "label=iris.target\n",
        "dt_clf=DecisionTreeClassifier(random_state=156)\n",
        "\n",
        "#5개의폴드세트로분리하는 KFold 객체와 폴드세트별 정확도를 담을 리스트 객체 생성\n",
        "kfold=KFold(n_splits=5)\n",
        "cv_accuracy=[]\n",
        "print('붓꽃 데이터 세트 크기:', features.shape[0])\n"
      ],
      "metadata": {
        "id": "rF-MmW0ITi30",
        "colab": {
          "base_uri": "https://localhost:8080/"
        },
        "outputId": "d52e8305-41c1-4a01-9d94-2d61141adff9"
      },
      "execution_count": 27,
      "outputs": [
        {
          "output_type": "stream",
          "name": "stdout",
          "text": [
            "붓꽃 데이터 세트 크기: 150\n"
          ]
        }
      ]
    },
    {
      "cell_type": "code",
      "source": [
        "n_iter=0\n",
        "#KFold 객체의 split()를 호출 시 폴드 별 학습용,검증용 테스트의 로우 인덱스를 array로 변환\n",
        "for train_index, test_index in kfold.split(features):\n",
        "  #Kfold.split()으로 반환된 인덱스를 이용해 학습용 검증용 테스트 데이터 추출\n",
        "  X_train, X_test=features[train_index],features[test_index]\n",
        "  y_train,y_test=label[train_index],label[test_index]\n",
        "  #학습 및 예측\n",
        "  dt_clf.fit(X_train, y_train)\n",
        "  pred=dt_clf.predict(X_test)\n",
        "  n_iter+=1\n",
        "  #반복 시 마다 정확도 측정\n",
        "  accuracy=np.round(accuracy_score(y_test, pred),4)\n",
        "  train_size=X_train.shape[0]\n",
        "  test_size=X_test.shape[0]\n",
        "  print('\\n#{0} 교차검증정확도 :{1}, 학습데이터크기: {2}, 검증데이터크기: {3}'.format(n_iter, accuracy, train_size,test_size))\n",
        "  print('#{0} 검증세트인덱스 :{1}'.format(n_iter, test_index))\n",
        "  cv_accuracy.append(accuracy)\n",
        "\n",
        "  #개별 iteration별 정확도를 합하여 평균 정확도 계산\n",
        "print('\\n## 평균검증정확도: ', np.mean(cv_accuracy))\n"
      ],
      "metadata": {
        "colab": {
          "base_uri": "https://localhost:8080/"
        },
        "id": "1SAf6tCH__Nj",
        "outputId": "99e70d0b-6c3f-4e67-8ba5-f7302cd8a0e3"
      },
      "execution_count": 28,
      "outputs": [
        {
          "output_type": "stream",
          "name": "stdout",
          "text": [
            "\n",
            "#1 교차검증정확도 :1.0, 학습데이터크기: 120, 검증데이터크기: 30\n",
            "#1 검증세트인덱스 :[ 0  1  2  3  4  5  6  7  8  9 10 11 12 13 14 15 16 17 18 19 20 21 22 23\n",
            " 24 25 26 27 28 29]\n",
            "\n",
            "#2 교차검증정확도 :0.9667, 학습데이터크기: 120, 검증데이터크기: 30\n",
            "#2 검증세트인덱스 :[30 31 32 33 34 35 36 37 38 39 40 41 42 43 44 45 46 47 48 49 50 51 52 53\n",
            " 54 55 56 57 58 59]\n",
            "\n",
            "#3 교차검증정확도 :0.8667, 학습데이터크기: 120, 검증데이터크기: 30\n",
            "#3 검증세트인덱스 :[60 61 62 63 64 65 66 67 68 69 70 71 72 73 74 75 76 77 78 79 80 81 82 83\n",
            " 84 85 86 87 88 89]\n",
            "\n",
            "#4 교차검증정확도 :0.9333, 학습데이터크기: 120, 검증데이터크기: 30\n",
            "#4 검증세트인덱스 :[ 90  91  92  93  94  95  96  97  98  99 100 101 102 103 104 105 106 107\n",
            " 108 109 110 111 112 113 114 115 116 117 118 119]\n",
            "\n",
            "#5 교차검증정확도 :0.7333, 학습데이터크기: 120, 검증데이터크기: 30\n",
            "#5 검증세트인덱스 :[120 121 122 123 124 125 126 127 128 129 130 131 132 133 134 135 136 137\n",
            " 138 139 140 141 142 143 144 145 146 147 148 149]\n",
            "\n",
            "## 평균검증정확도:  0.9\n"
          ]
        }
      ]
    },
    {
      "cell_type": "markdown",
      "source": [
        "** Stratified K 폴드\n",
        "\n",
        "- 불균형한 분포도를 가진 레이블(결정 클래스) 데이터 집합을 위한 K 폴드 방식으로 K 폴드가 레이블 데이터 집합이 원본 데이터 집합의 레이블 분포를 학습 및 테스트 세트에 제대로 분배하지 못하는 경우의 문제를 해결\n",
        "- K fold 로 분할된 레이블 데이터 세트가 전체 레이블 값의 분포도를 반영하지 못하는 문제를 해결,\n",
        "단 split() 메서드 인자로 피처 데이터 세트뿐만 아니라 레이블 데이터 세트 또한 필요\n",
        "\n"
      ],
      "metadata": {
        "id": "S2q2gCIHVjTJ"
      }
    },
    {
      "cell_type": "code",
      "source": [
        "import pandas as pd\n",
        "iris=load_iris()\n",
        "iris_df=pd.DataFrame(data=iris.data, columns=iris.feature_names)\n",
        "iris_df['label']=iris.target\n",
        "iris_df['label'].value_counts()"
      ],
      "metadata": {
        "colab": {
          "base_uri": "https://localhost:8080/"
        },
        "id": "RXIvzAYKVrIZ",
        "outputId": "ff809f2b-e548-41d6-db57-1e16a5b0ca6e"
      },
      "execution_count": 29,
      "outputs": [
        {
          "output_type": "execute_result",
          "data": {
            "text/plain": [
              "0    50\n",
              "1    50\n",
              "2    50\n",
              "Name: label, dtype: int64"
            ]
          },
          "metadata": {},
          "execution_count": 29
        }
      ]
    },
    {
      "cell_type": "code",
      "source": [
        "kfold=KFold(n_splits=3)\n",
        "n_iter=0\n",
        "for train_index, test_index in kfold.split(iris_df):\n",
        "  n_iter+=1\n",
        "  label_train=iris_df['label'].iloc[train_index]\n",
        "  label_test=iris_df['label'].iloc[test_index]\n",
        "  print('##교차검증: {0}'.format(n_iter))\n",
        "  print('학습 레이블 데이터 분포: \\n', label_train.value_counts())\n",
        "  print('검증 레이블 데이터 분포: \\n', label_test.value_counts())\n",
        "  iris_df['label'].value_counts()"
      ],
      "metadata": {
        "colab": {
          "base_uri": "https://localhost:8080/"
        },
        "id": "rrqjc6ypV8XC",
        "outputId": "3a5997b2-4ada-458c-b2c2-7c09af216ae8"
      },
      "execution_count": 35,
      "outputs": [
        {
          "output_type": "stream",
          "name": "stdout",
          "text": [
            "##교차검증: 1\n",
            "학습 레이블 데이터 분포: \n",
            " 1    50\n",
            "2    50\n",
            "Name: label, dtype: int64\n",
            "검증 레이블 데이터 분포: \n",
            " 0    50\n",
            "Name: label, dtype: int64\n",
            "##교차검증: 2\n",
            "학습 레이블 데이터 분포: \n",
            " 0    50\n",
            "2    50\n",
            "Name: label, dtype: int64\n",
            "검증 레이블 데이터 분포: \n",
            " 1    50\n",
            "Name: label, dtype: int64\n",
            "##교차검증: 3\n",
            "학습 레이블 데이터 분포: \n",
            " 0    50\n",
            "1    50\n",
            "Name: label, dtype: int64\n",
            "검증 레이블 데이터 분포: \n",
            " 2    50\n",
            "Name: label, dtype: int64\n"
          ]
        }
      ]
    },
    {
      "cell_type": "code",
      "source": [
        "from sklearn.model_selection import StratifiedKFold\n",
        "\n",
        "skf=StratifiedKFold(n_splits=3)\n",
        "n_iter=0\n",
        "\n",
        "for train_index, test_index in skf.split(iris_df, iris_df['label']):\n",
        "  n_iter+=1\n",
        "  label_train=iris_df['label'].iloc[train_index]\n",
        "  label_test=iris_df['label'].iloc[test_index]\n",
        "  print('##교차검증: {0}'.format(n_iter))\n",
        "  print('학습 레이블 데이터 분포: \\n', label_train.value_counts())\n",
        "  print('검증 레이블 데이터 분포: \\n', label_test.value_counts())"
      ],
      "metadata": {
        "colab": {
          "base_uri": "https://localhost:8080/"
        },
        "id": "VNA9BUCMXLuT",
        "outputId": "68933437-63aa-4961-e406-83cca2c02ef8"
      },
      "execution_count": 37,
      "outputs": [
        {
          "output_type": "stream",
          "name": "stdout",
          "text": [
            "##교차검증: 1\n",
            "학습 레이블 데이터 분포: \n",
            " 2    34\n",
            "0    33\n",
            "1    33\n",
            "Name: label, dtype: int64\n",
            "검증 레이블 데이터 분포: \n",
            " 0    17\n",
            "1    17\n",
            "2    16\n",
            "Name: label, dtype: int64\n",
            "##교차검증: 2\n",
            "학습 레이블 데이터 분포: \n",
            " 1    34\n",
            "0    33\n",
            "2    33\n",
            "Name: label, dtype: int64\n",
            "검증 레이블 데이터 분포: \n",
            " 0    17\n",
            "2    17\n",
            "1    16\n",
            "Name: label, dtype: int64\n",
            "##교차검증: 3\n",
            "학습 레이블 데이터 분포: \n",
            " 0    34\n",
            "1    33\n",
            "2    33\n",
            "Name: label, dtype: int64\n",
            "검증 레이블 데이터 분포: \n",
            " 1    17\n",
            "2    17\n",
            "0    16\n",
            "Name: label, dtype: int64\n"
          ]
        }
      ]
    },
    {
      "cell_type": "code",
      "source": [
        "dt_clf=DecisionTreeClassifier(random_state=156)\n",
        "\n",
        "skfold=StratifiedKFold(n_splits=3)\n",
        "n_iter=0\n",
        "cv_accuracy=[]\n",
        "\n",
        "#StratifiedKFold의 split()호출 시 반드시 레이블 데이터 세트도 추가입력 필요\n",
        "for train_index, test_index in skfold.split(features, label):\n",
        "  #split()으로 반환된 인덱스를 이용해 학습용 검증용 테스트 데이터 추출\n",
        "  X_train, X_test=features[train_index],features[test_index]\n",
        "  y_train, y_test=label[train_index],label[test_index]\n",
        "  #학습 및 예측\n",
        "  dt_clf.fit(X_train, y_train)\n",
        "  pred=dt_clf.predict(X_test)\n",
        "  #반복 시 마다 정확도 측정\n",
        "  n_iter+=1\n",
        "  accuracy=np.round(accuracy_score(y_test, pred),4)\n",
        "  train_size=X_train.shape[0]\n",
        "  test_size=X_test.shape[0]\n",
        "  print('\\n#{0} 교차검증정확도 :{1}, 학습데이터크기: {2}, 검증데이터크기: {3}'.format(n_iter, accuracy, train_size,test_size))\n",
        "  print('#{0} 검증세트인덱스 :{1}'.format(n_iter, test_index))\n",
        "  cv_accuracy.append(accuracy)\n",
        "\n",
        "  #교차검증별 정확도 및 평균 정확도 \n",
        "print('\\n## 교차검증별 정확도: ', np.round(cv_accuracy, 4))\n",
        "print('\\n## 평균검증정확도: ', np.mean(cv_accuracy))\n"
      ],
      "metadata": {
        "colab": {
          "base_uri": "https://localhost:8080/"
        },
        "id": "pCMu_5xyZIr5",
        "outputId": "654d91f6-60dd-4d2a-f58e-acb87ee50ab7"
      },
      "execution_count": 41,
      "outputs": [
        {
          "output_type": "stream",
          "name": "stdout",
          "text": [
            "\n",
            "#1 교차검증정확도 :0.98, 학습데이터크기: 100, 검증데이터크기: 50\n",
            "#1 검증세트인덱스 :[  0   1   2   3   4   5   6   7   8   9  10  11  12  13  14  15  16  50\n",
            "  51  52  53  54  55  56  57  58  59  60  61  62  63  64  65  66 100 101\n",
            " 102 103 104 105 106 107 108 109 110 111 112 113 114 115]\n",
            "\n",
            "#2 교차검증정확도 :0.94, 학습데이터크기: 100, 검증데이터크기: 50\n",
            "#2 검증세트인덱스 :[ 17  18  19  20  21  22  23  24  25  26  27  28  29  30  31  32  33  67\n",
            "  68  69  70  71  72  73  74  75  76  77  78  79  80  81  82 116 117 118\n",
            " 119 120 121 122 123 124 125 126 127 128 129 130 131 132]\n",
            "\n",
            "#3 교차검증정확도 :0.98, 학습데이터크기: 100, 검증데이터크기: 50\n",
            "#3 검증세트인덱스 :[ 34  35  36  37  38  39  40  41  42  43  44  45  46  47  48  49  83  84\n",
            "  85  86  87  88  89  90  91  92  93  94  95  96  97  98  99 133 134 135\n",
            " 136 137 138 139 140 141 142 143 144 145 146 147 148 149]\n",
            "\n",
            "## 교차검증별 정확도:  [0.98 0.94 0.98]\n",
            "\n",
            "## 평균검증정확도:  0.9666666666666667\n"
          ]
        }
      ]
    },
    {
      "cell_type": "markdown",
      "source": [
        "**교차 검증을 보다 간편하게 – cross_val_score()**\n",
        "\n",
        "KFold의 일련 과정을 한꺼번에 수행해주는 API, \n",
        "\n",
        "Cross_val_score(estimator, X, y=None, scoring=None, cv=None, n_jobs=1, verbose=0, fit_params=Npne, pre_dispatch=’2*njobs’).\n",
        "\n",
        "순서대로 사이킷런의 분류 알고리즘 클래스인 Classifier 또는 회귀 알고리즘 클래스인 Regressor, X는 피처데이터 세트, 레이블 데이터 세트, 예측 성능평가 지표, 교차 검증 폴드 수, 반환값은 scoring 파라미터로 지정된 성능 지표 측정값의 배열 형태\n",
        "\n",
        "\n",
        "Cv로 지정된 횟수만큼 scoring 파라미터로 지정된 평가지표로 평가 결괏값을 배열로 반환하며 이를 평균하여 평가 수치로 사용하고 유사 API로는 여러 평가지표를 반환할 수 있는 cross_validate()가 있음\n"
      ],
      "metadata": {
        "id": "v_mu60OMaZbS"
      }
    },
    {
      "cell_type": "code",
      "source": [
        "from sklearn.tree import DecisionTreeClassifier\n",
        "from sklearn.model_selection import cross_val_score, cross_validate\n",
        "from sklearn.datasets import load_iris\n",
        "\n",
        "iris_data=load_iris()\n",
        "df_clf=DecisionTreeClassifier(random_state=156)\n",
        "\n",
        "data=iris_data.data\n",
        "label=iris_data.target\n",
        "\n",
        "#성능지표는 정확도(accuracy), 교차 검증 세트는 3개\n",
        "scores=cross_val_score(df_clf, data, label,scoring='accuracy', cv=3)\n",
        "print(' 교차 검증별 정확도: ', np.round(scores, 4))\n",
        "print('평균 검증 정확도: ', np.round(np.mean(scores),4))"
      ],
      "metadata": {
        "colab": {
          "base_uri": "https://localhost:8080/"
        },
        "id": "bNtGKhuGaggP",
        "outputId": "9a9a15e1-96fc-485a-990c-5dde7da3d17e"
      },
      "execution_count": 43,
      "outputs": [
        {
          "output_type": "stream",
          "name": "stdout",
          "text": [
            " 교차 검증별 정확도:  [0.98 0.94 0.98]\n",
            "평균 검증 정확도:  0.9667\n"
          ]
        }
      ]
    },
    {
      "cell_type": "markdown",
      "source": [
        "**GridSearchCv – 교차 검증과 최적 하이퍼 파라미터 튜닝을 한번에**\n",
        "\n",
        "촘촘하게 파라미터를 입력하면서 테스트를 하는 방식, 결정 트리 알고리즘의 여러 하이퍼 파라미터를 순차적으로 변경하면서 최고 성능을 가지는 파라미터 조합을 찾고자 한다면 다음과 같이 진행 가능\n",
        "\n",
        "\n",
        "순번 max_depth min_samples_split\n",
        "\n",
        "1 1\t2\n",
        "\n",
        "2\t1\t3\n",
        "\n",
        "3\t2\t2\n",
        "\n",
        "4\t2\t3\n",
        "\n",
        "5\t3\t2\n",
        "\n",
        "6\t3\t3\n",
        "\n",
        "교차 검증 기반의 하이퍼 파라미터의 최적값을 찾는 것을 도와주는 API, cross_validation을 위한 학습/테스트 세트로 자동분할 뒤 하이퍼 파라미터 그리드에 기술된 모든 파라미터를 순차적으로 적용해 최적의 파라미터를 찾을 수 있게 해줌\n"
      ],
      "metadata": {
        "id": "GfILHKWmbbik"
      }
    },
    {
      "cell_type": "markdown",
      "source": [
        "*생성자의 주요 파라미터\n",
        "-\tEstimator : classifier, regressor, pipeline이 사용될 수 있음\n",
        "-\tParam_gid: key+리스트 값을 가지는 딕셔너리 주어짐. Estimator의 튜닝을 위해 파라미터명과 사용될 여러 파라미터값을 지정\n",
        "-\tScoring: 예측 성능을 측정할 평가방법을 지정. 사이킷런의 성능평가 지표를 지정하는 문자열로 지정하나 별도의 성능 평가 지표함수도 지정 가능\n",
        "-\tCv: 교차 검증을 위해 분할되는 학습/테스트 세트 개수 지정\n",
        "-\tRefit: 디폴트가 True이며 True로 생성 시 가장 최적의 하이퍼 파라미터를 찾은 뒤 입력된 estimator를 찾은 뒤 입력된 estimator 객체를 해당 하이퍼 파라미터로 재학습\n"
      ],
      "metadata": {
        "id": "qJFz1w6wbv2l"
      }
    },
    {
      "cell_type": "code",
      "source": [
        "from sklearn.datasets import load_iris\n",
        "from sklearn.tree import DecisionTreeClassifier\n",
        "from sklearn.model_selection import GridSearchCV\n",
        "import numpy as np\n",
        "\n",
        "#data loading and seperating train data& test data\n",
        "iris=load_iris()\n",
        "X_train, X_test, y_train, y_tesdt=train_test_split(iris_data.data, iris_data.target, test_size=0.2, random_state=121)\n",
        "\n",
        "dtree=DecisionTreeClassifier()\n",
        "\n",
        "###파라미터를 딕셔너리 형태로 설정\n",
        "parameters={'max_depth':[1,2,3],'min_samples_split':[2,3]}"
      ],
      "metadata": {
        "id": "_lj1JXG0bzaW"
      },
      "execution_count": 51,
      "outputs": []
    },
    {
      "cell_type": "code",
      "source": [
        "import pandas as pd\n",
        "from sklearn.model_selection import GridSearchCV\n",
        "\n",
        "#param_grid의 하이퍼파라미터를 3개의 train, test set fold로 나누어 테스트 수행 설정\n",
        "### refit=True가 default. True이면 가장 좋은 파라미터 설정으로 재학습\n",
        "grid_dtree=GridSearchCV(dtree,param_grid=parameters,cv=3,refit=True)\n",
        "#붓꽃 학습 데이터로 param_grid의 하이퍼 파라미터를 순차적으로 학습/평가\n",
        "grid_dtree.fit(X_train,y_train)\n",
        "\n",
        "#GridSearchCV 결과 추출하여 DataFRame 변환\n",
        "scores_df=pd.DataFrame(grid_dtree.cv_results_)\n",
        "scores_df[['params','mean_test_score','rank_test_score','split0_test_score','split1_test_score', 'split2_test_score']]"
      ],
      "metadata": {
        "colab": {
          "base_uri": "https://localhost:8080/",
          "height": 503
        },
        "id": "6Mryv1FhbpcT",
        "outputId": "a48d19e6-79f1-4842-d1c6-f8a1040ec11a"
      },
      "execution_count": 52,
      "outputs": [
        {
          "output_type": "execute_result",
          "data": {
            "text/plain": [
              "                                     params  mean_test_score  rank_test_score  \\\n",
              "0  {'max_depth': 1, 'min_samples_split': 2}         0.700000                5   \n",
              "1  {'max_depth': 1, 'min_samples_split': 3}         0.700000                5   \n",
              "2  {'max_depth': 2, 'min_samples_split': 2}         0.958333                3   \n",
              "3  {'max_depth': 2, 'min_samples_split': 3}         0.958333                3   \n",
              "4  {'max_depth': 3, 'min_samples_split': 2}         0.975000                1   \n",
              "5  {'max_depth': 3, 'min_samples_split': 3}         0.975000                1   \n",
              "\n",
              "   split0_test_score  split1_test_score  split2_test_score  \n",
              "0              0.700                0.7               0.70  \n",
              "1              0.700                0.7               0.70  \n",
              "2              0.925                1.0               0.95  \n",
              "3              0.925                1.0               0.95  \n",
              "4              0.975                1.0               0.95  \n",
              "5              0.975                1.0               0.95  "
            ],
            "text/html": [
              "\n",
              "  <div id=\"df-53ebc012-674b-43f2-9dcb-35a0e1a99cc4\">\n",
              "    <div class=\"colab-df-container\">\n",
              "      <div>\n",
              "<style scoped>\n",
              "    .dataframe tbody tr th:only-of-type {\n",
              "        vertical-align: middle;\n",
              "    }\n",
              "\n",
              "    .dataframe tbody tr th {\n",
              "        vertical-align: top;\n",
              "    }\n",
              "\n",
              "    .dataframe thead th {\n",
              "        text-align: right;\n",
              "    }\n",
              "</style>\n",
              "<table border=\"1\" class=\"dataframe\">\n",
              "  <thead>\n",
              "    <tr style=\"text-align: right;\">\n",
              "      <th></th>\n",
              "      <th>params</th>\n",
              "      <th>mean_test_score</th>\n",
              "      <th>rank_test_score</th>\n",
              "      <th>split0_test_score</th>\n",
              "      <th>split1_test_score</th>\n",
              "      <th>split2_test_score</th>\n",
              "    </tr>\n",
              "  </thead>\n",
              "  <tbody>\n",
              "    <tr>\n",
              "      <th>0</th>\n",
              "      <td>{'max_depth': 1, 'min_samples_split': 2}</td>\n",
              "      <td>0.700000</td>\n",
              "      <td>5</td>\n",
              "      <td>0.700</td>\n",
              "      <td>0.7</td>\n",
              "      <td>0.70</td>\n",
              "    </tr>\n",
              "    <tr>\n",
              "      <th>1</th>\n",
              "      <td>{'max_depth': 1, 'min_samples_split': 3}</td>\n",
              "      <td>0.700000</td>\n",
              "      <td>5</td>\n",
              "      <td>0.700</td>\n",
              "      <td>0.7</td>\n",
              "      <td>0.70</td>\n",
              "    </tr>\n",
              "    <tr>\n",
              "      <th>2</th>\n",
              "      <td>{'max_depth': 2, 'min_samples_split': 2}</td>\n",
              "      <td>0.958333</td>\n",
              "      <td>3</td>\n",
              "      <td>0.925</td>\n",
              "      <td>1.0</td>\n",
              "      <td>0.95</td>\n",
              "    </tr>\n",
              "    <tr>\n",
              "      <th>3</th>\n",
              "      <td>{'max_depth': 2, 'min_samples_split': 3}</td>\n",
              "      <td>0.958333</td>\n",
              "      <td>3</td>\n",
              "      <td>0.925</td>\n",
              "      <td>1.0</td>\n",
              "      <td>0.95</td>\n",
              "    </tr>\n",
              "    <tr>\n",
              "      <th>4</th>\n",
              "      <td>{'max_depth': 3, 'min_samples_split': 2}</td>\n",
              "      <td>0.975000</td>\n",
              "      <td>1</td>\n",
              "      <td>0.975</td>\n",
              "      <td>1.0</td>\n",
              "      <td>0.95</td>\n",
              "    </tr>\n",
              "    <tr>\n",
              "      <th>5</th>\n",
              "      <td>{'max_depth': 3, 'min_samples_split': 3}</td>\n",
              "      <td>0.975000</td>\n",
              "      <td>1</td>\n",
              "      <td>0.975</td>\n",
              "      <td>1.0</td>\n",
              "      <td>0.95</td>\n",
              "    </tr>\n",
              "  </tbody>\n",
              "</table>\n",
              "</div>\n",
              "      <button class=\"colab-df-convert\" onclick=\"convertToInteractive('df-53ebc012-674b-43f2-9dcb-35a0e1a99cc4')\"\n",
              "              title=\"Convert this dataframe to an interactive table.\"\n",
              "              style=\"display:none;\">\n",
              "        \n",
              "  <svg xmlns=\"http://www.w3.org/2000/svg\" height=\"24px\"viewBox=\"0 0 24 24\"\n",
              "       width=\"24px\">\n",
              "    <path d=\"M0 0h24v24H0V0z\" fill=\"none\"/>\n",
              "    <path d=\"M18.56 5.44l.94 2.06.94-2.06 2.06-.94-2.06-.94-.94-2.06-.94 2.06-2.06.94zm-11 1L8.5 8.5l.94-2.06 2.06-.94-2.06-.94L8.5 2.5l-.94 2.06-2.06.94zm10 10l.94 2.06.94-2.06 2.06-.94-2.06-.94-.94-2.06-.94 2.06-2.06.94z\"/><path d=\"M17.41 7.96l-1.37-1.37c-.4-.4-.92-.59-1.43-.59-.52 0-1.04.2-1.43.59L10.3 9.45l-7.72 7.72c-.78.78-.78 2.05 0 2.83L4 21.41c.39.39.9.59 1.41.59.51 0 1.02-.2 1.41-.59l7.78-7.78 2.81-2.81c.8-.78.8-2.07 0-2.86zM5.41 20L4 18.59l7.72-7.72 1.47 1.35L5.41 20z\"/>\n",
              "  </svg>\n",
              "      </button>\n",
              "      \n",
              "  <style>\n",
              "    .colab-df-container {\n",
              "      display:flex;\n",
              "      flex-wrap:wrap;\n",
              "      gap: 12px;\n",
              "    }\n",
              "\n",
              "    .colab-df-convert {\n",
              "      background-color: #E8F0FE;\n",
              "      border: none;\n",
              "      border-radius: 50%;\n",
              "      cursor: pointer;\n",
              "      display: none;\n",
              "      fill: #1967D2;\n",
              "      height: 32px;\n",
              "      padding: 0 0 0 0;\n",
              "      width: 32px;\n",
              "    }\n",
              "\n",
              "    .colab-df-convert:hover {\n",
              "      background-color: #E2EBFA;\n",
              "      box-shadow: 0px 1px 2px rgba(60, 64, 67, 0.3), 0px 1px 3px 1px rgba(60, 64, 67, 0.15);\n",
              "      fill: #174EA6;\n",
              "    }\n",
              "\n",
              "    [theme=dark] .colab-df-convert {\n",
              "      background-color: #3B4455;\n",
              "      fill: #D2E3FC;\n",
              "    }\n",
              "\n",
              "    [theme=dark] .colab-df-convert:hover {\n",
              "      background-color: #434B5C;\n",
              "      box-shadow: 0px 1px 3px 1px rgba(0, 0, 0, 0.15);\n",
              "      filter: drop-shadow(0px 1px 2px rgba(0, 0, 0, 0.3));\n",
              "      fill: #FFFFFF;\n",
              "    }\n",
              "  </style>\n",
              "\n",
              "      <script>\n",
              "        const buttonEl =\n",
              "          document.querySelector('#df-53ebc012-674b-43f2-9dcb-35a0e1a99cc4 button.colab-df-convert');\n",
              "        buttonEl.style.display =\n",
              "          google.colab.kernel.accessAllowed ? 'block' : 'none';\n",
              "\n",
              "        async function convertToInteractive(key) {\n",
              "          const element = document.querySelector('#df-53ebc012-674b-43f2-9dcb-35a0e1a99cc4');\n",
              "          const dataTable =\n",
              "            await google.colab.kernel.invokeFunction('convertToInteractive',\n",
              "                                                     [key], {});\n",
              "          if (!dataTable) return;\n",
              "\n",
              "          const docLinkHtml = 'Like what you see? Visit the ' +\n",
              "            '<a target=\"_blank\" href=https://colab.research.google.com/notebooks/data_table.ipynb>data table notebook</a>'\n",
              "            + ' to learn more about interactive tables.';\n",
              "          element.innerHTML = '';\n",
              "          dataTable['output_type'] = 'display_data';\n",
              "          await google.colab.output.renderOutput(dataTable, element);\n",
              "          const docLink = document.createElement('div');\n",
              "          docLink.innerHTML = docLinkHtml;\n",
              "          element.appendChild(docLink);\n",
              "        }\n",
              "      </script>\n",
              "    </div>\n",
              "  </div>\n",
              "  "
            ]
          },
          "metadata": {},
          "execution_count": 52
        }
      ]
    },
    {
      "cell_type": "markdown",
      "source": [
        "주요 칼럼별 의미\n",
        "-\tParams 칼럼에는 수행시마다 적용 된 개별 하이퍼 파라미터값\n",
        "-\tRank_test_score는 하이퍼 파라미터별 성능이 좋은 score 순위를 제시, 1이 가장 뛰어난 최적의 하이퍼 파라미터\n",
        "-\tMean_test-score는 개별 하이퍼 파라미터 별 CV의 폴딩테스트 세트에 대한 총 수행한 평가 평균값\n",
        "\n"
      ],
      "metadata": {
        "id": "ZHS9TV5Vj2rh"
      }
    },
    {
      "cell_type": "code",
      "source": [
        "print('gridserachCV 최적파라미터: ', grid_dtree.best_params_)\n",
        "print('gridserachCV 최고 정확도: {0:.4f}'.format(grid_dtree.best_score_))\n"
      ],
      "metadata": {
        "colab": {
          "base_uri": "https://localhost:8080/"
        },
        "id": "fvxOXlTMj4a-",
        "outputId": "04db64bb-3b74-4d92-ecf2-532291c2106c"
      },
      "execution_count": 54,
      "outputs": [
        {
          "output_type": "stream",
          "name": "stdout",
          "text": [
            "gridserachCV 최적파라미터:  {'max_depth': 3, 'min_samples_split': 2}\n",
            "gridserachCV 최고 정확도: 0.9750\n"
          ]
        }
      ]
    },
    {
      "cell_type": "code",
      "source": [
        "#gridserachcv의 refit으로이미학습된 estimator 반환\n",
        "estimator= grid_dtree.best_estimator_\n",
        "\n",
        "#gridserachcv의 best_estimator는이미 최적학습이 됐으므로 별도 학습 필요X\n",
        "pred=estimator.predict(X_test)\n",
        "print('테스트데이터세트정확도:{0:.4f}'.format(accuracy_score(y_test, pred)))"
      ],
      "metadata": {
        "colab": {
          "base_uri": "https://localhost:8080/"
        },
        "id": "rwoNXoiFkO-M",
        "outputId": "d175cfb9-2576-49e6-84cc-9eb2bec58ba0"
      },
      "execution_count": 55,
      "outputs": [
        {
          "output_type": "stream",
          "name": "stdout",
          "text": [
            "테스트데이터세트정확도:0.9800\n"
          ]
        }
      ]
    },
    {
      "cell_type": "markdown",
      "source": [
        "### 데이터 전처리\n",
        "\n",
        "결손값은 허용 X, 다른 고정값, 예를 들어 평균으로 대체할 수 도있으나 결손값 자체가 많은 경우 아예 드롭하는 것이 좋으며 신중히 결정할 필요 있음\n",
        "\n",
        "**데이터 인코딩**\n",
        "\n",
        "- 레이블 인코딩\n",
        ": 카테고리 피처를 코드형 숫자값으로 변환, 예를 들어 티비, 냉장고, 선풍기가 있다면 티비:!, 냉장고:2, 선풍기:3 등으로 변환하는 것으로 문자형을 숫자형으로 변환\n"
      ],
      "metadata": {
        "id": "j-VSktT3kzgi"
      }
    },
    {
      "cell_type": "code",
      "source": [
        "from sklearn.preprocessing import LabelEncoder\n",
        "\n",
        "items=['TV','냉장고','전자레인지','컴퓨터', '선풍기',' 선풍기','믹서','믹서']\n",
        "\n",
        "#LabelsEncoder를 객체로 생성 후 fit()과 Transform()으로 레이블 인코딩 수행\n",
        "encoder=LabelEncoder()\n",
        "encoder.fit(items)\n",
        "labels=encoder.transform(items)\n",
        "print('인코딩변환값: ',labels)"
      ],
      "metadata": {
        "colab": {
          "base_uri": "https://localhost:8080/"
        },
        "id": "D-_1S-TUmQfB",
        "outputId": "b8852f27-7348-4b30-db5a-7a2d5c33c50e"
      },
      "execution_count": 57,
      "outputs": [
        {
          "output_type": "stream",
          "name": "stdout",
          "text": [
            "인코딩변환값:  [1 2 5 6 4 0 3 3]\n"
          ]
        }
      ]
    },
    {
      "cell_type": "code",
      "source": [
        "print('인코딩클래스: ',encoder.classes_)"
      ],
      "metadata": {
        "colab": {
          "base_uri": "https://localhost:8080/"
        },
        "id": "lb5GvvuIm-zC",
        "outputId": "5a261c82-6ad9-4aca-c00d-8f4fac2ae8f1"
      },
      "execution_count": 58,
      "outputs": [
        {
          "output_type": "stream",
          "name": "stdout",
          "text": [
            "인코딩클래스:  [' 선풍기' 'TV' '냉장고' '믹서' '선풍기' '전자레인지' '컴퓨터']\n"
          ]
        }
      ]
    },
    {
      "cell_type": "code",
      "source": [
        "print('디코딩원본값: ',encoder.inverse_transform([4,5,2,0,1,1,3,3]))"
      ],
      "metadata": {
        "colab": {
          "base_uri": "https://localhost:8080/"
        },
        "id": "Qn3WtuHgnGgI",
        "outputId": "a32f6f6a-433e-4ea9-fd11-607b43507566"
      },
      "execution_count": 60,
      "outputs": [
        {
          "output_type": "stream",
          "name": "stdout",
          "text": [
            "디코딩원본값:  ['선풍기' '전자레인지' '냉장고' ' 선풍기' 'TV' 'TV' '믹서' '믹서']\n"
          ]
        }
      ]
    },
    {
      "cell_type": "markdown",
      "source": [
        "- 원-핫 인코딩(One-Hot Encoding)\n",
        ": 피처 값의 유형에 따라 새로운 피처를 추가해 고유값에 해당하는 칼럼에만 1을 표시하고 나머지에는 0을 표시하는 방식, 여러 개의 속성 중 단 한 개의 속성만 1로 표시\n",
        "단 문자열 값이 모두 숫자로 변환되어 있어야 하며 [링크 텍스트](https://)입력값으로 2차원 데이터가 필요\n",
        "\n"
      ],
      "metadata": {
        "id": "OZBDc-x1nfYg"
      }
    },
    {
      "cell_type": "code",
      "source": [
        "\n",
        "from sklearn.preprocessing import OneHotEncoder\n",
        "import numpy as np\n",
        "\n",
        "items=['TV','냉장고','전자레인지','컴퓨터', '선풍기',' 선풍기','믹서','믹서']\n",
        "\n",
        "#숫자값 반환을 위해 LabelsEncoder로 변환\n",
        "encoder=LabelEncoder()\n",
        "encoder.fit(items)\n",
        "#2차원데이터변환\n",
        "labels=labels.reshape(-1, 1)\n",
        "\n",
        "#원핫인코딩 적용 \n",
        "oh_encoder=OneHotEncoder()\n",
        "oh_encoder.fit(labels)\n",
        "oh_labels=oh_encoder.transform(labels)\n",
        "print('원-핫 인코딩 데이터')\n",
        "print(oh_labels.toarray())\n",
        "print('원-핫 인코딩 차원')\n",
        "print(oh_labels.shape)\n"
      ],
      "metadata": {
        "colab": {
          "base_uri": "https://localhost:8080/"
        },
        "id": "vcn7HYPHnjNx",
        "outputId": "d6838b6e-f46e-41de-fb08-883fff1f1651"
      },
      "execution_count": 63,
      "outputs": [
        {
          "output_type": "stream",
          "name": "stdout",
          "text": [
            "원-핫 인코딩 데이터\n",
            "[[0. 1. 0. 0. 0. 0. 0.]\n",
            " [0. 0. 1. 0. 0. 0. 0.]\n",
            " [0. 0. 0. 0. 0. 1. 0.]\n",
            " [0. 0. 0. 0. 0. 0. 1.]\n",
            " [0. 0. 0. 0. 1. 0. 0.]\n",
            " [1. 0. 0. 0. 0. 0. 0.]\n",
            " [0. 0. 0. 1. 0. 0. 0.]\n",
            " [0. 0. 0. 1. 0. 0. 0.]]\n",
            "원-핫 인코딩 차원\n",
            "(8, 7)\n"
          ]
        }
      ]
    },
    {
      "cell_type": "code",
      "source": [
        "import pandas as pd\n",
        "df=pd.DataFrame({'item':['TV','냉장고', '전자레인지',' 컴퓨터','선풍기','선풍기','믹서','믹서']})\n",
        "pd.get_dummies(df)"
      ],
      "metadata": {
        "colab": {
          "base_uri": "https://localhost:8080/",
          "height": 297
        },
        "id": "zYXPrLV1o2UP",
        "outputId": "bc2b5f0a-9ef7-4965-96c7-d27cd4fa59e5"
      },
      "execution_count": 65,
      "outputs": [
        {
          "output_type": "execute_result",
          "data": {
            "text/plain": [
              "   item_ 컴퓨터  item_TV  item_냉장고  item_믹서  item_선풍기  item_전자레인지\n",
              "0          0        1         0        0         0           0\n",
              "1          0        0         1        0         0           0\n",
              "2          0        0         0        0         0           1\n",
              "3          1        0         0        0         0           0\n",
              "4          0        0         0        0         1           0\n",
              "5          0        0         0        0         1           0\n",
              "6          0        0         0        1         0           0\n",
              "7          0        0         0        1         0           0"
            ],
            "text/html": [
              "\n",
              "  <div id=\"df-3ec799c9-c7fa-4341-a640-0bb11ddc87a3\">\n",
              "    <div class=\"colab-df-container\">\n",
              "      <div>\n",
              "<style scoped>\n",
              "    .dataframe tbody tr th:only-of-type {\n",
              "        vertical-align: middle;\n",
              "    }\n",
              "\n",
              "    .dataframe tbody tr th {\n",
              "        vertical-align: top;\n",
              "    }\n",
              "\n",
              "    .dataframe thead th {\n",
              "        text-align: right;\n",
              "    }\n",
              "</style>\n",
              "<table border=\"1\" class=\"dataframe\">\n",
              "  <thead>\n",
              "    <tr style=\"text-align: right;\">\n",
              "      <th></th>\n",
              "      <th>item_ 컴퓨터</th>\n",
              "      <th>item_TV</th>\n",
              "      <th>item_냉장고</th>\n",
              "      <th>item_믹서</th>\n",
              "      <th>item_선풍기</th>\n",
              "      <th>item_전자레인지</th>\n",
              "    </tr>\n",
              "  </thead>\n",
              "  <tbody>\n",
              "    <tr>\n",
              "      <th>0</th>\n",
              "      <td>0</td>\n",
              "      <td>1</td>\n",
              "      <td>0</td>\n",
              "      <td>0</td>\n",
              "      <td>0</td>\n",
              "      <td>0</td>\n",
              "    </tr>\n",
              "    <tr>\n",
              "      <th>1</th>\n",
              "      <td>0</td>\n",
              "      <td>0</td>\n",
              "      <td>1</td>\n",
              "      <td>0</td>\n",
              "      <td>0</td>\n",
              "      <td>0</td>\n",
              "    </tr>\n",
              "    <tr>\n",
              "      <th>2</th>\n",
              "      <td>0</td>\n",
              "      <td>0</td>\n",
              "      <td>0</td>\n",
              "      <td>0</td>\n",
              "      <td>0</td>\n",
              "      <td>1</td>\n",
              "    </tr>\n",
              "    <tr>\n",
              "      <th>3</th>\n",
              "      <td>1</td>\n",
              "      <td>0</td>\n",
              "      <td>0</td>\n",
              "      <td>0</td>\n",
              "      <td>0</td>\n",
              "      <td>0</td>\n",
              "    </tr>\n",
              "    <tr>\n",
              "      <th>4</th>\n",
              "      <td>0</td>\n",
              "      <td>0</td>\n",
              "      <td>0</td>\n",
              "      <td>0</td>\n",
              "      <td>1</td>\n",
              "      <td>0</td>\n",
              "    </tr>\n",
              "    <tr>\n",
              "      <th>5</th>\n",
              "      <td>0</td>\n",
              "      <td>0</td>\n",
              "      <td>0</td>\n",
              "      <td>0</td>\n",
              "      <td>1</td>\n",
              "      <td>0</td>\n",
              "    </tr>\n",
              "    <tr>\n",
              "      <th>6</th>\n",
              "      <td>0</td>\n",
              "      <td>0</td>\n",
              "      <td>0</td>\n",
              "      <td>1</td>\n",
              "      <td>0</td>\n",
              "      <td>0</td>\n",
              "    </tr>\n",
              "    <tr>\n",
              "      <th>7</th>\n",
              "      <td>0</td>\n",
              "      <td>0</td>\n",
              "      <td>0</td>\n",
              "      <td>1</td>\n",
              "      <td>0</td>\n",
              "      <td>0</td>\n",
              "    </tr>\n",
              "  </tbody>\n",
              "</table>\n",
              "</div>\n",
              "      <button class=\"colab-df-convert\" onclick=\"convertToInteractive('df-3ec799c9-c7fa-4341-a640-0bb11ddc87a3')\"\n",
              "              title=\"Convert this dataframe to an interactive table.\"\n",
              "              style=\"display:none;\">\n",
              "        \n",
              "  <svg xmlns=\"http://www.w3.org/2000/svg\" height=\"24px\"viewBox=\"0 0 24 24\"\n",
              "       width=\"24px\">\n",
              "    <path d=\"M0 0h24v24H0V0z\" fill=\"none\"/>\n",
              "    <path d=\"M18.56 5.44l.94 2.06.94-2.06 2.06-.94-2.06-.94-.94-2.06-.94 2.06-2.06.94zm-11 1L8.5 8.5l.94-2.06 2.06-.94-2.06-.94L8.5 2.5l-.94 2.06-2.06.94zm10 10l.94 2.06.94-2.06 2.06-.94-2.06-.94-.94-2.06-.94 2.06-2.06.94z\"/><path d=\"M17.41 7.96l-1.37-1.37c-.4-.4-.92-.59-1.43-.59-.52 0-1.04.2-1.43.59L10.3 9.45l-7.72 7.72c-.78.78-.78 2.05 0 2.83L4 21.41c.39.39.9.59 1.41.59.51 0 1.02-.2 1.41-.59l7.78-7.78 2.81-2.81c.8-.78.8-2.07 0-2.86zM5.41 20L4 18.59l7.72-7.72 1.47 1.35L5.41 20z\"/>\n",
              "  </svg>\n",
              "      </button>\n",
              "      \n",
              "  <style>\n",
              "    .colab-df-container {\n",
              "      display:flex;\n",
              "      flex-wrap:wrap;\n",
              "      gap: 12px;\n",
              "    }\n",
              "\n",
              "    .colab-df-convert {\n",
              "      background-color: #E8F0FE;\n",
              "      border: none;\n",
              "      border-radius: 50%;\n",
              "      cursor: pointer;\n",
              "      display: none;\n",
              "      fill: #1967D2;\n",
              "      height: 32px;\n",
              "      padding: 0 0 0 0;\n",
              "      width: 32px;\n",
              "    }\n",
              "\n",
              "    .colab-df-convert:hover {\n",
              "      background-color: #E2EBFA;\n",
              "      box-shadow: 0px 1px 2px rgba(60, 64, 67, 0.3), 0px 1px 3px 1px rgba(60, 64, 67, 0.15);\n",
              "      fill: #174EA6;\n",
              "    }\n",
              "\n",
              "    [theme=dark] .colab-df-convert {\n",
              "      background-color: #3B4455;\n",
              "      fill: #D2E3FC;\n",
              "    }\n",
              "\n",
              "    [theme=dark] .colab-df-convert:hover {\n",
              "      background-color: #434B5C;\n",
              "      box-shadow: 0px 1px 3px 1px rgba(0, 0, 0, 0.15);\n",
              "      filter: drop-shadow(0px 1px 2px rgba(0, 0, 0, 0.3));\n",
              "      fill: #FFFFFF;\n",
              "    }\n",
              "  </style>\n",
              "\n",
              "      <script>\n",
              "        const buttonEl =\n",
              "          document.querySelector('#df-3ec799c9-c7fa-4341-a640-0bb11ddc87a3 button.colab-df-convert');\n",
              "        buttonEl.style.display =\n",
              "          google.colab.kernel.accessAllowed ? 'block' : 'none';\n",
              "\n",
              "        async function convertToInteractive(key) {\n",
              "          const element = document.querySelector('#df-3ec799c9-c7fa-4341-a640-0bb11ddc87a3');\n",
              "          const dataTable =\n",
              "            await google.colab.kernel.invokeFunction('convertToInteractive',\n",
              "                                                     [key], {});\n",
              "          if (!dataTable) return;\n",
              "\n",
              "          const docLinkHtml = 'Like what you see? Visit the ' +\n",
              "            '<a target=\"_blank\" href=https://colab.research.google.com/notebooks/data_table.ipynb>data table notebook</a>'\n",
              "            + ' to learn more about interactive tables.';\n",
              "          element.innerHTML = '';\n",
              "          dataTable['output_type'] = 'display_data';\n",
              "          await google.colab.output.renderOutput(dataTable, element);\n",
              "          const docLink = document.createElement('div');\n",
              "          docLink.innerHTML = docLinkHtml;\n",
              "          element.appendChild(docLink);\n",
              "        }\n",
              "      </script>\n",
              "    </div>\n",
              "  </div>\n",
              "  "
            ]
          },
          "metadata": {},
          "execution_count": 65
        }
      ]
    },
    {
      "cell_type": "markdown",
      "source": [
        "**피처 스케일링과 정규화**\n",
        "\n",
        "서로 다른 변수의 값 범위를 일정 수준으로 맞추는 작업을 피처 스케일링이라 하며 대표적인 방법으로는 표준화와 정규화\n",
        "표준화 - 데이터의 피처 각각이 평균이 0이고 분산이 1인 가우시안 정규 분포를 따르는 값으로 변\n"
      ],
      "metadata": {
        "id": "zt0vZa1vpQiP"
      }
    },
    {
      "cell_type": "markdown",
      "source": [
        "**StandardScaler**\n",
        "표준화를 쉽게 지원하기 위한 클래스\n"
      ],
      "metadata": {
        "id": "nXp0hSpVpTx9"
      }
    },
    {
      "cell_type": "code",
      "source": [
        "from sklearn.datasets import load_iris\n",
        "import pandas as pd\n",
        "\n",
        "#붓꽃데이터세트로딩, Dataframe으로변환\n",
        "iris=load_iris()\n",
        "iris_data=iris.data\n",
        "iris_df=pd.DataFrame(data=iris_data, columns=iris.feature_names)\n",
        "\n",
        "print('mean of features')\n",
        "print(iris_df.mean())\n",
        "print('variance of \\nfeature')\n",
        "print(iris_df.var())"
      ],
      "metadata": {
        "colab": {
          "base_uri": "https://localhost:8080/"
        },
        "id": "8X8w_-wypUte",
        "outputId": "d88f84bb-1288-4747-c122-de9a6e236ecb"
      },
      "execution_count": 71,
      "outputs": [
        {
          "output_type": "stream",
          "name": "stdout",
          "text": [
            "mean of features\n",
            "sepal length (cm)    5.843333\n",
            "sepal width (cm)     3.057333\n",
            "petal length (cm)    3.758000\n",
            "petal width (cm)     1.199333\n",
            "dtype: float64\n",
            "variance of \n",
            "feature\n",
            "sepal length (cm)    0.685694\n",
            "sepal width (cm)     0.189979\n",
            "petal length (cm)    3.116278\n",
            "petal width (cm)     0.581006\n",
            "dtype: float64\n"
          ]
        }
      ]
    },
    {
      "cell_type": "code",
      "source": [
        "from sklearn.preprocessing import StandardScaler\n",
        "\n",
        "#StandardScaler 객체생성\n",
        "scaler=StandardScaler()\n",
        "#StandardScaler로데이터세트변환. fit()과 transform()호출\n",
        "scaler.fit(iris_df)\n",
        "iris_scaled=scaler.transform(iris_df)\n",
        "\n",
        "#transform()시 스케일변환된 데이터세트가 numpy ndarray로 반환돼 이를 DataFrame 변환\n",
        "iris_df_sclaed=pd.DataFrame(data=iris_scaled, columns=iris.feature_names)\n",
        "print('mean of features')\n",
        "print(iris_df.mean())\n",
        "print('variance of \\nfeature')\n",
        "print(iris_df.var())"
      ],
      "metadata": {
        "colab": {
          "base_uri": "https://localhost:8080/"
        },
        "id": "KB09MDwHqeso",
        "outputId": "2c909ada-f819-4fd9-d51c-68f135f8d68c"
      },
      "execution_count": 76,
      "outputs": [
        {
          "output_type": "stream",
          "name": "stdout",
          "text": [
            "mean of features\n",
            "sepal length (cm)    5.843333\n",
            "sepal width (cm)     3.057333\n",
            "petal length (cm)    3.758000\n",
            "petal width (cm)     1.199333\n",
            "dtype: float64\n",
            "variance of \n",
            "feature\n",
            "sepal length (cm)    0.685694\n",
            "sepal width (cm)     0.189979\n",
            "petal length (cm)    3.116278\n",
            "petal width (cm)     0.581006\n",
            "dtype: float64\n"
          ]
        }
      ]
    },
    {
      "cell_type": "markdown",
      "source": [
        "**MinMaxScaler**\n",
        "\n",
        "데이터값을0과 1사이의 범위값으로 변환하며 데이터의 분포가 가우시안 분포가 아닐 때 적용 가능\n"
      ],
      "metadata": {
        "id": "7RjoPKImrifk"
      }
    },
    {
      "cell_type": "code",
      "source": [
        "from sklearn.preprocessing import MinMaxScaler\n",
        "\n",
        "scaler=MinMaxScaler()\n",
        "\n",
        "scaler.fit(iris_data)\n",
        "iris_scaled=scaler.transform(iris_df)\n",
        "\n",
        "#transform()시 스케일 변환된 데이터 세트가 NumPy ndarray로 반환돼 이를 DAtaframe으로 변환\n",
        "iris_df_scaled=pd.DataFrame(data=iris_scaled, columns=iris.feature_names)\n",
        "print('min of features')\n",
        "print(iris_df_scaled.min())\n",
        "print('max of \\nfeature')\n",
        "print(iris_df_scaled.max())"
      ],
      "metadata": {
        "colab": {
          "base_uri": "https://localhost:8080/"
        },
        "id": "gcPPQSp1rjt_",
        "outputId": "bd1f407a-9508-4fcb-a947-8e50be601b69"
      },
      "execution_count": 77,
      "outputs": [
        {
          "output_type": "stream",
          "name": "stdout",
          "text": [
            "min of features\n",
            "sepal length (cm)    0.0\n",
            "sepal width (cm)     0.0\n",
            "petal length (cm)    0.0\n",
            "petal width (cm)     0.0\n",
            "dtype: float64\n",
            "max of \n",
            "feature\n",
            "sepal length (cm)    1.0\n",
            "sepal width (cm)     1.0\n",
            "petal length (cm)    1.0\n",
            "petal width (cm)     1.0\n",
            "dtype: float64\n"
          ]
        },
        {
          "output_type": "stream",
          "name": "stderr",
          "text": [
            "/usr/local/lib/python3.7/dist-packages/sklearn/base.py:444: UserWarning: X has feature names, but MinMaxScaler was fitted without feature names\n",
            "  f\"X has feature names, but {self.__class__.__name__} was fitted without\"\n"
          ]
        }
      ]
    },
    {
      "cell_type": "markdown",
      "source": [
        "**학습 데이터와 테스트 데이터의 스케일링 변환 시 유의점**\n",
        "\n",
        "학습 데이터로 fit()을 적용했을경우 테스트 데이터에도 그대로 적용해야 하며, 테스트 데이터로 다시 새로운 스케일링 기준 정보를 만들어서는 안됨\n",
        "\n",
        "가능하다면 전체 데이터의 스케일링 변환을 적용 뒤 학습과 테스트 데이터로 분리\n",
        "1이 여의치 않다면 테스트 데이터 변환 시에는 Fit()이나 fit_transform()을 적용하지 않고 학습 데이터로 이미 fit()된 Sclaer 객체를 이용해 transform()으로 변환\n"
      ],
      "metadata": {
        "id": "d82w-DFbseVg"
      }
    },
    {
      "cell_type": "code",
      "source": [
        "from sklearn.preprocessing import MinMaxScaler\n",
        "import numpy as np\n",
        "\n",
        "#0-10 in train data, 0-5 in test data\n",
        "#fit(), trnasform() of Scaler class can use 2차원이상의데이터, so reshape(-1, 1)\n",
        "train_array=np.arange(0,11).reshape(-1, 1)\n",
        "test_array=np.arange(0,6).reshape(-1, 1)"
      ],
      "metadata": {
        "id": "DDBJGCEgslL6"
      },
      "execution_count": 78,
      "outputs": []
    },
    {
      "cell_type": "code",
      "source": [
        "#MinMaxScaler에 파라미터값 지정 없을경우 0-1로 변환\n",
        "scaler=MinMaxScaler()\n",
        "\n",
        "#fit()>min=0, max=10\n",
        "scaler.fit(train_array)\n",
        "\n",
        "#1/10 scale train_array 데이터변환, 원본 10>1\n",
        "train_scaled=scaler.transform(train_array)\n",
        "\n",
        "print('원본train_array',np.round(train_array.reshape(-1),2))\n",
        "print('Scaled train_array',np.round(train_scaled.reshape(-1),2))"
      ],
      "metadata": {
        "colab": {
          "base_uri": "https://localhost:8080/"
        },
        "id": "15Zel_lItFJo",
        "outputId": "46df77a1-fd3e-4df1-a45a-6e1884f2ea32"
      },
      "execution_count": 79,
      "outputs": [
        {
          "output_type": "stream",
          "name": "stdout",
          "text": [
            "원본train_array [ 0  1  2  3  4  5  6  7  8  9 10]\n",
            "Scaled train_array [0.  0.1 0.2 0.3 0.4 0.5 0.6 0.7 0.8 0.9 1. ]\n"
          ]
        }
      ]
    },
    {
      "cell_type": "code",
      "source": [
        "#fit()>min=0, max=5\n",
        "scaler.fit(test_array)\n",
        "\n",
        "#1/5 scale train_array 데이터변환, 원본 5>1\n",
        "test_scaled=scaler.transform(test_array)\n",
        "\n",
        "print('원본 test_array',np.round(test_array.reshape(-1),2))\n",
        "print('Scaled test_array',np.round(test_scaled.reshape(-1),2))"
      ],
      "metadata": {
        "colab": {
          "base_uri": "https://localhost:8080/"
        },
        "id": "-PZxQwg3tvqF",
        "outputId": "4b7e01b3-0c37-488a-bfda-dfa5f03cec33"
      },
      "execution_count": 80,
      "outputs": [
        {
          "output_type": "stream",
          "name": "stdout",
          "text": [
            "원본 test_array [0 1 2 3 4 5]\n",
            "Scaled test_array [0.  0.2 0.4 0.6 0.8 1. ]\n"
          ]
        }
      ]
    },
    {
      "cell_type": "code",
      "source": [
        "scaler=MinMaxScaler()\n",
        "scaler.fit(train_array)\n",
        "train_scaled=scaler.transform(train_array)\n",
        "print('원본 train_array 데이터', np.round(train_array.reshape(-1),2))\n",
        "print('Scaled train_array',np.round(train_scaled.reshape(-1),2))\n",
        "\n",
        "#test_array에 Scale 변환시반드시 transform()\n",
        "test_scaled=scaler.transform(test_array)\n",
        "print('\\n원본 test_array',np.round(test_array.reshape(-1),2))\n",
        "print('Scaled test_array',np.round(test_scaled.reshape(-1),2))"
      ],
      "metadata": {
        "colab": {
          "base_uri": "https://localhost:8080/"
        },
        "id": "iSl4R2-iuGKr",
        "outputId": "d4c9314f-37bb-4ef9-b1b1-21a33a6eb403"
      },
      "execution_count": 81,
      "outputs": [
        {
          "output_type": "stream",
          "name": "stdout",
          "text": [
            "원본 train_array 데이터 [ 0  1  2  3  4  5  6  7  8  9 10]\n",
            "Scaled train_array [0.  0.1 0.2 0.3 0.4 0.5 0.6 0.7 0.8 0.9 1. ]\n",
            "\n",
            "원본 test_array [0 1 2 3 4 5]\n",
            "Scaled test_array [0.  0.1 0.2 0.3 0.4 0.5]\n"
          ]
        }
      ]
    },
    {
      "cell_type": "markdown",
      "source": [],
      "metadata": {
        "id": "pL747PnkvEA0"
      }
    }
  ]
}