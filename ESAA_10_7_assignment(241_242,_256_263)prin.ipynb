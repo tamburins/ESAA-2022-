{
  "nbformat": 4,
  "nbformat_minor": 0,
  "metadata": {
    "colab": {
      "provenance": [],
      "collapsed_sections": [],
      "mount_file_id": "1iBhhYH1Uz7bGCGyIZafj_fmSJRLSClAn",
      "authorship_tag": "ABX9TyNc2m+zPf7gQJEqQIaUCPMI",
      "include_colab_link": true
    },
    "kernelspec": {
      "name": "python3",
      "display_name": "Python 3"
    },
    "language_info": {
      "name": "python"
    }
  },
  "cells": [
    {
      "cell_type": "markdown",
      "metadata": {
        "id": "view-in-github",
        "colab_type": "text"
      },
      "source": [
        "<a href=\"https://colab.research.google.com/github/tamburins/ESAA-2022-/blob/main/ESAA_10_7_assignment(241_242%2C_256_263)prin.ipynb\" target=\"_parent\"><img src=\"https://colab.research.google.com/assets/colab-badge.svg\" alt=\"Open In Colab\"/></a>"
      ]
    },
    {
      "cell_type": "markdown",
      "source": [
        "#ESAA 10/7과제\n",
        "판다스 입문 241-242, 256-263p"
      ],
      "metadata": {
        "id": "AfdDeOWguSxa"
      }
    },
    {
      "cell_type": "markdown",
      "source": [
        "## 12-1 datetime 오브젝트\n",
        "\n",
        ": 날짜와 시간을 처리하는 등의 다양한 기능을 제공하는 파이썬 라이브러리로 date, time, datetime 오브젝트를 포함"
      ],
      "metadata": {
        "id": "46pzpCPKu7gm"
      }
    },
    {
      "cell_type": "code",
      "execution_count": null,
      "metadata": {
        "colab": {
          "base_uri": "https://localhost:8080/"
        },
        "id": "JNPZKJamuPSC",
        "outputId": "38c2a88c-c2b6-469c-e322-9f09c9675ef4"
      },
      "outputs": [
        {
          "output_type": "stream",
          "name": "stdout",
          "text": [
            "2022-10-06 23:59:52.884379\n"
          ]
        }
      ],
      "source": [
        "#datetimed오브젝트 사용하기\n",
        "from datetime import datetime\n",
        "now1 = datetime.now()\n",
        "print(now1)"
      ]
    },
    {
      "cell_type": "code",
      "source": [
        "now2=datetime.today()\n",
        "print(now2)"
      ],
      "metadata": {
        "colab": {
          "base_uri": "https://localhost:8080/"
        },
        "id": "-ZWB-kWEvXsi",
        "outputId": "45a9480d-3564-4a9b-84e7-d4977d51351c"
      },
      "execution_count": null,
      "outputs": [
        {
          "output_type": "stream",
          "name": "stdout",
          "text": [
            "2022-10-06 23:59:56.077339\n"
          ]
        }
      ]
    },
    {
      "cell_type": "code",
      "source": [
        "#시간을 직접 입력하여 생성하기\n",
        "t1=datetime.now()\n",
        "t2=datetime(1970, 1,1)\n",
        "t3=datetime(1970,12,12,13,24,34)\n",
        "\n",
        "print(t1)\n",
        "print(t2)\n",
        "print(t3)"
      ],
      "metadata": {
        "colab": {
          "base_uri": "https://localhost:8080/"
        },
        "id": "oLkTVw3MvegF",
        "outputId": "41ccd97a-6fad-4e0f-81ac-4721c7e5e6d4"
      },
      "execution_count": null,
      "outputs": [
        {
          "output_type": "stream",
          "name": "stdout",
          "text": [
            "2022-10-07 00:02:06.434076\n",
            "1970-01-01 00:00:00\n",
            "1970-12-12 13:24:34\n"
          ]
        }
      ]
    },
    {
      "cell_type": "code",
      "source": [
        "#시간계산하기\n",
        "diff1=t1-t2\n",
        "print(diff1)\n",
        "print(type(diff1))\n",
        "\n",
        "diff2 = t2-t1\n",
        "print(diff2)\n",
        "print(type(diff2))\n"
      ],
      "metadata": {
        "colab": {
          "base_uri": "https://localhost:8080/"
        },
        "id": "qdN9vTNgv9y_",
        "outputId": "c036bddc-8c06-4a37-afb5-26134bb2f044"
      },
      "execution_count": null,
      "outputs": [
        {
          "output_type": "stream",
          "name": "stdout",
          "text": [
            "19272 days, 0:02:06.434076\n",
            "<class 'datetime.timedelta'>\n",
            "-19273 days, 23:57:53.565924\n",
            "<class 'datetime.timedelta'>\n"
          ]
        }
      ]
    },
    {
      "cell_type": "code",
      "source": [
        "import pandas as pd"
      ],
      "metadata": {
        "id": "O6KuNdW50jMf"
      },
      "execution_count": 97,
      "outputs": []
    },
    {
      "cell_type": "code",
      "source": [
        "#테슬라 주식 데이터로 시간 계산하기\n",
        "pip install pandas datareader"
      ],
      "metadata": {
        "colab": {
          "base_uri": "https://localhost:8080/",
          "height": 130
        },
        "id": "GWtOBeF5wV15",
        "outputId": "425fb85d-fbfc-40a6-8888-d78da181b53d"
      },
      "execution_count": 98,
      "outputs": [
        {
          "output_type": "error",
          "ename": "SyntaxError",
          "evalue": "ignored",
          "traceback": [
            "\u001b[0;36m  File \u001b[0;32m\"<ipython-input-98-9ef5f7a51ca7>\"\u001b[0;36m, line \u001b[0;32m2\u001b[0m\n\u001b[0;31m    pip install pandas datareader\u001b[0m\n\u001b[0m              ^\u001b[0m\n\u001b[0;31mSyntaxError\u001b[0m\u001b[0;31m:\u001b[0m invalid syntax\n"
          ]
        }
      ]
    },
    {
      "cell_type": "code",
      "source": [
        "import pandas as pd\n",
        "pd.core.common.is_list_like = pd.api.types.is_list_like\n",
        "import pandas_datareader as pdr"
      ],
      "metadata": {
        "id": "A7qjvb_GBArV"
      },
      "execution_count": 101,
      "outputs": []
    },
    {
      "cell_type": "code",
      "source": [
        "tesla=pdr.get_data_quandl('TSLA', api_key='key')"
      ],
      "metadata": {
        "id": "Eo9Wqpr_EuoI"
      },
      "execution_count": 102,
      "outputs": []
    },
    {
      "cell_type": "code",
      "source": [
        "tesla.to_csv('/content/drive/MyDrive/Colab Notebooks/ESAA/tesla_stock_quandl.csv')"
      ],
      "metadata": {
        "id": "OvwNw73NBOOc"
      },
      "execution_count": 103,
      "outputs": []
    },
    {
      "cell_type": "code",
      "source": [
        "print(tesla.head()) #문자열로 저장되어 있는 tesla 데이터프레임 \n",
        "print(tesla.tail())"
      ],
      "metadata": {
        "colab": {
          "base_uri": "https://localhost:8080/"
        },
        "id": "ZgpMjIGECmfK",
        "outputId": "cbc5790d-3b3b-47e7-8b2b-e6deb8403b94"
      },
      "execution_count": 104,
      "outputs": [
        {
          "output_type": "stream",
          "name": "stdout",
          "text": [
            "              Open    High     Low   Close      Volume  ExDividend  \\\n",
            "Date                                                                 \n",
            "2018-03-27  304.00  304.27  277.18  279.18  13696168.0         0.0   \n",
            "2018-03-26  307.34  307.59  291.36  304.18   8324639.0         0.0   \n",
            "2018-03-23  311.25  311.61  300.45  301.54   6600538.0         0.0   \n",
            "2018-03-22  313.89  318.82  308.18  309.10   4914307.0         0.0   \n",
            "2018-03-21  310.25  322.44  310.19  316.53   5927881.0         0.0   \n",
            "\n",
            "            SplitRatio  AdjOpen  AdjHigh  AdjLow  AdjClose   AdjVolume  \n",
            "Date                                                                    \n",
            "2018-03-27         1.0   304.00   304.27  277.18    279.18  13696168.0  \n",
            "2018-03-26         1.0   307.34   307.59  291.36    304.18   8324639.0  \n",
            "2018-03-23         1.0   311.25   311.61  300.45    301.54   6600538.0  \n",
            "2018-03-22         1.0   313.89   318.82  308.18    309.10   4914307.0  \n",
            "2018-03-21         1.0   310.25   322.44  310.19    316.53   5927881.0  \n",
            "              Open    High       Low   Close     Volume  ExDividend  \\\n",
            "Date                                                                  \n",
            "2017-10-13  356.98  358.49  353.6800  355.57  3528413.0         0.0   \n",
            "2017-10-12  352.95  359.78  352.6400  355.68  4047318.0         0.0   \n",
            "2017-10-11  353.89  357.60  351.1500  354.60  4476769.0         0.0   \n",
            "2017-10-10  346.80  355.63  345.5305  355.59  6914972.0         0.0   \n",
            "2017-10-09  349.65  351.75  342.6700  342.94  7406324.0         0.0   \n",
            "\n",
            "            SplitRatio  AdjOpen  AdjHigh    AdjLow  AdjClose  AdjVolume  \n",
            "Date                                                                     \n",
            "2017-10-13         1.0   356.98   358.49  353.6800    355.57  3528413.0  \n",
            "2017-10-12         1.0   352.95   359.78  352.6400    355.68  4047318.0  \n",
            "2017-10-11         1.0   353.89   357.60  351.1500    354.60  4476769.0  \n",
            "2017-10-10         1.0   346.80   355.63  345.5305    355.59  6914972.0  \n",
            "2017-10-09         1.0   349.65   351.75  342.6700    342.94  7406324.0  \n"
          ]
        }
      ]
    },
    {
      "cell_type": "code",
      "source": [
        "#date열을 datetime형으로 변환하려면 read_csv 메서드로 데이터집합을 불러올 때 parse_dates 인자에 date열 전달\n",
        "tesla=pd.read_csv('/content/drive/MyDrive/Colab Notebooks/ESAA/WIKI-TSLA.csv', parse_dates=[0])\n",
        "print(tesla.info())"
      ],
      "metadata": {
        "colab": {
          "base_uri": "https://localhost:8080/"
        },
        "id": "YYnwqfECC9aZ",
        "outputId": "393b0293-b29b-44c5-e9bb-36165c1c4498"
      },
      "execution_count": 105,
      "outputs": [
        {
          "output_type": "stream",
          "name": "stdout",
          "text": [
            "<class 'pandas.core.frame.DataFrame'>\n",
            "RangeIndex: 116 entries, 0 to 115\n",
            "Data columns (total 13 columns):\n",
            " #   Column       Non-Null Count  Dtype         \n",
            "---  ------       --------------  -----         \n",
            " 0   Date         116 non-null    datetime64[ns]\n",
            " 1   Open         116 non-null    float64       \n",
            " 2   High         116 non-null    float64       \n",
            " 3   Low          116 non-null    float64       \n",
            " 4   Close        116 non-null    float64       \n",
            " 5   Volume       116 non-null    float64       \n",
            " 6   Ex-Dividend  116 non-null    float64       \n",
            " 7   Split Ratio  116 non-null    float64       \n",
            " 8   Adj. Open    116 non-null    float64       \n",
            " 9   Adj. High    116 non-null    float64       \n",
            " 10  Adj. Low     116 non-null    float64       \n",
            " 11  Adj. Close   116 non-null    float64       \n",
            " 12  Adj. Volume  116 non-null    float64       \n",
            "dtypes: datetime64[ns](1), float64(12)\n",
            "memory usage: 11.9 KB\n",
            "None\n"
          ]
        }
      ]
    },
    {
      "cell_type": "code",
      "source": [
        "#date 열의 자료형이 datetime 오브젝트로 변환\n",
        "#dt 접근자 사용 가능\n",
        "#불린 추출로 2018년 2월의 데이터 추출(자료의 범위로 할 경우 빈 데이터 프레임이 출력하여 임의로 설정)\n",
        "\n",
        "print(tesla.loc[(tesla.Date.dt.year==2018)&(tesla.Date.dt.month==2)])"
      ],
      "metadata": {
        "colab": {
          "base_uri": "https://localhost:8080/"
        },
        "id": "3SbLf9sYFtds",
        "outputId": "0acbad5d-c9bf-4336-ce51-5907f15decbf"
      },
      "execution_count": 106,
      "outputs": [
        {
          "output_type": "stream",
          "name": "stdout",
          "text": [
            "         Date    Open      High       Low    Close      Volume  Ex-Dividend  \\\n",
            "78 2018-02-01  351.00  359.6600  348.6300  349.250   4163194.0          0.0   \n",
            "79 2018-02-02  348.44  351.9500  340.5100  343.790   3674909.0          0.0   \n",
            "80 2018-02-05  337.97  344.4700  333.0000  333.700   4053777.0          0.0   \n",
            "81 2018-02-06  325.21  336.2200  323.5000  333.630   4937928.0          0.0   \n",
            "82 2018-02-07  338.99  346.0000  335.6600  345.000   5846823.0          0.0   \n",
            "83 2018-02-08  343.31  348.6200  314.6000  315.360   9996464.0          0.0   \n",
            "84 2018-02-09  319.93  320.9845  294.7600  310.110  12795099.0          0.0   \n",
            "85 2018-02-12  316.13  318.0800  306.2500  315.730   6166161.0          0.0   \n",
            "86 2018-02-13  315.02  324.1900  312.5105  323.660   4506915.0          0.0   \n",
            "87 2018-02-14  320.84  326.1700  318.5200  322.310   3930911.0          0.0   \n",
            "88 2018-02-15  324.50  334.1200  322.4000  334.065   5892048.0          0.0   \n",
            "89 2018-02-16  332.50  343.1200  331.6400  335.490   5585810.0          0.0   \n",
            "90 2018-02-20  334.47  340.8400  331.5000  334.770   3996951.0          0.0   \n",
            "91 2018-02-21  336.03  339.6929  333.1700  333.300   3181755.0          0.0   \n",
            "92 2018-02-22  335.53  347.4400  334.7501  346.170   6940349.0          0.0   \n",
            "93 2018-02-23  347.83  354.9900  347.1000  352.050   5790795.0          0.0   \n",
            "94 2018-02-26  353.50  359.0000  352.3550  357.420   4312871.0          0.0   \n",
            "95 2018-02-27  356.25  359.9900  350.0100  350.990   4761537.0          0.0   \n",
            "96 2018-02-28  352.57  355.2400  342.2200  343.060   6042895.0          0.0   \n",
            "\n",
            "    Split Ratio  Adj. Open  Adj. High  Adj. Low  Adj. Close  Adj. Volume  \n",
            "78          1.0     351.00   359.6600  348.6300     349.250    4163194.0  \n",
            "79          1.0     348.44   351.9500  340.5100     343.790    3674909.0  \n",
            "80          1.0     337.97   344.4700  333.0000     333.700    4053777.0  \n",
            "81          1.0     325.21   336.2200  323.5000     333.630    4937928.0  \n",
            "82          1.0     338.99   346.0000  335.6600     345.000    5846823.0  \n",
            "83          1.0     343.31   348.6200  314.6000     315.360    9996464.0  \n",
            "84          1.0     319.93   320.9845  294.7600     310.110   12795099.0  \n",
            "85          1.0     316.13   318.0800  306.2500     315.730    6166161.0  \n",
            "86          1.0     315.02   324.1900  312.5105     323.660    4506915.0  \n",
            "87          1.0     320.84   326.1700  318.5200     322.310    3930911.0  \n",
            "88          1.0     324.50   334.1200  322.4000     334.065    5892048.0  \n",
            "89          1.0     332.50   343.1200  331.6400     335.490    5585810.0  \n",
            "90          1.0     334.47   340.8400  331.5000     334.770    3996951.0  \n",
            "91          1.0     336.03   339.6929  333.1700     333.300    3181755.0  \n",
            "92          1.0     335.53   347.4400  334.7501     346.170    6940349.0  \n",
            "93          1.0     347.83   354.9900  347.1000     352.050    5790795.0  \n",
            "94          1.0     353.50   359.0000  352.3550     357.420    4312871.0  \n",
            "95          1.0     356.25   359.9900  350.0100     350.990    4761537.0  \n",
            "96          1.0     352.57   355.2400  342.2200     343.060    6042895.0  \n"
          ]
        }
      ]
    },
    {
      "cell_type": "code",
      "source": [
        "#날짜를 인덱스로 지정\n",
        "tesla.index=tesla['Date']\n",
        "print(tesla.index)\n",
        "print(tesla['2017'].iloc[:5,:5])\n",
        "#2017년 6월의 데이터 추출\n",
        "print(tesla['2018-01'].iloc[:,:5])"
      ],
      "metadata": {
        "colab": {
          "base_uri": "https://localhost:8080/"
        },
        "id": "LJEncKBEHHKS",
        "outputId": "17f5cccd-8fe3-4243-fa7b-1c8211ea6286"
      },
      "execution_count": 107,
      "outputs": [
        {
          "output_type": "stream",
          "name": "stdout",
          "text": [
            "DatetimeIndex(['2017-10-09', '2017-10-10', '2017-10-11', '2017-10-12',\n",
            "               '2017-10-13', '2017-10-16', '2017-10-17', '2017-10-18',\n",
            "               '2017-10-19', '2017-10-20',\n",
            "               ...\n",
            "               '2018-03-14', '2018-03-15', '2018-03-16', '2018-03-19',\n",
            "               '2018-03-20', '2018-03-21', '2018-03-22', '2018-03-23',\n",
            "               '2018-03-26', '2018-03-27'],\n",
            "              dtype='datetime64[ns]', name='Date', length=116, freq=None)\n",
            "                 Date    Open    High       Low   Close\n",
            "Date                                                   \n",
            "2017-10-09 2017-10-09  349.65  351.75  342.6700  342.94\n",
            "2017-10-10 2017-10-10  346.80  355.63  345.5305  355.59\n",
            "2017-10-11 2017-10-11  353.89  357.60  351.1500  354.60\n",
            "2017-10-12 2017-10-12  352.95  359.78  352.6400  355.68\n",
            "2017-10-13 2017-10-13  356.98  358.49  353.6800  355.57\n",
            "                 Date    Open      High      Low     Close\n",
            "Date                                                      \n",
            "2018-01-02 2018-01-02  312.00  322.1099  311.000  320.5300\n",
            "2018-01-03 2018-01-03  321.00  325.2500  315.550  317.2500\n",
            "2018-01-04 2018-01-04  312.87  318.5500  305.680  314.6200\n",
            "2018-01-05 2018-01-05  316.62  317.2400  312.000  316.5800\n",
            "2018-01-08 2018-01-08  316.00  337.0199  315.500  336.4100\n",
            "2018-01-09 2018-01-09  335.16  338.8000  327.405  333.6900\n",
            "2018-01-10 2018-01-10  332.20  337.0000  330.000  334.8000\n",
            "2018-01-11 2018-01-11  335.24  344.8099  333.260  337.9500\n",
            "2018-01-12 2018-01-12  338.63  340.4100  333.670  336.2200\n",
            "2018-01-16 2018-01-16  337.54  345.0000  334.800  340.0600\n",
            "2018-01-17 2018-01-17  340.47  349.0000  339.750  347.1600\n",
            "2018-01-18 2018-01-18  345.67  352.3000  343.740  344.5700\n",
            "2018-01-19 2018-01-19  345.00  350.5899  342.600  350.0200\n",
            "2018-01-22 2018-01-22  349.40  357.8300  349.200  351.5600\n",
            "2018-01-23 2018-01-23  360.00  360.5000  351.000  352.7900\n",
            "2018-01-24 2018-01-24  354.58  354.7500  343.520  345.7404\n",
            "2018-01-25 2018-01-25  348.27  349.2000  336.400  337.6400\n",
            "2018-01-26 2018-01-26  341.50  344.0000  335.710  342.8500\n",
            "2018-01-29 2018-01-29  339.85  350.8500  338.280  349.5300\n",
            "2018-01-30 2018-01-30  345.14  348.2700  342.170  345.8200\n",
            "2018-01-31 2018-01-31  347.51  356.1900  345.190  354.4200\n"
          ]
        },
        {
          "output_type": "stream",
          "name": "stderr",
          "text": [
            "/usr/local/lib/python3.7/dist-packages/ipykernel_launcher.py:4: FutureWarning: Indexing a DataFrame with a datetimelike index using a single string to slice the rows, like `frame[string]`, is deprecated and will be removed in a future version. Use `frame.loc[string]` instead.\n",
            "  after removing the cwd from sys.path.\n",
            "/usr/local/lib/python3.7/dist-packages/ipykernel_launcher.py:6: FutureWarning: Indexing a DataFrame with a datetimelike index using a single string to slice the rows, like `frame[string]`, is deprecated and will be removed in a future version. Use `frame.loc[string]` instead.\n",
            "  \n"
          ]
        }
      ]
    },
    {
      "cell_type": "code",
      "source": [
        "#시간간격과 인덱스 - TimedeltaIndex\n",
        "#시간 간격을 인덱스로 지정하여 데이터 추출\n",
        "tesla['ref_date']=tesla['Date']-tesla['Date'].min()\n",
        "print(tesla.head())"
      ],
      "metadata": {
        "colab": {
          "base_uri": "https://localhost:8080/"
        },
        "id": "tRTTp6GLHt5e",
        "outputId": "1440d9fd-8d49-4697-95ce-3380e65c6920"
      },
      "execution_count": null,
      "outputs": [
        {
          "output_type": "stream",
          "name": "stdout",
          "text": [
            "                 Date    Open    High       Low   Close     Volume  \\\n",
            "Date                                                                 \n",
            "2017-10-09 2017-10-09  349.65  351.75  342.6700  342.94  7406324.0   \n",
            "2017-10-10 2017-10-10  346.80  355.63  345.5305  355.59  6914972.0   \n",
            "2017-10-11 2017-10-11  353.89  357.60  351.1500  354.60  4476769.0   \n",
            "2017-10-12 2017-10-12  352.95  359.78  352.6400  355.68  4047318.0   \n",
            "2017-10-13 2017-10-13  356.98  358.49  353.6800  355.57  3528413.0   \n",
            "\n",
            "            Ex-Dividend  Split Ratio  Adj. Open  Adj. High  Adj. Low  \\\n",
            "Date                                                                   \n",
            "2017-10-09          0.0          1.0     349.65     351.75  342.6700   \n",
            "2017-10-10          0.0          1.0     346.80     355.63  345.5305   \n",
            "2017-10-11          0.0          1.0     353.89     357.60  351.1500   \n",
            "2017-10-12          0.0          1.0     352.95     359.78  352.6400   \n",
            "2017-10-13          0.0          1.0     356.98     358.49  353.6800   \n",
            "\n",
            "            Adj. Close  Adj. Volume ref_date  \n",
            "Date                                          \n",
            "2017-10-09      342.94    7406324.0   0 days  \n",
            "2017-10-10      355.59    6914972.0   1 days  \n",
            "2017-10-11      354.60    4476769.0   2 days  \n",
            "2017-10-12      355.68    4047318.0   3 days  \n",
            "2017-10-13      355.57    3528413.0   4 days  \n"
          ]
        }
      ]
    },
    {
      "cell_type": "code",
      "source": [
        "#ref_date열을 인덱스로 지정>데이터 추출가능\n",
        "tesla.index=tesla['ref_date']\n",
        "print(tesla.iloc[:5,:5])"
      ],
      "metadata": {
        "colab": {
          "base_uri": "https://localhost:8080/"
        },
        "id": "_iLP8QcwIEP1",
        "outputId": "7ffe7c5f-be51-4df5-acf9-7303fdf6be56"
      },
      "execution_count": null,
      "outputs": [
        {
          "output_type": "stream",
          "name": "stdout",
          "text": [
            "               Date    Open    High       Low   Close\n",
            "ref_date                                             \n",
            "0 days   2017-10-09  349.65  351.75  342.6700  342.94\n",
            "1 days   2017-10-10  346.80  355.63  345.5305  355.59\n",
            "2 days   2017-10-11  353.89  357.60  351.1500  354.60\n",
            "3 days   2017-10-12  352.95  359.78  352.6400  355.68\n",
            "4 days   2017-10-13  356.98  358.49  353.6800  355.57\n"
          ]
        }
      ]
    },
    {
      "cell_type": "code",
      "source": [
        "print(tesla['5 days':].iloc[:5,:5])"
      ],
      "metadata": {
        "colab": {
          "base_uri": "https://localhost:8080/"
        },
        "id": "iynGvqcBIM2m",
        "outputId": "3b35f289-d375-4928-a02f-a7e8b5762c68"
      },
      "execution_count": null,
      "outputs": [
        {
          "output_type": "stream",
          "name": "stdout",
          "text": [
            "               Date    Open      High     Low   Close\n",
            "ref_date                                             \n",
            "7 days   2017-10-16  353.76  354.4800  347.16  350.60\n",
            "8 days   2017-10-17  350.91  356.2200  350.07  355.75\n",
            "9 days   2017-10-18  355.97  363.0000  354.13  359.65\n",
            "10 days  2017-10-19  355.56  357.1465  348.20  351.81\n",
            "11 days  2017-10-20  352.69  354.5500  344.34  345.10\n"
          ]
        }
      ]
    },
    {
      "cell_type": "code",
      "source": [
        "#시간 범위와 인덱스\n",
        "#특정일에 누락된 데이터도 포함시켜 데이터를 살펴볼 경우 임의의 시간범위 생성하여 인덱스 생성\n",
        "#시간 범위 생성해 인덱스로 지정\n"
      ],
      "metadata": {
        "id": "mOn9_JGCIn5v"
      },
      "execution_count": null,
      "outputs": []
    },
    {
      "cell_type": "code",
      "source": [
        "import pandas as pd\n",
        "import os\n",
        "ebola = pd.read_csv('https://raw.githubusercontent.com/cmrivers/ebola/master/country_timeseries.csv', parse_dates=[0])"
      ],
      "metadata": {
        "id": "igciP6X-UDBL"
      },
      "execution_count": null,
      "outputs": []
    },
    {
      "cell_type": "code",
      "source": [
        "print(ebola.info()) #문자열로로 저장된 Date열확인"
      ],
      "metadata": {
        "colab": {
          "base_uri": "https://localhost:8080/"
        },
        "id": "jRj1hdWzX-e1",
        "outputId": "a2f13c4b-6a63-451a-b931-45f3da741e48"
      },
      "execution_count": null,
      "outputs": [
        {
          "output_type": "stream",
          "name": "stdout",
          "text": [
            "<class 'pandas.core.frame.DataFrame'>\n",
            "RangeIndex: 122 entries, 0 to 121\n",
            "Data columns (total 18 columns):\n",
            " #   Column               Non-Null Count  Dtype         \n",
            "---  ------               --------------  -----         \n",
            " 0   Date                 122 non-null    datetime64[ns]\n",
            " 1   Day                  122 non-null    int64         \n",
            " 2   Cases_Guinea         93 non-null     float64       \n",
            " 3   Cases_Liberia        83 non-null     float64       \n",
            " 4   Cases_SierraLeone    87 non-null     float64       \n",
            " 5   Cases_Nigeria        38 non-null     float64       \n",
            " 6   Cases_Senegal        25 non-null     float64       \n",
            " 7   Cases_UnitedStates   18 non-null     float64       \n",
            " 8   Cases_Spain          16 non-null     float64       \n",
            " 9   Cases_Mali           12 non-null     float64       \n",
            " 10  Deaths_Guinea        92 non-null     float64       \n",
            " 11  Deaths_Liberia       81 non-null     float64       \n",
            " 12  Deaths_SierraLeone   87 non-null     float64       \n",
            " 13  Deaths_Nigeria       38 non-null     float64       \n",
            " 14  Deaths_Senegal       22 non-null     float64       \n",
            " 15  Deaths_UnitedStates  18 non-null     float64       \n",
            " 16  Deaths_Spain         16 non-null     float64       \n",
            " 17  Deaths_Mali          12 non-null     float64       \n",
            "dtypes: datetime64[ns](1), float64(16), int64(1)\n",
            "memory usage: 17.3 KB\n",
            "None\n"
          ]
        }
      ]
    },
    {
      "cell_type": "code",
      "source": [
        "ebola['date_dt']=pd.to_datetime(ebola['Date'])\n",
        "print(ebola.info()) #데이트열의자료형을datetime오브젝트로변환한다음 ebola 데이터프레임에 새로운 열로 추가"
      ],
      "metadata": {
        "colab": {
          "base_uri": "https://localhost:8080/"
        },
        "id": "zkf3ehNwYKIM",
        "outputId": "0aa826b2-320f-4f86-fe33-54e8f9303f54"
      },
      "execution_count": null,
      "outputs": [
        {
          "output_type": "stream",
          "name": "stdout",
          "text": [
            "<class 'pandas.core.frame.DataFrame'>\n",
            "RangeIndex: 122 entries, 0 to 121\n",
            "Data columns (total 19 columns):\n",
            " #   Column               Non-Null Count  Dtype         \n",
            "---  ------               --------------  -----         \n",
            " 0   Date                 122 non-null    datetime64[ns]\n",
            " 1   Day                  122 non-null    int64         \n",
            " 2   Cases_Guinea         93 non-null     float64       \n",
            " 3   Cases_Liberia        83 non-null     float64       \n",
            " 4   Cases_SierraLeone    87 non-null     float64       \n",
            " 5   Cases_Nigeria        38 non-null     float64       \n",
            " 6   Cases_Senegal        25 non-null     float64       \n",
            " 7   Cases_UnitedStates   18 non-null     float64       \n",
            " 8   Cases_Spain          16 non-null     float64       \n",
            " 9   Cases_Mali           12 non-null     float64       \n",
            " 10  Deaths_Guinea        92 non-null     float64       \n",
            " 11  Deaths_Liberia       81 non-null     float64       \n",
            " 12  Deaths_SierraLeone   87 non-null     float64       \n",
            " 13  Deaths_Nigeria       38 non-null     float64       \n",
            " 14  Deaths_Senegal       22 non-null     float64       \n",
            " 15  Deaths_UnitedStates  18 non-null     float64       \n",
            " 16  Deaths_Spain         16 non-null     float64       \n",
            " 17  Deaths_Mali          12 non-null     float64       \n",
            " 18  date_dt              122 non-null    datetime64[ns]\n",
            "dtypes: datetime64[ns](2), float64(16), int64(1)\n",
            "memory usage: 18.2 KB\n",
            "None\n"
          ]
        }
      ]
    },
    {
      "cell_type": "markdown",
      "source": [],
      "metadata": {
        "id": "YniKoQDMbGaL"
      }
    },
    {
      "cell_type": "code",
      "source": [
        "ebola=pd.read_csv('https://raw.githubusercontent.com/cmrivers/ebola/master/country_timeseries.csv', parse_dates=[0])\n",
        "print(ebola.iloc[:5, :5])"
      ],
      "metadata": {
        "colab": {
          "base_uri": "https://localhost:8080/"
        },
        "id": "pbdMTZ_za__l",
        "outputId": "66a3f206-e38d-4a75-b126-7c16a6fb0137"
      },
      "execution_count": null,
      "outputs": [
        {
          "output_type": "stream",
          "name": "stdout",
          "text": [
            "        Date  Day  Cases_Guinea  Cases_Liberia  Cases_SierraLeone\n",
            "0 2015-01-05  289        2776.0            NaN            10030.0\n",
            "1 2015-01-04  288        2775.0            NaN             9780.0\n",
            "2 2015-01-03  287        2769.0         8166.0             9722.0\n",
            "3 2015-01-02  286           NaN         8157.0                NaN\n",
            "4 2014-12-31  284        2730.0         8115.0             9633.0\n"
          ]
        }
      ]
    },
    {
      "cell_type": "code",
      "source": [
        "print(ebola.iloc[-5:, :5]) #데이터 누락확인"
      ],
      "metadata": {
        "colab": {
          "base_uri": "https://localhost:8080/"
        },
        "id": "1DqQa3KkbNj3",
        "outputId": "f7de2305-3035-4da9-cd39-b9081b849b8f"
      },
      "execution_count": null,
      "outputs": [
        {
          "output_type": "stream",
          "name": "stdout",
          "text": [
            "          Date  Day  Cases_Guinea  Cases_Liberia  Cases_SierraLeone\n",
            "117 2014-03-27    5         103.0            8.0                6.0\n",
            "118 2014-03-26    4          86.0            NaN                NaN\n",
            "119 2014-03-25    3          86.0            NaN                NaN\n",
            "120 2014-03-24    2          86.0            NaN                NaN\n",
            "121 2014-03-22    0          49.0            NaN                NaN\n"
          ]
        }
      ]
    },
    {
      "cell_type": "code",
      "source": [
        "head_range = pd.date_range(start='2014-12-31', end='2015-01-05')\n",
        "print(head_range)"
      ],
      "metadata": {
        "colab": {
          "base_uri": "https://localhost:8080/"
        },
        "id": "r-CefIUAbUff",
        "outputId": "fbde6345-621f-4eb9-ae44-60c3995b4db9"
      },
      "execution_count": null,
      "outputs": [
        {
          "output_type": "stream",
          "name": "stdout",
          "text": [
            "DatetimeIndex(['2014-12-31', '2015-01-01', '2015-01-02', '2015-01-03',\n",
            "               '2015-01-04', '2015-01-05'],\n",
            "              dtype='datetime64[ns]', freq='D')\n"
          ]
        }
      ]
    },
    {
      "cell_type": "code",
      "source": [
        " #date column을 꼭 인덱스로지정후 시간범위를 인덱스로 지정\n",
        "ebola_5 = ebola.head()\n",
        "ebola_5.index=ebola_5['Date']\n",
        "ebola_5.reindex(head_range)\n",
        "print(ebola_5.iloc[:5, :5])"
      ],
      "metadata": {
        "colab": {
          "base_uri": "https://localhost:8080/"
        },
        "id": "vJtzJzN3bwQq",
        "outputId": "92c61cde-22c8-4461-d423-defd91d286f0"
      },
      "execution_count": null,
      "outputs": [
        {
          "output_type": "stream",
          "name": "stdout",
          "text": [
            "                 Date  Day  Cases_Guinea  Cases_Liberia  Cases_SierraLeone\n",
            "Date                                                                      \n",
            "2015-01-05 2015-01-05  289        2776.0            NaN            10030.0\n",
            "2015-01-04 2015-01-04  288        2775.0            NaN             9780.0\n",
            "2015-01-03 2015-01-03  287        2769.0         8166.0             9722.0\n",
            "2015-01-02 2015-01-02  286           NaN         8157.0                NaN\n",
            "2014-12-31 2014-12-31  284        2730.0         8115.0             9633.0\n"
          ]
        }
      ]
    },
    {
      "cell_type": "markdown",
      "source": [
        "###freq 속성값으로 사용할 수 있는 시간 주기\n",
        "\n",
        "- B 평일만 포함\n",
        "\n",
        "- C 사용자가 정의한 평일만 포하\n",
        "\n",
        "- D 달력 일자 단위\n",
        "\n",
        "- W 주간 단위\n",
        "\n",
        "- M 월 마지막날만 포함\n",
        "\n",
        "- SM 15일과 우러 마지막날만 포함\n",
        "\n",
        "-BM M 주기의 값이 휴일이면 제외하고 평일만 포함\n",
        "\n",
        "- CBM BM에 사용자 정의 평일을 적용\n",
        "\n",
        "- MS 월 시작일만 포함\n",
        "\n",
        "- SMS 월 시작일과 15일만 포함\n",
        "\n",
        "- BMS MS 주기의 값이 휴일이면 제외하고 평일만 포함\n",
        "\n",
        "- CBMS BMS에 사용자 정의 평일을 적용\n",
        "\n",
        "- Q 3,6,9,12월 분기 마지막 날만 포함\n",
        "\n",
        "- BQ 3,6,9,12월 분기 마지막날이 휴일이면 제외하고 평일만 포함\n",
        "\n",
        "- QS 3,6,9,12월 분기 시작일만 포함\n",
        "\n",
        "- BQS 3,6,9,12월 분기 시작일이 휴일이면 제외하고 평일만 포함\n",
        "\n",
        "- A 년의 마지막 날만 포함\n",
        "\n",
        "- BA 년의 마지막날이 휴일이면 제외하고 평일만 포함\n",
        "\n",
        "- AS 년의 시작일만 포함\n",
        "\n",
        "- BAS 년의 시작일이 휴일이면 제외하고 평일만 포함\n",
        "\n",
        "- BH 평일을 시간단위로 포함(9:00-16:00)\n",
        "\n",
        "- H 시간 단위로 포함(00:00-00:00)\n",
        "\n",
        "- T 분 단위 포함\n",
        " \n",
        "- S 초 단위 포함\n",
        "\n",
        "- L 밀리초 단위 포함\n",
        "\n",
        "- U 마이크로초 단위 포함\n",
        "\n",
        "- N 나노초 단위 포함"
      ],
      "metadata": {
        "id": "LUR3DA_0cIkH"
      }
    },
    {
      "cell_type": "markdown",
      "source": [],
      "metadata": {
        "id": "JFAtY43UuQj4"
      }
    }
  ]
}