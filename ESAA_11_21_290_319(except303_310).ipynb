{
  "nbformat": 4,
  "nbformat_minor": 0,
  "metadata": {
    "colab": {
      "provenance": [],
      "authorship_tag": "ABX9TyNuLt5NzrMqCGRFjmLfU021",
      "include_colab_link": true
    },
    "kernelspec": {
      "name": "python3",
      "display_name": "Python 3"
    },
    "language_info": {
      "name": "python"
    }
  },
  "cells": [
    {
      "cell_type": "markdown",
      "metadata": {
        "id": "view-in-github",
        "colab_type": "text"
      },
      "source": [
        "<a href=\"https://colab.research.google.com/github/tamburins/ESAA-2022-/blob/main/ESAA_11_21_290_319(except303_310).ipynb\" target=\"_parent\"><img src=\"https://colab.research.google.com/assets/colab-badge.svg\" alt=\"Open In Colab\"/></a>"
      ]
    },
    {
      "cell_type": "markdown",
      "source": [
        "## 05 회귀\n",
        "### 01 회귀 소개\n",
        "\n",
        " - 사람의 키가 평균키로 회귀하려는 성질이 있다는 자연 법칙처럼, 데이터값이 평균과 같은 일정한 값으로 돌아가려는 경향을 이용한 통계학 기법\n",
        "\n",
        "- 여러개의 독립변수와 한 개의 종속변수간의 상관관계를 모델링하는 기법을 통칭하는데, 이 독립변수와 종속변수간의 상관관계를 표현하는 것을 회귀계수라 표현함.\n",
        "\n",
        "- 머신러닝에서는 독립변수가 피처, 종속변수가 결정값으로 머신러닝 회귀예측의 최종 목표는 주어진 피처와 결정값데이터 기반에서 학습을 통해 최적의 회귀계수를 찾아내는 것\n",
        "\n",
        "- 선형과 비선형회귀, 단일회귀와 다중 회귀로 나뉘며 지도학습의 경우 예측값이 카테고리인 이산형클래스의 분류와 예측값이 연속형 숫자값인 회귀로 나뉨\n",
        "\n",
        "- 선형 회귀는 실제값과 예측값의 차이(오류의 제곱값)을 최소화하는 직선형 회귀식을 최적화 하는 것으로, 규제방법에 따라 나뉨.\n",
        "> 일반 선형 회귀 : 예측값과 실제 값의 Residual Sum of square를 최소화할 수 있도록 회귀계수를 최적화, 규제 x\n",
        "\n",
        "> Ridge: 선형회귀에 L2규제를 추가한 회귀모델로, L2규제란 상대적으로 큰 회귀계수값의 예측영향도를 감소시키기 위해 회귀계수를 더 작게 만드는 규제\n",
        "\n",
        "> Lasso : 선형회귀에 예측 영향력이 적은 피처의 회귀계수를 0으로 만들어 피처가 선택되지 않도록 하는 L1규제를 추가한 방식으로 피처 선택기능으로 유용\n",
        "\n",
        "> ElasticNet: L2, L1규제를 함께 결합한 모델로 피처가 많은 데이터세트에서 적용되며 L1에서 피처 개수를, L2에서 계수값의 크기를 조절\n",
        "\n",
        "> 로지스틱 회귀: 강력한 분류 알고리즘으로 이진분류뿐만 아니라 희소 영역의 분류에서 예측 성능을 뚜렷하게 보임\n",
        "\n",
        "### 02 단순 선형 회귀를 통한 회귀 이해\n",
        "\n",
        "- 실제 값과 회귀 모델 차이에 따른 오류값을 잔차라 일컫는데 최적의 회귀모형은 이러한 잔차를 최소화하는 것으로 오류값 합이 최소가될 수 있는 최적의 회귀계수를 찾는 것\n",
        "\n",
        "- 오류값은 양수도 음수도 될 수 있기에 보통 제곱하여 그 합을 구함으로써 회귀계수의 타당성을 찾는데, 이를 Residual Sum of square(RSS)라 칭함\n",
        "\n",
        "- 회귀계수를 변수로 하는 RSS식을 이용하여 정규화된 식으로 표현할 수 있으며, 우리는 이를 비용함수라 함. 머신러닝에서는 이 비용함수가 반환하는 값을 지속해서 감소시키고 최종적으로는 더이상 감소하지 않는 최소의 오류값을 구하고자 함\n",
        "\n",
        "### 03 비용 최소화하기 - 경사하강법(Gradient Descent) 소개\n",
        "\n",
        "- 점진적으로 반복적인 계산을 통해 W파라미터값을 업데이트하며 오류값이 최소가 되도록 구하는 방식으로\n",
        "\n",
        "- 반복적으로 비용함수의 반환값, 즉 예측값과 실제값의 차이가 작아지는 방향성을 갖고 w파라미터를 지속해서 보정하는데 오류값이 더 이상 작아지지 않으면 그 오류값을 최소 비용으로 판단하고 그때의 w값을 최적의 파라미터라 판단\n",
        "\n",
        "- 최소값은 2차함수의 최저점이 2차함수의 미분값인 1차함수값이 0이되는 지점이었듯, 미분된 함수의 기울기가 더이상 감소하지 않는 지점으로 삼음\n",
        "\n",
        "- 변수가 하나였던 2차함수와 달리, 비용함수는 이변수이기 때문에 편미분을 진행하여 최소지점을 구하고, 이러한 편미분 결괏값을 반복적으로 보정하며 비용함수가 최소가 되는 w1, w0를 구하는데, 이 때 새로운 w를 이전 w에서 편미분 결과값을 마이너스하면서 적용하는데 이러한 편미분값이 너무 클 수 있기 때문에 보정하기 위해 보정계수를 곱함 (학습률)\n",
        "\n",
        "\n",
        "> w1, w0를 임의의 값으로 설정하고 비용함수에 대입하여 계산\n",
        "\n",
        "> w1, w0를 식에 대입하여 업데이트 한 후 이것으로 비용함수에 대입하여 계산\n",
        "\n",
        "> 비용함수의 값이 감소했으면 다시 스텝2를 반복, 더이상감소하지 않으면 그 때의 w1, w0를 구하고 종료\n",
        "\n",
        "\n",
        "\n"
      ],
      "metadata": {
        "id": "KNpu_wgi9wmI"
      }
    },
    {
      "cell_type": "code",
      "execution_count": 22,
      "metadata": {
        "id": "7fY35o80jHgb",
        "colab": {
          "base_uri": "https://localhost:8080/",
          "height": 282
        },
        "outputId": "69cb964e-9d1c-45c2-c905-699f6b88a2f8"
      },
      "outputs": [
        {
          "output_type": "execute_result",
          "data": {
            "text/plain": [
              "<matplotlib.collections.PathCollection at 0x7f6c44662f50>"
            ]
          },
          "metadata": {},
          "execution_count": 22
        },
        {
          "output_type": "display_data",
          "data": {
            "text/plain": [
              "<Figure size 432x288 with 1 Axes>"
            ],
            "image/png": "[encoded data removed]"
          },
          "metadata": {
            "needs_background": "light"
          }
        }
      ],
      "source": [
        "import numpy as np\n",
        "import matplotlib.pyplot as plt\n",
        "%matplotlib inline\n",
        "\n",
        "np.random.seed(0)\n",
        "#y = 4X +6을 근사 (w1=4, w0=6).임의의 값은 노이즈를 위해 만듦\n",
        "X=2*np.random.rand(100,1)\n",
        "y= 6+4 * X +np.random.randn(100,1)\n",
        "\n",
        "#X,y데이터 세트 산점도로 시각화\n",
        "plt.scatter(X,y)"
      ]
    },
    {
      "cell_type": "code",
      "source": [
        "# 비용함수 정의\n",
        "def get_cost(y, y_pred):\n",
        "  N= len(y)\n",
        "  cost = np.sum(np.square(y-y_pred))/N\n",
        "  return cost"
      ],
      "metadata": {
        "id": "tu6rRL6bg1os"
      },
      "execution_count": 23,
      "outputs": []
    },
    {
      "cell_type": "code",
      "source": [
        "#경사하강법 함수 생성 및 구현\n",
        "# wi를를 0으로로 초기화한뒤뒤 iter 개수만큼큼 w1, w0을을 업데이트트\n",
        "#x, y는는 넘파이이 ndarray로로 입력받음음\n",
        "# 넘파이의의 내적연산인인 dot()을 이용하여여 예측배열값을 계산산\n",
        "#get_weight_update는는 업데이트한한 wi를 넘파이의의 dot 행렬연산으로로 계산한한 뒤뒤 이를를 반환환\n",
        "\n",
        "#w1, w0르르 업데이트할할 w1_update, w0_update\n",
        "def get_weight_updates(w1, w0, X, y, learning_rate=0.01):\n",
        "  N=len(y)\n",
        "  #먼저저 w1_update, w0_update를를 각각각 w1, w0의의 shape가가 동일한한 크기를를 가진진 0값아ㅡ로로 초기화\n",
        "  w1_update = np.zeros_like(w1)\n",
        "  w0_update = np.zeros_like(w0)\n",
        "  # 예측측 배열열 계산하고고 예측과과 실제값의의 차이이 계산산\n",
        "  y_pred = np.dot(X, w1.T) + w0\n",
        "  diff = y-y_pred\n",
        "\n",
        "  #w0_update를를 Dot행렬렬 연산으로로 구하기기 위해해 모두두 1값을을 가진진 행렬렬 생성성\n",
        "  w0_factors = np.ones((N,1))\n",
        "  #w1과 w0를를 업데이트하하 w1_update와와 w0_update 계산산\n",
        "  w1_update = -(2/N)*learning_rate * (np.dot(X.T, diff))\n",
        "  w0_update = -(2/N)*learning_rate * (np.dot(w0_factors.T, diff))\n",
        "\n",
        "  return w1_update, w0_update"
      ],
      "metadata": {
        "id": "zBejTRCFhW8T"
      },
      "execution_count": 24,
      "outputs": []
    },
    {
      "cell_type": "code",
      "source": [
        "#입력인자자 iters로로 주어진진 횟수만큼큼 반복적으로로 w1과과 w0를를 업데이트트 적용함함\n",
        "def gradient_descent_steps(X, y, iters=100000):\n",
        "  #w0, w1 초기화\n",
        "  w0 = np.zeros((1,1))\n",
        "  w1 = np.zeros((1,1))\n",
        "  \n",
        "  #인자로로 주어진진 iters만큼큼 반복적으로로 get_weight_updates() 호출해해 w1, w0 업데이트트 수행행\n",
        "  for ind in range(iters):\n",
        "    w1_update, w0_update = get_weight_updates(w1, w0, X, y, learning_rate = 0.01)\n",
        "    w1 = w1- w1_update\n",
        "    w0 = w0- w0_update\n",
        "  return w1, w0"
      ],
      "metadata": {
        "id": "gp2Db9JBP4jR"
      },
      "execution_count": 25,
      "outputs": []
    },
    {
      "cell_type": "code",
      "source": [
        "#gradient descent steps 호출출, w1과과 w0 구하기기\n",
        "def get_cost(y, y_pred):\n",
        "  N = len(y)\n",
        "  cost = np.sum(np.square(y-y_pred))/N\n",
        "  return cost\n",
        "\n",
        "w1, w0 = gradient_descent_steps(X, y, iters = 1000)\n",
        "print('w1: {0:.3f}, w0: {1:.3f}'.format(w1[0,0], w0[0,0]))\n",
        "y_pred = w1[0,0] * X + w0\n",
        "print('Grdient Descent Total Cost:{0:.4f}'.format(get_cost(y, y_pred)))\n"
      ],
      "metadata": {
        "colab": {
          "base_uri": "https://localhost:8080/"
        },
        "id": "4NYbVBA1QnQr",
        "outputId": "fcba9d62-f87d-4361-d208-875e31b23990"
      },
      "execution_count": 26,
      "outputs": [
        {
          "output_type": "stream",
          "name": "stdout",
          "text": [
            "w1: 4.022, w0: 6.162\n",
            "Grdient Descent Total Cost:0.9935\n"
          ]
        }
      ]
    },
    {
      "cell_type": "code",
      "source": [
        "# with y _pred, draw regression line!\n",
        "plt.scatter(X, y)\n",
        "plt.plot(X, y_pred)"
      ],
      "metadata": {
        "colab": {
          "base_uri": "https://localhost:8080/",
          "height": 282
        },
        "id": "F_w0YnyfRRRs",
        "outputId": "f644672f-7c9a-4172-d29e-651e08e79078"
      },
      "execution_count": 19,
      "outputs": [
        {
          "output_type": "execute_result",
          "data": {
            "text/plain": [
              "[<matplotlib.lines.Line2D at 0x7f6c44697d90>]"
            ]
          },
          "metadata": {},
          "execution_count": 19
        },
        {
          "output_type": "display_data",
          "data": {
            "text/plain": [
              "<Figure size 432x288 with 1 Axes>"
            ],
            "image/png": "[encoded data removed]"
          },
          "metadata": {
            "needs_background": "light"
          }
        }
      ]
    },
    {
      "cell_type": "markdown",
      "source": [
        "- 경사하강법은 모든 학습데이터에 대해 반복적으로 비용함수 최소화를 위한 값을 업데이트하기 때문에, 수행시간이 오래걸리므로 확률적 경사 하강법이나 미니 배치 확률적 경사하강법을 대신 사용\n",
        "\n"
      ],
      "metadata": {
        "id": "x_pQERcJRmZC"
      }
    },
    {
      "cell_type": "code",
      "source": [
        "# no big difference\n",
        "# just differ in drawing data with batch_size, calculating w1-update, w0_update\n",
        "def stochastic_gradient_descent_steps(X,y,batch_size = 10 , iters=1000):\n",
        "  w0= np.zeros((1,1))\n",
        "  w1= np.zeros((1,1))\n",
        "  prev_cost = 100000\n",
        "  iter_index= 0\n",
        "\n",
        "  for ind in range(iters):\n",
        "    np.random.seed(ind)\n",
        "    #전체 X,y데이터에서 랜덤하게 batch_size만큼 데이터를 추출해 sample_X, sample_y로 저장\n",
        "    stochastic_random_index = np.random.permutation(X.shape[0])\n",
        "    sample_X = X[stochastic_random_index[0:batch_size]]\n",
        "    sample_y = y[stochastic_random_index[0:batch_size]]\n",
        "    #랜덤하게 batch_size만큼 추출된 데이터 기반으로 w1_update, w0_update계산 후 업데이트\n",
        "    w1_update, w0_update = get_weight_updates(w1,w0,sample_X,sample_y, learning_rate=0.01)\n",
        "    w1 = w1 - w1_update\n",
        "    w0 = w0 - w0_update\n",
        "  return w1, w0"
      ],
      "metadata": {
        "id": "cutoFF0URoG0"
      },
      "execution_count": 29,
      "outputs": []
    },
    {
      "cell_type": "code",
      "source": [
        "# with def, cal!\n",
        "w1, w0 = stochastic_gradient_descent_steps(X, y, iters=1000)\n",
        "print('w1\":', round(w1[0,0],3), 'w0: ', round(w0[0,0],3))\n",
        "y_pred = w1[0,0] * X + w0\n",
        "print('S G D total Cost : {0:.4f}'.format(get_cost(y, y_pred)))\n"
      ],
      "metadata": {
        "colab": {
          "base_uri": "https://localhost:8080/"
        },
        "id": "A37AGtqJS_7G",
        "outputId": "c700a634-f301-4650-d739-d1340de66857"
      },
      "execution_count": 30,
      "outputs": [
        {
          "output_type": "stream",
          "name": "stdout",
          "text": [
            "w1\": 4.028 w0:  6.156\n",
            "S G D total Cost : 0.9937\n"
          ]
        }
      ]
    },
    {
      "cell_type": "markdown",
      "source": [
        "미니 배치 확률적 경사하강법은 경사하강법에 비해 큰 차이가 없으며 예측 오류비용 또한 큰차 이가 없으므로 일반적으로 확률적 경사 하강법을 이용함\n",
        "\n",
        "- 피처가 여러개인 경우 그에 따라 피처 개수 + 1개의 회귀계수를 도출하여 예측 회귀식을 생성할 수 있음\n",
        "\n",
        "### 05 다항회귀와 과(대)적합/ 과소적합 이해\n",
        "\n",
        "#### 다항 회귀 이해\n",
        "- 독립변수의 단항식이 아닌 2,3차 방정식과 같은 다항식으로 표현되는 방정식을 다항회귀라 하며, 이 또한 선형회귀의 일종으로 선형회귀의 구분 기준은 회귀계수의 선형, 비션형 여부임\n",
        "\n",
        "- 사이킷런은 다항회귀 클래스를 명시적으로 제공하지 않아 비선형 함수를 선형 모델에 적용하여 구현함\n",
        "\n",
        "- polynomialFeatures 클래스를 이용하면 알아서 fit과 transform을 이용하여 변환해줌, polynomial 피처로 변환!"
      ],
      "metadata": {
        "id": "dYz0C2NGT9ox"
      }
    },
    {
      "cell_type": "code",
      "source": [
        "from sklearn.preprocessing import PolynomialFeatures\n",
        "import numpy as np\n",
        "\n",
        "# 다항식으로로 변환한한 단항식식 생성성, [[0,1], [2,3]]의의 2X2 행렬렬 생성성\n",
        "X = np.arange(4).reshape(2,2)\n",
        "print('일차차 단항식식 계수수 피처처 :\\n', X)\n",
        "\n",
        "#degree = 2 인인 이차차 다항식으로로 변환하기기 위해해 PolynomialFeatures를를 이용해해 변환환\n",
        "poly = PolynomialFeatures(degree = 2)\n",
        "poly.fit(X)\n",
        "poly_ftr = poly.transform(X)\n",
        "print('변환된된 2차 다항식식 계수 피처처:\\n', poly_ftr)\n"
      ],
      "metadata": {
        "colab": {
          "base_uri": "https://localhost:8080/"
        },
        "id": "NGdSvwIVYO91",
        "outputId": "89106a5f-a326-474f-86b1-1937fb285c4e"
      },
      "execution_count": 31,
      "outputs": [
        {
          "output_type": "stream",
          "name": "stdout",
          "text": [
            "일차차 단항식식 계수수 피처처 :\n",
            " [[0 1]\n",
            " [2 3]]\n",
            "변환된된 2차 다항식식 계수 피처처:\n",
            " [[1. 0. 1. 0. 0. 1.]\n",
            " [1. 2. 3. 4. 6. 9.]]\n"
          ]
        }
      ]
    },
    {
      "cell_type": "code",
      "source": [
        "def polynomial_func(X):\n",
        "  y = 1 + 2 * X[:,0] + 3*X[:,0]**2 + 4 * X[:,1]**3\n",
        "  return y\n",
        "\n",
        "X=np.arange(4).reshape(2,2)\n",
        "print('일차차 단항식식 계수수 feature: \\n',X)\n",
        "y = polynomial_func(X)\n",
        "print('삼차다항식식 결정값값 ', y)"
      ],
      "metadata": {
        "colab": {
          "base_uri": "https://localhost:8080/"
        },
        "id": "2_4psAjXcCXT",
        "outputId": "a3bf37f6-6f7f-497d-8868-03395d175fd9"
      },
      "execution_count": 37,
      "outputs": [
        {
          "output_type": "stream",
          "name": "stdout",
          "text": [
            "일차차 단항식식 계수수 feature: \n",
            " [[0 1]\n",
            " [2 3]]\n",
            "삼차다항식식 결정값값  [  5 125]\n"
          ]
        }
      ]
    },
    {
      "cell_type": "code",
      "source": [
        "#3차차 다항식식 변환환\n",
        "poly_ftr = PolynomialFeatures(degree=3).fit_transform(X)\n",
        "print('3차차 다항식식 계수수 feature: \\n', poly_ftr)\n",
        "\n",
        "from sklearn.linear_model import LinearRegression\n",
        "#linear regression에에 3차차 다항식식 계수수 feature와와 3차차 다항식식 결정값으로로 학습습 후후 회귀계수수 확인인\n",
        "model = LinearRegression()\n",
        "model.fit(poly_ftr, y)\n",
        "print('Polynomial 회귀계수 \\n', np.round(model.coef_, 2))\n",
        "model.fit(poly_ftr, y)\n",
        "print('Polynomial 회귀계수수 \\n', np.round(model.coef_, 2))\n",
        "print('Polynomial 회귀 Shape ', model.coef_.shape)\n"
      ],
      "metadata": {
        "colab": {
          "base_uri": "https://localhost:8080/"
        },
        "id": "2Sj7YD0vcwHf",
        "outputId": "d8c1cb50-0331-4f7f-b7b7-266115423b92"
      },
      "execution_count": 41,
      "outputs": [
        {
          "output_type": "stream",
          "name": "stdout",
          "text": [
            "3차차 다항식식 계수수 feature: \n",
            " [[ 1.  0.  1.  0.  0.  1.  0.  0.  0.  1.]\n",
            " [ 1.  2.  3.  4.  6.  9.  8. 12. 18. 27.]]\n",
            "Polynomial 회귀계수 \n",
            " [0.   0.18 0.18 0.36 0.54 0.72 0.72 1.08 1.62 2.34]\n",
            "Polynomial 회귀계수수 \n",
            " [0.   0.18 0.18 0.36 0.54 0.72 0.72 1.08 1.62 2.34]\n",
            "Polynomial 회귀 Shape  (10,)\n"
          ]
        }
      ]
    },
    {
      "cell_type": "code",
      "source": [
        "from sklearn.preprocessing import PolynomialFeatures\n",
        "from sklearn.linear_model import LinearRegression\n",
        "from sklearn.pipeline import Pipeline\n",
        "import numpy as np\n",
        "\n",
        "def polynomial_func(X):\n",
        "  y = 1 + 2 * X[:,0] + 3*X[:,0]**2 + 4 * X[:,1]**3\n",
        "  return y\n",
        "\n",
        "#pipeline으로로 streaamine하게게 polynomial feature 변환과과 linear regression 연결결\n",
        "model = Pipeline([('poly', PolynomialFeatures(degree=3)), ('linear', LinearRegression())])\n",
        "X = np.arange(4).reshape(2,2)\n",
        "y = polynomial_func(X)\n",
        "\n",
        "model = model.fit(X, y)\n",
        "print('polynomial 회귀계수수 \\n', np.round(model.named_steps['linear'].coef_,2))\n",
        "\n"
      ],
      "metadata": {
        "colab": {
          "base_uri": "https://localhost:8080/"
        },
        "id": "SiCDEGOReXRT",
        "outputId": "122da3e4-2e43-450a-945e-d86f2f1f39f4"
      },
      "execution_count": 42,
      "outputs": [
        {
          "output_type": "stream",
          "name": "stdout",
          "text": [
            "polynomial 회귀계수수 \n",
            " [0.   0.18 0.18 0.36 0.54 0.72 0.72 1.08 1.62 2.34]\n"
          ]
        }
      ]
    },
    {
      "cell_type": "markdown",
      "source": [
        "#### 다항 회귀를 이용한 과소적합 및 과적합 이해\n",
        "\n",
        "- 다항식 차수가 높아질수록 학습 데이터에만 너무 맞춘 학습이 이뤄져서 정작 테스트 데이터환경에서는 오히려 예측 정확도가 떨어질 수 있음"
      ],
      "metadata": {
        "id": "VpYp07tAZRtM"
      }
    },
    {
      "cell_type": "code",
      "source": [
        "import numpy as np\n",
        "import matplotlib.pyplot as plt\n",
        "from sklearn.pipeline import Pipeline\n",
        "from sklearn.preprocessing import PolynomialFeatures\n",
        "from sklearn.linear_model import LinearRegression\n",
        "from sklearn.model_selection import cross_val_score\n",
        "%matplotlib inline\n",
        "\n",
        "#임의의의 값으로로 구성된된 X 값에에 대해해 코사인인 변환값을을 반환환\n",
        "def true_fun(X):\n",
        "  return np.cos(1.5 * np.pi*X)\n",
        "\n",
        "#X는는 0부터터 1까지지 30개의의 임의값을을 순서대로로 샘플링한한 데이터터\n",
        "np.random.seed(0)\n",
        "n_samples = 30\n",
        "X = np.sort(np.random.rand(n_samples))\n",
        "\n",
        "\n",
        "# y 값은은 코사인인 기반의의 true_fun()에서서 약간의의 노이즈즈 변동값을을 더한한 값값\n",
        "y = true_fun(X) + np.random.randn(n_samples)*0.1"
      ],
      "metadata": {
        "id": "RMZ2xPB1fmmM"
      },
      "execution_count": 2,
      "outputs": []
    },
    {
      "cell_type": "code",
      "source": [
        "plt.figure(figsize=(14,5))\n",
        "degrees = [1,4,15]\n",
        "\n",
        "# 다항회귀의의 차수를를 1,4,15 change and check\n",
        "for i in range(len(degrees)):\n",
        "  ax =plt.subplot(1,len(degrees), i+1)\n",
        "  plt.setp(ax, xticks=(), yticks=())\n",
        "\n",
        "  #transform each degree to polynomial\n",
        "  polynomial_features = PolynomialFeatures(degree = degrees[i], include_bias = False)\n",
        "  linear_regression = LinearRegression()\n",
        "  pipeline = Pipeline([(\"polynomial_features\", polynomial_features),\n",
        "                       (\"linear_regression\", linear_regression)])\n",
        "  pipeline.fit(X.reshape(-1, 1),y)\n",
        "\n",
        "  # evaluate with cross check\n",
        "  scores = cross_val_score(pipeline, X.reshape(-1, 1), y, scoring=\"neg_mean_squared_error\", cv=10)\n",
        "  # pipeline을을 구성하는는 세부객체를를 접근한느느 named_steps['객체명명']을을 이용해해 회귀계수수 추출출\n",
        "  coefficients = pipeline.named_steps['linear_regression'].coef_\n",
        "  print('\\nDegree{0} 회귀계수는는 {1}입니다'.format(degrees[i], np.round(coefficients, 2)))\n",
        "  print('Degree {0} MSE 는는 {1}입니다'.format(degrees[i], -1*np.mean(scores)))\n",
        "\n",
        "  #0부터터 1까지지 테스트데이터세트를를 100개로로 나누어어 예측측 수행행\n",
        "  #테스트트 데이터터 세트에에 회귀예측을을 수해하고고 예측곡선을을 시제곡선을을 그려려 비교교\n",
        "  X_test = np.linspace(0,1,100)\n",
        "  #예측값값 곡선선\n",
        "  plt.plot(X_test, pipeline.predict(X_test[:, np.newaxis]), label=\"Model\")\n",
        "  #실제값값 곡선선\n",
        "  plt.plot(X_test, true_fun(X_test), '--', label=\"True function\")\n",
        "  plt.scatter(X,y,edgecolor = 'b', s=20, label = \"Samples\")\n",
        "\n",
        "  plt.xlabel(\"x\"); plt.ylabel(\"y\"); plt.xlim((0,1)); plt.ylim((-2,2)); plt.legend(loc = \"best\")\n",
        "  plt.title(\"Degree {}]nMSE = {:.2e}(+/-{:.2e})\".format(degrees[i], -scores.mean(),scores.std()))\n",
        "plt.show()"
      ],
      "metadata": {
        "colab": {
          "base_uri": "https://localhost:8080/",
          "height": 495
        },
        "id": "4UY8Bp9erLOW",
        "outputId": "7609d225-4221-48cf-aa4a-f8895ceb9314"
      },
      "execution_count": 9,
      "outputs": [
        {
          "output_type": "stream",
          "name": "stdout",
          "text": [
            "\n",
            "Degree1 회귀계수는는 [-1.61]입니다\n",
            "Degree 1 MSE 는는 0.4077289625098685입니다\n",
            "\n",
            "Degree4 회귀계수는는 [  0.47 -17.79  23.59  -7.26]입니다\n",
            "Degree 4 MSE 는는 0.04320874987232072입니다\n",
            "\n",
            "Degree15 회귀계수는는 [-2.98291000e+03  1.03898770e+05 -1.87415056e+06  2.03715126e+07\n",
            " -1.44872551e+08  7.09311979e+08 -2.47064676e+09  6.24558367e+09\n",
            " -1.15676035e+10  1.56894317e+10 -1.54005437e+10  1.06456871e+10\n",
            " -4.91375763e+09  1.35919168e+09 -1.70380199e+08]입니다\n",
            "Degree 15 MSE 는는 180526263.3177066입니다\n"
          ]
        },
        {
          "output_type": "display_data",
          "data": {
            "text/plain": [
              "<Figure size 1008x360 with 3 Axes>"
            ],
            "image/png": "[encoded data removed]"
          },
          "metadata": {}
        }
      ]
    },
    {
      "cell_type": "markdown",
      "source": [
        "- 맨 왼쪽의 Degree 1 예측곡선은 단순한 직선으로서 단순 선형회귀와 동일. 실제 데이터세트인 코사인 데이터 세트를 직선으로 예측하기에는 단순해보이고, 과소적합모델으로 MSE가 0.407\n",
        "\n",
        "- Degree 4 예측곡선은 실제 데이터세트와 유사한 것으로 잡음까지 예측하진 못했으나 비교적 잘 예측한 것으로 MSE는 0.043\n",
        "\n",
        "- 맨 오른쪽 Degree 15는 MSE가 18xxxxxxx으로 극단적인 오류값이 발생하였고, 잡음값까지 지나치게 반영하며 이런 값이 발생함. 과적합의 대표적 예시\n",
        "\n",
        "- degree 15에서는 회귀계수 값이 매우 큼. 결국 학습데이터이 패턴을 지나치게 단순화한 과소적합도, 과적합도 아닌 균형잡힌 모델이 좋은 예측 모델\n",
        "\n",
        "#### 편향 - 분산 트레이드오프(Bias-Variance Trade Off)\n",
        "\n",
        "-degree 1 - 대표적인 고편향성 모델,  degree 15 - 대표적인 고분산성 모델로 편향과 분산은 한쪽이 커지면 한쪽이 낮아지는 경향이 있기 때문에 편향을 낮추고 분산을 높이면서 전체 오류가 낮아지는 골디락스 지점을 통과하며 분산을 지속적으로 높이면 오류값이 오히려 증가하며 예측성능이 다시 저하\n",
        "\n",
        "- 둘 사이의 트레이드오프를 이루면서 error cost가 최대로 낮아지는모델을 구축해야함"
      ],
      "metadata": {
        "id": "NiDD23uTry_F"
      }
    }
  ]
}