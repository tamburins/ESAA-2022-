{
  "nbformat": 4,
  "nbformat_minor": 0,
  "metadata": {
    "colab": {
      "provenance": [],
      "authorship_tag": "ABX9TyOU/o419MZFu4u3H4iRuDAO",
      "include_colab_link": true
    },
    "kernelspec": {
      "name": "python3",
      "display_name": "Python 3"
    },
    "language_info": {
      "name": "python"
    }
  },
  "cells": [
    {
      "cell_type": "markdown",
      "metadata": {
        "id": "view-in-github",
        "colab_type": "text"
      },
      "source": [
        "<a href=\"https://colab.research.google.com/github/tamburins/ESAA-2022-/blob/main/ESSA_week1_numpy.ipynb\" target=\"_parent\"><img src=\"https://colab.research.google.com/assets/colab-badge.svg\" alt=\"Open In Colab\"/></a>"
      ]
    },
    {
      "cell_type": "code",
      "execution_count": null,
      "metadata": {
        "id": "MRFu3Hh3Z_c3"
      },
      "outputs": [],
      "source": []
    },
    {
      "cell_type": "markdown",
      "source": [
        "**03 넘파이**\n",
        "\n",
        ":Numerical python,선형대수 기반의 프로그램을 쉽게 만들 수 있도록 지원하는 대표적인 패키지\n",
        "-매우 빠른 배열 연산이 가능하나 파이썬 언어 자체의 제약으로 인해 C/C++과 호환하여 작성 후 넘파이에서 호출하기도 함\n",
        "ex) tensorflow\n",
        "\n",
        "-배열 기반 연산으로 판다스에 비하면 부족하나 머신러닝 알고리즘이 넘파이 기반으로 작성되어 있기 때문에 파이썬 기반의 머신러닝에서 매우 중요\n",
        "\n"
      ],
      "metadata": {
        "id": "EAmkxGpeaDPZ"
      }
    },
    {
      "cell_type": "markdown",
      "source": [],
      "metadata": {
        "id": "xeVgL4ObaAO3"
      }
    },
    {
      "cell_type": "markdown",
      "source": [
        "**넘파이 ndarray 개요**\n",
        "\n",
        "- numpy만 해도 되지만 as np를 추가하여 약어로 모듈 표현 가능하며 array()함수는 파이썬의 리스트와 같은 다양한 인자를 입력받아 ndarray로 변환하는 기능을 수행하고,\n",
        "\n",
        "- 생성된 ndarray 배열의 shape변수는 ndarray의 크기(행과 열의 수)를 튜플 형태로 가져 이를 통해 배열의 차원까지 파악 가능\n"
      ],
      "metadata": {
        "id": "zZkBJp-fc8T4"
      }
    },
    {
      "cell_type": "code",
      "source": [
        "import numpy as np\n",
        "array1=np.array([1,2,3])\n",
        "print('array1 type: ', type(array1))\n",
        "print('array1 array 형태: ', array1.shape)\n",
        "\n",
        "array2=np.array([[1,2,3], [2,3,4]])\n",
        "print('array2 type: ', type(array2))\n",
        "print('array2 array 형태: ', array2.shape)\n",
        "\n",
        "array3=np.array([[1,2,3]])\n",
        "print('array3 type: ', type(array3))\n",
        "print('array3 array 형태: ', array3.shape)\n",
        "\n",
        "print('array1: {:0}차원, array2: {:0}차원, array3: {:0}차원'.format(array1.ndim, array2.ndim, array3.ndim))"
      ],
      "metadata": {
        "id": "okJ0lApNdqYS",
        "colab": {
          "base_uri": "https://localhost:8080/"
        },
        "outputId": "44e33e86-8021-42ee-d905-82a131217595"
      },
      "execution_count": null,
      "outputs": [
        {
          "output_type": "stream",
          "name": "stdout",
          "text": [
            "array1 type:  <class 'numpy.ndarray'>\n",
            "array1 array 형태:  (3,)\n",
            "array2 type:  <class 'numpy.ndarray'>\n",
            "array2 array 형태:  (2, 3)\n",
            "array3 type:  <class 'numpy.ndarray'>\n",
            "array3 array 형태:  (1, 3)\n",
            "array1: 1차원, array2: 2차원, array3: 2차원\n"
          ]
        }
      ]
    },
    {
      "cell_type": "markdown",
      "source": [
        "np.array()사용법: ndarray로 변환을 원하는 객체를 인자로 입력하면 ndarray로 반환,\n",
        "\n",
        "1) array1> (3.)이라는 튜플을 통해 1차원 array에 3개의 데이터를 포함함을 알 수 있음\n",
        "\n",
        "2) array2>(2.3)이라는 튜플을 통해 2차원 array로 2개의 행과 3개의 열을 포함함을 알 수 있음\n",
        "\n",
        "3) array>(1.3)을 통해 1개의 행과 3개의 열을 포함한 2차원 데이터임을 알 수 있음"
      ],
      "metadata": {
        "id": "AuO9xWd4hgQK"
      }
    },
    {
      "cell_type": "markdown",
      "source": [
        "**ndarray의 데이터 타입**\n",
        "\n",
        "- ndarray의 데이터값은 숫자값(int, float 포함), 문자열 값, 불 값 모두 가능\n",
        "\n",
        "- ndarray 내부에서는 같은 데이터 타입만 가능하며 dtype을 활용하여 데이터 타입 확인 가능"
      ],
      "metadata": {
        "id": "iscXjY_H9VPo"
      }
    },
    {
      "cell_type": "code",
      "source": [
        "import numpy as np\n",
        "list1=[1,2,3]\n",
        "print(type(list1))\n",
        "array1 = np.array(list1)\n",
        "print(type(array1))\n",
        "print(array1, array1.dtype) #list의 데이터를 받아 ndarray의 형태가 int임을 확인"
      ],
      "metadata": {
        "colab": {
          "base_uri": "https://localhost:8080/"
        },
        "id": "aFqw-NuW9s8Z",
        "outputId": "5ea588a9-27c4-40ba-c272-cd736ee645f9"
      },
      "execution_count": null,
      "outputs": [
        {
          "output_type": "stream",
          "name": "stdout",
          "text": [
            "<class 'list'>\n",
            "<class 'numpy.ndarray'>\n",
            "[1 2 3] int64\n"
          ]
        }
      ]
    },
    {
      "cell_type": "code",
      "source": [
        "list2=[1,2,'test']\n",
        "array2=np.array(list2)\n",
        "print(array2, array2.dtype) #type이 섞인 리스트를 데이터로 받을 경우 데이터크기가 더 큰 데이터타입으로 형변환 일괄적용\n",
        "list3=[1,2,3.0]\n",
        "array3=np.array(list3)\n",
        "print(array3, array3.dtype) #크기가 더 큰 float형으로 변환"
      ],
      "metadata": {
        "colab": {
          "base_uri": "https://localhost:8080/"
        },
        "id": "eLZjwC_E--Ln",
        "outputId": "1d586d88-4d9c-4917-9d07-cb214e7c4be5"
      },
      "execution_count": null,
      "outputs": [
        {
          "output_type": "stream",
          "name": "stdout",
          "text": [
            "['1' '2' 'test'] <U21\n",
            "[1. 2. 3.] float64\n"
          ]
        }
      ]
    },
    {
      "cell_type": "code",
      "source": [
        "array_int=np.array([1,2,3])\n",
        "array_float=array_int.astype('float64') #astype으로 데이터값 타입변경\n",
        "print(array_float, array_float.dtype)\n",
        "\n",
        "array_int1=array_float.astype('int32')\n",
        "print(array_int1, array_int1.dtype)\n",
        "\n",
        "array_float1=np.array([1.1, 2.1, 3.1])\n",
        "array_int2=array_float1.astype('int32') #float>int변환하면서 소수점 자리수 사라짐\n",
        "print(array_int2, array_int2.dtype)"
      ],
      "metadata": {
        "colab": {
          "base_uri": "https://localhost:8080/"
        },
        "id": "HqTfoG8f_zed",
        "outputId": "4fa51195-a00b-480b-8654-c78dc3010813"
      },
      "execution_count": null,
      "outputs": [
        {
          "output_type": "stream",
          "name": "stdout",
          "text": [
            "[1. 2. 3.] float64\n",
            "[1 2 3] int32\n",
            "[1 2 3] int32\n"
          ]
        }
      ]
    },
    {
      "cell_type": "markdown",
      "source": [
        "**ndarray를 편리하게 생성하기 - arange, zeros, ones**\n",
        "\n",
        ": 데이터 일괄 초기화 혹은 테스트 데이터에 사용\n",
        "- arange(): range()와 유사하게 0부터 함수인자값 -1까지의 값을 순차적으로 ndarray의 데이터값으로 변환해주며 stop값을 디폴트로 요구하나 start값 또한 부여 가능. 이를 활용하여 연속값 부여\n",
        "- zeros(): 모든 값을 0으로 채운 해당 행,렬(shape)의 ndarray 반환 ( 단 기본 디폴트 float )\n",
        "- ones():모든 값을 1로 채운 shape의 ndarray 반환 ( 단 기본 디폴트는 float )"
      ],
      "metadata": {
        "id": "g4iIkKTlAyBJ"
      }
    },
    {
      "cell_type": "code",
      "source": [
        "import numpy as np\n",
        "sequence_array = np.arange(10) #0-9까지의 1차원 ndarray\n",
        "print(sequence_array)\n",
        "print(sequence_array.dtype, sequence_array.shape)"
      ],
      "metadata": {
        "id": "15xdtwyx_esI",
        "colab": {
          "base_uri": "https://localhost:8080/"
        },
        "outputId": "3f5636c5-f769-4db8-fe2c-2f81416200de"
      },
      "execution_count": null,
      "outputs": [
        {
          "output_type": "stream",
          "name": "stdout",
          "text": [
            "[0 1 2 3 4 5 6 7 8 9]\n",
            "int64 (10,)\n"
          ]
        }
      ]
    },
    {
      "cell_type": "code",
      "source": [
        "zero_array=np.zeros((3,2), dtype='int32') #3행 2열의 0행렬\n",
        "print(zero_array)\n",
        "print(zero_array.dtype, zero_array.shape)\n",
        "\n",
        "one_array=np.ones((3,2)) #3행 2열의 1로만 구성된 행렬 형성\n",
        "print(one_array)\n",
        "print(one_array.dtype, one_array.shape)"
      ],
      "metadata": {
        "colab": {
          "base_uri": "https://localhost:8080/"
        },
        "id": "nVKV6uZQEMlG",
        "outputId": "51370805-5c0a-42ba-a86f-25281f0fafed"
      },
      "execution_count": null,
      "outputs": [
        {
          "output_type": "stream",
          "name": "stdout",
          "text": [
            "[[0 0]\n",
            " [0 0]\n",
            " [0 0]]\n",
            "int32 (3, 2)\n",
            "[[1. 1.]\n",
            " [1. 1.]\n",
            " [1. 1.]]\n",
            "float64 (3, 2)\n"
          ]
        }
      ]
    },
    {
      "cell_type": "markdown",
      "source": [
        "**ndarray의 차원과 크기를 변경하는 reshape**\n",
        "\n",
        "darray를 특정 차원 및 크기로 변환하며 원소 개수와 시키는 사이즈가 일치하지 않는 경우(변환이 불가능한 경우) 오류가 발생한다.\n",
        "\n"
      ],
      "metadata": {
        "id": "p_B0oVVYQLaN"
      }
    },
    {
      "cell_type": "code",
      "source": [
        "array1=np.arange(10)\n",
        "print('array1: /n', array1)\n",
        "\n",
        "array2=array1.reshape(2,5)\n",
        "print('array2: /n', array2)\n",
        "\n",
        "array3=array1.reshape(5,2)\n",
        "print('array3: /n', array3)"
      ],
      "metadata": {
        "colab": {
          "base_uri": "https://localhost:8080/"
        },
        "id": "U5UaJosVEZs7",
        "outputId": "b979bb00-b749-457e-fcef-8488bd25a16e"
      },
      "execution_count": null,
      "outputs": [
        {
          "output_type": "stream",
          "name": "stdout",
          "text": [
            "array1: /n [0 1 2 3 4 5 6 7 8 9]\n",
            "array2: /n [[0 1 2 3 4]\n",
            " [5 6 7 8 9]]\n",
            "array3: /n [[0 1]\n",
            " [2 3]\n",
            " [4 5]\n",
            " [6 7]\n",
            " [8 9]]\n"
          ]
        }
      ]
    },
    {
      "cell_type": "code",
      "source": [
        "array1.reshape(4,3) #변형 불가능하여(원소는 9개 변환은 12개) 오류"
      ],
      "metadata": {
        "id": "81QzwhZXFTkH",
        "colab": {
          "base_uri": "https://localhost:8080/",
          "height": 198
        },
        "outputId": "5a673e01-f040-466d-d95a-be14b90567fb"
      },
      "execution_count": null,
      "outputs": [
        {
          "output_type": "error",
          "ename": "NameError",
          "evalue": "ignored",
          "traceback": [
            "\u001b[0;31m---------------------------------------------------------------------------\u001b[0m",
            "\u001b[0;31mNameError\u001b[0m                                 Traceback (most recent call last)",
            "\u001b[0;32m<ipython-input-1-a40469ec5825>\u001b[0m in \u001b[0;36m<module>\u001b[0;34m\u001b[0m\n\u001b[0;32m----> 1\u001b[0;31m \u001b[0marray1\u001b[0m\u001b[0;34m.\u001b[0m\u001b[0mreshape\u001b[0m\u001b[0;34m(\u001b[0m\u001b[0;36m4\u001b[0m\u001b[0;34m,\u001b[0m\u001b[0;36m3\u001b[0m\u001b[0;34m)\u001b[0m\u001b[0;34m\u001b[0m\u001b[0;34m\u001b[0m\u001b[0m\n\u001b[0m",
            "\u001b[0;31mNameError\u001b[0m: name 'array1' is not defined"
          ]
        }
      ]
    },
    {
      "cell_type": "code",
      "source": [
        "array1=np.arange(10)\n",
        "print(array1)\n",
        "\n",
        "array2=array1.reshape(-1,5) #-1을 사용하면 알아서 호환되는 사이즈로 맞춰서 변환\n",
        "print('array2 shape: ', array2.shape)\n",
        "\n",
        "array3=array1.reshape(5,-1)\n",
        "print('array3 shape: ', array3.shape)"
      ],
      "metadata": {
        "colab": {
          "base_uri": "https://localhost:8080/"
        },
        "id": "GPS49F56FUJ1",
        "outputId": "dfcbc16d-251d-476d-cf45-108c783acc93"
      },
      "execution_count": null,
      "outputs": [
        {
          "output_type": "stream",
          "name": "stdout",
          "text": [
            "[0 1 2 3 4 5 6 7 8 9]\n",
            "array2 shape:  (2, 5)\n",
            "array3 shape:  (5, 2)\n"
          ]
        }
      ]
    },
    {
      "cell_type": "code",
      "source": [
        "import numpy as np\n",
        "\n",
        "array1=np.arange(10)\n",
        "array4=array1.reshape(-1,4) #행과 열 수는 정수로 불가능한 행렬이라 오류 발생"
      ],
      "metadata": {
        "colab": {
          "base_uri": "https://localhost:8080/",
          "height": 232
        },
        "id": "3D_HSEV7FpA4",
        "outputId": "8074ae1b-86c6-4895-cf19-d874aea8a5d6"
      },
      "execution_count": null,
      "outputs": [
        {
          "output_type": "error",
          "ename": "ValueError",
          "evalue": "ignored",
          "traceback": [
            "\u001b[0;31m---------------------------------------------------------------------------\u001b[0m",
            "\u001b[0;31mValueError\u001b[0m                                Traceback (most recent call last)",
            "\u001b[0;32m<ipython-input-4-c7e512c156fa>\u001b[0m in \u001b[0;36m<module>\u001b[0;34m\u001b[0m\n\u001b[1;32m      2\u001b[0m \u001b[0;34m\u001b[0m\u001b[0m\n\u001b[1;32m      3\u001b[0m \u001b[0marray1\u001b[0m\u001b[0;34m=\u001b[0m\u001b[0mnp\u001b[0m\u001b[0;34m.\u001b[0m\u001b[0marange\u001b[0m\u001b[0;34m(\u001b[0m\u001b[0;36m10\u001b[0m\u001b[0;34m)\u001b[0m\u001b[0;34m\u001b[0m\u001b[0;34m\u001b[0m\u001b[0m\n\u001b[0;32m----> 4\u001b[0;31m \u001b[0marray4\u001b[0m\u001b[0;34m=\u001b[0m\u001b[0marray1\u001b[0m\u001b[0;34m.\u001b[0m\u001b[0mreshape\u001b[0m\u001b[0;34m(\u001b[0m\u001b[0;34m-\u001b[0m\u001b[0;36m1\u001b[0m\u001b[0;34m,\u001b[0m\u001b[0;36m4\u001b[0m\u001b[0;34m)\u001b[0m \u001b[0;31m#행과 열 수는 정수로 불가능한 행렬이라 오류 발생\u001b[0m\u001b[0;34m\u001b[0m\u001b[0;34m\u001b[0m\u001b[0m\n\u001b[0m",
            "\u001b[0;31mValueError\u001b[0m: cannot reshape array of size 10 into shape (4)"
          ]
        }
      ]
    },
    {
      "cell_type": "code",
      "source": [
        "# toilist():ndarray를 list자료형으로 변환\n",
        "import numpy as np\n",
        "\n",
        "array1=np.arange(8)\n",
        "array3d=array1.reshape((2,2,2)) #3차원 리스트 생성\n",
        "print('array3d: \\n', array3d.tolist())\n",
        "\n",
        "# 3차원 ndarray를 2차원 ndarray로 변환\n",
        "array5=array3d.reshape(-1,1) \n",
        "print('array5: \\n', array5.tolist())\n",
        "print('array5 shape: ', array5.shape)\n",
        "\n",
        "#1차원 ndarray를 2차원 ndarray로 변환\n",
        "array6=array1.reshape(-1,1)\n",
        "print('array6: \\n', array6.tolist())\n",
        "print('array6 shape: ', array6.shape)\n",
        "\n"
      ],
      "metadata": {
        "colab": {
          "base_uri": "https://localhost:8080/"
        },
        "id": "or4UHGUxF0a9",
        "outputId": "2a7ff126-8c3e-4f42-9e13-fea878a82e0e"
      },
      "execution_count": null,
      "outputs": [
        {
          "output_type": "stream",
          "name": "stdout",
          "text": [
            "array3d: \n",
            " [[[0, 1], [2, 3]], [[4, 5], [6, 7]]]\n",
            "array5: \n",
            " [[0], [1], [2], [3], [4], [5], [6], [7]]\n",
            "array5 shape:  (8, 1)\n",
            "array6: \n",
            " [[0], [1], [2], [3], [4], [5], [6], [7]]\n",
            "array6 shape:  (8, 1)\n"
          ]
        }
      ]
    },
    {
      "cell_type": "markdown",
      "source": [
        "**넘파이에서의 ndarry의 데이터세트 선택하기 -인덱싱(indexing)**\n",
        "\n",
        "\n",
        "1.   특정한 데이터만 추출 : 원하는 위치의 인덱스 값을 지정하면 해당 위치의 데이터가 반환\n",
        "\n",
        "2.   슬라이싱(slicing): 슬라이싱은 연속된 인덱스상의 ndarray를 추출하는 방식으로 'a:b'일 경우 인덱스 a와 b-1인덱스의 ndarray를 반환\n",
        "\n",
        "3. 팬시 인덱싱(Fancy indexing): 일정한 인덱싱 집합을 리스트 또는 ndarray 형태로 지정해 해당 위치에 있는 데이터의 ndarray를 반환\n",
        "\n",
        "4. 불린 인덱싱(Boolean indexing):특정 조건에 해당하는지 여부인 True/False 값 인덱싱 집합을 기반으로 True에 해당하는 데이터의 ndarray를 반환"
      ],
      "metadata": {
        "id": "BmLLQNwUGuMJ"
      }
    },
    {
      "cell_type": "code",
      "source": [
        "#단일값추출\n",
        "#1-9까지의 1차원 ndarray생성\n",
        "sort_array2d_axis1=np.arange(start=1, stop=10)\n",
        "print('array1: ',array1)\n",
        "\n",
        "#index는 0부터 시작하므로 array1[2]는 3번째 값을 의미\n",
        "value=array1[2] #[] 인덱스위치의 데이터값, not ndarray\n",
        "print('value: ', value)\n",
        "print(type(value))\n",
        "print('맨뒤에값: ',array1[-1],'맨 뒤에서 두번쨰값:', array1[-2])\n",
        "#-를 이용하여 뒤에서부터의 인덱싱 가능, -2는 뒤에서부터 두번째 데이터\n",
        "\n",
        "array1[0]=9\n",
        "array1[8]=0 #단일인덱스를 이용하여 데이터 수정 가능\n",
        "print('array1: ', array1)\n"
      ],
      "metadata": {
        "id": "CE-BjbgiGt6d",
        "colab": {
          "base_uri": "https://localhost:8080/"
        },
        "outputId": "b2bf863c-e087-4496-c7d2-c40e0632eb33"
      },
      "execution_count": 8,
      "outputs": [
        {
          "output_type": "stream",
          "name": "stdout",
          "text": [
            "array1:  [9 2 3 4 5 6 7 8 0]\n",
            "value:  3\n",
            "<class 'numpy.int64'>\n",
            "맨뒤에값:  0 맨 뒤에서 두번쨰값: 8\n",
            "array1:  [9 2 3 4 5 6 7 8 0]\n"
          ]
        }
      ]
    },
    {
      "cell_type": "code",
      "source": [
        "#다차원 ndarray에서의 데이터 단일값 추출\n",
        "array1d=np.arange(start=1, stop=10)\n",
        "array2d=array1d.reshape(3,3) #9개의 원소 3행 3열 정렬\n",
        "print(array2d)\n",
        "\n",
        "print('(row=0, col=0) index 가리키는 값: ',array2d[0,0]) #1행 1열 원소\n",
        "print('(row=0, col=1) index 가리키는 값: ',array2d[0,1]) #1행 2열 원소\n",
        "print('(row=1, col=0) index 가리키는 값: ',array2d[1,0]) #2행 1열\n",
        "print('(row=2, col=2) index 가리키는 값: ',array2d[2,2]) #3행 3열\n",
        "#정확히는 axis0, axis1이 각각 열과 행을 의미하고 열과 행이라는 용어는 쓰지 않음"
      ],
      "metadata": {
        "id": "lV0578bFJJcV"
      },
      "execution_count": null,
      "outputs": []
    },
    {
      "cell_type": "markdown",
      "source": [
        "**슬라이싱**\n",
        "\n",
        ":단일 데이터 추출을 제외하고 슬라이싱, 팬시인덱싱, 불린 인덱싱으로 추출된 데이터 세트는 모두 ndarray로 [a:b]일 경우 a번째 데이터부터 b-1까지의 데이터 반환\n",
        "\n",
        "### 1) 1차원 인덱싱\n"
      ],
      "metadata": {
        "id": "vOINxzz2nc_L"
      }
    },
    {
      "cell_type": "code",
      "source": [
        "\n",
        "array1=np.arange(start=1, stop=10)\n",
        "array3=array1[0:3] #인덱스 0, 1, 2의 원소 반환\n",
        "print(array3)\n",
        "print(type(array3))"
      ],
      "metadata": {
        "id": "GNWbqpFWKDKt",
        "colab": {
          "base_uri": "https://localhost:8080/"
        },
        "outputId": "791f6d7d-84c7-41e9-cf46-6e784c46391f"
      },
      "execution_count": 9,
      "outputs": [
        {
          "output_type": "stream",
          "name": "stdout",
          "text": [
            "[1 2 3]\n",
            "<class 'numpy.ndarray'>\n"
          ]
        }
      ]
    },
    {
      "cell_type": "code",
      "source": [
        "array1=np.arange(start=1, stop=10)\n",
        "aray4=array1[:3] # 시작 인덱스 생략 가능, 이 경우 자동으로 맨 처음 인덱스로 간주\n",
        "print(array4)\n",
        "\n",
        "aray5=array1[3:] #종료 인덱스 생략 가능,이 경우 자동으로 맨 끝 인덱스로 간주\n",
        "print(array5)\n",
        "\n",
        "aray6=array1[:] #시작과 종료 인덱스 생략 가능,이 경우 자동으로 맨처음/맨마지막 인덱스로 간주\n",
        "print(array6)"
      ],
      "metadata": {
        "id": "KcJ1dMccKPep"
      },
      "execution_count": null,
      "outputs": []
    },
    {
      "cell_type": "markdown",
      "source": [
        "## 2)2차원 ndarray 인덱싱"
      ],
      "metadata": {
        "id": "yqADSkF7oYv6"
      }
    },
    {
      "cell_type": "code",
      "source": [
        "array1d=np.arange(start=1, stop=10)\n",
        "array2d=array1d.reshape(3,3)\n",
        "print('array2d:\\n', array2d)\n",
        "\n",
        "print('array2d[0:2, 0:2] \\n', array2d[0:2, 0:2]) # 1,2행, 1,2열\n",
        "print('array2d[1:3, 0:3] \\n', array2d[1:3, 0:3]) # 2,3행, 1,2,3열\n",
        "print('array2d[1:3, :] \\n', array2d[1:3, :]) #2,3행, 전체열\n",
        "print('array2d[:, :] \\n', array2d[:, :]) #전체 \n",
        "print('array2d[:2, 1:] \\n', array2d[:2, 1:]) #1,2행, 2,3열\n",
        "print('array2d[:2, 0 ]\\n', array2d[:2, 0]) #한쪽은 적용하고 다른 쪽 축에는 단일값 인덱스를 적용해도 됨\n",
        "\n",
        "print(array2d[0])\n",
        "print(array2d[1])\n",
        "print('array2d[0] shape:', array2d[0].shape, 'array2d[1] shape:', array2d[1].shape)"
      ],
      "metadata": {
        "id": "1Ijh_47aKe0n",
        "colab": {
          "base_uri": "https://localhost:8080/"
        },
        "outputId": "ed9c82a3-ba4a-413a-a89a-9872741e24b5"
      },
      "execution_count": null,
      "outputs": [
        {
          "output_type": "stream",
          "name": "stdout",
          "text": [
            "array2d:\n",
            " [[1 2 3]\n",
            " [4 5 6]\n",
            " [7 8 9]]\n",
            "array2d[0:2, 0:2] \n",
            " [[1 2]\n",
            " [4 5]]\n",
            "array2d[1:3, 0:3] \n",
            " [[4 5 6]\n",
            " [7 8 9]]\n",
            "array2d[1:3, :] \n",
            " [[4 5 6]\n",
            " [7 8 9]]\n",
            "array2d[:, :] \n",
            " [[1 2 3]\n",
            " [4 5 6]\n",
            " [7 8 9]]\n",
            "array2d[:2, 1:] \n",
            " [[2 3]\n",
            " [5 6]]\n",
            "array2d[:2, 0 ]\n",
            " [1 4]\n"
          ]
        }
      ]
    },
    {
      "cell_type": "markdown",
      "source": [
        "##2 )팬시 인덱싱\n",
        "\n",
        ":인덱스 집합을 지정하면 해당 위치 인덱스에 해당하는 ndarray를 반환"
      ],
      "metadata": {
        "id": "y4wVKdgBpaZc"
      }
    },
    {
      "cell_type": "code",
      "source": [
        "array1d=np.arange(start=1,stop=10)\n",
        "array2d=array1d.reshape(3,3)\n",
        "\n",
        "array3=array2d[[0,1],2]\n",
        "print('array2d[[0,1],2]=>', array3.tolist()) #1-2행 3열\n",
        "\n",
        "array4=array2d[[0,1],0:2]\n",
        "print('array2d[[0,1],0:2]=>', array4.tolist()) #혼용 가능\n",
        "\n",
        "array5=array2d[[0,1]]\n",
        "print('array2d[[0,1]]=>', array5.tolist()) #뒤에 없으면 자동으로 (0:1),(1:)으로 적용\n"
      ],
      "metadata": {
        "id": "oYR17r-pLdGs",
        "colab": {
          "base_uri": "https://localhost:8080/"
        },
        "outputId": "dedf8b94-38c3-4fce-e63a-f38d016d47fd"
      },
      "execution_count": 10,
      "outputs": [
        {
          "output_type": "stream",
          "name": "stdout",
          "text": [
            "array2d[[0,1],2]=> [3, 6]\n",
            "array2d[[0,1],0:2]=> [[1, 2], [4, 5]]\n",
            "array2d[[0,1]]=> [[1, 2, 3], [4, 5, 6]]\n"
          ]
        }
      ]
    },
    {
      "cell_type": "markdown",
      "source": [
        "## 3) 불린 인덱싱\n",
        "\n",
        ": 조건 필터링과 검색을 동시에 수행 가능\n"
      ],
      "metadata": {
        "id": "iy-pWDQbpfwA"
      }
    },
    {
      "cell_type": "markdown",
      "source": [],
      "metadata": {
        "id": "gDRUkCmfqT7S"
      }
    },
    {
      "cell_type": "code",
      "source": [
        "array1d=np.arange(start=1, stop=10)\n",
        "#[]안에 array1d > 5 Boolean indexing 을 적용\n",
        "array3=array1d[array1d>5]\n",
        "print('array1d>5 불린 인덱싱 결과 값:', array3)\n",
        "\n",
        "array1d>5 #단순 조건식 할당만으로 f/t의 ndarray 객체 반환\n",
        "\n",
        "boolean_indexes=np.array([False, False,False,False,False,True,True,True,True])\n",
        "array3=array1d[boolean_indexes]\n",
        "print('불린 인덱스로 필터링 결과:', array3) # true가 있는 곳의 데이터만 반환\n",
        "\n",
        "indexes=np.array([5,6,7,8])\n",
        "array4=array1d[indexes]\n",
        "print('일반 인덱스로 필터링 결과 :', array4) #위의 불린 인덱싱과 동일한 결과"
      ],
      "metadata": {
        "id": "cdTAW2aeMj8-",
        "colab": {
          "base_uri": "https://localhost:8080/"
        },
        "outputId": "a3c5cec0-1cb8-4bbe-a611-aa6f94a00e34"
      },
      "execution_count": 14,
      "outputs": [
        {
          "output_type": "stream",
          "name": "stdout",
          "text": [
            "array1d>5 불린 인덱싱 결과 값: [6 7 8 9]\n",
            "불린 인덱스로 필터링 결과: [6 7 8 9]\n",
            "일반 인덱스로 필터링 결과 : [6 7 8 9]\n"
          ]
        }
      ]
    },
    {
      "cell_type": "markdown",
      "source": [
        "step1) array1d>5와 같은 ndarray의 필터링 조건을 []안에 게재\n",
        "step2) False 값을 무시하고 True에 해당하는 인덱스 값만 저장(true값을 가진 인덱스를 저장, true값 자체 저장이 아님)\n",
        "step3) 저장된 인덱스 데이터 세트로 ndarray 조회"
      ],
      "metadata": {
        "id": "Qd4qg-ZHru6Y"
      }
    },
    {
      "cell_type": "markdown",
      "source": [
        "## **행렬의 정렬-sort()와 argsort()**\n",
        "**행렬 정렬**\n",
        "\n",
        "1) np.sort()\n",
        "\n",
        ":\n",
        "원 행렬 유지상태에서 정렬된 행렬 반환\n",
        "\n",
        "2) ndarray.sort()\n",
        "\n",
        ":원행렬 자체를 정렬한 형태로 변환하며 반환값이 none"
      ],
      "metadata": {
        "id": "TWi9hXbFNnyA"
      }
    },
    {
      "cell_type": "code",
      "source": [
        "#행렬 정렬\n",
        "org_array=np.array([ 3,1,9,5])\n",
        "print('원본 행렬:', org_array)\n",
        "#np.sort()로 정렬\n",
        "sort_array1 =np.sort(org_array)\n",
        "print('np.sort()호출 후 반환된 행렬:', sort_array1)\n",
        "print('np.sort()호출 후 원본 행렬:', org_array) #원본은 그대로\n",
        "#ndarray.sort로 정렬\n",
        "sort_array2=org_array.sort()\n",
        "print('org_array.sort()호출 후 반환된 행렬:', sort_array2) #반환 행렬 none\n",
        "print('org_array.sort()호출 후 원본 행렬:', org_array) #원본도 정렬\n",
        "\n",
        "sort_array1_desc=np.sort(org_array)[::-1]\n",
        "print('내림차순으로 정렬:', sort_array1_desc)"
      ],
      "metadata": {
        "id": "vGHi_1qgNx3C",
        "colab": {
          "base_uri": "https://localhost:8080/"
        },
        "outputId": "1507c4c4-d18e-4ff8-b9b8-ac7df76b4dc5"
      },
      "execution_count": 15,
      "outputs": [
        {
          "output_type": "stream",
          "name": "stdout",
          "text": [
            "원본 행렬: [3 1 9 5]\n",
            "np.sort()호출 후 반환된 행렬: [1 3 5 9]\n",
            "np.sort()호출 후 원본 행렬: [3 1 9 5]\n",
            "org_array.sort()호출 후 반환된 행렬: None\n",
            "org_array.sort()호출 후 원본 행렬: [1 3 5 9]\n",
            "내림차순으로 정렬: [9 5 3 1]\n"
          ]
        }
      ]
    },
    {
      "cell_type": "code",
      "source": [
        "#2차원 이상의 행렬에서 axis 축값 설정을 통해 로우 또는 칼럼방향으로 정렬 수행\n",
        "array2d=np.array([[8,12],\n",
        "                  [7,1]])\n",
        "sort_array2d_axis0=np.sort(array2d, axis=0)\n",
        "print('로우방향으로 정렬:\\n', sort_array2d_axis0) #로우가 axis=0\n",
        "\n",
        "sort_array2d_axis1=np.sort(array2d, axis=1) #axis=1: 열\n",
        "print('칼럼방향으로 정렬:\\n', sort_array2d_axis1)"
      ],
      "metadata": {
        "id": "jg5mEPt8PV8v",
        "colab": {
          "base_uri": "https://localhost:8080/"
        },
        "outputId": "50d6bf2c-9e4f-46fd-fd4c-fac1bbe9d367"
      },
      "execution_count": 17,
      "outputs": [
        {
          "output_type": "stream",
          "name": "stdout",
          "text": [
            "로우방향으로 정렬:\n",
            " [[ 7  1]\n",
            " [ 8 12]]\n",
            "칼럼방향으로 정렬:\n",
            " [[ 8 12]\n",
            " [ 1  7]]\n"
          ]
        }
      ]
    },
    {
      "cell_type": "markdown",
      "source": [
        "**정렬된 행렬의 인덱스를 반환하기**"
      ],
      "metadata": {
        "id": "4EPyZ7vLtCGz"
      }
    },
    {
      "cell_type": "code",
      "source": [
        "org_array=np.array([3,1,5,9])\n",
        "sort_indices=np.argsort(org_array) #argsort():정렬행렬의 원본행렬 인덱스 반환\n",
        "print(type(sort_indices))\n",
        "print('행렬 정렬 시 원본 행렬의 인덱스:', sort_indices)\n",
        "\n",
        "org_array=np.array([3,1,5,9])\n",
        "sort_indicies_desc=np.argsort(org_array)[::-1]\n",
        "print('행렬 내림차순 정렬 시 원본 행렬의 인덱스:', sort_indicies_desc)\n"
      ],
      "metadata": {
        "id": "g8mw3cL0P0Cg",
        "colab": {
          "base_uri": "https://localhost:8080/"
        },
        "outputId": "df214767-c9ec-4f71-ce02-6e81ebde7560"
      },
      "execution_count": 16,
      "outputs": [
        {
          "output_type": "stream",
          "name": "stdout",
          "text": [
            "<class 'numpy.ndarray'>\n",
            "행렬 정렬 시 원본 행렬의 인덱스: [1 0 2 3]\n",
            "행렬 내림차순 정렬 시 원본 행렬의 인덱스: [3 2 0 1]\n"
          ]
        }
      ]
    },
    {
      "cell_type": "code",
      "source": [
        "import numpy as np\n",
        "\n",
        "name_array=np.array(['John', 'Mike', 'Sarah', 'Kate', 'Samuel'])\n",
        "score_array=np.array([78,95,84,98,88])\n",
        "\n",
        "sort_indices_asc=np.argsort(score_array)\n",
        "print('성적 오름차순 정렬시 score_array의 인덱스:', sort_indices_asc)\n",
        "print('성적 오름차순으로 name_array의 이름 출력:', name_array[sort_indices_asc])\n"
      ],
      "metadata": {
        "id": "xDUTYUyKQXXi",
        "colab": {
          "base_uri": "https://localhost:8080/"
        },
        "outputId": "50ca6561-0c5f-4934-c6ec-e8550e42a116"
      },
      "execution_count": 18,
      "outputs": [
        {
          "output_type": "stream",
          "name": "stdout",
          "text": [
            "성적 오름차순 정렬시 score_array의 인덱스: [0 2 4 1 3]\n",
            "성적 오름차순으로 name_array의 이름 출력: ['John' 'Sarah' 'Samuel' 'Mike' 'Kate']\n"
          ]
        }
      ]
    },
    {
      "cell_type": "markdown",
      "source": [
        "# **선형대수 연산- 행렬 내적과 전치행렬 구하기**\n",
        "\n",
        "**행렬 내적(행렬곱)**"
      ],
      "metadata": {
        "id": "kn6EBBWNuMcT"
      }
    },
    {
      "cell_type": "code",
      "source": [
        "A=np.array([[1,2,3],[4,5,6]])\n",
        "B=np.array([[7,8],[9,10],[11,12]])\n",
        "dot_product=np.dot(A,B)\n",
        "print('행렬 내적 결과: \\n', dot_product)"
      ],
      "metadata": {
        "id": "84ek8M39NnOG",
        "colab": {
          "base_uri": "https://localhost:8080/"
        },
        "outputId": "7e05027e-97e5-4bc4-a0ea-ef18e8c5adad"
      },
      "execution_count": 19,
      "outputs": [
        {
          "output_type": "stream",
          "name": "stdout",
          "text": [
            "행렬 내적 결과: \n",
            " [[ 58  64]\n",
            " [139 154]]\n"
          ]
        }
      ]
    },
    {
      "cell_type": "markdown",
      "source": [
        "**전치 행렬**\n",
        "\n",
        ": 원 행렬에서 행과 열의 위치를 교환한 원소로 구성한 행렬"
      ],
      "metadata": {
        "id": "7UuPcSvlvAPs"
      }
    },
    {
      "cell_type": "code",
      "source": [
        "A=np.array([[1,2],[3,4]])\n",
        "transpose_mat=np.transpose(A)\n",
        "print('A의 전치행렬: \\n', transpose_mat)"
      ],
      "metadata": {
        "id": "RZ3qt-R5N9kz"
      },
      "execution_count": null,
      "outputs": []
    }
  ]
}