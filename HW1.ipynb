{
  "nbformat": 4,
  "nbformat_minor": 0,
  "metadata": {
    "colab": {
      "provenance": [],
      "collapsed_sections": [],
      "include_colab_link": true
    },
    "kernelspec": {
      "name": "python3",
      "display_name": "Python 3"
    },
    "language_info": {
      "name": "python"
    }
  },
  "cells": [
    {
      "cell_type": "markdown",
      "metadata": {
        "id": "view-in-github",
        "colab_type": "text"
      },
      "source": [
        "<a href=\"https://colab.research.google.com/github/tamburins/ESAA-2022-/blob/main/HW1.ipynb\" target=\"_parent\"><img src=\"https://colab.research.google.com/assets/colab-badge.svg\" alt=\"Open In Colab\"/></a>"
      ]
    },
    {
      "cell_type": "markdown",
      "metadata": {
        "id": "L9-urfdwk85N"
      },
      "source": [
        "# HW I\n",
        "\n",
        "###### Problem 1> Write a Python program to replace the last element in a list with another list."
      ]
    },
    {
      "cell_type": "code",
      "metadata": {
        "id": "rM0xYUWZkYdG",
        "colab": {
          "base_uri": "https://localhost:8080/"
        },
        "outputId": "8f614af1-6e7f-40ff-b2c3-2543ff248825"
      },
      "source": [
        "a=[1, 3, 5, 7, 9, 10]\n",
        "b=[2, 4, 6, 8]\n",
        "\n"
      ],
      "execution_count": null,
      "outputs": [
        {
          "output_type": "stream",
          "name": "stdout",
          "text": [
            "[1, 3, 5, 7, 9, 10, 2, 4, 6, 8]\n"
          ]
        }
      ]
    },
    {
      "cell_type": "code",
      "source": [],
      "metadata": {
        "id": "GzTRj5nDMukZ"
      },
      "execution_count": null,
      "outputs": []
    },
    {
      "cell_type": "markdown",
      "metadata": {
        "id": "rb-BCmJrlFBt"
      },
      "source": [
        "[Video Solution](https://youtu.be/gqOUYiGm_EM)\n",
        "\n",
        "[How to upload video to YouTube](https://youtu.be/af8zHxPvQBU)\n",
        "\n",
        "** Please provide one video to each problem. **\n",
        "\n",
        "<font color='green'> Explanation starts here!!!!</font>\n",
        "\n",
        "Our goal is to obtain\n",
        "\n",
        "```\n",
        "c=[1, 3, 5, 7, 9, 2, 4, 6, 8]\n",
        "```\n",
        "from ```a``` and ```b```."
      ]
    },
    {
      "cell_type": "markdown",
      "metadata": {
        "id": "vPXIBtGYlQK8"
      },
      "source": [
        "First trial:\n",
        "```\n",
        "> a[5]=b\n",
        "> a\n",
        "[1, 3, 5, 7, 9, [2, 4, 6, 8]]\n",
        "```\n",
        "which is not the answer that we have expected."
      ]
    },
    {
      "cell_type": "markdown",
      "metadata": {
        "id": "O-Z_Xug2lpXk"
      },
      "source": [
        "Idea is that we want to replce the list with list. Then how do we obtain list?\n",
        "\n",
        "-> From slicing!!!\n",
        "\n",
        "B속의 원소를 추가해야 하는데 extend 또한 리스트 전체 원소를 원 리스트에 연장해주는, c를 얻을 수 있는 역할을 하나 slicing이 아니다.\n",
        "[리스트의 마지막 원소의 인덱스 번호: 마지막 인덱스번호 +1 ], 혹은 [리스트의 마지막 원소의 인덱스 번호: ]로 인덱싱하여 리스트b를 대입할 경우, 리스트 b의 원소를 기존 리스트에 연달아서 이어준다.\n",
        "\n",
        "<font color='green'> Explanation ends here!!!!</font>\n",
        "\n",
        "# <font color='red'><<<**Finally Answer**>>></font>"
      ]
    },
    {
      "cell_type": "code",
      "metadata": {
        "colab": {
          "base_uri": "https://localhost:8080/"
        },
        "id": "GopWDT5Xkat_",
        "outputId": "36095eb1-9548-4680-96af-feb0381ffc7a"
      },
      "source": [
        "a=[1, 3, 5, 7, 9, 10]\n",
        "b=[2, 4, 6, 8]\n",
        "\n",
        "a[5:6]=b\n",
        "a"
      ],
      "execution_count": null,
      "outputs": [
        {
          "output_type": "execute_result",
          "data": {
            "text/plain": [
              "[1, 3, 5, 7, 9, 2, 4, 6, 8]"
            ]
          },
          "metadata": {},
          "execution_count": 6
        }
      ]
    },
    {
      "cell_type": "markdown",
      "metadata": {
        "id": "4N7jVuZflZaD"
      },
      "source": []
    },
    {
      "cell_type": "markdown",
      "metadata": {
        "id": "3qSAjMvxJtNm"
      },
      "source": [
        "## PRoblem 2\n",
        "\n"
      ]
    },
    {
      "cell_type": "markdown",
      "metadata": {
        "id": "32QzStWNJxQf"
      },
      "source": [
        "[Video Solution to Second probem](https://youtu.be/gqOUYiGmcdfgblkdfjb;oifgjb;)"
      ]
    },
    {
      "cell_type": "markdown",
      "metadata": {
        "id": "BLyZAvyaLzsD"
      },
      "source": [
        "2> (Dictionary and loop) Write a Python script to generate and print a dictionary\n",
        "that contains a number (between 1 and n) in the form (x, x*x).\n",
        "Sample Dictionary ( n = 5) :\n",
        "Expected Output : {1: 1, 2: 4, 3: 9, 4: 16, 5: 25}"
      ]
    },
    {
      "cell_type": "code",
      "metadata": {
        "id": "EnhSsUprLyw1",
        "colab": {
          "base_uri": "https://localhost:8080/"
        },
        "outputId": "ca4c7566-ba4f-45c2-feb0-06a0ea6feeb2"
      },
      "source": [
        "n = 5\n",
        "a = {}\n",
        "for i in range(n):\n",
        "  a[i+1]=(i+1)**2\n",
        "\n",
        "a"
      ],
      "execution_count": null,
      "outputs": [
        {
          "output_type": "execute_result",
          "data": {
            "text/plain": [
              "{1: 1, 2: 4, 3: 9, 4: 16, 5: 25}"
            ]
          },
          "metadata": {},
          "execution_count": 11
        }
      ]
    },
    {
      "cell_type": "code",
      "metadata": {
        "id": "NahwxT61kdOC",
        "colab": {
          "base_uri": "https://localhost:8080/"
        },
        "outputId": "ce6c04f5-9bb3-4d20-bb72-ca731f4afcda"
      },
      "source": [
        "a"
      ],
      "execution_count": null,
      "outputs": [
        {
          "output_type": "execute_result",
          "data": {
            "text/plain": [
              "{1: 1, 2: 4, 3: 9, 4: 16, 5: 25}"
            ]
          },
          "metadata": {},
          "execution_count": 3
        }
      ]
    },
    {
      "cell_type": "markdown",
      "source": [
        "<font color='green'> Explanation starts here!!!!</font>\n",
        "\n",
        "n을 받은 후 1부터 n까지의 숫자에 대해 key를 n으로, value를 n제곱으로 받아 pair를 이뤄 dictionary에 저장한다.\n",
        "pair를 받아 넣어줄 빈 dictionary를 작성한다. (a)\n",
        "1부터 n까지의 계속 같은 방식으로 이루어지기 때문에 반복문 for를 사용하여 빈 dictionary a에 pair를 넣는다.\n",
        "\n",
        "for문 range는 0부터 n까지의 숫자가 될 때까지 내부의 명령문을 실행하고, 문제는 1부터 n까지의 숫자를 대상으로 dictionary를 만들기 때문에 i+1과 (i+1)의 제곱을 각각 key와 value로 하여 dictionary에 할당한다.\n",
        "\n",
        "<font color='green'> Explanation ends here!!!!</font>"
      ],
      "metadata": {
        "id": "imuGoheGNPbD"
      }
    },
    {
      "cell_type": "markdown",
      "source": [
        "## PRoblem 3\n",
        "\n",
        "3> (List and loop) Write a Python program to print the even numbers from a given list."
      ],
      "metadata": {
        "id": "XvPpKUlUNI3X"
      }
    },
    {
      "cell_type": "code",
      "source": [
        "Sample=[1, 2, 3, 4, 5, 6, 7, 8, 9]\n",
        "Expected=[2, 4, 6, 8]\n"
      ],
      "metadata": {
        "id": "O58C3mEfOAAN"
      },
      "execution_count": null,
      "outputs": []
    },
    {
      "cell_type": "markdown",
      "source": [
        "<font color='green'> Explanation starts here!!!!</font>\n",
        "\n",
        "리스트의 모든 원소에 대해 홀수인지 짝수인지 파악을 한 후 짝수인 원소에 대해서만 리스트로 받아 출력하는 프로그램이다. \n",
        "\n",
        "짝수인 원소를 받을 리스트를 생성한다.(리스트 Expected)\n",
        "\n",
        "Sample 리스트에서 원소를 받아 각각의 원소가 짝수인지 아닌지를 판단한 후, 짝수인 원소에 대해서만 Expected 리스트에 원소로 할당한다.\n",
        "\n",
        "리스트의 모든 원소에 대해 판단하는 작업을 반복하므로 for문을 이용하고, for문의 범위를 Sample 리스트로 한다.\n",
        "\n",
        "짝수인 수는 2로 나누었을 때 나머지가 0이기 때문에, \n",
        "(for문의 원소)%2==0(2로 나눈 값의 나머지가 0과 일치하는지)의 여부에 따라 원소를 리스트 Expected에 넣는다. list에 원소를 넣을 때에는 리스트명.append(원소명)이라는 함수를 활용하여 한다.\n",
        "\n",
        "마지막으로 Expected를 출력한다.\n",
        "\n",
        "\n",
        "<font color='green'> Explanation ends here!!!!</font>\n",
        "\n",
        "# <font color='red'><<<**Finally Answer**>>></font>"
      ],
      "metadata": {
        "id": "cqTwqzMOOGsT"
      }
    },
    {
      "cell_type": "code",
      "source": [
        "Sample=[1, 2, 3, 4, 5, 6, 7, 8, 9]\n",
        "Expected=[]\n",
        "\n",
        "for i in Sample:\n",
        "  if i%2==0:\n",
        "    Expected.append(i)\n",
        "\n",
        "print(Expected)"
      ],
      "metadata": {
        "colab": {
          "base_uri": "https://localhost:8080/"
        },
        "id": "294aI4a-Oml9",
        "outputId": "b1ff5e0e-e995-4472-b0fc-00879cd29e76"
      },
      "execution_count": null,
      "outputs": [
        {
          "output_type": "stream",
          "name": "stdout",
          "text": [
            "[2, 4, 6, 8]\n"
          ]
        }
      ]
    },
    {
      "cell_type": "markdown",
      "metadata": {
        "id": "_39Awg8IMmt9"
      },
      "source": [
        "\n",
        "\n",
        "```\n",
        "# 코드로 형식 지정됨\n",
        "```\n",
        "\n",
        "4. Write a Python code that prints out the first n rows of Pascal's triangle.\n",
        "For example, for n=3, your output should be\n",
        "```\n",
        "[1]\n",
        "[1, 1]\n",
        "[1, 2, 1]\n",
        "```"
      ]
    },
    {
      "cell_type": "markdown",
      "source": [
        "**video explanation**\n",
        "\n",
        "https://youtu.be/V5oHUKs3kZU\n",
        "\n",
        "https://www.youtube.com/watch?v=V5oHUKs3kZU"
      ],
      "metadata": {
        "id": "7cRHnxNpQ58_"
      }
    },
    {
      "cell_type": "markdown",
      "source": [
        "파스칼의 삼각형은 숫자가 n일 경우 n줄(리스트 n개)을 출력하고 각각의 리스트는 본인이 몇번째 줄인지에 따라 원소의 개수를 결정한다. k번째 줄은 k개의 원소를 갖는다.\n",
        "\n",
        "맨 꼭대기와 양 옆 가장 자리는 1로 채우고 나머지의 숫자는 위의 인접한 두 숫자의 합으로 나타난다. 고로 리스트의 첫번째와 마지막, 인덱스로 [0]과 [-1]은 1을 갖는다.\n",
        "\n",
        "먼저 n개만큼의 리스트를 생성하고 최대 원소값은 n-1이다.\n",
        "맨 처음에는 무조건 1만 출력되기 때문에 먼저 원소가 한개인 1을 출력한다.\n",
        "그 후 for문을 활용하여 n-1개만큼의 리스트를 생성하는데,(맨 처음1을 출력하여 1줄이 빠짐)\n",
        "각 리스트의 맨 왼쪽에는 1과 그 리스트가 위치한 줄의 위치(몇번째 줄인지)가 적혀있고, 맨 오른쪽에는 마찬가지로 [-1]에서 1, [-2]에서 그 리스트가 위치한 줄의 위치(몇번째 줄인지)가 적혀있다. 즉 특정 원소나 가운데를 중심으로 양쪽이 대칭인 리스트를 생성하기 때문에 각 리스트의 왼쪽과 오른쪽을 나누어 원소를 생성한 뒤 합친 것을 출력하기로 한다.\n",
        "range()는 괄호 안에 n을 넣으면 0부터 n-1까지의 숫자를 출력해주기 때문에 리스트 N-1를 생성하기 위해 맨 처음의 for문에 n을 넣어 리스트를 n-1개 생성한다.\n",
        "\n",
        "n=3일 경우 첫번째 실행에서 Left와 Right는 각각 초기에 L=[1]을 할당한 것에 의해 [0,1], [1,0]이 된다. L은 빈 리트로 초기화되고 Left의 길이만큼 내부 for문이 실행되기 때문에 j를 변수로 갖는 작은 for문은 총 2번 반복된다.작은 for문은 Left의 길이만큼 append함수를 이용하여 L에 원소를 넣는다.\n",
        " 작은 for문의 첫번째 실행에서는 Left[0]+ Right[0]이므로 0+1이 리스트에 할당되고, 두번째 실행에서는 Left[1]+ Right[1]=0+1=1이 할당되고 L이 출력된다. 현재 L은 [1,1]이다.([1,1]출력)\n",
        "큰 for문의 두번째 실행에서는 [1,1]인 L을 Left와 Right에 추가하여 left와 right이 각각 [0,1,1], [1,1,0]이 된다. L이 초기화되고 작은 for문이 실행된다. 작은 for문은 left길이인 3번동안 실행되는데(range(3)은 0,1,2를 할당)각각 j가 0일때  Left[0]+ Right[0]=0+1=1,  Left[1]+ Right[1]=1+1=2, Left[2]+ Right[2]=1+0=1이라 L은 [1,2,1]이 되고 이에 대해 L을 출력한다.([1,2,1]출력)\n",
        "\n",
        "# **FINAL ANSWER**"
      ],
      "metadata": {
        "id": "NpSG7DdGSqOC"
      }
    },
    {
      "cell_type": "code",
      "metadata": {
        "colab": {
          "base_uri": "https://localhost:8080/"
        },
        "id": "PFg5dvE4Rrgv",
        "outputId": "a53385df-7abf-4ba4-e402-6637b2cb48e7"
      },
      "source": [
        "list(range(3))"
      ],
      "execution_count": 3,
      "outputs": [
        {
          "output_type": "execute_result",
          "data": {
            "text/plain": [
              "[0, 1, 2]"
            ]
          },
          "metadata": {},
          "execution_count": 3
        }
      ]
    },
    {
      "cell_type": "code",
      "metadata": {
        "id": "TFyKQXWpkk8Y",
        "colab": {
          "base_uri": "https://localhost:8080/"
        },
        "outputId": "0fda1bf3-4117-4759-fe64-4ea9004ef03a"
      },
      "source": [
        "n=3\n",
        "L=[1]\n",
        "print(L)\n",
        "\n",
        "for i in range(n-1): #큰 for문이라 편의상 칭함\n",
        "  Left = [0]+L #left=[0,1]\n",
        "  Right = L+[0] #right=[1,0]\n",
        "  # L = Left + Right\n",
        "  L=[]\n",
        "  for j in range(len(Left)): #작은 for문이라 편의상 칭함\n",
        "    L.append(Left[j]+Right[j])\n",
        "  print(L)\n",
        " \n"
      ],
      "execution_count": null,
      "outputs": [
        {
          "output_type": "stream",
          "name": "stdout",
          "text": [
            "[1]\n",
            "[1, 1]\n",
            "[1, 2, 1]\n"
          ]
        }
      ]
    },
    {
      "cell_type": "markdown",
      "source": [
        "# problem 5\n",
        "(Loop) Write a Python program to find a pair with highest product from a given array of integers.\n",
        "Original array: [1, 2, 3, 4, 7, 0, 8, 4]\n",
        " \n",
        "Maximum product pair is: (7, 8) Original array: [0, -1, -2, -4, 5, 0, -6] Maximum product pair is: (-4, -6)\n",
        "\n",
        "# **FINAL ANSWER**\n"
      ],
      "metadata": {
        "id": "nRGfxnzA1YPs"
      }
    },
    {
      "cell_type": "code",
      "metadata": {
        "id": "9sovX81LTBB4",
        "colab": {
          "base_uri": "https://localhost:8080/"
        },
        "outputId": "b017ea12-2831-4727-eb23-c75f9a6c4d1f"
      },
      "source": [
        "# Problem 5\n",
        "k = [0, -1, -2, -4, 5, 0, -6]\n",
        "current_max = 0 * -1\n",
        "\n",
        "for i in range(len(k)):\n",
        "  x1 = k.pop() # x1 =0,  k = []\n",
        "  for x2 in k: \n",
        "    temp = x1*x2\n",
        "    if temp > current_max:\n",
        "      current_max = temp\n",
        "      maxp1=x1\n",
        "      maxp2=x2\n",
        "print(\"(\",maxp1,\",\", maxp2,\")\")\n",
        "current_max\n"
      ],
      "execution_count": 7,
      "outputs": [
        {
          "output_type": "stream",
          "name": "stdout",
          "text": [
            "( -6 , -4 )\n"
          ]
        },
        {
          "output_type": "execute_result",
          "data": {
            "text/plain": [
              "24"
            ]
          },
          "metadata": {},
          "execution_count": 7
        }
      ]
    },
    {
      "cell_type": "code",
      "metadata": {
        "colab": {
          "base_uri": "https://localhost:8080/"
        },
        "id": "mSb2G5HmUTWK",
        "outputId": "b5854fc6-c9f0-4739-b936-0861b1bf35f7"
      },
      "source": [
        "current_max"
      ],
      "execution_count": null,
      "outputs": [
        {
          "output_type": "execute_result",
          "data": {
            "text/plain": [
              "24"
            ]
          },
          "metadata": {},
          "execution_count": 14
        }
      ]
    },
    {
      "cell_type": "markdown",
      "source": [
        "# **explanation starts!!!!**\n",
        "\n",
        "현재 리스트의 원소들 중 두 개의 원소곱이 최대값이 되는 두 원소의 쌍을 찾는 문제이다.\n",
        "기준원소와 곱해지는 원소에 따라 원소곱은 계속해서 변할 예정이라 가장 높은 원소곱을 저장할 임시방편으로current_max라는 변수에 저장하기로 한다.\n",
        "기준 원소를 삼아 기준원소와 나머지원소들을 계속 반복하여 곱한다. 즉 기준원소를 삼는 것을 반복하고, 그 기준원소를 바탕으로 나머지 원소들을 삼아 곱을 만들고 비교하는 과정을 반복하여 For문 두개를 이중으로 생성한다.\n",
        "첫번째 for문에서는 기준원소를 원소개수만큼 삼기 위해 len(k)로 for문을 작성한다. 이어 기준원소는 중복을 허용하지 않으므로 원소를 끄집어내고 그 원소를 리스트내부에서 지우는 pop()을 활용하여 첫번쨰 원소를 뽑아 x1에 저장한다. 두번째 for문에서는 나머지중 하나를 그저 리스트에서 호출하여 기준원소 x1과 곱하고 그 값을 temp에 저장하는 것을 나머지 원소에 대해 반복하므로 방금 막 x1까지 지워진 리스트 k의 원소를 대상으로for문을 작성한다. 방금 막 생성한 원소곱 temp가 최대값 저장변수인 current_max보다 클 경우 current_max에 temp를 대입한다. current_max를 생성할 조건을 만족할 경우 그것을 만든 원소가 무엇인지를 파악해야하므로 maxp1,maxp2에 최대원소값을 조건 만족시에 저장한다. \n",
        "최종적으로 max값을 만드는 원소 pair와 max값을 출력한다."
      ],
      "metadata": {
        "id": "YjFwkSztSPtU"
      }
    },
    {
      "cell_type": "markdown",
      "source": [],
      "metadata": {
        "id": "LaEV52JR1fn1"
      }
    },
    {
      "cell_type": "markdown",
      "source": [
        "# problem6 - 교안 기준 5번\n",
        "(Algorithm) You are given the following list:\n",
        "my_num = [3,5,10,7,2,4]\n",
        "Write Python code to find the maximum value and the index of the maximum value in “my_num“. In this case, the maximum value is ”10“ and the index of the maximum value is ”2”. (Assume that there are no ties.)\n",
        "\n",
        "# **FINAL ANSWER**"
      ],
      "metadata": {
        "id": "1WqGdoHi1f7o"
      }
    },
    {
      "cell_type": "code",
      "metadata": {
        "colab": {
          "base_uri": "https://localhost:8080/"
        },
        "id": "_j9wkpj0WABB",
        "outputId": "8b916a63-7a8e-4214-e36a-ca004807e963"
      },
      "source": [
        "# Problem 6\n",
        "\n",
        "a= [3,2,5,1,4,0]\n",
        "current_min = a[0]\n",
        "for i in range(1, len(a)): # 1,2,3,4,5\n",
        "  if current_min < a[i]:\n",
        "    current_min = a[i]\n",
        "    index_num=i\n",
        "\n",
        "print(current_min, index_num)   "
      ],
      "execution_count": 10,
      "outputs": [
        {
          "output_type": "stream",
          "name": "stdout",
          "text": [
            "5 2\n"
          ]
        }
      ]
    },
    {
      "cell_type": "markdown",
      "source": [
        "# **explanation starts!!!!**\n",
        "리스트의 원소에 대해 가장 큰 원소를 출력하고 그 원소의 인덱스 또한 출력하는 문제이다.\n",
        "가장 큰 원소를 임의로 넣을 변수 current_min을 넣어 그 값을 임의로 a[0]으로 잡는다. 첫번째 원소를 제외하고 나머지 원소에 대해 첫번째 원소와 비교할 것이기 때문에 비교할 나머지 원소의 개수만큼 그 행동을 반복하므로 전체 원소 개수에서 1개를 뺀 만큼인 1부터 a의 길이인 len(a)까지로 반복하도록 for문을 작성한다.\n",
        "i를 통해 a에서 원소를 꺼내오고, 임시방편의 current_min과 비교하여 current_min보다 a[i], 즉 꺼내온 원소가 더 클경우 임시저장소인 current에 그 값을 저장한다. i번째 원소를 꺼내왔기 때문에 꺼내온 원소가 더 크다는 전제조건을 만족할 경우 i를 임시방편의 인덱스숫자 저장변수 index_num에 저장한다.\n",
        "리스트 내에서의 현재 최대값과 그 원소의 인덱스 숫자를 출력한다.\n"
      ],
      "metadata": {
        "id": "04bA2_QZSN3R"
      }
    },
    {
      "cell_type": "markdown",
      "source": [
        "problem 6\n",
        "explain:\n",
        "\n",
        "\n"
      ],
      "metadata": {
        "id": "pTvM8NkGwN7S"
      }
    },
    {
      "cell_type": "markdown",
      "source": [
        "# problem 7\n",
        "\n",
        "[Video] (Algorithm) Given a list of integers with duplicate elements in it, write a Python code to generate another list, which contains only the duplicate elements. In simple words, the new list should contain the elements which appear more than one.\n",
        "Hint: Consider that you are given a list of A=[Tom, Jerry, Mike, Tom, Mike].\n",
        "1. Compare Tom with all other elements in A[1:]. --> add Tom to the list.\n",
        "2. Compare Jerry with all other elements in A[2:]. --> do not add Jerry to the\n",
        "list.\n",
        "3. Compare Mike with all other elements in A[3:]. --> add Mike to the list.\n",
        "4. Do the same thing for Tom.\n"
      ],
      "metadata": {
        "id": "P_h0pmD-2DlM"
      }
    },
    {
      "cell_type": "markdown",
      "source": [
        "video explanation here!!!!\n",
        "https://youtu.be/A6oB0ux3hko\n",
        "\n",
        "https://www.youtube.com/watch?v=A6oB0ux3hko\n",
        "\n",
        "and answer!!!!\n",
        "# **FINAL ANSWER**"
      ],
      "metadata": {
        "id": "MMN_CkCJRUKr"
      }
    },
    {
      "cell_type": "code",
      "metadata": {
        "colab": {
          "base_uri": "https://localhost:8080/"
        },
        "id": "TVW2u1RdX2rZ",
        "outputId": "b23abede-277e-4ad1-8758-ed90001f0c8c"
      },
      "source": [
        "# Problem 7\n",
        "A=[\"Tom\", \"Jerry\", \"Mike\", \"Tom\", \"Mike\", \"Ahn\", \"Mike\"]\n",
        "S=set()\n",
        "for i in range(len(A)-1): #편의상 큰 for문이라 칭함\n",
        "  for j in range(i+1, len(A)): #편의상 작은 for문이라 칭함\n",
        "    if A[i] == A[j]:\n",
        "      S.add(A[i])\n",
        "\n",
        "list(S)"
      ],
      "execution_count": 1,
      "outputs": [
        {
          "output_type": "execute_result",
          "data": {
            "text/plain": [
              "['Mike', 'Tom']"
            ]
          },
          "metadata": {},
          "execution_count": 1
        }
      ]
    },
    {
      "cell_type": "markdown",
      "source": [
        "# **explanation starts!!!!**"
      ],
      "metadata": {
        "id": "5RSZdh3bSHMo"
      }
    },
    {
      "cell_type": "markdown",
      "source": [
        "주어진 리스트 A의 모든 원소에 대해 중복이 있는지 확인하고, 중복된 원소를 따로 리스트 S에 추출하되, 리스트 S에는 중복의 원소가 없도록 하는 문제이다.\n",
        "\n",
        "\n",
        "원소 하나 하나에 대해 나머지 원소와 일치하는지를 대조해야하기 때문에 원소의 개수만큼 대조하는 것을 반복해야 하므로 for문을 이용한다. 중복인 원소를 넣을 리스트 S는 리스트 내에서의 중복을 허용하지 않으므로 중복 원소를 제거하는리스트를 갖도록 하는  set()를 활용하여 설정한다. \n",
        "range(n)은 0부터 n-1까지의 원소를 가져 총 n-1번의 시행을 반복하므로 range안에 원소의 길이 -1을 넣어준다. (맨 마지막 원소는 이미 앞선 원소들에 의해 대조가 이미 완료되었음) 리스트의 길이는 len()함수를 이용하여 len()의 괄호안에 리스트명 A를 넣어 기준원소를 정하는 큰 for문을 작성한다\n",
        "대조 과정은 순서가 상관없는 과정으로 1,2번째 원소를 같이 비교하는 것과 2,1번째 원소를 비교하는 것에 차이가 없다. 따라서 기준으로 삼는 원소와 앞서 대조를 진행한 원소를 제외하고 나머지 원소에 대해 대조를 진행하기 때문에 (전체 원소개수-(기준원소의 인덱스 번호+1))만큼 대조를 진행한다. 예를 들어 Jerry라는 원소는 Mike, Tom, Mike, Ahn, Mike와 비교를 하므로 총 5번을 진행한다. 비교할 원소를 계속하여 바꾸어 대조하므로 \n",
        "비교는 for문을 이용하여 진행한다.\n",
        "기준원소와 비교하는 원소가 일치할 경우 리스트 S에 기준원소를 넣으므로 리스트명.add(원소명)을 활용하는데 기준원소는 for문에서 계속 변화하므로 기존리스트의 인덱싱을 활용하여 작성한다.\n",
        "리스트를 최종적으로 출력한다."
      ],
      "metadata": {
        "id": "8GOAxG5mxA4H"
      }
    }
  ]
}