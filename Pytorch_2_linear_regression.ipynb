{
  "nbformat": 4,
  "nbformat_minor": 5,
  "metadata": {
    "accelerator": "GPU",
    "colab": {
      "provenance": [],
      "machine_shape": "hm",
      "include_colab_link": true
    },
    "kernelspec": {
      "name": "python3",
      "display_name": "Python 3"
    },
    "language_info": {
      "name": "python"
    }
  },
  "cells": [
    {
      "cell_type": "markdown",
      "metadata": {
        "id": "view-in-github",
        "colab_type": "text"
      },
      "source": [
        "<a href=\"https://colab.research.google.com/github/tamburins/ESAA-2022-/blob/main/Pytorch_2_linear_regression.ipynb\" target=\"_parent\"><img src=\"https://colab.research.google.com/assets/colab-badge.svg\" alt=\"Open In Colab\"/></a>"
      ]
    },
    {
      "cell_type": "markdown",
      "metadata": {
        "id": "Adw-5Rx02ohB"
      },
      "source": [
        "# Pytorch Session 2: Linear regression"
      ],
      "id": "Adw-5Rx02ohB"
    },
    {
      "cell_type": "code",
      "metadata": {
        "id": "sZ5KyFvM3bdS"
      },
      "source": [
        "import torch\n",
        "import numpy as np"
      ],
      "id": "sZ5KyFvM3bdS",
      "execution_count": 2,
      "outputs": []
    },
    {
      "cell_type": "markdown",
      "metadata": {
        "id": "wLzJZXMENlxA"
      },
      "source": [
        "# 1. Gradient descent"
      ],
      "id": "wLzJZXMENlxA"
    },
    {
      "cell_type": "markdown",
      "metadata": {
        "id": "UxL367SYPmIy"
      },
      "source": [
        "## 1.1 Gradient descent in 1-dim"
      ],
      "id": "UxL367SYPmIy"
    },
    {
      "cell_type": "markdown",
      "metadata": {
        "id": "mx4GVQkCNuZg"
      },
      "source": [
        "### Example 1: \n",
        "You are given \n",
        "\n",
        "$f(x)=(x-2)^2+3$.\n",
        "\n",
        "You want to minimize ```f``` by finding proper value of ```x=x^*```.\n",
        "\n",
        "You know \n",
        "\n",
        "$\\frac{d f}{d x}=2(x-2)$."
      ],
      "id": "mx4GVQkCNuZg"
    },
    {
      "cell_type": "markdown",
      "metadata": {
        "id": "s95B1bFNOLgJ"
      },
      "source": [
        "You want to start $x_0 = 6$ with learning rate ```lr=0.1```."
      ],
      "id": "s95B1bFNOLgJ"
    },
    {
      "cell_type": "code",
      "source": [
        "def f(x):\n",
        "  return (x-2.0)**2 + 3\n",
        "def df(x):\n",
        "  return 2*(x-2.0)\n",
        "\n",
        "lr=0.01"
      ],
      "metadata": {
        "id": "fWDV9Q8jH5ec"
      },
      "id": "fWDV9Q8jH5ec",
      "execution_count": 3,
      "outputs": []
    },
    {
      "cell_type": "code",
      "source": [
        "x=6.0\n",
        "x0=2.0\n",
        "x1 = x0-lr*df(x0)\n",
        "x2=x1-lr*df(x1)\n",
        "#이짓반복\n",
        "\n",
        "for i in range(1000):\n",
        "  x-=lr*df(x)\n",
        "print(x)\n",
        "\n",
        "#f(x)없이도 최소를내는 x값을 구할 수 있다"
      ],
      "metadata": {
        "colab": {
          "base_uri": "https://localhost:8080/"
        },
        "id": "Se1dTH_JIIL8",
        "outputId": "e46464c3-031d-414f-9978-326bc0b0ec33"
      },
      "id": "Se1dTH_JIIL8",
      "execution_count": 4,
      "outputs": [
        {
          "output_type": "stream",
          "name": "stdout",
          "text": [
            "2.0000000067318697\n"
          ]
        }
      ]
    },
    {
      "cell_type": "code",
      "metadata": {
        "id": "aoVOpcAYOK-v",
        "colab": {
          "base_uri": "https://localhost:8080/"
        },
        "outputId": "b5324768-2e45-4797-b139-786360b6be08"
      },
      "source": [
        "def df(x):\n",
        "  return 2*(x-2)\n",
        "\n",
        "lr=0.1\n",
        "x0 = 6.0 \n",
        "\n",
        "df0 = df(x0)\n",
        "x1 = x0 - lr*df0\n",
        "\n",
        "df1 = df(x1)\n",
        "x2 = x1 - lr*df1\n",
        "\n",
        "\n",
        "for i in range(500):\n",
        "  x0-=lr*df(x0)\n",
        "print(x0)"
      ],
      "id": "aoVOpcAYOK-v",
      "execution_count": 5,
      "outputs": [
        {
          "output_type": "stream",
          "name": "stdout",
          "text": [
            "2.000000000000001\n"
          ]
        }
      ]
    },
    {
      "cell_type": "code",
      "metadata": {
        "colab": {
          "base_uri": "https://localhost:8080/"
        },
        "id": "z1VuNRJdNt_X",
        "outputId": "a1190216-972d-4201-ea3e-75919441bddc"
      },
      "source": [
        "print(df0, x0)\n",
        "print(df1, x1)\n",
        "print(x2)"
      ],
      "id": "z1VuNRJdNt_X",
      "execution_count": 6,
      "outputs": [
        {
          "output_type": "stream",
          "name": "stdout",
          "text": [
            "8.0 2.000000000000001\n",
            "6.4 5.2\n",
            "4.5600000000000005\n"
          ]
        }
      ]
    },
    {
      "cell_type": "code",
      "metadata": {
        "colab": {
          "base_uri": "https://localhost:8080/"
        },
        "id": "eZni96_BNqU9",
        "outputId": "6d0d12fb-52ff-41c2-c720-6440648c4683"
      },
      "source": [
        "x=6\n",
        "lr=0.1\n",
        "print(x, df(x))\n",
        "for i in range(10):\n",
        "  x=x-lr*df(x)\n",
        "  print(x, df(x))"
      ],
      "id": "eZni96_BNqU9",
      "execution_count": 7,
      "outputs": [
        {
          "output_type": "stream",
          "name": "stdout",
          "text": [
            "6 8\n",
            "5.2 6.4\n",
            "4.5600000000000005 5.120000000000001\n",
            "4.048 4.096\n",
            "3.6384 3.2767999999999997\n",
            "3.31072 2.6214399999999998\n",
            "3.0485759999999997 2.0971519999999995\n",
            "2.8388608 1.6777216\n",
            "2.67108864 1.3421772799999996\n",
            "2.536870912 1.0737418239999998\n",
            "2.4294967296 0.8589934591999997\n"
          ]
        }
      ]
    },
    {
      "cell_type": "code",
      "metadata": {
        "colab": {
          "base_uri": "https://localhost:8080/"
        },
        "id": "P1wCnFrp-Sg-",
        "outputId": "4e64e8a1-e137-45ec-a93c-cceeb3968d08"
      },
      "source": [
        "df(1.34)"
      ],
      "id": "P1wCnFrp-Sg-",
      "execution_count": 8,
      "outputs": [
        {
          "output_type": "execute_result",
          "data": {
            "text/plain": [
              "-1.3199999999999998"
            ]
          },
          "metadata": {},
          "execution_count": 8
        }
      ]
    },
    {
      "cell_type": "markdown",
      "metadata": {
        "id": "W-hWzyvrPpnS"
      },
      "source": [
        "## 1.2 Gradient descent in 2 dim"
      ],
      "id": "W-hWzyvrPpnS"
    },
    {
      "cell_type": "markdown",
      "metadata": {
        "id": "_kFYXkDlPxIP"
      },
      "source": [
        "### Example 2: \n",
        "You are given \n",
        "\n",
        "$f(\\boldsymbol{\\beta})=(\\beta_1-2)^2+3(\\beta_2-3)^2+3$.\n",
        "\n",
        "You want to minimize ```f``` by finding proper value of ```\\boldsymbol{\\beta}```.\n",
        "\n",
        "You know \n",
        "\n",
        "$\\triangledown f=(2(\\beta_1-2), 3(\\beta_2-3))$."
      ],
      "id": "_kFYXkDlPxIP"
    },
    {
      "cell_type": "code",
      "source": [
        "import numpy as np\n",
        "beta=np.array([10.0,20.0])\n",
        "\n",
        "lr = 0.01\n",
        "history = []\n",
        "\n",
        "def df(beta):\n",
        "  return np.array([2*(beta[0]-2), 6*(beta[1]-3)])\n",
        "for i in range(100):\n",
        "  beta=beta-lr*df(beta)\n",
        "  history.append(beta)"
      ],
      "metadata": {
        "id": "v2gM3eiPKdI0"
      },
      "id": "v2gM3eiPKdI0",
      "execution_count": 9,
      "outputs": []
    },
    {
      "cell_type": "code",
      "source": [
        "print(beta)\n",
        "print(history)"
      ],
      "metadata": {
        "colab": {
          "base_uri": "https://localhost:8080/"
        },
        "id": "PR74_Zo9KzKW",
        "outputId": "670e9c3b-bf0b-4207-f570-fe75e78ee0d6"
      },
      "id": "PR74_Zo9KzKW",
      "execution_count": 10,
      "outputs": [
        {
          "output_type": "stream",
          "name": "stdout",
          "text": [
            "[3.06095645 3.03493287]\n",
            "[array([ 9.84, 18.98]), array([ 9.6832, 18.0212]), array([ 9.529536, 17.119928]), array([ 9.37894528, 16.27273232]), array([ 9.23136637, 15.47636838]), array([ 9.08673905, 14.72778628]), array([ 8.94500427, 14.0241191 ]), array([ 8.80610418, 13.36267196]), array([ 8.6699821 , 12.74091164]), array([ 8.53658246, 12.15645694]), array([ 8.40585081, 11.60706952]), array([ 8.27773379, 11.09064535]), array([ 8.15217911, 10.60520663]), array([ 8.02913553, 10.14889423]), array([7.90855282, 9.71996058]), array([7.79038176, 9.31676294]), array([7.67457413, 8.93775717]), array([7.56108265, 8.58149174]), array([7.44986099, 8.24660223]), array([7.34086377, 7.9318061 ]), array([7.2340465 , 7.63589773]), array([7.12936557, 7.35774387]), array([7.02677826, 7.09627924]), array([6.92624269, 6.85050248]), array([6.82771784, 6.61947233]), array([6.73116348, 6.40230399]), array([6.63654021, 6.19816575]), array([6.54380941, 6.00627581]), array([6.45293322, 5.82589926]), array([6.36387456, 5.6563453 ]), array([6.27659706, 5.49696459]), array([6.19106512, 5.34714671]), array([6.10724382, 5.20631791]), array([6.02509894, 5.07393883]), array([5.94459696, 4.9495025 ]), array([5.86570503, 4.83253235]), array([5.78839093, 4.72258041]), array([5.71262311, 4.61922559]), array([5.63837064, 4.52207205]), array([5.56560323, 4.43074773]), array([5.49429117, 4.34490287]), array([5.42440534, 4.26420869]), array([5.35591724, 4.18835617]), array([5.28879889, 4.1170548 ]), array([5.22302291, 4.05003151]), array([5.15856246, 3.98702962]), array([5.09539121, 3.92780785]), array([5.03348338, 3.87213937]), array([4.97281371, 3.81981101]), array([4.91335744, 3.77062235]), array([4.85509029, 3.72438501]), array([4.79798849, 3.68092191]), array([4.74202872, 3.6400666 ]), array([4.68718814, 3.6016626 ]), array([4.63344438, 3.56556284]), array([4.58077549, 3.53162907]), array([4.52915998, 3.49973133]), array([4.47857678, 3.46974745]), array([4.42900525, 3.4415626 ]), array([4.38042514, 3.41506885]), array([4.33281664, 3.39016472]), array([4.28616031, 3.36675483]), array([4.2404371 , 3.34474954]), array([4.19562836, 3.32406457]), array([4.15171579, 3.3046207 ]), array([4.10868147, 3.28634345]), array([4.06650785, 3.26916285]), array([4.02517769, 3.25301308]), array([3.98467413, 3.23783229]), array([3.94498065, 3.22356235]), array([3.90608104, 3.21014861]), array([3.86795942, 3.1975397 ]), array([3.83060023, 3.18568731]), array([3.79398823, 3.17454608]), array([3.75810846, 3.16407331]), array([3.72294629, 3.15422891]), array([3.68848737, 3.14497518]), array([3.65471762, 3.13627667]), array([3.62162327, 3.12810007]), array([3.5891908 , 3.12041406]), array([3.55740698, 3.11318922]), array([3.52625884, 3.10639787]), array([3.49573367, 3.10001399]), array([3.46581899, 3.09401315]), array([3.43650261, 3.08837236]), array([3.40777256, 3.08307002]), array([3.37961711, 3.07808582]), array([3.35202477, 3.07340067]), array([3.32498427, 3.06899663]), array([3.29848459, 3.06485683]), array([3.2725149 , 3.06096542]), array([3.2470646, 3.0573075]), array([3.22212331, 3.05386905]), array([3.19768084, 3.05063691]), array([3.17372722, 3.04759869]), array([3.15025268, 3.04474277]), array([3.12724763, 3.0420582 ]), array([3.10470267, 3.03953471]), array([3.08260862, 3.03716263]), array([3.06095645, 3.03493287])]\n"
          ]
        }
      ]
    },
    {
      "cell_type": "code",
      "source": [
        "#history(list)>history(array)\n",
        "history_array =np.array(history)\n",
        "beta_x=history_array[:,0]\n",
        "beta_y=history_array[:,1]\n"
      ],
      "metadata": {
        "id": "phtd9KsrMDkq"
      },
      "id": "phtd9KsrMDkq",
      "execution_count": 11,
      "outputs": []
    },
    {
      "cell_type": "code",
      "source": [
        "history_array.shape"
      ],
      "metadata": {
        "colab": {
          "base_uri": "https://localhost:8080/"
        },
        "id": "fCTBGDaUNSyv",
        "outputId": "31cf009d-14cb-4f8d-966e-566874f2a688"
      },
      "id": "fCTBGDaUNSyv",
      "execution_count": 12,
      "outputs": [
        {
          "output_type": "execute_result",
          "data": {
            "text/plain": [
              "(100, 2)"
            ]
          },
          "metadata": {},
          "execution_count": 12
        }
      ]
    },
    {
      "cell_type": "code",
      "source": [
        "import matplotlib.pyplot as plt\n",
        "plt.scatter(beta_x, beta_y)"
      ],
      "metadata": {
        "colab": {
          "base_uri": "https://localhost:8080/",
          "height": 282
        },
        "id": "eT-hn1wAL8pY",
        "outputId": "581a7f25-8a2a-4c03-80f1-7d0abfd7a759"
      },
      "id": "eT-hn1wAL8pY",
      "execution_count": 13,
      "outputs": [
        {
          "output_type": "execute_result",
          "data": {
            "text/plain": [
              "<matplotlib.collections.PathCollection at 0x7ff8ef0c3e50>"
            ]
          },
          "metadata": {},
          "execution_count": 13
        },
        {
          "output_type": "display_data",
          "data": {
            "text/plain": [
              "<Figure size 432x288 with 1 Axes>"
            ],
            "image/png": "[encoded data removed]"
          },
          "metadata": {
            "needs_background": "light"
          }
        }
      ]
    },
    {
      "cell_type": "code",
      "metadata": {
        "colab": {
          "base_uri": "https://localhost:8080/"
        },
        "id": "yaUX-IEwPu-v",
        "outputId": "0df55e05-debe-4706-e81c-47ab70a98bd3"
      },
      "source": [
        "import numpy as np\n",
        "beta=np.array([10.0,20.0])\n",
        "lr=0.1\n",
        "print(beta, df(beta))\n",
        "def df(beta):\n",
        "  return np.array([2*(beta[0]-2), 6*(beta[1]-3)])\n",
        "for i in range(20):\n",
        "  beta = beta - lr*df(beta)\n",
        "  print(beta, df(beta))"
      ],
      "id": "yaUX-IEwPu-v",
      "execution_count": 14,
      "outputs": [
        {
          "output_type": "stream",
          "name": "stdout",
          "text": [
            "[10. 20.] [ 16. 102.]\n",
            "[8.4 9.8] [12.8 40.8]\n",
            "[7.12 5.72] [10.24 16.32]\n",
            "[6.096 4.088] [8.192 6.528]\n",
            "[5.2768 3.4352] [6.5536 2.6112]\n",
            "[4.62144 3.17408] [5.24288 1.04448]\n",
            "[4.097152 3.069632] [4.194304 0.417792]\n",
            "[3.6777216 3.0278528] [3.3554432 0.1671168]\n",
            "[3.34217728 3.01114112] [2.68435456 0.06684672]\n",
            "[3.07374182 3.00445645] [2.14748365 0.02673869]\n",
            "[2.85899346 3.00178258] [1.71798692 0.01069548]\n",
            "[2.68719477 3.00071303] [1.37438953 0.00427819]\n",
            "[2.54975581 3.00028521] [1.09951163 0.00171128]\n",
            "[2.43980465 3.00011409] [8.79609302e-01 6.84510413e-04]\n",
            "[2.35184372 3.00004563] [7.03687442e-01 2.73804165e-04]\n",
            "[2.28147498 3.00001825] [5.62949953e-01 1.09521666e-04]\n",
            "[2.22517998 3.0000073 ] [4.50359963e-01 4.38086664e-05]\n",
            "[2.18014399 3.00000292] [3.60287970e-01 1.75234666e-05]\n",
            "[2.14411519 3.00000117] [2.88230376e-01 7.00938663e-06]\n",
            "[2.11529215 3.00000047] [2.30584301e-01 2.80375465e-06]\n",
            "[2.09223372 3.00000019] [1.84467441e-01 1.12150186e-06]\n"
          ]
        }
      ]
    },
    {
      "cell_type": "markdown",
      "metadata": {
        "id": "aMX8W9oZRUHG"
      },
      "source": [
        "We can solve Example 2 using pytorch and auto differentiation."
      ],
      "id": "aMX8W9oZRUHG"
    },
    {
      "cell_type": "code",
      "source": [
        " # 시작점 지정, requires_grad == 연쇄법칙에 의해.. 베타와 관련된계산은 추적해라! 각 단계에서의 beta값을 기억함\n",
        "def f(beta):\n",
        "  return (beta[0]-2)**2+3*(beta[1]-3)**2+3\n",
        "def loss(beta):\n",
        "  return (beta[0]-2)**2+3*(beta[1]-3)**2+3 \n",
        "\n",
        "beta = torch.tensor([10.0, 20.0], requires_grad=True) #tensor는 알아서 미분값까지 계산해줌\n",
        "lr=0.1\n",
        "history=[]\n",
        "for i in range(20):\n",
        "  myloss=loss(beta)\n",
        "  myloss.backward()\n",
        "  beta.data=beta.data-lr*beta.grad #로스를 베타에 대해 미분해주세요인데 베타가 안들어가고있음\n",
        "  #beta = beta-lr*beta.grad 혹은 beta.data=beta.data-lr*beta.grad\n",
        "  #beta.grad...?!\n",
        "  history.append(beta)"
      ],
      "metadata": {
        "id": "GyvrfLfcP0AJ"
      },
      "id": "GyvrfLfcP0AJ",
      "execution_count": 18,
      "outputs": []
    },
    {
      "cell_type": "code",
      "metadata": {
        "colab": {
          "base_uri": "https://localhost:8080/"
        },
        "id": "NjaJCRHoPu4t",
        "outputId": "1fbbbf9d-551f-4976-f4a8-0df9ac6dd6e8"
      },
      "source": [
        "beta = torch.tensor([10.0, 20.0], requires_grad=True) # 시작점 지정, requires_grad == 연쇄법칙에 의해.. 베타와 관련된계산은 추적해라! 각 단계에서의 beta값을 기억함\n",
        "def f(beta):\n",
        "  return (beta[0]-2)**2+3*(beta[1]-3)**2+3\n",
        "\n",
        "loss = f(beta)\n",
        "#def loss(beta): return (beta[0]-2)**2+3*(beta[1]-3)**2+3 과 동일\n",
        "\n",
        "loss.backward() #미분해라라!\n",
        "beta.grad\n",
        "\n",
        "beta.data = beta.data - lr*beta.grad\n",
        "print(beta)\n",
        "beta.grad.data.zero_() # this is important!!!"
      ],
      "id": "NjaJCRHoPu4t",
      "execution_count": 19,
      "outputs": [
        {
          "output_type": "stream",
          "name": "stdout",
          "text": [
            "tensor([8.4000, 9.8000], requires_grad=True)\n"
          ]
        },
        {
          "output_type": "execute_result",
          "data": {
            "text/plain": [
              "tensor([0., 0.])"
            ]
          },
          "metadata": {},
          "execution_count": 19
        }
      ]
    },
    {
      "cell_type": "code",
      "metadata": {
        "colab": {
          "base_uri": "https://localhost:8080/"
        },
        "id": "UalLNmJ6StEc",
        "outputId": "084f73f8-8b6a-4d3b-a299-80f88128f1a3"
      },
      "source": [
        "loss=f(beta)\n",
        "loss.backward()\n",
        "beta.grad\n",
        "\n",
        "beta.data = beta.data - lr*beta.grad\n",
        "print(beta)\n",
        "beta.grad.data.zero_()"
      ],
      "id": "UalLNmJ6StEc",
      "execution_count": 20,
      "outputs": [
        {
          "output_type": "stream",
          "name": "stdout",
          "text": [
            "tensor([7.1200, 5.7200], requires_grad=True)\n"
          ]
        },
        {
          "output_type": "execute_result",
          "data": {
            "text/plain": [
              "tensor([0., 0.])"
            ]
          },
          "metadata": {},
          "execution_count": 20
        }
      ]
    },
    {
      "cell_type": "code",
      "metadata": {
        "colab": {
          "base_uri": "https://localhost:8080/"
        },
        "id": "N7TQuiKrTsMc",
        "outputId": "ef68f26d-26e5-41f4-d5cb-3e6f290fc406"
      },
      "source": [
        "lr=0.1\n",
        "beta = torch.tensor([10.0, 20.0], requires_grad=True)\n",
        "def f(beta):\n",
        "  return (beta[0]-2)**2+3*(beta[1]-3)**2+3\n",
        "print(beta.data)\n",
        "history = []\n",
        "for i in range(5):\n",
        "  loss = f(beta)\n",
        "  history.append(loss.item()) \n",
        "  #그냥 history로 하면 밑에서 plt를 그릴 수 없음\n",
        "  #myloss.numpy가 오류뜨기 때문에 숫자만빼와서 저장하겠다는 item()으로 저장\n",
        "  loss.backward()\n",
        "  beta.data = beta.data - lr*beta.grad\n",
        "  beta.grad.zero_()# 이거 안하면 그래디언트를 누적(accumulate)하기 때문에 남아있는 그래디언트를 0으로 초기화해줄게\n",
        "  #위치옮기면 gradient가 0될수도 있으니 옮기지말자ㅣ\n",
        "  print(beta.data)"
      ],
      "id": "N7TQuiKrTsMc",
      "execution_count": 21,
      "outputs": [
        {
          "output_type": "stream",
          "name": "stdout",
          "text": [
            "tensor([10., 20.])\n",
            "tensor([8.4000, 9.8000])\n",
            "tensor([7.1200, 5.7200])\n",
            "tensor([6.0960, 4.0880])\n",
            "tensor([5.2768, 3.4352])\n",
            "tensor([4.6214, 3.1741])\n"
          ]
        }
      ]
    },
    {
      "cell_type": "code",
      "metadata": {
        "id": "j56z6gR0e4Lh"
      },
      "source": [
        "import matplotlib.pyplot as plt "
      ],
      "id": "j56z6gR0e4Lh",
      "execution_count": 22,
      "outputs": []
    },
    {
      "cell_type": "code",
      "source": [
        "history"
      ],
      "metadata": {
        "colab": {
          "base_uri": "https://localhost:8080/"
        },
        "id": "DlTunW7q3gxf",
        "outputId": "6f256631-b2b8-466b-f749-cd03898552d4"
      },
      "id": "DlTunW7q3gxf",
      "execution_count": 23,
      "outputs": [
        {
          "output_type": "execute_result",
          "data": {
            "text/plain": [
              "[934.0,\n",
              " 182.67999267578125,\n",
              " 51.40959548950195,\n",
              " 23.328445434570312,\n",
              " 14.30561351776123]"
            ]
          },
          "metadata": {},
          "execution_count": 23
        }
      ]
    },
    {
      "cell_type": "code",
      "metadata": {
        "colab": {
          "base_uri": "https://localhost:8080/",
          "height": 282
        },
        "id": "GhtHVQI7Uwsw",
        "outputId": "527193d4-ecc6-42bd-b999-85972f3974d2"
      },
      "source": [
        "plt.plot(history)"
      ],
      "id": "GhtHVQI7Uwsw",
      "execution_count": 24,
      "outputs": [
        {
          "output_type": "execute_result",
          "data": {
            "text/plain": [
              "[<matplotlib.lines.Line2D at 0x7ff8e83728e0>]"
            ]
          },
          "metadata": {},
          "execution_count": 24
        },
        {
          "output_type": "display_data",
          "data": {
            "text/plain": [
              "<Figure size 432x288 with 1 Axes>"
            ],
            "image/png": "[encoded data removed]"
          },
          "metadata": {
            "needs_background": "light"
          }
        }
      ]
    },
    {
      "cell_type": "markdown",
      "metadata": {
        "id": "lYUwt5RBFUS0"
      },
      "source": [
        "## 2. Linear Regression 1D (using autograd): \n"
      ],
      "id": "lYUwt5RBFUS0"
    },
    {
      "cell_type": "markdown",
      "metadata": {
        "id": "Ne4AmwinFUS8"
      },
      "source": [
        "Let us create the following expressions:\n"
      ],
      "id": "Ne4AmwinFUS8"
    },
    {
      "cell_type": "markdown",
      "metadata": {
        "id": "yVMK11q4FUS8"
      },
      "source": [
        "$b=-1,w=2$\n",
        "\n",
        "$\\hat{y}=wx+b$\n"
      ],
      "id": "yVMK11q4FUS8"
    },
    {
      "cell_type": "markdown",
      "metadata": {
        "id": "Ujs1awtUFUS8"
      },
      "source": [
        "First, define the parameters:\n"
      ],
      "id": "Ujs1awtUFUS8"
    },
    {
      "cell_type": "code",
      "metadata": {
        "id": "1IOBXYrl3SJS"
      },
      "source": [
        "#정답\n",
        "w0 = torch.tensor(2.0)\n",
        "b0 = torch.tensor(-1.0)"
      ],
      "id": "1IOBXYrl3SJS",
      "execution_count": 25,
      "outputs": []
    },
    {
      "cell_type": "code",
      "metadata": {
        "id": "j-H3aSTt3SDA"
      },
      "source": [
        "xs=torch.tensor([1.5, 3.0, 2.7])\n",
        "yhats = w0*xs+b0"
      ],
      "id": "j-H3aSTt3SDA",
      "execution_count": 26,
      "outputs": []
    },
    {
      "cell_type": "markdown",
      "metadata": {
        "id": "YRHdGBP5Gcu0"
      },
      "source": [
        "## 2.1 Make some data"
      ],
      "id": "YRHdGBP5Gcu0"
    },
    {
      "cell_type": "code",
      "metadata": {
        "colab": {
          "base_uri": "https://localhost:8080/"
        },
        "id": "khkshLll5vl8",
        "outputId": "49b89293-292c-4cda-f2fa-84741dd527d7"
      },
      "source": [
        "torch.manual_seed(2021)\n",
        "X = torch.arange(-3,3, 0.1).view(-1, 1)\n",
        "f = w0*X+b0\n",
        "print(X.shape, f.shape)"
      ],
      "id": "khkshLll5vl8",
      "execution_count": 27,
      "outputs": [
        {
          "output_type": "stream",
          "name": "stdout",
          "text": [
            "torch.Size([60, 1]) torch.Size([60, 1])\n"
          ]
        }
      ]
    },
    {
      "cell_type": "code",
      "metadata": {
        "id": "wpvf8US2Gtvp"
      },
      "source": [
        "Y = f + torch.randn(f.shape)"
      ],
      "id": "wpvf8US2Gtvp",
      "execution_count": 28,
      "outputs": []
    },
    {
      "cell_type": "code",
      "metadata": {
        "colab": {
          "base_uri": "https://localhost:8080/"
        },
        "id": "Aoa7lhKGWc9Q",
        "outputId": "69ac30b4-bb36-40f1-cbde-fa46213d710e"
      },
      "source": [
        "X.shape\n",
        "Y.shape"
      ],
      "id": "Aoa7lhKGWc9Q",
      "execution_count": 29,
      "outputs": [
        {
          "output_type": "execute_result",
          "data": {
            "text/plain": [
              "torch.Size([60, 1])"
            ]
          },
          "metadata": {},
          "execution_count": 29
        }
      ]
    },
    {
      "cell_type": "code",
      "metadata": {
        "colab": {
          "base_uri": "https://localhost:8080/",
          "height": 105
        },
        "id": "nrKKtqzWG-vg",
        "outputId": "f1d2f8e9-ded7-4348-bfb5-20ff171d2c68"
      },
      "source": [
        "import matplotlib.pyplot as plt\n",
        "plt.scatter(X.numpy(),Y.numpy())\n",
        "plt.plot(X.numpy(),f.numpy())\n",
        "\n",
        "#파란선이 정답, 오차로 인해 점처럼 잔차 발생"
      ],
      "id": "nrKKtqzWG-vg",
      "execution_count": 30,
      "outputs": [
        {
          "output_type": "execute_result",
          "data": {
            "text/plain": [
              "[<matplotlib.lines.Line2D at 0x7ff8e82e8340>]"
            ]
          },
          "metadata": {},
          "execution_count": 30
        },
        {
          "output_type": "display_data",
          "data": {
            "text/plain": [
              "<Figure size 432x288 with 1 Axes>"
            ],
            "image/png": "[encoded data removed]"
          },
          "metadata": {
            "needs_background": "light"
          }
        }
      ]
    },
    {
      "cell_type": "code",
      "source": [
        "X.shape"
      ],
      "metadata": {
        "colab": {
          "base_uri": "https://localhost:8080/"
        },
        "id": "JSHxcgrbdAoR",
        "outputId": "4508a40c-2d72-4ab8-f331-f6ecf4c845d1"
      },
      "id": "JSHxcgrbdAoR",
      "execution_count": 31,
      "outputs": [
        {
          "output_type": "execute_result",
          "data": {
            "text/plain": [
              "torch.Size([60, 1])"
            ]
          },
          "metadata": {},
          "execution_count": 31
        }
      ]
    },
    {
      "cell_type": "code",
      "source": [
        "Y.shape"
      ],
      "metadata": {
        "colab": {
          "base_uri": "https://localhost:8080/"
        },
        "id": "O8MyNeTZdENz",
        "outputId": "2283d9a2-f848-4bb7-b029-19434735489e"
      },
      "id": "O8MyNeTZdENz",
      "execution_count": 32,
      "outputs": [
        {
          "output_type": "execute_result",
          "data": {
            "text/plain": [
              "torch.Size([60, 1])"
            ]
          },
          "metadata": {},
          "execution_count": 32
        }
      ]
    },
    {
      "cell_type": "markdown",
      "metadata": {
        "id": "9k4yI2P_Htjc"
      },
      "source": [
        "## 2.2 Create the model and cost function"
      ],
      "id": "9k4yI2P_Htjc"
    },
    {
      "cell_type": "markdown",
      "metadata": {
        "id": "3FknTBaFIUQj"
      },
      "source": [
        "You are given X and Y.\n",
        "\n",
        "Your goal is to find the best linear model to explain the relation between X and Y by minimizing the following\n",
        "\n",
        "$Loss(w, b)=\\sum\\limits_{i=1}^{n}(Y_i-Yhat_i)^2$\n",
        "\n",
        "where\n",
        "\n",
        "$Yhat_i:=X_i*w +b$."
      ],
      "id": "3FknTBaFIUQj"
    },
    {
      "cell_type": "code",
      "source": [
        "W=torch.tensor([[10.0]], requires_grad=True) #[1,]차원)\n",
        "b=torch.tensor([20.0], requires_grad=True)\n"
      ],
      "metadata": {
        "id": "dL95uCWAhkXr"
      },
      "id": "dL95uCWAhkXr",
      "execution_count": 33,
      "outputs": []
    },
    {
      "cell_type": "code",
      "source": [
        "w = torch.tensor([[10.0]], requires_grad = True) \n",
        "b=torch.tensor([-5.0],requires_grad=True)\n",
        "\n",
        "Yhat = X @ w + b\n",
        "def myloss(yhat,y):\n",
        "  return torch.mean((yhat-y)**2)\n",
        "lr=0.01\n",
        "history=[]\n",
        "epochs=100\n",
        "for i in range(epochs):\n",
        "  Yhat=X@w+b\n",
        "  current_loss=myloss(Yhat,Y)\n",
        "  history.append(current_loss.item())\n",
        "  #얘의 그래디언트 계산 (미분 requires grad 따라)\n",
        "  current_loss.backward()\n",
        "  w.data=w.data-lr* w.grad.data\n",
        "  b.data=b.data-lr* b.grad.data\n",
        "  #미분 축적 안되게 0\n",
        "  w.grad.zero_()\n",
        "  b.grad.zero_()"
      ],
      "metadata": {
        "id": "FLUxl81oLa7q"
      },
      "id": "FLUxl81oLa7q",
      "execution_count": 38,
      "outputs": []
    },
    {
      "cell_type": "code",
      "source": [
        "lr=0.01\n",
        "for i in range(100):\n",
        "  yhat = X @ w + b\n",
        "  myloss = loss(yhat, Y)\n",
        "  history.append(myloss.item())\n",
        "  myloss.backward()#chain rule 적용 시 바깥에서부터 미분해서(?) backward라 함../##myloss를를 w와 b로 미분\n",
        "  w.data=w.data-lr*w.grad.data\n",
        "  b.data=b.data-lr*b.grad.data\n",
        "  w.grad.zero_()\n",
        "  b.grad.zero_()\n"
      ],
      "metadata": {
        "colab": {
          "base_uri": "https://localhost:8080/",
          "height": 232
        },
        "id": "VLiVEPfNfdx0",
        "outputId": "781afb22-d1d1-4f19-e040-f632cb3c082f"
      },
      "id": "VLiVEPfNfdx0",
      "execution_count": 40,
      "outputs": [
        {
          "output_type": "error",
          "ename": "TypeError",
          "evalue": "ignored",
          "traceback": [
            "\u001b[0;31m---------------------------------------------------------------------------\u001b[0m",
            "\u001b[0;31mTypeError\u001b[0m                                 Traceback (most recent call last)",
            "\u001b[0;32m<ipython-input-40-7e20327e79a0>\u001b[0m in \u001b[0;36m<module>\u001b[0;34m\u001b[0m\n\u001b[1;32m      2\u001b[0m \u001b[0;32mfor\u001b[0m \u001b[0mi\u001b[0m \u001b[0;32min\u001b[0m \u001b[0mrange\u001b[0m\u001b[0;34m(\u001b[0m\u001b[0;36m100\u001b[0m\u001b[0;34m)\u001b[0m\u001b[0;34m:\u001b[0m\u001b[0;34m\u001b[0m\u001b[0;34m\u001b[0m\u001b[0m\n\u001b[1;32m      3\u001b[0m   \u001b[0myhat\u001b[0m \u001b[0;34m=\u001b[0m \u001b[0mX\u001b[0m \u001b[0;34m@\u001b[0m \u001b[0mw\u001b[0m \u001b[0;34m+\u001b[0m \u001b[0mb\u001b[0m\u001b[0;34m\u001b[0m\u001b[0;34m\u001b[0m\u001b[0m\n\u001b[0;32m----> 4\u001b[0;31m   \u001b[0mmyloss\u001b[0m \u001b[0;34m=\u001b[0m \u001b[0mloss\u001b[0m\u001b[0;34m(\u001b[0m\u001b[0myhat\u001b[0m\u001b[0;34m,\u001b[0m \u001b[0mY\u001b[0m\u001b[0;34m)\u001b[0m\u001b[0;34m\u001b[0m\u001b[0;34m\u001b[0m\u001b[0m\n\u001b[0m\u001b[1;32m      5\u001b[0m   \u001b[0mhistory\u001b[0m\u001b[0;34m.\u001b[0m\u001b[0mappend\u001b[0m\u001b[0;34m(\u001b[0m\u001b[0mmyloss\u001b[0m\u001b[0;34m.\u001b[0m\u001b[0mitem\u001b[0m\u001b[0;34m(\u001b[0m\u001b[0;34m)\u001b[0m\u001b[0;34m)\u001b[0m\u001b[0;34m\u001b[0m\u001b[0;34m\u001b[0m\u001b[0m\n\u001b[1;32m      6\u001b[0m   \u001b[0mmyloss\u001b[0m\u001b[0;34m.\u001b[0m\u001b[0mbackward\u001b[0m\u001b[0;34m(\u001b[0m\u001b[0;34m)\u001b[0m\u001b[0;31m#chain rule 적용 시 바깥에서부터 미분해서(?) backward라 함../##myloss를를 w와 b로 미분\u001b[0m\u001b[0;34m\u001b[0m\u001b[0;34m\u001b[0m\u001b[0m\n",
            "\u001b[0;31mTypeError\u001b[0m: 'Tensor' object is not callable"
          ]
        }
      ]
    },
    {
      "cell_type": "code",
      "metadata": {
        "id": "tdM7lZzxHH1I"
      },
      "source": [
        "def forward(x):\n",
        "  return x*w+b\n",
        "\n",
        "def criterion(yhat, y):\n",
        "  return torch.mean((yhat-y)**2)\n",
        "  \n",
        "w = torch.tensor(10.0, requires_grad=True)\n",
        "b = torch.tensor(10.0, requires_grad=True)"
      ],
      "id": "tdM7lZzxHH1I",
      "execution_count": 41,
      "outputs": []
    },
    {
      "cell_type": "code",
      "metadata": {
        "id": "muCeizk7JXK7"
      },
      "source": [
        "history=[]\n",
        "lr=0.1\n",
        "for epoch in range(100):\n",
        "  Yhat = forward(X)\n",
        "  loss = criterion(Yhat,Y)\n",
        "  history.append(loss.item())\n",
        "  loss.backward()\n",
        "  w.data = w.data-lr*w.grad.data\n",
        "  b.data = b.data-lr*b.grad.data\n",
        "  w.grad.data.zero_()\n",
        "  b.grad.data.zero_()\n",
        "\n",
        "\n"
      ],
      "id": "muCeizk7JXK7",
      "execution_count": 42,
      "outputs": []
    },
    {
      "cell_type": "markdown",
      "metadata": {
        "id": "T-8by--iKBc7"
      },
      "source": [
        "Now our goal is to find ```w``` and ```b``` which minimize ```loss``` function."
      ],
      "id": "T-8by--iKBc7"
    },
    {
      "cell_type": "code",
      "metadata": {
        "colab": {
          "base_uri": "https://localhost:8080/"
        },
        "id": "yQp3BeFKKIqs",
        "outputId": "1c592397-89ce-4cd2-bf50-8f2cf2dc7a64"
      },
      "source": [
        "w"
      ],
      "id": "yQp3BeFKKIqs",
      "execution_count": 43,
      "outputs": [
        {
          "output_type": "execute_result",
          "data": {
            "text/plain": [
              "tensor(2.0347, requires_grad=True)"
            ]
          },
          "metadata": {},
          "execution_count": 43
        }
      ]
    },
    {
      "cell_type": "code",
      "metadata": {
        "colab": {
          "base_uri": "https://localhost:8080/"
        },
        "id": "9jMmTs2eWIwP",
        "outputId": "7f405bf3-556f-4e64-93a8-aad548af10f4"
      },
      "source": [
        "b"
      ],
      "id": "9jMmTs2eWIwP",
      "execution_count": 44,
      "outputs": [
        {
          "output_type": "execute_result",
          "data": {
            "text/plain": [
              "tensor(-0.8091, requires_grad=True)"
            ]
          },
          "metadata": {},
          "execution_count": 44
        }
      ]
    },
    {
      "cell_type": "code",
      "metadata": {
        "colab": {
          "base_uri": "https://localhost:8080/",
          "height": 282
        },
        "id": "At1ER7CVWJa7",
        "outputId": "b6f2840d-847a-4f16-fd5d-9a271f89d058"
      },
      "source": [
        "plt.plot(history)"
      ],
      "id": "At1ER7CVWJa7",
      "execution_count": 45,
      "outputs": [
        {
          "output_type": "execute_result",
          "data": {
            "text/plain": [
              "[<matplotlib.lines.Line2D at 0x7ff8e77cb940>]"
            ]
          },
          "metadata": {},
          "execution_count": 45
        },
        {
          "output_type": "display_data",
          "data": {
            "text/plain": [
              "<Figure size 432x288 with 1 Axes>"
            ],
            "image/png": "[encoded data removed]"
          },
          "metadata": {
            "needs_background": "light"
          }
        }
      ]
    },
    {
      "cell_type": "markdown",
      "metadata": {
        "id": "uuKnPCfUKaPY"
      },
      "source": [
        "# 3. Stochastic Gradient Descent (SGD) using Dataset and DataLoader"
      ],
      "id": "uuKnPCfUKaPY"
    },
    {
      "cell_type": "code",
      "metadata": {
        "id": "WmtPmA5eXBH7"
      },
      "source": [
        "# Import libraries\n",
        "import torch\n",
        "from torch.utils.data import Dataset, DataLoader, TensorDataset\n",
        "#tensor는 tensor끼리 계산해야함"
      ],
      "id": "WmtPmA5eXBH7",
      "execution_count": 46,
      "outputs": []
    },
    {
      "cell_type": "code",
      "source": [
        "dataset = TensorDataset(X, Y)\n",
        "#dataset이이 어쩔수 없이 필요함"
      ],
      "metadata": {
        "id": "pBTz_RnbnG6-"
      },
      "id": "pBTz_RnbnG6-",
      "execution_count": 47,
      "outputs": []
    },
    {
      "cell_type": "code",
      "source": [
        "dataset[:3]"
      ],
      "metadata": {
        "colab": {
          "base_uri": "https://localhost:8080/"
        },
        "id": "JK2_pii5nOYO",
        "outputId": "45f2556c-d994-4e3e-b762-6d38bc0fb37d"
      },
      "id": "JK2_pii5nOYO",
      "execution_count": 48,
      "outputs": [
        {
          "output_type": "execute_result",
          "data": {
            "text/plain": [
              "(tensor([[-3.0000],\n",
              "         [-2.9000],\n",
              "         [-2.8000]]), tensor([[-7.1452],\n",
              "         [-5.8253],\n",
              "         [-5.9977]]))"
            ]
          },
          "metadata": {},
          "execution_count": 48
        }
      ]
    },
    {
      "cell_type": "code",
      "metadata": {
        "id": "Fsi5yOnoKgIo"
      },
      "source": [
        "##################\n",
        "### Do not run ###\n",
        "##################\n",
        "\n",
        "class test1():\n",
        "  def __init__(self):\n",
        "    self.x=[102,20,30]\n",
        "  def __getitem__(self, index):\n",
        "    return self.x[index]\n",
        "\n",
        "mydata = test1()\n",
        "mydata[0]\n",
        "\n",
        "# Create class Data\n",
        "\n",
        "class Data(Dataset):\n",
        "    \n",
        "    # Constructor\n",
        "    def __init__(self):\n",
        "        self.x = torch.arange(-3, 3, 0.1).view(-1, 1)\n",
        "        f = w0*self.x+b0\n",
        "        self.y = f+torch.randn(f.shape)\n",
        "        self.len = self.x.shape[0]\n",
        "        \n",
        "    # Getter\n",
        "    def __getitem__(self, index):    \n",
        "        return self.x[index], self.y[index]\n",
        "    \n",
        "    # Get length\n",
        "    def __len__(self):\n",
        "        return self.len\n",
        "\n",
        "\n",
        "dataset = Data()        \n",
        "X,Y=dataset[:]"
      ],
      "id": "Fsi5yOnoKgIo",
      "execution_count": 49,
      "outputs": []
    },
    {
      "cell_type": "code",
      "metadata": {
        "id": "xJQGBA18K6eV"
      },
      "source": [
        "dataset = TensorDataset(X,Y)"
      ],
      "id": "xJQGBA18K6eV",
      "execution_count": 50,
      "outputs": []
    },
    {
      "cell_type": "code",
      "metadata": {
        "id": "13FBz6JrK8e4"
      },
      "source": [
        "trainloader=DataLoader(dataset = dataset, batch_size=1, shuffle=True) #shuffle : 섞자 "
      ],
      "id": "13FBz6JrK8e4",
      "execution_count": 51,
      "outputs": []
    },
    {
      "cell_type": "code",
      "source": [
        "xxx = torch.tensor([10,9,8,7,6,5,4,3,2,1])\n",
        "yyy = torch.tensor([10,9,8,7,6,5,4,3,2,1])*10\n",
        "my_dataset = TensorDataset(xxx,yyy) #[10,2]\n",
        "\n",
        "trainloader=DataLoader(datset=my_dataset, batch_size=5, shuffle=True)"
      ],
      "metadata": {
        "colab": {
          "base_uri": "https://localhost:8080/",
          "height": 198
        },
        "id": "LNX1WJaNn4Gv",
        "outputId": "705a270e-4e56-43d9-bbd2-9704b04edc23"
      },
      "id": "LNX1WJaNn4Gv",
      "execution_count": 52,
      "outputs": [
        {
          "output_type": "error",
          "ename": "TypeError",
          "evalue": "ignored",
          "traceback": [
            "\u001b[0;31m---------------------------------------------------------------------------\u001b[0m",
            "\u001b[0;31mTypeError\u001b[0m                                 Traceback (most recent call last)",
            "\u001b[0;32m<ipython-input-52-6b3db6e5c9a2>\u001b[0m in \u001b[0;36m<module>\u001b[0;34m\u001b[0m\n\u001b[1;32m      3\u001b[0m \u001b[0mmy_dataset\u001b[0m \u001b[0;34m=\u001b[0m \u001b[0mTensorDataset\u001b[0m\u001b[0;34m(\u001b[0m\u001b[0mxxx\u001b[0m\u001b[0;34m,\u001b[0m\u001b[0myyy\u001b[0m\u001b[0;34m)\u001b[0m \u001b[0;31m#[10,2]\u001b[0m\u001b[0;34m\u001b[0m\u001b[0;34m\u001b[0m\u001b[0m\n\u001b[1;32m      4\u001b[0m \u001b[0;34m\u001b[0m\u001b[0m\n\u001b[0;32m----> 5\u001b[0;31m \u001b[0mtrainloader\u001b[0m\u001b[0;34m=\u001b[0m\u001b[0mDataLoader\u001b[0m\u001b[0;34m(\u001b[0m\u001b[0mdatset\u001b[0m\u001b[0;34m=\u001b[0m\u001b[0mmy_dataset\u001b[0m\u001b[0;34m,\u001b[0m \u001b[0mbatch_size\u001b[0m\u001b[0;34m=\u001b[0m\u001b[0;36m5\u001b[0m\u001b[0;34m,\u001b[0m \u001b[0mshuffle\u001b[0m\u001b[0;34m=\u001b[0m\u001b[0;32mTrue\u001b[0m\u001b[0;34m)\u001b[0m\u001b[0;34m\u001b[0m\u001b[0;34m\u001b[0m\u001b[0m\n\u001b[0m",
            "\u001b[0;31mTypeError\u001b[0m: __init__() got an unexpected keyword argument 'datset'"
          ]
        }
      ]
    },
    {
      "cell_type": "code",
      "metadata": {
        "colab": {
          "base_uri": "https://localhost:8080/"
        },
        "id": "lA3v5DZyLJgB",
        "outputId": "13cc5ec6-1fea-4e28-8f41-d993160e91f6"
      },
      "source": [
        "for xxx, yyy in trainloader: # 다 쓸때까지 반복\n",
        "  print(xxx)\n",
        "  print(yyy)\n",
        "  print(\"******************\")"
      ],
      "id": "lA3v5DZyLJgB",
      "execution_count": 53,
      "outputs": [
        {
          "output_type": "stream",
          "name": "stdout",
          "text": [
            "tensor([[1.6000]])\n",
            "tensor([[2.7288]])\n",
            "******************\n",
            "tensor([[0.4000]])\n",
            "tensor([[0.5275]])\n",
            "******************\n",
            "tensor([[1.2000]])\n",
            "tensor([[2.6226]])\n",
            "******************\n",
            "tensor([[-0.2000]])\n",
            "tensor([[-1.6386]])\n",
            "******************\n",
            "tensor([[-1.6000]])\n",
            "tensor([[-4.2456]])\n",
            "******************\n",
            "tensor([[-1.9000]])\n",
            "tensor([[-2.3983]])\n",
            "******************\n",
            "tensor([[1.3000]])\n",
            "tensor([[0.9388]])\n",
            "******************\n",
            "tensor([[-1.5000]])\n",
            "tensor([[-3.7840]])\n",
            "******************\n",
            "tensor([[-2.3000]])\n",
            "tensor([[-6.1604]])\n",
            "******************\n",
            "tensor([[-1.7000]])\n",
            "tensor([[-4.4390]])\n",
            "******************\n",
            "tensor([[-1.2000]])\n",
            "tensor([[-2.1678]])\n",
            "******************\n",
            "tensor([[2.2000]])\n",
            "tensor([[1.8977]])\n",
            "******************\n",
            "tensor([[0.3000]])\n",
            "tensor([[0.5418]])\n",
            "******************\n",
            "tensor([[0.5000]])\n",
            "tensor([[0.9173]])\n",
            "******************\n",
            "tensor([[-0.6000]])\n",
            "tensor([[-2.2793]])\n",
            "******************\n",
            "tensor([[-2.8000]])\n",
            "tensor([[-7.4756]])\n",
            "******************\n",
            "tensor([[-2.]])\n",
            "tensor([[-5.2088]])\n",
            "******************\n",
            "tensor([[-0.7000]])\n",
            "tensor([[-1.8422]])\n",
            "******************\n",
            "tensor([[0.1000]])\n",
            "tensor([[-1.4424]])\n",
            "******************\n",
            "tensor([[1.]])\n",
            "tensor([[-1.0058]])\n",
            "******************\n",
            "tensor([[1.5000]])\n",
            "tensor([[3.3012]])\n",
            "******************\n",
            "tensor([[-2.6000]])\n",
            "tensor([[-6.8841]])\n",
            "******************\n",
            "tensor([[0.9000]])\n",
            "tensor([[0.7759]])\n",
            "******************\n",
            "tensor([[2.3000]])\n",
            "tensor([[2.2774]])\n",
            "******************\n",
            "tensor([[-0.1000]])\n",
            "tensor([[0.1633]])\n",
            "******************\n",
            "tensor([[-3.]])\n",
            "tensor([[-7.1654]])\n",
            "******************\n",
            "tensor([[-0.9000]])\n",
            "tensor([[-2.9092]])\n",
            "******************\n",
            "tensor([[2.5000]])\n",
            "tensor([[4.0875]])\n",
            "******************\n",
            "tensor([[-0.8000]])\n",
            "tensor([[-3.9240]])\n",
            "******************\n",
            "tensor([[0.8000]])\n",
            "tensor([[1.5755]])\n",
            "******************\n",
            "tensor([[2.6000]])\n",
            "tensor([[4.1313]])\n",
            "******************\n",
            "tensor([[2.7000]])\n",
            "tensor([[3.6088]])\n",
            "******************\n",
            "tensor([[-2.5000]])\n",
            "tensor([[-5.1761]])\n",
            "******************\n",
            "tensor([[-2.4000]])\n",
            "tensor([[-6.7060]])\n",
            "******************\n",
            "tensor([[-1.3000]])\n",
            "tensor([[-4.0830]])\n",
            "******************\n",
            "tensor([[-0.4000]])\n",
            "tensor([[-0.6632]])\n",
            "******************\n",
            "tensor([[1.9000]])\n",
            "tensor([[2.7708]])\n",
            "******************\n",
            "tensor([[1.7000]])\n",
            "tensor([[1.9592]])\n",
            "******************\n",
            "tensor([[-2.7000]])\n",
            "tensor([[-5.7139]])\n",
            "******************\n",
            "tensor([[-1.8000]])\n",
            "tensor([[-4.5159]])\n",
            "******************\n",
            "tensor([[-0.3000]])\n",
            "tensor([[-2.4547]])\n",
            "******************\n",
            "tensor([[0.6000]])\n",
            "tensor([[-0.5221]])\n",
            "******************\n",
            "tensor([[-2.1000]])\n",
            "tensor([[-4.4526]])\n",
            "******************\n",
            "tensor([[1.1000]])\n",
            "tensor([[2.5365]])\n",
            "******************\n",
            "tensor([[-0.5000]])\n",
            "tensor([[-2.2417]])\n",
            "******************\n",
            "tensor([[0.2000]])\n",
            "tensor([[-0.0955]])\n",
            "******************\n",
            "tensor([[2.9000]])\n",
            "tensor([[5.1755]])\n",
            "******************\n",
            "tensor([[-1.1000]])\n",
            "tensor([[-1.6244]])\n",
            "******************\n",
            "tensor([[-2.3842e-08]])\n",
            "tensor([[-1.3276]])\n",
            "******************\n",
            "tensor([[2.4000]])\n",
            "tensor([[4.8920]])\n",
            "******************\n",
            "tensor([[-1.4000]])\n",
            "tensor([[-3.7034]])\n",
            "******************\n",
            "tensor([[2.1000]])\n",
            "tensor([[2.8893]])\n",
            "******************\n",
            "tensor([[1.8000]])\n",
            "tensor([[3.1752]])\n",
            "******************\n",
            "tensor([[2.8000]])\n",
            "tensor([[4.9745]])\n",
            "******************\n",
            "tensor([[-1.]])\n",
            "tensor([[-3.0284]])\n",
            "******************\n",
            "tensor([[-2.2000]])\n",
            "tensor([[-2.9459]])\n",
            "******************\n",
            "tensor([[-2.9000]])\n",
            "tensor([[-7.5906]])\n",
            "******************\n",
            "tensor([[0.7000]])\n",
            "tensor([[0.6517]])\n",
            "******************\n",
            "tensor([[2.]])\n",
            "tensor([[2.5024]])\n",
            "******************\n",
            "tensor([[1.4000]])\n",
            "tensor([[3.3728]])\n",
            "******************\n"
          ]
        }
      ]
    },
    {
      "cell_type": "code",
      "source": [
        "###### Starts here #######\n",
        "w = torch.tensor(10.0, requires_grad=True)\n",
        "b = torch.tensor(10.0, requires_grad=True)\n",
        "def forward(x):\n",
        "  return x*w+b\n",
        "\n",
        "def criterion(yhat, y):\n",
        "  return torch.mean((yhat-y)**2)\n",
        "  \n",
        "epochs=100\n",
        "lr=0.01\n",
        "history=[]\n",
        "for epoch in range(epochs):\n",
        "  Yhat = forward(X)\n",
        "  epoch_loss = criterion(Yhat, Y)\n",
        "  history.append(epoch_loss.item())\n",
        "  for xx,yy in trainloader:\n",
        "    yhat = forward(xx)\n",
        "    loss = criterion(yhat, yy)\n",
        "    loss.backward()\n",
        "    w.data = w.data - lr*w.grad.data\n",
        "    b.data = b.data - lr*b.grad.data\n",
        "    w.grad.data.zero_()\n",
        "    b.grad.data.zero_()\n",
        "    epoch_loss += current_loss * len(xx)\n",
        "  \n"
      ],
      "metadata": {
        "id": "xEi-PX2y8uYT"
      },
      "id": "xEi-PX2y8uYT",
      "execution_count": 54,
      "outputs": []
    },
    {
      "cell_type": "code",
      "source": [
        "plt.plot(history)"
      ],
      "metadata": {
        "colab": {
          "base_uri": "https://localhost:8080/",
          "height": 282
        },
        "id": "W-AYSI4xUAwb",
        "outputId": "87b908a6-8854-4d6d-c4a8-d48ef3e0f82b"
      },
      "id": "W-AYSI4xUAwb",
      "execution_count": 55,
      "outputs": [
        {
          "output_type": "execute_result",
          "data": {
            "text/plain": [
              "[<matplotlib.lines.Line2D at 0x7ff8e777e460>]"
            ]
          },
          "metadata": {},
          "execution_count": 55
        },
        {
          "output_type": "display_data",
          "data": {
            "text/plain": [
              "<Figure size 432x288 with 1 Axes>"
            ],
            "image/png": "[encoded data removed]"
          },
          "metadata": {
            "needs_background": "light"
          }
        }
      ]
    },
    {
      "cell_type": "code",
      "source": [
        "W= torch.tensor([[10.0]], requires_grad=True)\n",
        "b= torch.tensor([20.0], requires_grad =True)\n",
        "\n",
        "lr=0.01\n",
        "history=[]\n",
        "def myloss(yhat, y):\n",
        "  return torch.mean((yhat-y)**2)\n",
        "epochs=100\n",
        "for i in range(epochs):\n",
        "  for xx, yy in trainloader:\n",
        "    yhat=xx@W + b\n",
        "    current_loss = myloss(yhat, yy)\n",
        "    current_loss.backward()\n",
        "    W.data = W.data- lr * W.grad.data\n",
        "    b.data = b.data-lr * b.grad.data\n",
        "    W.grad.zero_()\n",
        "    b.grad.zero_()\n"
      ],
      "metadata": {
        "id": "156rXws7QUiE"
      },
      "id": "156rXws7QUiE",
      "execution_count": 56,
      "outputs": []
    },
    {
      "cell_type": "code",
      "metadata": {
        "colab": {
          "base_uri": "https://localhost:8080/"
        },
        "id": "qxOnfbRET6a5",
        "outputId": "ad4c9d9f-1419-4057-da06-e73b61ef3fe7"
      },
      "source": [
        "print(w,b)"
      ],
      "id": "qxOnfbRET6a5",
      "execution_count": 57,
      "outputs": [
        {
          "output_type": "stream",
          "name": "stdout",
          "text": [
            "tensor(1.8876, requires_grad=True) tensor([-0.8746], requires_grad=True)\n"
          ]
        }
      ]
    },
    {
      "cell_type": "code",
      "source": [
        "def forward(X):\n",
        "  return X@W+b"
      ],
      "metadata": {
        "id": "M7EO2CK7VJra"
      },
      "id": "M7EO2CK7VJra",
      "execution_count": 58,
      "outputs": []
    },
    {
      "cell_type": "code",
      "source": [
        "history=[]\n",
        "lr=0.1\n",
        "for epoch in range(100):\n",
        "  Yhat = forward(X)\n",
        "  loss=criterion(Yhat, Y)\n"
      ],
      "metadata": {
        "id": "3vMUTLuLVPSl"
      },
      "id": "3vMUTLuLVPSl",
      "execution_count": 59,
      "outputs": []
    },
    {
      "cell_type": "markdown",
      "metadata": {
        "id": "9oHEoiX-Utai"
      },
      "source": [
        "## Exercise: \n",
        "\n",
        "Repeat the above procedure with \n",
        "\n",
        "   1> batch size equals 5\n",
        "   \n",
        "   2> XX[i, :]=torch.tensor([1.0, X[i]]) without using the intercept."
      ],
      "id": "9oHEoiX-Utai"
    },
    {
      "cell_type": "code",
      "source": [
        "#with concatenate\n",
        "# X:[60,1]\n",
        "# one: [60,1]\n",
        "\n",
        "one = torch.ones([60,1])\n",
        "XX = torch.concat([one, X], axis=1)\n",
        "beta= torch.tensor([[10.0], [5.0]], requires_grad=True)\n",
        "lr=0.01\n",
        "history=[]\n",
        "\n",
        "trainloader=DataLoader(dataset = dataset, batch_size=1, shuffle=True) #shuffle : 섞자 \n",
        "dataset = TensorDataset(XX, Y)"
      ],
      "metadata": {
        "id": "cDJx9G_PYPvw"
      },
      "id": "cDJx9G_PYPvw",
      "execution_count": 61,
      "outputs": []
    },
    {
      "cell_type": "code",
      "source": [
        "def myloss(yhat, y):\n",
        "  return torch.mean((yhat-y)**2)\n",
        "epochs=100\n",
        "for i in range(epochs):\n",
        "  epoch_loss = 0\n",
        "  for xx, yy in trainloader: #xx : [batch, 2], yy:[batch,1]\n",
        "    yhat = XX @ beta\n",
        "    current_loss = myloss(yhat, yy)\n",
        "    current_loss.backward()\n",
        "    beta.data = beta.data- lr * beta.grad.data\n",
        "    beta.grad.zero_()\n",
        "    epoch_loss += current_loss * len(xx)\n",
        "  history.append(epoch_loss.item()/60)\n",
        "\n"
      ],
      "metadata": {
        "id": "JYbhk935_BMd"
      },
      "id": "JYbhk935_BMd",
      "execution_count": 62,
      "outputs": []
    },
    {
      "cell_type": "code",
      "source": [
        "plt.plot(history)"
      ],
      "metadata": {
        "colab": {
          "base_uri": "https://localhost:8080/",
          "height": 282
        },
        "id": "ElHwQ5uiZxyf",
        "outputId": "1e6a0a49-05bf-400d-988f-c444bfe8dfaa"
      },
      "id": "ElHwQ5uiZxyf",
      "execution_count": 63,
      "outputs": [
        {
          "output_type": "execute_result",
          "data": {
            "text/plain": [
              "[<matplotlib.lines.Line2D at 0x7ff8e76d4a90>]"
            ]
          },
          "metadata": {},
          "execution_count": 63
        },
        {
          "output_type": "display_data",
          "data": {
            "text/plain": [
              "<Figure size 432x288 with 1 Axes>"
            ],
            "image/png": "[encoded data removed]"
          },
          "metadata": {
            "needs_background": "light"
          }
        }
      ]
    },
    {
      "cell_type": "markdown",
      "metadata": {
        "id": "4o1LtK_kVy0C"
      },
      "source": [
        "# 4. Stochastic Gradient Descent (SGD) using Pytorch functions\n",
        "\n"
      ],
      "id": "4o1LtK_kVy0C"
    },
    {
      "cell_type": "code",
      "metadata": {
        "id": "U8pFOyiGUIWm"
      },
      "source": [
        "from torch import nn, optim"
      ],
      "id": "U8pFOyiGUIWm",
      "execution_count": 64,
      "outputs": []
    },
    {
      "cell_type": "code",
      "source": [
        "Yhat = XX@beta"
      ],
      "metadata": {
        "id": "erVZ3DB6agcx"
      },
      "id": "erVZ3DB6agcx",
      "execution_count": 65,
      "outputs": []
    },
    {
      "cell_type": "code",
      "source": [
        "def forward(XX):\n",
        "  return XX@beta"
      ],
      "metadata": {
        "id": "3iz70gybakFn"
      },
      "id": "3iz70gybakFn",
      "execution_count": 67,
      "outputs": []
    },
    {
      "cell_type": "code",
      "source": [
        "forward = torch.nn.Linear(3,2) ## X @ W 선언하는 것과 동일 작업\n",
        "## beta=torch tensor ([[10.0], [5.0]], requuires_grad = True)\n"
      ],
      "metadata": {
        "id": "JL4JHf4yauGw"
      },
      "id": "JL4JHf4yauGw",
      "execution_count": 68,
      "outputs": []
    },
    {
      "cell_type": "code",
      "metadata": {
        "id": "9uLhSDj2WZqy"
      },
      "source": [
        "temp = nn.Linear(2,3,bias = True ) #베타는 보여주지 마세요"
      ],
      "id": "9uLhSDj2WZqy",
      "execution_count": 69,
      "outputs": []
    },
    {
      "cell_type": "code",
      "source": [
        "dir(temp)"
      ],
      "metadata": {
        "id": "91SOK-y04Ry6"
      },
      "id": "91SOK-y04Ry6",
      "execution_count": null,
      "outputs": []
    },
    {
      "cell_type": "code",
      "metadata": {
        "id": "D-LRyV1FWdqR"
      },
      "source": [
        "temp?\n"
      ],
      "id": "D-LRyV1FWdqR",
      "execution_count": 71,
      "outputs": []
    },
    {
      "cell_type": "code",
      "source": [
        "myx = torch.tensor([[3.0, 2.0, 1],[4.0, 3.0, 0]])"
      ],
      "metadata": {
        "id": "NfjWth4ijwaN"
      },
      "id": "NfjWth4ijwaN",
      "execution_count": 72,
      "outputs": []
    },
    {
      "cell_type": "code",
      "source": [
        "forward(myx)"
      ],
      "metadata": {
        "id": "adXhkLKN4bs5",
        "colab": {
          "base_uri": "https://localhost:8080/"
        },
        "outputId": "2a678667-c8da-4954-a818-c4289dc1ec49"
      },
      "id": "adXhkLKN4bs5",
      "execution_count": 73,
      "outputs": [
        {
          "output_type": "execute_result",
          "data": {
            "text/plain": [
              "tensor([[ 0.9724, -1.5185],\n",
              "        [ 1.9158, -2.5609]], grad_fn=<AddmmBackward0>)"
            ]
          },
          "metadata": {},
          "execution_count": 73
        }
      ]
    },
    {
      "cell_type": "code",
      "source": [
        "W = list(forward.parameters())[0].T\n",
        "print(W)\n",
        "b = list(forward.parameters())[0].T\n",
        "print(b)"
      ],
      "metadata": {
        "colab": {
          "base_uri": "https://localhost:8080/"
        },
        "id": "6vnf-Thjkg3p",
        "outputId": "168dc724-63c2-41a1-dbc7-9dadaf466fa9"
      },
      "id": "6vnf-Thjkg3p",
      "execution_count": 74,
      "outputs": [
        {
          "output_type": "stream",
          "name": "stdout",
          "text": [
            "tensor([[ 0.1361, -0.5428],\n",
            "        [ 0.5722, -0.2773],\n",
            "        [-0.2350,  0.2223]], grad_fn=<PermuteBackward0>)\n",
            "tensor([[ 0.1361, -0.5428],\n",
            "        [ 0.5722, -0.2773],\n",
            "        [-0.2350,  0.2223]], grad_fn=<PermuteBackward0>)\n"
          ]
        }
      ]
    },
    {
      "cell_type": "code",
      "source": [
        "print(temp.weight, temp.bias)\n",
        "\n"
      ],
      "metadata": {
        "colab": {
          "base_uri": "https://localhost:8080/"
        },
        "id": "VMFPoi9e4AkE",
        "outputId": "7a0c70cb-0e63-4119-d8bd-b1483ecfa4de"
      },
      "id": "VMFPoi9e4AkE",
      "execution_count": 75,
      "outputs": [
        {
          "output_type": "stream",
          "name": "stdout",
          "text": [
            "Parameter containing:\n",
            "tensor([[ 0.2755,  0.3341],\n",
            "        [-0.2572, -0.2988],\n",
            "        [-0.5421,  0.0962]], requires_grad=True) Parameter containing:\n",
            "tensor([0.5413, 0.4829, 0.4152], requires_grad=True)\n"
          ]
        }
      ]
    },
    {
      "cell_type": "markdown",
      "source": [
        "Now, we obtain\n",
        "\n",
        "$Z = \\left(\n",
        "  \\begin{array}{cc}\n",
        "    2.0 & 1.0 \\\\\n",
        "    1.0 & -1.0 \\\\\n",
        "  \\end{array}\n",
        "\\right)$\n",
        "\n",
        "and calculate \n",
        "\n",
        "$\\widehat{Y}=Z\\, W^T +b$"
      ],
      "metadata": {
        "id": "KoaxYNUV5MWS"
      },
      "id": "KoaxYNUV5MWS"
    },
    {
      "cell_type": "code",
      "source": [
        "Z = torch.tensor([[2.0, 1.0], \n",
        "                         [1.0, -1.0]])\n",
        "print(temp(Z))"
      ],
      "metadata": {
        "colab": {
          "base_uri": "https://localhost:8080/"
        },
        "id": "yk8jMa7x43Go",
        "outputId": "182092ff-6f06-42c2-9989-4f5ce49a876d"
      },
      "id": "yk8jMa7x43Go",
      "execution_count": 77,
      "outputs": [
        {
          "output_type": "stream",
          "name": "stdout",
          "text": [
            "tensor([[ 1.4265, -0.3303, -0.5727],\n",
            "        [ 0.4827,  0.5245, -0.2231]], grad_fn=<AddmmBackward0>)\n"
          ]
        }
      ]
    },
    {
      "cell_type": "code",
      "source": [
        "Z @ temp.weight.T +temp.bias"
      ],
      "metadata": {
        "colab": {
          "base_uri": "https://localhost:8080/"
        },
        "id": "2L000w5w471z",
        "outputId": "07e4f4b5-be39-482b-9855-6a8c51d64936"
      },
      "id": "2L000w5w471z",
      "execution_count": 78,
      "outputs": [
        {
          "output_type": "execute_result",
          "data": {
            "text/plain": [
              "tensor([[ 1.4265, -0.3303, -0.5727],\n",
              "        [ 0.4827,  0.5245, -0.2231]], grad_fn=<AddBackward0>)"
            ]
          },
          "metadata": {},
          "execution_count": 78
        }
      ]
    },
    {
      "cell_type": "code",
      "metadata": {
        "colab": {
          "base_uri": "https://localhost:8080/"
        },
        "id": "wvZ3-p49XQql",
        "outputId": "2538b73d-3211-4b1c-dc64-d424e1c0d676"
      },
      "source": [
        "for i in temp.parameters():\n",
        "  print(i)"
      ],
      "id": "wvZ3-p49XQql",
      "execution_count": 79,
      "outputs": [
        {
          "output_type": "stream",
          "name": "stdout",
          "text": [
            "Parameter containing:\n",
            "tensor([[ 0.2755,  0.3341],\n",
            "        [-0.2572, -0.2988],\n",
            "        [-0.5421,  0.0962]], requires_grad=True)\n",
            "Parameter containing:\n",
            "tensor([0.5413, 0.4829, 0.4152], requires_grad=True)\n"
          ]
        }
      ]
    },
    {
      "cell_type": "code",
      "metadata": {
        "id": "hY37nvTvWC6K"
      },
      "source": [],
      "id": "hY37nvTvWC6K",
      "execution_count": null,
      "outputs": []
    },
    {
      "cell_type": "code",
      "metadata": {
        "id": "S7cNpTIvYd4a"
      },
      "source": [
        "###################\n",
        "### Do not run ####\n",
        "###################\n",
        "\n",
        "class linear_regression(nn.Module):\n",
        "  def __init__(self, input_size, output_size):\n",
        "    super(linear_regression, self).__init__()\n",
        "    self.linear = nn.Linear(input_size, output_size)\n",
        "  def forward(self,x):\n",
        "    yhat = self.linear(x)\n",
        "    return yhat\n",
        "\n",
        "class Data(Dataset):\n",
        "    \n",
        "    # Constructor\n",
        "    def __init__(self):\n",
        "        self.x = torch.arange(-3, 3, 0.1).view(-1, 1)\n",
        "        f = w0*self.x+b0\n",
        "        self.y = f+torch.randn(f.shape)\n",
        "        self.len = self.x.shape[0]\n",
        "        \n",
        "    # Getter\n",
        "    def __getitem__(self, index):    \n",
        "        return self.x[index], self.y[index]\n",
        "    \n",
        "    # Get length\n",
        "    def __len__(self):\n",
        "        return self.len\n",
        "\n",
        "model = linear_regression(1,1)\n",
        "optimizer = optim.SGD(model.parameters(), lr=0.01)\n",
        "dataset = Data()"
      ],
      "id": "S7cNpTIvYd4a",
      "execution_count": 81,
      "outputs": []
    },
    {
      "cell_type": "code",
      "source": [
        "dataset = TensorDataset(X,Y)\n",
        "trainloader = DataLoader(dataset=dataset, batch_size=32, shuffle=True)\n",
        "\n",
        "lr=0.01\n",
        "history = []\n",
        "for i in range(100):\n",
        "  "
      ],
      "metadata": {
        "colab": {
          "base_uri": "https://localhost:8080/",
          "height": 130
        },
        "id": "wnZyBiPrlTS-",
        "outputId": "09c741a3-e3c7-41a4-9a48-6bb23bd3d325"
      },
      "id": "wnZyBiPrlTS-",
      "execution_count": 82,
      "outputs": [
        {
          "output_type": "error",
          "ename": "SyntaxError",
          "evalue": "ignored",
          "traceback": [
            "\u001b[0;36m  File \u001b[0;32m\"<ipython-input-82-992b8eebb1d6>\"\u001b[0;36m, line \u001b[0;32m7\u001b[0m\n\u001b[0;31m    \u001b[0m\n\u001b[0m    ^\u001b[0m\n\u001b[0;31mSyntaxError\u001b[0m\u001b[0;31m:\u001b[0m unexpected EOF while parsing\n"
          ]
        }
      ]
    },
    {
      "cell_type": "code",
      "source": [
        "forward = torch.nn.Linear() #이렇게 선언해도 됨"
      ],
      "metadata": {
        "id": "uCO8EE0tl5ZR",
        "colab": {
          "base_uri": "https://localhost:8080/",
          "height": 164
        },
        "outputId": "19b37614-0cf0-495d-c00a-c4b2702f0e09"
      },
      "id": "uCO8EE0tl5ZR",
      "execution_count": 83,
      "outputs": [
        {
          "output_type": "error",
          "ename": "TypeError",
          "evalue": "ignored",
          "traceback": [
            "\u001b[0;31m---------------------------------------------------------------------------\u001b[0m",
            "\u001b[0;31mTypeError\u001b[0m                                 Traceback (most recent call last)",
            "\u001b[0;32m<ipython-input-83-60d615990b7e>\u001b[0m in \u001b[0;36m<module>\u001b[0;34m\u001b[0m\n\u001b[0;32m----> 1\u001b[0;31m \u001b[0mforward\u001b[0m \u001b[0;34m=\u001b[0m \u001b[0mtorch\u001b[0m\u001b[0;34m.\u001b[0m\u001b[0mnn\u001b[0m\u001b[0;34m.\u001b[0m\u001b[0mLinear\u001b[0m\u001b[0;34m(\u001b[0m\u001b[0;34m)\u001b[0m \u001b[0;31m#이렇게 선언해도 됨\u001b[0m\u001b[0;34m\u001b[0m\u001b[0;34m\u001b[0m\u001b[0m\n\u001b[0m",
            "\u001b[0;31mTypeError\u001b[0m: __init__() missing 2 required positional arguments: 'in_features' and 'out_features'"
          ]
        }
      ]
    },
    {
      "cell_type": "code",
      "metadata": {
        "id": "omeaJNoXXC8u"
      },
      "source": [
        "dataset = TensorDataset(X,Y)\n",
        "trainloader = DataLoader(dataset=dataset, batch_size=32, shuffle=True)\n",
        "model = nn.Linear(1,1)\n",
        "def criterion(yhat, y):\n",
        "  return torch.mean((yhat-y)**2)\n",
        "optimizer = torch.optim.SGD(model.parameters(), lr=0.01) #torch"
      ],
      "id": "omeaJNoXXC8u",
      "execution_count": 84,
      "outputs": []
    },
    {
      "cell_type": "code",
      "metadata": {
        "id": "gLGCPHAGYsR4"
      },
      "source": [
        "dataset.tensors[0]"
      ],
      "id": "gLGCPHAGYsR4",
      "execution_count": null,
      "outputs": []
    },
    {
      "cell_type": "code",
      "source": [
        "dir(dataset)"
      ],
      "metadata": {
        "id": "H0T1Zqve-tLF"
      },
      "id": "H0T1Zqve-tLF",
      "execution_count": null,
      "outputs": []
    },
    {
      "cell_type": "code",
      "source": [
        "dataset = TensorDataset(XX,Y)\n",
        "trainloader = DataLoader(dataset=dataset, batch_size=1, shuffle=True)\n",
        "\n",
        "beta=torch.tensor([[10.0],\n",
        "                   [-5.0]],requires_grad=True)\n",
        "\n",
        "lr=0.01\n",
        "history=[]\n",
        "\n",
        "def myloss(yhat,y):\n",
        "  return torch.mean((yhat-y)**2)\n",
        "\n",
        "#return w@beta\n",
        "forward=torch.nn.Linear(2,1,bias=False) #w\n",
        "optimizer=torch.optim.SGD(forward.parameters(),lr=0.01)\n",
        "#optimizer.step()\n",
        "#toward.parameters()=forward.parameters()-lr*gradient\n",
        "\n",
        "epochs=100 #학습 횟수/batch_size랑 조절해서\n",
        "for i in range(epochs):\n",
        "  epoch_loss=0\n",
        "  for xx,yy in trainloader: #xx:[batch,2],yy:[batch,1]\n",
        "      yhat= forward(xx)\n",
        "      current_loss=myloss(yhat,yy)\n",
        "      current_loss.backward()\n",
        "      optimizer.step()#beta.data=beta.data-lr*beta.grad.data\n",
        "      optimizer.zero_grad()\n",
        "      epoch_loss+=current_loss*len(xx)\n",
        "  history.append(epoch_loss.item()/60)"
      ],
      "metadata": {
        "id": "8-dJzEJgpAmH"
      },
      "id": "8-dJzEJgpAmH",
      "execution_count": 87,
      "outputs": []
    },
    {
      "cell_type": "code",
      "metadata": {
        "id": "XdtKgelYYU3T",
        "colab": {
          "base_uri": "https://localhost:8080/",
          "height": 375
        },
        "outputId": "0364be31-992a-40a6-dfd2-06d282c5c2d8"
      },
      "source": [
        "iters = 30\n",
        "history = []\n",
        "for epoch in range(iters):\n",
        "  Yhat = model(dataset.tensors[0])\n",
        "  LOSS = criterion(Yhat, dataset.tensors[1])\n",
        "  history.append(LOSS.item())\n",
        "  for x,y in trainloader:\n",
        "    yhat = model(x)\n",
        "    loss = criterion(yhat, y)\n",
        "    loss.backward()\n",
        "    optimizer.step()\n",
        "    optimizer.zero_grad()\n",
        "    epoch_loss += current_loss * len(xx)\n",
        "  history.append(epoch_loss.item()/60)\n"
      ],
      "id": "XdtKgelYYU3T",
      "execution_count": 88,
      "outputs": [
        {
          "output_type": "error",
          "ename": "RuntimeError",
          "evalue": "ignored",
          "traceback": [
            "\u001b[0;31m---------------------------------------------------------------------------\u001b[0m",
            "\u001b[0;31mRuntimeError\u001b[0m                              Traceback (most recent call last)",
            "\u001b[0;32m<ipython-input-88-3f95cd00382b>\u001b[0m in \u001b[0;36m<module>\u001b[0;34m\u001b[0m\n\u001b[1;32m      2\u001b[0m \u001b[0mhistory\u001b[0m \u001b[0;34m=\u001b[0m \u001b[0;34m[\u001b[0m\u001b[0;34m]\u001b[0m\u001b[0;34m\u001b[0m\u001b[0;34m\u001b[0m\u001b[0m\n\u001b[1;32m      3\u001b[0m \u001b[0;32mfor\u001b[0m \u001b[0mepoch\u001b[0m \u001b[0;32min\u001b[0m \u001b[0mrange\u001b[0m\u001b[0;34m(\u001b[0m\u001b[0miters\u001b[0m\u001b[0;34m)\u001b[0m\u001b[0;34m:\u001b[0m\u001b[0;34m\u001b[0m\u001b[0;34m\u001b[0m\u001b[0m\n\u001b[0;32m----> 4\u001b[0;31m   \u001b[0mYhat\u001b[0m \u001b[0;34m=\u001b[0m \u001b[0mmodel\u001b[0m\u001b[0;34m(\u001b[0m\u001b[0mdataset\u001b[0m\u001b[0;34m.\u001b[0m\u001b[0mtensors\u001b[0m\u001b[0;34m[\u001b[0m\u001b[0;36m0\u001b[0m\u001b[0;34m]\u001b[0m\u001b[0;34m)\u001b[0m\u001b[0;34m\u001b[0m\u001b[0;34m\u001b[0m\u001b[0m\n\u001b[0m\u001b[1;32m      5\u001b[0m   \u001b[0mLOSS\u001b[0m \u001b[0;34m=\u001b[0m \u001b[0mcriterion\u001b[0m\u001b[0;34m(\u001b[0m\u001b[0mYhat\u001b[0m\u001b[0;34m,\u001b[0m \u001b[0mdataset\u001b[0m\u001b[0;34m.\u001b[0m\u001b[0mtensors\u001b[0m\u001b[0;34m[\u001b[0m\u001b[0;36m1\u001b[0m\u001b[0;34m]\u001b[0m\u001b[0;34m)\u001b[0m\u001b[0;34m\u001b[0m\u001b[0;34m\u001b[0m\u001b[0m\n\u001b[1;32m      6\u001b[0m   \u001b[0mhistory\u001b[0m\u001b[0;34m.\u001b[0m\u001b[0mappend\u001b[0m\u001b[0;34m(\u001b[0m\u001b[0mLOSS\u001b[0m\u001b[0;34m.\u001b[0m\u001b[0mitem\u001b[0m\u001b[0;34m(\u001b[0m\u001b[0;34m)\u001b[0m\u001b[0;34m)\u001b[0m\u001b[0;34m\u001b[0m\u001b[0;34m\u001b[0m\u001b[0m\n",
            "\u001b[0;32m/usr/local/lib/python3.8/dist-packages/torch/nn/modules/module.py\u001b[0m in \u001b[0;36m_call_impl\u001b[0;34m(self, *input, **kwargs)\u001b[0m\n\u001b[1;32m   1128\u001b[0m         if not (self._backward_hooks or self._forward_hooks or self._forward_pre_hooks or _global_backward_hooks\n\u001b[1;32m   1129\u001b[0m                 or _global_forward_hooks or _global_forward_pre_hooks):\n\u001b[0;32m-> 1130\u001b[0;31m             \u001b[0;32mreturn\u001b[0m \u001b[0mforward_call\u001b[0m\u001b[0;34m(\u001b[0m\u001b[0;34m*\u001b[0m\u001b[0minput\u001b[0m\u001b[0;34m,\u001b[0m \u001b[0;34m**\u001b[0m\u001b[0mkwargs\u001b[0m\u001b[0;34m)\u001b[0m\u001b[0;34m\u001b[0m\u001b[0;34m\u001b[0m\u001b[0m\n\u001b[0m\u001b[1;32m   1131\u001b[0m         \u001b[0;31m# Do not call functions when jit is used\u001b[0m\u001b[0;34m\u001b[0m\u001b[0;34m\u001b[0m\u001b[0;34m\u001b[0m\u001b[0m\n\u001b[1;32m   1132\u001b[0m         \u001b[0mfull_backward_hooks\u001b[0m\u001b[0;34m,\u001b[0m \u001b[0mnon_full_backward_hooks\u001b[0m \u001b[0;34m=\u001b[0m \u001b[0;34m[\u001b[0m\u001b[0;34m]\u001b[0m\u001b[0;34m,\u001b[0m \u001b[0;34m[\u001b[0m\u001b[0;34m]\u001b[0m\u001b[0;34m\u001b[0m\u001b[0;34m\u001b[0m\u001b[0m\n",
            "\u001b[0;32m/usr/local/lib/python3.8/dist-packages/torch/nn/modules/linear.py\u001b[0m in \u001b[0;36mforward\u001b[0;34m(self, input)\u001b[0m\n\u001b[1;32m    112\u001b[0m \u001b[0;34m\u001b[0m\u001b[0m\n\u001b[1;32m    113\u001b[0m     \u001b[0;32mdef\u001b[0m \u001b[0mforward\u001b[0m\u001b[0;34m(\u001b[0m\u001b[0mself\u001b[0m\u001b[0;34m,\u001b[0m \u001b[0minput\u001b[0m\u001b[0;34m:\u001b[0m \u001b[0mTensor\u001b[0m\u001b[0;34m)\u001b[0m \u001b[0;34m->\u001b[0m \u001b[0mTensor\u001b[0m\u001b[0;34m:\u001b[0m\u001b[0;34m\u001b[0m\u001b[0;34m\u001b[0m\u001b[0m\n\u001b[0;32m--> 114\u001b[0;31m         \u001b[0;32mreturn\u001b[0m \u001b[0mF\u001b[0m\u001b[0;34m.\u001b[0m\u001b[0mlinear\u001b[0m\u001b[0;34m(\u001b[0m\u001b[0minput\u001b[0m\u001b[0;34m,\u001b[0m \u001b[0mself\u001b[0m\u001b[0;34m.\u001b[0m\u001b[0mweight\u001b[0m\u001b[0;34m,\u001b[0m \u001b[0mself\u001b[0m\u001b[0;34m.\u001b[0m\u001b[0mbias\u001b[0m\u001b[0;34m)\u001b[0m\u001b[0;34m\u001b[0m\u001b[0;34m\u001b[0m\u001b[0m\n\u001b[0m\u001b[1;32m    115\u001b[0m \u001b[0;34m\u001b[0m\u001b[0m\n\u001b[1;32m    116\u001b[0m     \u001b[0;32mdef\u001b[0m \u001b[0mextra_repr\u001b[0m\u001b[0;34m(\u001b[0m\u001b[0mself\u001b[0m\u001b[0;34m)\u001b[0m \u001b[0;34m->\u001b[0m \u001b[0mstr\u001b[0m\u001b[0;34m:\u001b[0m\u001b[0;34m\u001b[0m\u001b[0;34m\u001b[0m\u001b[0m\n",
            "\u001b[0;31mRuntimeError\u001b[0m: mat1 and mat2 shapes cannot be multiplied (60x2 and 1x1)"
          ]
        }
      ]
    },
    {
      "cell_type": "code",
      "metadata": {
        "colab": {
          "base_uri": "https://localhost:8080/",
          "height": 282
        },
        "id": "4vZ7gjtTZKq0",
        "outputId": "405a0c83-31eb-4225-aa07-f77b70347974"
      },
      "source": [
        "plt.plot(history)"
      ],
      "id": "4vZ7gjtTZKq0",
      "execution_count": 89,
      "outputs": [
        {
          "output_type": "execute_result",
          "data": {
            "text/plain": [
              "[<matplotlib.lines.Line2D at 0x7ff8e760d550>]"
            ]
          },
          "metadata": {},
          "execution_count": 89
        },
        {
          "output_type": "display_data",
          "data": {
            "text/plain": [
              "<Figure size 432x288 with 1 Axes>"
            ],
            "image/png": "[encoded data removed]"
          },
          "metadata": {
            "needs_background": "light"
          }
        }
      ]
    },
    {
      "cell_type": "code",
      "metadata": {
        "id": "vNMgNPGZZkes"
      },
      "source": [
        "list(model.parameters())"
      ],
      "id": "vNMgNPGZZkes",
      "execution_count": null,
      "outputs": []
    },
    {
      "cell_type": "code",
      "metadata": {
        "id": "NQAAZztyZuTf"
      },
      "source": [
        "model.state_dict()"
      ],
      "id": "NQAAZztyZuTf",
      "execution_count": null,
      "outputs": []
    },
    {
      "cell_type": "code",
      "metadata": {
        "id": "l3XafQT8aIm3"
      },
      "source": [
        "model.weight"
      ],
      "id": "l3XafQT8aIm3",
      "execution_count": null,
      "outputs": []
    },
    {
      "cell_type": "markdown",
      "metadata": {
        "id": "JmHovKlRawP-"
      },
      "source": [
        "#### 여기서부터 시작\n",
        "### Exercise:\n",
        "\n",
        "1.   Calculate MSE (mean squared error).\n",
        "1.   Calculate MAE (mean absolute error).\n",
        "2.   Assume that you are given ```x=1```. What woud be your yhat?\n",
        "\n",
        "\n",
        "\n",
        "\n"
      ],
      "id": "JmHovKlRawP-"
    },
    {
      "cell_type": "markdown",
      "source": [
        "#5. Custom layer\n",
        "\n",
        "Repeat the above procedure with user defined layer."
      ],
      "metadata": {
        "id": "UyVfUifc1Wtw"
      },
      "id": "UyVfUifc1Wtw"
    },
    {
      "cell_type": "code",
      "source": [
        "nn.Linear?"
      ],
      "metadata": {
        "id": "XW0iNks019h5"
      },
      "id": "XW0iNks019h5",
      "execution_count": 90,
      "outputs": []
    },
    {
      "cell_type": "markdown",
      "source": [
        "## 5.1 Using torch.nn module"
      ],
      "metadata": {
        "id": "Bn2vtiMP4SN1"
      },
      "id": "Bn2vtiMP4SN1"
    },
    {
      "cell_type": "code",
      "metadata": {
        "id": "6o0fpT20fh6y"
      },
      "source": [
        "class linear_regression(nn.Module):\n",
        "  def __init__(self, input_size, output_size):\n",
        "    super(linear_regression, self).__init__()\n",
        "    self.linear = nn.Linear(input_size, output_size)\n",
        "  def forward(self,x):\n",
        "    yhat = self.linear(x)\n",
        "    return yhat"
      ],
      "id": "6o0fpT20fh6y",
      "execution_count": 91,
      "outputs": []
    },
    {
      "cell_type": "code",
      "source": [
        "dataset = TensorDataset(X,Y)\n",
        "trainloader = DataLoader(dataset=dataset, batch_size=10, shuffle=True)\n",
        "model = linear_regression(1,1)\n",
        "def criterion(yhat, y):\n",
        "  return torch.mean((yhat-y)**2)\n",
        "optimizer = optim.SGD(model.parameters(), lr=0.01)"
      ],
      "metadata": {
        "id": "GN91t3Z22N-m"
      },
      "id": "GN91t3Z22N-m",
      "execution_count": 92,
      "outputs": []
    },
    {
      "cell_type": "code",
      "source": [
        "iters = 30\n",
        "history = []\n",
        "for epoch in range(iters):\n",
        "  Yhat = model(dataset.tensors[0])\n",
        "  LOSS = criterion(Yhat, dataset.tensors[1])\n",
        "  history.append(LOSS.item())\n",
        "  for x,y in trainloader:\n",
        "    yhat = model(x)\n",
        "    loss = criterion(yhat, y)\n",
        "    loss.backward()\n",
        "    optimizer.step()\n",
        "    optimizer.zero_grad()\n"
      ],
      "metadata": {
        "id": "ByjQ9S4v2UWe"
      },
      "id": "ByjQ9S4v2UWe",
      "execution_count": 93,
      "outputs": []
    },
    {
      "cell_type": "code",
      "source": [
        "plt.plot(history)"
      ],
      "metadata": {
        "colab": {
          "base_uri": "https://localhost:8080/",
          "height": 105
        },
        "id": "w8LrqNlq2VGx",
        "outputId": "566d5d8c-499d-451a-a9ce-f14b7286cf2d"
      },
      "id": "w8LrqNlq2VGx",
      "execution_count": 94,
      "outputs": [
        {
          "output_type": "execute_result",
          "data": {
            "text/plain": [
              "[<matplotlib.lines.Line2D at 0x7ff8e75e8910>]"
            ]
          },
          "metadata": {},
          "execution_count": 94
        },
        {
          "output_type": "display_data",
          "data": {
            "text/plain": [
              "<Figure size 432x288 with 1 Axes>"
            ],
            "image/png": "[encoded data removed]"
          },
          "metadata": {
            "needs_background": "light"
          }
        }
      ]
    },
    {
      "cell_type": "markdown",
      "source": [
        "## 5.2 Defining the parameters and model directly."
      ],
      "metadata": {
        "id": "8AwHLLgt4a6w"
      },
      "id": "8AwHLLgt4a6w"
    },
    {
      "cell_type": "code",
      "source": [
        "class my_linear_regression(nn.Module):\n",
        "  def __init__(self, input_size, output_size):\n",
        "    super(my_linear_regression, self).__init__()\n",
        "    self.w = nn.Parameter(torch.randn(1,1), requires_grad=True)\n",
        "    self.b = nn.Parameter(torch.randn(1), requires_grad=True)\n",
        "  def forward(self,x):\n",
        "    yhat = x @ self.w.T +b\n",
        "    return yhat"
      ],
      "metadata": {
        "id": "M_WjHA_E2lVO"
      },
      "id": "M_WjHA_E2lVO",
      "execution_count": 95,
      "outputs": []
    },
    {
      "cell_type": "code",
      "source": [
        "dataset = TensorDataset(X,Y)\n",
        "trainloader = DataLoader(dataset=dataset, batch_size=10, shuffle=True)\n",
        "model = my_linear_regression(1,1)\n",
        "def criterion(yhat, y):\n",
        "  return torch.mean((yhat-y)**2)\n",
        "optimizer = optim.SGD(model.parameters(), lr=0.01)"
      ],
      "metadata": {
        "id": "BLpf36Wl3Ybq"
      },
      "execution_count": 96,
      "outputs": [],
      "id": "BLpf36Wl3Ybq"
    },
    {
      "cell_type": "code",
      "source": [
        "iters = 30\n",
        "history = []\n",
        "for epoch in range(iters):\n",
        "  Yhat = model(dataset.tensors[0])\n",
        "  LOSS = criterion(Yhat, dataset.tensors[1])\n",
        "  history.append(LOSS.item())\n",
        "  for x,y in trainloader:\n",
        "    yhat = model(x)\n",
        "    loss = criterion(yhat, y)\n",
        "    loss.backward()\n",
        "    optimizer.step()\n",
        "    optimizer.zero_grad()\n"
      ],
      "metadata": {
        "id": "4I8Nt2Gg3Ybq",
        "colab": {
          "base_uri": "https://localhost:8080/",
          "height": 358
        },
        "outputId": "03674dd3-b191-4f51-c6cc-4fc679df0f74"
      },
      "execution_count": 97,
      "outputs": [
        {
          "output_type": "error",
          "ename": "RuntimeError",
          "evalue": "ignored",
          "traceback": [
            "\u001b[0;31m---------------------------------------------------------------------------\u001b[0m",
            "\u001b[0;31mRuntimeError\u001b[0m                              Traceback (most recent call last)",
            "\u001b[0;32m<ipython-input-97-fe7e8eea27bb>\u001b[0m in \u001b[0;36m<module>\u001b[0;34m\u001b[0m\n\u001b[1;32m      2\u001b[0m \u001b[0mhistory\u001b[0m \u001b[0;34m=\u001b[0m \u001b[0;34m[\u001b[0m\u001b[0;34m]\u001b[0m\u001b[0;34m\u001b[0m\u001b[0;34m\u001b[0m\u001b[0m\n\u001b[1;32m      3\u001b[0m \u001b[0;32mfor\u001b[0m \u001b[0mepoch\u001b[0m \u001b[0;32min\u001b[0m \u001b[0mrange\u001b[0m\u001b[0;34m(\u001b[0m\u001b[0miters\u001b[0m\u001b[0;34m)\u001b[0m\u001b[0;34m:\u001b[0m\u001b[0;34m\u001b[0m\u001b[0;34m\u001b[0m\u001b[0m\n\u001b[0;32m----> 4\u001b[0;31m   \u001b[0mYhat\u001b[0m \u001b[0;34m=\u001b[0m \u001b[0mmodel\u001b[0m\u001b[0;34m(\u001b[0m\u001b[0mdataset\u001b[0m\u001b[0;34m.\u001b[0m\u001b[0mtensors\u001b[0m\u001b[0;34m[\u001b[0m\u001b[0;36m0\u001b[0m\u001b[0;34m]\u001b[0m\u001b[0;34m)\u001b[0m\u001b[0;34m\u001b[0m\u001b[0;34m\u001b[0m\u001b[0m\n\u001b[0m\u001b[1;32m      5\u001b[0m   \u001b[0mLOSS\u001b[0m \u001b[0;34m=\u001b[0m \u001b[0mcriterion\u001b[0m\u001b[0;34m(\u001b[0m\u001b[0mYhat\u001b[0m\u001b[0;34m,\u001b[0m \u001b[0mdataset\u001b[0m\u001b[0;34m.\u001b[0m\u001b[0mtensors\u001b[0m\u001b[0;34m[\u001b[0m\u001b[0;36m1\u001b[0m\u001b[0;34m]\u001b[0m\u001b[0;34m)\u001b[0m\u001b[0;34m\u001b[0m\u001b[0;34m\u001b[0m\u001b[0m\n\u001b[1;32m      6\u001b[0m   \u001b[0mhistory\u001b[0m\u001b[0;34m.\u001b[0m\u001b[0mappend\u001b[0m\u001b[0;34m(\u001b[0m\u001b[0mLOSS\u001b[0m\u001b[0;34m.\u001b[0m\u001b[0mitem\u001b[0m\u001b[0;34m(\u001b[0m\u001b[0;34m)\u001b[0m\u001b[0;34m)\u001b[0m\u001b[0;34m\u001b[0m\u001b[0;34m\u001b[0m\u001b[0m\n",
            "\u001b[0;32m/usr/local/lib/python3.8/dist-packages/torch/nn/modules/module.py\u001b[0m in \u001b[0;36m_call_impl\u001b[0;34m(self, *input, **kwargs)\u001b[0m\n\u001b[1;32m   1128\u001b[0m         if not (self._backward_hooks or self._forward_hooks or self._forward_pre_hooks or _global_backward_hooks\n\u001b[1;32m   1129\u001b[0m                 or _global_forward_hooks or _global_forward_pre_hooks):\n\u001b[0;32m-> 1130\u001b[0;31m             \u001b[0;32mreturn\u001b[0m \u001b[0mforward_call\u001b[0m\u001b[0;34m(\u001b[0m\u001b[0;34m*\u001b[0m\u001b[0minput\u001b[0m\u001b[0;34m,\u001b[0m \u001b[0;34m**\u001b[0m\u001b[0mkwargs\u001b[0m\u001b[0;34m)\u001b[0m\u001b[0;34m\u001b[0m\u001b[0;34m\u001b[0m\u001b[0m\n\u001b[0m\u001b[1;32m   1131\u001b[0m         \u001b[0;31m# Do not call functions when jit is used\u001b[0m\u001b[0;34m\u001b[0m\u001b[0;34m\u001b[0m\u001b[0;34m\u001b[0m\u001b[0m\n\u001b[1;32m   1132\u001b[0m         \u001b[0mfull_backward_hooks\u001b[0m\u001b[0;34m,\u001b[0m \u001b[0mnon_full_backward_hooks\u001b[0m \u001b[0;34m=\u001b[0m \u001b[0;34m[\u001b[0m\u001b[0;34m]\u001b[0m\u001b[0;34m,\u001b[0m \u001b[0;34m[\u001b[0m\u001b[0;34m]\u001b[0m\u001b[0;34m\u001b[0m\u001b[0;34m\u001b[0m\u001b[0m\n",
            "\u001b[0;32m<ipython-input-95-0114e59f011d>\u001b[0m in \u001b[0;36mforward\u001b[0;34m(self, x)\u001b[0m\n\u001b[1;32m      5\u001b[0m     \u001b[0mself\u001b[0m\u001b[0;34m.\u001b[0m\u001b[0mb\u001b[0m \u001b[0;34m=\u001b[0m \u001b[0mnn\u001b[0m\u001b[0;34m.\u001b[0m\u001b[0mParameter\u001b[0m\u001b[0;34m(\u001b[0m\u001b[0mtorch\u001b[0m\u001b[0;34m.\u001b[0m\u001b[0mrandn\u001b[0m\u001b[0;34m(\u001b[0m\u001b[0;36m1\u001b[0m\u001b[0;34m)\u001b[0m\u001b[0;34m,\u001b[0m \u001b[0mrequires_grad\u001b[0m\u001b[0;34m=\u001b[0m\u001b[0;32mTrue\u001b[0m\u001b[0;34m)\u001b[0m\u001b[0;34m\u001b[0m\u001b[0;34m\u001b[0m\u001b[0m\n\u001b[1;32m      6\u001b[0m   \u001b[0;32mdef\u001b[0m \u001b[0mforward\u001b[0m\u001b[0;34m(\u001b[0m\u001b[0mself\u001b[0m\u001b[0;34m,\u001b[0m\u001b[0mx\u001b[0m\u001b[0;34m)\u001b[0m\u001b[0;34m:\u001b[0m\u001b[0;34m\u001b[0m\u001b[0;34m\u001b[0m\u001b[0m\n\u001b[0;32m----> 7\u001b[0;31m     \u001b[0myhat\u001b[0m \u001b[0;34m=\u001b[0m \u001b[0mx\u001b[0m \u001b[0;34m@\u001b[0m \u001b[0mself\u001b[0m\u001b[0;34m.\u001b[0m\u001b[0mw\u001b[0m\u001b[0;34m.\u001b[0m\u001b[0mT\u001b[0m \u001b[0;34m+\u001b[0m\u001b[0mb\u001b[0m\u001b[0;34m\u001b[0m\u001b[0;34m\u001b[0m\u001b[0m\n\u001b[0m\u001b[1;32m      8\u001b[0m     \u001b[0;32mreturn\u001b[0m \u001b[0myhat\u001b[0m\u001b[0;34m\u001b[0m\u001b[0;34m\u001b[0m\u001b[0m\n",
            "\u001b[0;31mRuntimeError\u001b[0m: The size of tensor a (60) must match the size of tensor b (3) at non-singleton dimension 0"
          ]
        }
      ],
      "id": "4I8Nt2Gg3Ybq"
    },
    {
      "cell_type": "code",
      "source": [
        "plt.plot(history)"
      ],
      "metadata": {
        "id": "Bl56uMMy3-WM"
      },
      "id": "Bl56uMMy3-WM",
      "execution_count": null,
      "outputs": []
    },
    {
      "cell_type": "code",
      "source": [
        "list(model.parameters())"
      ],
      "metadata": {
        "id": "gVy8-egi3_5y"
      },
      "id": "gVy8-egi3_5y",
      "execution_count": null,
      "outputs": []
    },
    {
      "cell_type": "code",
      "source": [
        "model.state_dict()"
      ],
      "metadata": {
        "id": "kICcoO4s7ZSW"
      },
      "id": "kICcoO4s7ZSW",
      "execution_count": null,
      "outputs": []
    },
    {
      "cell_type": "markdown",
      "source": [
        "## Exercise: \n",
        "\n",
        "By using the following command, \n",
        "\n",
        "```\n",
        "self.linear = nn.Linear(input_size, output_size, bias=False)\n",
        "```\n",
        "\n",
        "you obtain the linear layer without a bias. Then, you want to add a bias `b` manually in your customed layer. Train the model."
      ],
      "metadata": {
        "id": "OcfIjgCf4jyi"
      },
      "id": "OcfIjgCf4jyi"
    },
    {
      "cell_type": "code",
      "source": [],
      "metadata": {
        "id": "CbyVlI5x7MJc"
      },
      "id": "CbyVlI5x7MJc",
      "execution_count": 97,
      "outputs": []
    },
    {
      "cell_type": "code",
      "source": [],
      "metadata": {
        "id": "M4-bqAamI5hm"
      },
      "id": "M4-bqAamI5hm",
      "execution_count": 97,
      "outputs": []
    },
    {
      "cell_type": "markdown",
      "source": [
        "## Exercise: \n",
        "\n",
        "By using the following command, \n",
        "\n",
        "```\n",
        "self.linear = nn.Linear(input_size, output_size, bias=False)\n",
        "```\n",
        "\n",
        "you obtain the linear (customed) layer without a bias. Then, you want to add a bias `b` manually in outside of the customed layer. Train the model."
      ],
      "metadata": {
        "id": "P9hrbW9-I9MX"
      },
      "id": "P9hrbW9-I9MX"
    },
    {
      "cell_type": "code",
      "source": [
        "import torch.nn as nn\n",
        "import torch.optim as optim"
      ],
      "metadata": {
        "id": "kYDVLOv7I8ah"
      },
      "id": "kYDVLOv7I8ah",
      "execution_count": 98,
      "outputs": []
    },
    {
      "cell_type": "code",
      "metadata": {
        "id": "sKx5ugQZJnGS"
      },
      "source": [
        "dataset = TensorDataset(X,Y)"
      ],
      "execution_count": null,
      "outputs": [],
      "id": "sKx5ugQZJnGS"
    },
    {
      "cell_type": "code",
      "metadata": {
        "id": "TvPWEhhkJnGS"
      },
      "source": [
        "trainloader=DataLoader(dataset = dataset, batch_size=1, shuffle=True)"
      ],
      "execution_count": null,
      "outputs": [],
      "id": "TvPWEhhkJnGS"
    },
    {
      "cell_type": "code",
      "source": [
        "class my_linear_regression(nn.Module):\n",
        "  def __init__(self, input_size, output_size):\n",
        "    super(my_linear_regression, self).__init__()\n",
        "    self.linear = nn.Linear(input_size, output_size, bias=False)\n",
        "  def forward(self,x):\n",
        "    yhat = self.linear(x)\n",
        "    return yhat\n"
      ],
      "metadata": {
        "id": "55OdPQS8Jn3x"
      },
      "id": "55OdPQS8Jn3x",
      "execution_count": null,
      "outputs": []
    },
    {
      "cell_type": "code",
      "source": [
        "import itertools"
      ],
      "metadata": {
        "id": "CpL1y9ypJn0l"
      },
      "id": "CpL1y9ypJn0l",
      "execution_count": null,
      "outputs": []
    },
    {
      "cell_type": "code",
      "source": [
        "list(model.parameters())"
      ],
      "metadata": {
        "id": "2tjO0loqMxD9"
      },
      "id": "2tjO0loqMxD9",
      "execution_count": null,
      "outputs": []
    },
    {
      "cell_type": "code",
      "source": [
        "list(b)"
      ],
      "metadata": {
        "id": "-hbDUa0KMOkj"
      },
      "id": "-hbDUa0KMOkj",
      "execution_count": null,
      "outputs": []
    },
    {
      "cell_type": "code",
      "source": [
        "dataset = TensorDataset(X,Y)\n",
        "trainloader = DataLoader(dataset=dataset, batch_size=10, shuffle=True)\n",
        "model = my_linear_regression(1,1)\n",
        "b = nn.Parameter(torch.randn(1), requires_grad=True)\n",
        "all_params = list(model.parameters())+list([b])\n",
        "#itertools.chain(model.parameters(), b)\n",
        "def criterion(yhat, y):\n",
        "  return torch.mean((yhat-y)**2)\n",
        "optimizer = optim.SGD(all_params, lr=0.001)"
      ],
      "metadata": {
        "id": "Wbnhg7kDJxji"
      },
      "execution_count": null,
      "outputs": [],
      "id": "Wbnhg7kDJxji"
    },
    {
      "cell_type": "code",
      "source": [
        "iters = 500\n",
        "history = []\n",
        "for epoch in range(iters):\n",
        "  Yhat = model(dataset.tensors[0])\n",
        "  LOSS = criterion(Yhat, dataset.tensors[1])\n",
        "  history.append(LOSS.item())\n",
        "  for x,y in trainloader:\n",
        "    yhat = model(x)+b\n",
        "    loss = criterion(yhat, y)\n",
        "    loss.backward()\n",
        "    optimizer.step()\n",
        "    optimizer.zero_grad()\n"
      ],
      "metadata": {
        "id": "H6UAkWy6Jxjj"
      },
      "execution_count": null,
      "outputs": [],
      "id": "H6UAkWy6Jxjj"
    },
    {
      "cell_type": "code",
      "source": [
        "plt.plot(history)"
      ],
      "metadata": {
        "id": "k1bnOSmWJnyF"
      },
      "id": "k1bnOSmWJnyF",
      "execution_count": null,
      "outputs": []
    },
    {
      "cell_type": "code",
      "source": [
        "b"
      ],
      "metadata": {
        "id": "0AnNZR2aOIeu"
      },
      "id": "0AnNZR2aOIeu",
      "execution_count": null,
      "outputs": []
    },
    {
      "cell_type": "code",
      "source": [
        "list(model.parameters())"
      ],
      "metadata": {
        "id": "pHNc3wOIOKTv"
      },
      "id": "pHNc3wOIOKTv",
      "execution_count": null,
      "outputs": []
    },
    {
      "cell_type": "code",
      "source": [
        "model(torch.tensor([[2.5000]]))+b #4.88"
      ],
      "metadata": {
        "id": "DnzwwfTxOOv-"
      },
      "id": "DnzwwfTxOOv-",
      "execution_count": null,
      "outputs": []
    },
    {
      "cell_type": "code",
      "source": [
        "x[:1]"
      ],
      "metadata": {
        "id": "-J52hRfHOV6B"
      },
      "id": "-J52hRfHOV6B",
      "execution_count": null,
      "outputs": []
    },
    {
      "cell_type": "code",
      "source": [
        "-1.32/2"
      ],
      "metadata": {
        "id": "mhIs_DObOtYs"
      },
      "id": "mhIs_DObOtYs",
      "execution_count": null,
      "outputs": []
    },
    {
      "cell_type": "code",
      "source": [],
      "metadata": {
        "id": "R1MFGtMKO2Oc"
      },
      "id": "R1MFGtMKO2Oc",
      "execution_count": null,
      "outputs": []
    }
  ]
}