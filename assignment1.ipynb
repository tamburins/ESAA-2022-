{
  "cells": [
    {
      "cell_type": "markdown",
      "metadata": {
        "id": "view-in-github",
        "colab_type": "text"
      },
      "source": [
        "<a href=\"https://colab.research.google.com/github/tamburins/ESAA-2022-/blob/main/assignment1.ipynb\" target=\"_parent\"><img src=\"https://colab.research.google.com/assets/colab-badge.svg\" alt=\"Open In Colab\"/></a>"
      ]
    },
    {
      "cell_type": "markdown",
      "metadata": {
        "id": "da91qTuaKtmH"
      },
      "source": [
        "# Scientific Programming in Python - Introduction"
      ]
    },
    {
      "cell_type": "markdown",
      "metadata": {
        "id": "VaG35hPJKtmM"
      },
      "source": [
        "## How to solve these exercises\n",
        "\n",
        "We use an iPython notebook for all of our exercises. The process is very similar compared to the live coding sessions, but instead of repeating what we do in front of the class we already made a notebook for you that you can complete yourself.\n",
        "\n",
        "We have classified exercises according to their difficulty as **Basics**, **Medium** and **Involved**. Make sure you do at least the **Basics** exercises for each topic and the **Medium** if you can, but don't worry if you get stuck on the **Involved** ones.\n",
        "\n",
        "If you have questions, just approach one of the tutors."
      ]
    },
    {
      "cell_type": "markdown",
      "metadata": {
        "id": "104zuJJqKtmM"
      },
      "source": [
        "### Problem 1. Convert imperial to metric"
      ]
    },
    {
      "cell_type": "markdown",
      "metadata": {
        "id": "rG1ZsYsGKtmN"
      },
      "source": [
        "Write a formula to convert a weight from pounds into kilograms."
      ]
    },
    {
      "cell_type": "markdown",
      "metadata": {
        "id": "ar0pRL2RKtmN"
      },
      "source": [
        ">**(a)** Modify the code in the following cell in such a way that it calculates the corresponding kilogram weight. Remember that all text to the right of a ‘#’ character is a comment that is ignored by python."
      ]
    },
    {
      "cell_type": "code",
      "execution_count": null,
      "metadata": {
        "colab": {
          "base_uri": "https://localhost:8080/",
          "height": 180
        },
        "id": "xi63ZfbEKtmO",
        "outputId": "48b928e9-be65-4b30-c81e-d7c9f7ac7682"
      },
      "outputs": [
        {
          "output_type": "error",
          "ename": "NameError",
          "evalue": "name 'weight_kg' is not defined",
          "traceback": [
            "\u001b[0;31m---------------------------------------------------------------------------\u001b[0m",
            "\u001b[0;31mNameError\u001b[0m                                 Traceback (most recent call last)",
            "\u001b[0;32m<ipython-input-3-e280760fd6fd>\u001b[0m in \u001b[0;36m<cell line: 3>\u001b[0;34m()\u001b[0m\n\u001b[1;32m      1\u001b[0m \u001b[0mweight_lbs\u001b[0m \u001b[0;34m=\u001b[0m \u001b[0;36m138.0\u001b[0m \u001b[0;31m# in pounds\u001b[0m\u001b[0;34m\u001b[0m\u001b[0;34m\u001b[0m\u001b[0m\n\u001b[1;32m      2\u001b[0m \u001b[0;31m#weight_kg =\u001b[0m\u001b[0;34m\u001b[0m\u001b[0;34m\u001b[0m\u001b[0m\n\u001b[0;32m----> 3\u001b[0;31m \u001b[0mprint\u001b[0m\u001b[0;34m(\u001b[0m\u001b[0;34m'Weight in kilograms: '\u001b[0m \u001b[0;34m+\u001b[0m \u001b[0mstr\u001b[0m\u001b[0;34m(\u001b[0m\u001b[0mweight_kg\u001b[0m\u001b[0;34m)\u001b[0m\u001b[0;34m)\u001b[0m\u001b[0;34m\u001b[0m\u001b[0;34m\u001b[0m\u001b[0m\n\u001b[0m",
            "\u001b[0;31mNameError\u001b[0m: name 'weight_kg' is not defined"
          ]
        }
      ],
      "source": [
        "weight_lbs = 138.0 # in pounds\n",
        "#weight_kg =\n",
        "print('Weight in kilograms: ' + str(weight_kg))"
      ]
    },
    {
      "cell_type": "code",
      "source": [
        "weight_lbs = 138.0 # in pounds\n",
        "weight_kg = weight_lbs * 0.45\n",
        "print('Weight in kilograms: ' + str(weight_kg))"
      ],
      "metadata": {
        "colab": {
          "base_uri": "https://localhost:8080/"
        },
        "id": "8VKhwseoK4QH",
        "outputId": "a2586508-8963-4a1a-8965-b9e086529b22"
      },
      "execution_count": null,
      "outputs": [
        {
          "output_type": "stream",
          "name": "stdout",
          "text": [
            "Weight in kilograms: 62.1\n"
          ]
        }
      ]
    },
    {
      "cell_type": "markdown",
      "metadata": {
        "id": "SVSinfG3KtmR"
      },
      "source": [
        ">**(b)** To get your program to ask you for a value and get a variable that contains that value, use the function <code>raw_input()</code>. This function will return a string and so you will have to convert it to a number using the function <code>float()</code>. Modify the the following cell so that it asks you for a weight in pounds. When you run it in ipython, it should work like this:"
      ]
    },
    {
      "cell_type": "raw",
      "metadata": {
        "id": "DAuj3jQzKtmS"
      },
      "source": [
        "Enter weight in pounds: 138.0\n",
        "Weight in kilograms: 62.1"
      ]
    },
    {
      "cell_type": "code",
      "execution_count": null,
      "metadata": {
        "collapsed": true,
        "colab": {
          "base_uri": "https://localhost:8080/"
        },
        "id": "hgu29doqKtmS",
        "outputId": "08c53059-d9fd-4057-91fd-ce933518788a"
      },
      "outputs": [
        {
          "output_type": "stream",
          "name": "stdout",
          "text": [
            "enter weight in pounds: 138.0\n",
            "Weight in kilograms:  62.1\n"
          ]
        }
      ],
      "source": [
        "weight_lbs = float(input('enter weight in pounds: '))\n",
        "weight_kg = weight_lbs * 0.45\n",
        "print(\"Weight in kilograms: \", weight_kg)"
      ]
    },
    {
      "cell_type": "markdown",
      "metadata": {
        "id": "qOCQ1xyzKtmT"
      },
      "source": [
        ">**(c)** This program should convert Farenheit to Celcius, but there are two bugs in the code. Figure out what they are and fix them so that it converts Farenheit to Celcius.\n",
        "(Hint: if you are having trouble, break up the formula into multiple steps and put a ‘print’ statement after each one so you can see the result of the step. Make sure each of the steps are doing what you think they should do.)"
      ]
    },
    {
      "cell_type": "code",
      "execution_count": null,
      "metadata": {
        "colab": {
          "base_uri": "https://localhost:8080/"
        },
        "id": "pSy3lor-KtmT",
        "outputId": "8d3342ee-0f08-44ee-edec-6cbc074246b4"
      },
      "outputs": [
        {
          "output_type": "stream",
          "name": "stdout",
          "text": [
            "Enter a temperature in Farenheit: 122\n",
            "Temperature in Celcius: 50.0\n"
          ]
        }
      ],
      "source": [
        "temp_far = float(input('Enter a temperature in Farenheit: '))\n",
        "temp_cel = 5/9 * (temp_far - 32)\n",
        "print('Temperature in Celcius: ' + str(temp_cel))"
      ]
    },
    {
      "cell_type": "markdown",
      "metadata": {
        "id": "P8rPewCrKtmT"
      },
      "source": [
        ">**(d)** Convert the programs used in (b) and (c) in such a way that they use functions"
      ]
    },
    {
      "cell_type": "code",
      "execution_count": null,
      "metadata": {
        "id": "jVulGHxKKtmU"
      },
      "outputs": [],
      "source": [
        "# Complete this function:\n",
        "\n",
        "def lb_to_kg(lb):\n",
        "    \"\"\"Add your documentation!\"\"\"\n",
        "    # your code here\n",
        "    kg = lb * 0.45\n",
        "    print(str(kg))\n",
        "    return kg\n",
        "\n",
        "\n",
        "# Wite a cel_to_far function from scratch!\n",
        "def cel_to_far(cel):\n",
        "  far = cel*9/5 + 32\n",
        "  print(str(far))\n"
      ]
    },
    {
      "cell_type": "code",
      "source": [
        "lb_to_kg(33)\n",
        "cel_to_far(122)"
      ],
      "metadata": {
        "colab": {
          "base_uri": "https://localhost:8080/"
        },
        "id": "3O1keM85Oi5w",
        "outputId": "cf4b29cf-86bc-4d58-fe1f-a12fcf142906"
      },
      "execution_count": null,
      "outputs": [
        {
          "output_type": "stream",
          "name": "stdout",
          "text": [
            "14.85\n",
            "251.6\n"
          ]
        }
      ]
    },
    {
      "cell_type": "markdown",
      "metadata": {
        "id": "AvG3hUPIKtmU"
      },
      "source": [
        "### Problem 2. A little bit of math"
      ]
    },
    {
      "cell_type": "markdown",
      "metadata": {
        "id": "-zRgfdw4KtmU"
      },
      "source": [
        "The following code asks you to enter three numbers and then finds the mean of those numbers."
      ]
    },
    {
      "cell_type": "code",
      "execution_count": null,
      "metadata": {
        "colab": {
          "base_uri": "https://localhost:8080/"
        },
        "id": "SndE2syKKtmU",
        "outputId": "d0f1daef-bda1-4f5c-9ddb-089e77e154b9"
      },
      "outputs": [
        {
          "output_type": "stream",
          "name": "stdout",
          "text": [
            "Enter the first number: 1\n",
            "Enter the second number: 2\n",
            "Enter the third number: 3\n",
            "2.0\n"
          ]
        }
      ],
      "source": [
        "x1 = float(input('Enter the first number: '))\n",
        "x2 = float(input('Enter the second number: '))\n",
        "x3 = float(input('Enter the third number: '))\n",
        "xhat = (x1 + x2 + x3) / 3.0\n",
        "print(xhat)"
      ]
    },
    {
      "cell_type": "markdown",
      "metadata": {
        "id": "boafh-BYKtmU"
      },
      "source": [
        ">**(a)** Modify this code so that it prints the mean on the first line of its output and prints the standard deviation of the three numbers on the second line of its output. Remember that the standard deviation of a sample $x_1,x_2,\\ldots,x_n$ with sample mean $\\hat{x}=\\sum_{i=1}^n x_i/n $ is defined to be:\n",
        "\n",
        "<center>$ s = \\sqrt{\\displaystyle\\frac{1}{n-1}\\displaystyle\\sum_{i=1}^n(x_i - \\hat{x})^2}$</center>\n",
        "\n",
        ">The program should work like this when run:"
      ]
    },
    {
      "cell_type": "code",
      "execution_count": null,
      "metadata": {
        "colab": {
          "base_uri": "https://localhost:8080/"
        },
        "id": "z9LkUqLyKtmV",
        "outputId": "0a083b24-7a73-4adf-b48c-0c5e3737f9d1"
      },
      "outputs": [
        {
          "output_type": "stream",
          "name": "stdout",
          "text": [
            "Enter the first number: 3\n",
            "Enter the second number: 7\n",
            "Enter the third number: 29\n",
            "13.0\n",
            "14.0\n"
          ]
        }
      ],
      "source": [
        "from math import sqrt\n",
        "x1 = float(input('Enter the first number: '))\n",
        "x2 = float(input('Enter the second number: '))\n",
        "x3 = float(input('Enter the third number: '))\n",
        "\n",
        "# Your code here\n",
        "\n",
        "def simple_stdev(x1, x2, x3):\n",
        "    '''This calculates the standard deviation for three numbers'''\n",
        "    xbar = (x1+x2+x3)/3\n",
        "    s=(((x1-xbar)**2+(x2-xbar)**2+(x3-xbar)**2)/(3-1))**(1/2)\n",
        "    print(xbar)\n",
        "    print(s)\n",
        "simple_stdev(x1, x2, x3)"
      ]
    },
    {
      "cell_type": "raw",
      "metadata": {
        "id": "2WbVPKkbKtmV"
      },
      "source": [
        "Enter the first number: 3\n",
        "Enter the second number: 7\n",
        "Enter the third number: 29\n",
        "13.0\n",
        "14.0"
      ]
    },
    {
      "cell_type": "markdown",
      "metadata": {
        "id": "ohs_ru6nKtmV"
      },
      "source": [
        ">**Hint:** If you are having trouble, write out the standard deviation in the equation above for $n=3$ because in this example there are three samples (don't expand the squares). Then, make a new line of code where you assign a variable called $s$ to the equation you wrote out. To translate the standard deviation formula into code, $x_1,x_2$ and $x_3$ should be written as $x1$, $x2$ and $x3$. The expression $(x_1-\\hat{x})^2$ should be written as $(x1 - xhat)**2$. When you want to write the square root of something, you have to put it <code>sqrt(here)</code> inside brackets. If you are using ipython, then <code>sqrt()</code> is automatically loaded in the interpreter. Otherwise, you have to import it like this:"
      ]
    },
    {
      "cell_type": "code",
      "execution_count": null,
      "metadata": {
        "colab": {
          "base_uri": "https://localhost:8080/"
        },
        "id": "aaMaSD2CKtmV",
        "outputId": "3d6a40b2-69ad-446e-b97e-e43613464f11"
      },
      "outputs": [
        {
          "output_type": "stream",
          "name": "stdout",
          "text": [
            "Mean:  13.0\n",
            "STD:  9.273618495495704\n"
          ]
        }
      ],
      "source": [
        "from math import sqrt\n",
        "xhat = (x1 + x2 + x3) / 3.0\n",
        "print ('Mean: ', xhat)\n",
        "std = sqrt(1/(3.0-1)*((x1 - xhat)**2+(x2 - xhat)**2+(x2 - xhat)**2))\n",
        "print ('STD: ', std)"
      ]
    },
    {
      "cell_type": "markdown",
      "metadata": {
        "id": "SVUTPzr6KtmW"
      },
      "source": [
        "### Problem 3. Calculator"
      ]
    },
    {
      "cell_type": "markdown",
      "metadata": {
        "id": "6HAn47JNKtmW"
      },
      "source": [
        "Let’s now try our hands on computing some miscellaneous quantities."
      ]
    },
    {
      "cell_type": "markdown",
      "metadata": {
        "id": "3HhL88GQKtmW"
      },
      "source": [
        ">**(a)** The perimeter and area of a circle."
      ]
    },
    {
      "cell_type": "code",
      "execution_count": null,
      "metadata": {
        "colab": {
          "base_uri": "https://localhost:8080/"
        },
        "id": "1C30MPLzKtmW",
        "outputId": "031598d2-6ddf-48e0-ae2a-7d3117912d44"
      },
      "outputs": [
        {
          "output_type": "stream",
          "name": "stdout",
          "text": [
            "A circle of radius 5.0 has a perimeter of 31.41592653589793 and an area of 78.53981633974483\n"
          ]
        }
      ],
      "source": [
        "import math\n",
        "radius = 5.\n",
        "circle_perimeter = radius*2*math.pi # Replace me\n",
        "circle_area = math.pi*(radius**2) # Replace me\n",
        "print('A circle of radius ' + str(radius) + ' has a perimeter of ' +\n",
        "   str(circle_perimeter) + ' and an area of ' + str(circle_area))"
      ]
    },
    {
      "cell_type": "markdown",
      "metadata": {
        "id": "9WDhn-9kKtmW"
      },
      "source": [
        ">**(b)** The golden ratio."
      ]
    },
    {
      "cell_type": "code",
      "execution_count": null,
      "metadata": {
        "colab": {
          "base_uri": "https://localhost:8080/"
        },
        "id": "eEh6MmA8KtmX",
        "outputId": "98fa4cc3-5547-4a0e-b1a9-a803d2aadc3a"
      },
      "outputs": [
        {
          "output_type": "stream",
          "name": "stdout",
          "text": [
            "The golden ratio is equal to 1.618033988749895\n"
          ]
        }
      ],
      "source": [
        "golden_ratio = (1.+math.sqrt(5))/2 # Replace me\n",
        "print('The golden ratio is equal to ' + str(golden_ratio))"
      ]
    },
    {
      "cell_type": "markdown",
      "metadata": {
        "id": "Ll2x4OVcKtmX"
      },
      "source": [
        ">**(c)** The height, volume and area of a **regular** pentagonal pyramid."
      ]
    },
    {
      "cell_type": "code",
      "execution_count": null,
      "metadata": {
        "colab": {
          "base_uri": "https://localhost:8080/"
        },
        "id": "m4mZhsefKtmY",
        "outputId": "af166b29-3d0d-4e0a-b7b2-e6e391d05cb2"
      },
      "outputs": [
        {
          "output_type": "stream",
          "name": "stdout",
          "text": [
            "A regular pentagonal pyramid of side length 2.0 has an height of 1.0514622242382672, an area of 15.542163640200254 and a volume of 2.4120226591665967. Interesting, I suppose.\n"
          ]
        }
      ],
      "source": [
        "side_length = 2.\n",
        "pyramid_height = math.sqrt((5-math.sqrt(5))/10)*side_length\n",
        "pyramid_area = (math.sqrt(25.+10.*math.sqrt(5))/4. + 5*math.sqrt(3.)/4.)*side_length**2. # Replace me\n",
        "pyramid_volume = ((5. + math.sqrt(5))/24)*side_length**3.\n",
        "print ('A regular pentagonal pyramid of side length ' + str( side_length) + ' has an height of ' + str(pyramid_height) + ', an area of ' + str(pyramid_area) + ' and a volume of ' + str(pyramid_volume) + '. Interesting, I suppose.')\n"
      ]
    },
    {
      "cell_type": "markdown",
      "metadata": {
        "id": "_NY2Ip-YKtmY"
      },
      "source": [
        ">**(d)** The fractal dimension (Hausdorff dimension) of a Sierpinski Dodecahedron. Is it larger or smaller than the fractal dimension of a cauliflower?"
      ]
    },
    {
      "cell_type": "code",
      "execution_count": null,
      "metadata": {
        "colab": {
          "base_uri": "https://localhost:8080/"
        },
        "id": "X4A8OCfPKtmY",
        "outputId": "31ed2b36-4209-4d11-8784-2ed5105cd92e"
      },
      "outputs": [
        {
          "output_type": "stream",
          "name": "stdout",
          "text": [
            "A Sierpinski Dodecahedron has a fractal dimension of 2.329621716170345, how intriguing!\n",
            "A cauliflower has a fractal dimension of 2.3347175194727927\n",
            "The cauliflower wins. Obviously.\n"
          ]
        }
      ],
      "source": [
        "dodecahedron_fractal_dimension = math.log(20)/math.log(2+golden_ratio) # Replace me\n",
        "cauliflower_fractal_dimension = math.log(13)/math.log(3) # Replace me\n",
        "\n",
        "print('A Sierpinski Dodecahedron has a fractal dimension of ' +\n",
        "        str(dodecahedron_fractal_dimension) + ', how intriguing!')\n",
        "print('A cauliflower has a fractal dimension of ' + str(cauliflower_fractal_dimension))\n",
        "\n",
        "if dodecahedron_fractal_dimension > cauliflower_fractal_dimension:\n",
        "    print('The dodecahedron wins.')\n",
        "else:\n",
        "    print('The cauliflower wins. Obviously.')"
      ]
    },
    {
      "cell_type": "markdown",
      "metadata": {
        "id": "hawuDkJ4KtmY"
      },
      "source": [
        ">**Hints:** The use of Wikipedia to refresh your memory is completely encouraged. All the mathematic formulae that you’ll need are in the module math. Either check online (http://docs.python.org/library/math.html) or by importing the module and looking for its content using ipython:\n"
      ]
    },
    {
      "cell_type": "code",
      "execution_count": null,
      "metadata": {
        "id": "nYdJzsCNKtmY"
      },
      "outputs": [],
      "source": [
        "import math"
      ]
    },
    {
      "cell_type": "markdown",
      "metadata": {
        "id": "hirSWpuRKtmZ"
      },
      "source": [
        "### Problem 4. Strings manipulation\n",
        "\n",
        "We will now try a few functions from the standard library for strings. Everything you need should be available in the string module."
      ]
    },
    {
      "cell_type": "markdown",
      "metadata": {
        "id": "AP_L_EhXKtmZ"
      },
      "source": [
        ">**(a)** Find the functions to transform the following string into: lowercase, uppercase, sentence- case (first letter of first word is capitalized)."
      ]
    },
    {
      "cell_type": "code",
      "execution_count": null,
      "metadata": {
        "colab": {
          "base_uri": "https://localhost:8080/"
        },
        "id": "P7FHcJUQKtmZ",
        "outputId": "90bdf304-7a6a-4ffc-cbf0-364999558ea7"
      },
      "outputs": [
        {
          "output_type": "stream",
          "name": "stdout",
          "text": [
            "uSiNg aPPrOpRiAtE cApiTaLISAtiOn iS iMpOrTaNt fOr yOuR rEaDerS' SANity\n",
            "using appropriate capitalisation is important for your readers' sanity\n",
            "Using appropriate capitalisation is important for your readers' sanity\n"
          ]
        }
      ],
      "source": [
        "import string\n",
        "\n",
        "message = \"uSiNg aPPrOpRiAtE cApiTaLISAtiOn iS iMpOrTaNt fOr yOuR rEaDerS' SANity\"\n",
        "lowercased =  message.lower() # Replace me uppercased = '' # Replace me\n",
        "sentencecased = message.upper() # Replace me\n",
        "sentencecased = message.capitalize() # Replace me\n",
        "print(message + '\\n' + lowercased + '\\n' + sentencecased)"
      ]
    },
    {
      "cell_type": "markdown",
      "metadata": {
        "id": "kt09oKkpKtmZ"
      },
      "source": [
        ">**Hints:** Read the string module documentation carefully! https://docs.python.org/2/library/string.html Functions sometimes have similar names, but do different things!\n"
      ]
    },
    {
      "cell_type": "markdown",
      "metadata": {
        "id": "G8_LVoycKtmZ"
      },
      "source": [
        ">**(b)** Find how to align some text to the left, the right or to the center of a string of known fixed width. This could be useful to align your table in the next problem for example."
      ]
    },
    {
      "cell_type": "code",
      "execution_count": null,
      "metadata": {
        "colab": {
          "base_uri": "https://localhost:8080/"
        },
        "id": "7QPNjULfKtmg",
        "outputId": "7979f3aa-5412-4c2c-e57b-47f9e85538d7"
      },
      "outputs": [
        {
          "output_type": "stream",
          "name": "stdout",
          "text": [
            "I want this aligned properly! \n",
            "********************\n",
            "align me            \n",
            "            align me\n",
            "      align me      \n",
            "********************\n"
          ]
        }
      ],
      "source": [
        "\n",
        "# Question (b)\n",
        "text = 'align me'\n",
        "width = 20\n",
        "stars = '*'*width\n",
        "text_left   = str.ljust(text, width) # Replace me\n",
        "text_right  = str.rjust(text, width) # Replace me\n",
        "text_center = str.center(text, width) # Replace me\n",
        "\n",
        "print('I want this aligned properly! ' + '\\n' + stars + '\\n' + text_left + '\\n' +\n",
        "        text_right + '\\n' + text_center + '\\n' + stars)"
      ]
    },
    {
      "cell_type": "markdown",
      "metadata": {
        "id": "NHNB4uXAKtmg"
      },
      "source": [
        ">**(c)** Enforce the correct spelling of Python. It is not “Pyhton”, “python” or “pythons”. (Hint: you can chain multiple function calls: the output of one function can be the input of another one)"
      ]
    },
    {
      "cell_type": "code",
      "execution_count": null,
      "metadata": {
        "colab": {
          "base_uri": "https://localhost:8080/",
          "height": 53
        },
        "id": "6nNpohrWKtmg",
        "outputId": "ce0144f8-c6f3-45da-ce53-1ba16d9a4774"
      },
      "outputs": [
        {
          "output_type": "execute_result",
          "data": {
            "text/plain": [
              "'Scientific Programming in Pyhton: The student will be able to write simple programs in Python.'"
            ],
            "application/vnd.google.colaboratory.intrinsic+json": {
              "type": "string"
            }
          },
          "metadata": {},
          "execution_count": 21
        }
      ],
      "source": [
        "# Question (c)\n",
        "email = \"Scientific Programming in Pyhton: The student will be able to write simple programs in pythons.\"\n",
        "def spellchecker(email):\n",
        "  corrected = str.replace(str.replace(str.replace(email, 'Pyht on', 'Python'), 'pythons', 'Python'), 'python', 'Python')\n",
        "  return corrected\n",
        "\n",
        "spellchecker(email)"
      ]
    },
    {
      "cell_type": "markdown",
      "metadata": {
        "id": "ox0Q55cjKtmg"
      },
      "source": [
        ">**(d)** Do what Python is doing to your code: remove everything after the first “#” you find on a line. Also remove all trailing (e.g. at the end) whitespaces."
      ]
    },
    {
      "cell_type": "code",
      "source": [
        "line = \"print 'I quite like Python already!'  # Actually, I just want easy credits\"\n",
        "no_comments = ''\n",
        "line.split('#', 1)[0].rstrip() + '\\n' + no_comments"
      ],
      "metadata": {
        "colab": {
          "base_uri": "https://localhost:8080/",
          "height": 36
        },
        "id": "VcqxVMan6YCd",
        "outputId": "3c0500fc-2bad-4ca0-9351-b54d5237ea9f"
      },
      "execution_count": null,
      "outputs": [
        {
          "output_type": "execute_result",
          "data": {
            "text/plain": [
              "\"print 'I quite like Python already!'\\n\""
            ],
            "application/vnd.google.colaboratory.intrinsic+json": {
              "type": "string"
            }
          },
          "metadata": {},
          "execution_count": 24
        }
      ]
    },
    {
      "cell_type": "markdown",
      "metadata": {
        "id": "fh1YkGMkKtmh"
      },
      "source": [
        "### Problem 5 *Basics*: Alphabet\n",
        "In this problem we’ll recap basic list methods, using the alphabet"
      ]
    },
    {
      "cell_type": "markdown",
      "metadata": {
        "id": "nN03FiHWKtmh"
      },
      "source": [
        ">**(a)** We’ll first start by making a list each of the upper and lower case letters in the English alphabet:"
      ]
    },
    {
      "cell_type": "code",
      "execution_count": null,
      "metadata": {
        "colab": {
          "base_uri": "https://localhost:8080/"
        },
        "id": "umAjvW7pKtmh",
        "outputId": "130c0ab9-3b4d-418c-ade8-17e9c3b68197"
      },
      "outputs": [
        {
          "output_type": "stream",
          "name": "stdout",
          "text": [
            "['A', 'B', 'C', 'D', 'E', 'F', 'G', 'H', 'I', 'J', 'K', 'L', 'M', 'N', 'O', 'P', 'Q', 'R', 'S', 'T', 'U', 'V', 'W', 'X', 'Y', 'Z'] ['a', 'b', 'c', 'd', 'e', 'f', 'g', 'h', 'i', 'j', 'k', 'l', 'm', 'n', 'o', 'p', 'q', 'r', 's', 't', 'u', 'v', 'w', 'x', 'y', 'z']\n"
          ]
        }
      ],
      "source": [
        "import string\n",
        "# your code here\n",
        "uc = list(string.ascii_uppercase)\n",
        "lc = list(string.ascii_lowercase)\n",
        "print(uc,lc)\n",
        "# The result should look like this:\n",
        "# uc = ['A', 'B', 'C', 'D', 'E', 'F', 'G', 'H', 'I', 'J', 'K', 'L', 'M', 'N', 'O',\n",
        "#       'P', 'Q', 'R', 'S', 'T', 'U', 'V', 'W', 'X', 'Y', 'Z']\n",
        "# lc = ['a', 'b', 'c', 'd', 'e', 'f', 'g', 'h', 'i', 'j', 'k', 'l', 'm', 'n', 'o',\n",
        "#       'p', 'q', 'r', 's', 't', 'u', 'v', 'w', 'x', 'y', 'z']"
      ]
    },
    {
      "cell_type": "markdown",
      "metadata": {
        "id": "oTktm5heKtmh"
      },
      "source": [
        ">**(b)** Blank your full name from both lists, using a ```for``` loop (it's easiest to first concatenate them):"
      ]
    },
    {
      "cell_type": "code",
      "execution_count": null,
      "metadata": {
        "collapsed": true,
        "colab": {
          "base_uri": "https://localhost:8080/"
        },
        "id": "mvvPvtiTKtmh",
        "outputId": "7c38a596-30b3-4ccf-f3b8-aefea9bee5a4"
      },
      "outputs": [
        {
          "output_type": "stream",
          "name": "stdout",
          "text": [
            "['A', 'B', 'C', 'D', 'E', 'F', 'G', 'H', 'I', '*', 'K', 'L', '*', 'N', 'O', 'P', 'Q', 'R', 'S', 'T', 'U', 'V', 'W', 'X', 'Y', 'Z', '*', 'b', 'c', 'd', '*', 'f', '*', 'h', '*', '*', 'k', 'l', 'm', '*', 'o', 'p', 'q', 'r', 's', 't', '*', 'v', 'w', 'x', 'y', 'z']\n"
          ]
        }
      ],
      "source": [
        "# Hint: For each item in the list, check whether it is in the name\n",
        "both = uc + lc\n",
        "name = \"Minjae Jung\"\n",
        "for i in range(len(both)):\n",
        "  if both[i] in name:\n",
        "      both[i] = '*'\n",
        "print(both)\n",
        "# The result should look like this if you blank \"Jeremy Bentham\":\n",
        "# ['A', '*', 'C', 'D', 'E', 'F', 'G', 'H', 'I', '*', 'K', 'L', 'M', 'N', 'O', 'P', 'Q', 'R', 'S', 'T',\n",
        "#  'U', 'V', 'W', 'X', 'Y', 'Z', '*', 'b', 'c', 'd', '*', 'f', 'g', '*', 'i', 'j', 'k', 'l', '*', '*',\n",
        "#  'o', 'p', 'q', '*', 's', '*', 'u', 'v', 'w', 'x', '*', 'z']"
      ]
    },
    {
      "cell_type": "markdown",
      "metadata": {
        "id": "alUFraILKtmi"
      },
      "source": [
        ">**(c)** Sort the list and remove the leading blanks:\n",
        "\n",
        "> Hint: print each letter along with its index; you can then create a new list with a ```slice```"
      ]
    },
    {
      "cell_type": "code",
      "execution_count": null,
      "metadata": {
        "collapsed": true,
        "id": "CKFMsp3wKtmi"
      },
      "outputs": [],
      "source": [
        "# The result should look like this:\n",
        "# blanks_removed = ['A', 'C', 'D', 'E', 'F', 'G', 'H', 'I', 'K', 'L', 'M', 'N', 'O', 'P', 'Q', 'R',\n",
        "#                   'S', 'T', 'U', 'V', 'W', 'X', 'Y', 'Z', 'b', 'c', 'd', 'f', 'g', 'i', 'j', 'k',\n",
        "#                   'l', 'o', 'p', 'q', 's', 'u', 'v', 'w', 'x', 'z']"
      ]
    },
    {
      "cell_type": "code",
      "source": [
        "both_sorted = sorted(both)\n",
        "for index, letter in enumerate(both):\n",
        "    print (index, letter)\n",
        "both_blanksremoved = both[10:]\n",
        "print (both_blanksremoved)"
      ],
      "metadata": {
        "colab": {
          "base_uri": "https://localhost:8080/"
        },
        "id": "zoTPg3iU68BP",
        "outputId": "ba48acb9-f586-4faf-de98-a3351fa48707"
      },
      "execution_count": null,
      "outputs": [
        {
          "output_type": "stream",
          "name": "stdout",
          "text": [
            "0 A\n",
            "1 B\n",
            "2 C\n",
            "3 D\n",
            "4 E\n",
            "5 F\n",
            "6 G\n",
            "7 H\n",
            "8 I\n",
            "9 *\n",
            "10 K\n",
            "11 L\n",
            "12 *\n",
            "13 N\n",
            "14 O\n",
            "15 P\n",
            "16 Q\n",
            "17 R\n",
            "18 S\n",
            "19 T\n",
            "20 U\n",
            "21 V\n",
            "22 W\n",
            "23 X\n",
            "24 Y\n",
            "25 Z\n",
            "26 *\n",
            "27 b\n",
            "28 c\n",
            "29 d\n",
            "30 *\n",
            "31 f\n",
            "32 *\n",
            "33 h\n",
            "34 *\n",
            "35 *\n",
            "36 k\n",
            "37 l\n",
            "38 m\n",
            "39 *\n",
            "40 o\n",
            "41 p\n",
            "42 q\n",
            "43 r\n",
            "44 s\n",
            "45 t\n",
            "46 *\n",
            "47 v\n",
            "48 w\n",
            "49 x\n",
            "50 y\n",
            "51 z\n",
            "['K', 'L', '*', 'N', 'O', 'P', 'Q', 'R', 'S', 'T', 'U', 'V', 'W', 'X', 'Y', 'Z', '*', 'b', 'c', 'd', '*', 'f', '*', 'h', '*', '*', 'k', 'l', 'm', '*', 'o', 'p', 'q', 'r', 's', 't', '*', 'v', 'w', 'x', 'y', 'z']\n"
          ]
        }
      ]
    },
    {
      "cell_type": "markdown",
      "metadata": {
        "id": "U68KwPlXKtmi"
      },
      "source": [
        ">**(d)** Try doing all of (a),(b) and (c) using a single list comprehension:"
      ]
    },
    {
      "cell_type": "code",
      "execution_count": null,
      "metadata": {
        "collapsed": true,
        "id": "i-jJgjZAKtmi"
      },
      "outputs": [],
      "source": [
        "# Hint: you will need a conditional statement in your list comprehension. The result should look the same as in (c)"
      ]
    },
    {
      "cell_type": "code",
      "source": [
        "blanks_removed = [letter for letter in list(string.ascii_uppercase)+list(string.ascii_lowercase) if letter not in 'Minjae Jung']\n",
        "print (blanks_removed)"
      ],
      "metadata": {
        "colab": {
          "base_uri": "https://localhost:8080/"
        },
        "id": "FPUJfcZa6_9q",
        "outputId": "23ffa308-78ee-4284-c198-27aea9422de8"
      },
      "execution_count": null,
      "outputs": [
        {
          "output_type": "stream",
          "name": "stdout",
          "text": [
            "['A', 'B', 'C', 'D', 'E', 'F', 'G', 'H', 'I', 'K', 'L', 'N', 'O', 'P', 'Q', 'R', 'S', 'T', 'U', 'V', 'W', 'X', 'Y', 'Z', 'b', 'c', 'd', 'f', 'h', 'k', 'l', 'm', 'o', 'p', 'q', 'r', 's', 't', 'v', 'w', 'x', 'y', 'z']\n"
          ]
        }
      ]
    },
    {
      "cell_type": "markdown",
      "metadata": {
        "id": "STaEVEfxKtmj"
      },
      "source": [
        "### Problem 6 *Medium*: Multiplication Table\n",
        "In this problem we’ll use for-loops, some lists and control how values are printed on screen, to produce a full multiplication table (from 1 to 12). https://en.wikipedia.org/wiki/Multiplication_table"
      ]
    },
    {
      "cell_type": "markdown",
      "metadata": {
        "id": "1cyufTfLKtmj"
      },
      "source": [
        ">**(a)** We’ll first start by creating the multiplication table for the number 2, i.e. what you get when you multiply the numbers from 1 to 12 by 2. Use a for-loop:"
      ]
    },
    {
      "cell_type": "code",
      "execution_count": null,
      "metadata": {
        "colab": {
          "base_uri": "https://localhost:8080/"
        },
        "id": "0C_YPYYAKtmj",
        "outputId": "3a242b8f-884c-496e-a089-0e8dd649c5eb"
      },
      "outputs": [
        {
          "output_type": "stream",
          "name": "stdout",
          "text": [
            "[2, 4, 6, 8, 10, 12, 14, 16, 18, 20, 22, 24]\n"
          ]
        }
      ],
      "source": [
        "max_time = 12\n",
        "number = 2\n",
        "# ... Your code here\n",
        "times_2 = []\n",
        "for i in range(max_time):\n",
        "    # Append to your new list\n",
        "    times_2.append(number*(i+1))\n",
        "print (times_2)\n",
        "\n",
        "# times_2 should now be [2, 4, 6, 8, 10, 12, 14, 16, 18, 20, 22, 24]"
      ]
    },
    {
      "cell_type": "markdown",
      "metadata": {
        "id": "s7O4hpMkKtmj"
      },
      "source": [
        ">**Hint:** remember that <code>range(x)</code> starts at 0 and finishes at $(x − 1)$. Give it 2 parameters to control where it should start at.)"
      ]
    },
    {
      "cell_type": "code",
      "source": [
        "def row(number, max_time):\n",
        "  roww = []\n",
        "  for i in range(1, max_time+1):\n",
        "    roww.append(number*i)\n",
        "  return roww\n",
        "row(number, max_time)"
      ],
      "metadata": {
        "colab": {
          "base_uri": "https://localhost:8080/"
        },
        "id": "FcKqOB_s73Qp",
        "outputId": "83e5ea2d-c060-43e4-e4bd-b1f8305d5742"
      },
      "execution_count": null,
      "outputs": [
        {
          "output_type": "execute_result",
          "data": {
            "text/plain": [
              "[2, 4, 6, 8, 10, 12, 14, 16, 18, 20, 22, 24]"
            ]
          },
          "metadata": {},
          "execution_count": 10
        }
      ]
    },
    {
      "cell_type": "markdown",
      "metadata": {
        "id": "e3PS_zbuKtmj"
      },
      "source": [
        ">**(b)** Now we’ll just format the result so that it looks nicer. Write code to automatically convert times_2 into the following string (separate with spaces):"
      ]
    },
    {
      "cell_type": "raw",
      "metadata": {
        "id": "LQzFI09fKtmk"
      },
      "source": [
        "2 | 2 4 6 8 10 12 14 16 18 20"
      ]
    },
    {
      "cell_type": "code",
      "execution_count": null,
      "metadata": {
        "colab": {
          "base_uri": "https://localhost:8080/"
        },
        "id": "eMHPmODQKtmk",
        "outputId": "a3843aa0-81a9-4308-e790-532870d205c8"
      },
      "outputs": [
        {
          "output_type": "stream",
          "name": "stdout",
          "text": [
            "2 | 2 4 6 8 10 12 14 16 18 20 22 24 \n"
          ]
        }
      ],
      "source": [
        "# Your code here\n",
        "\n",
        "def print_row(row):\n",
        "  row_string = str(row[0]) + \" | \"\n",
        "  for i in row:\n",
        "    row_string = row_string + str(i) + ' '\n",
        "  print (row_string)\n",
        "row1=row(number, max_time)\n",
        "print_row(row1)"
      ]
    },
    {
      "cell_type": "markdown",
      "metadata": {
        "id": "dWdQ5O-kKtmk"
      },
      "source": [
        ">**(c)** We’ve actually already generated one line of our full table. You could just copy and paste your code and change the loop to get all the lines from 1 to 12, but you might make a mistake, or you might want to get lines from 1 to 1000. Looking at your code, if you change the <code>number</code> variable it should create the correct line for the value contained in <code>number</code>. So we just have to loop over the values of 1 to 12 for this <code>number</code> variable.\n",
        "This is called nested loops, and you’ll use nested loops over and over again in your programs. Simply put another loop into your loop (make sure that you give the iterating variable a different name for each loop). What does the following piece of code do? Write down what you think the output would be if <code>max\\_time</code> contained the value 4 and then set <code>max\\_time</code> to 4 and run this piece of code and make sure you were right."
      ]
    },
    {
      "cell_type": "code",
      "execution_count": null,
      "metadata": {
        "colab": {
          "base_uri": "https://localhost:8080/"
        },
        "id": "66b98lBoKtmk",
        "outputId": "afade69e-177a-481f-e084-e1c3f835de85"
      },
      "outputs": [
        {
          "output_type": "stream",
          "name": "stdout",
          "text": [
            "0 0\n",
            "0 1\n",
            "0 2\n",
            "0 3\n",
            "1 0\n",
            "1 1\n",
            "1 2\n",
            "1 3\n",
            "2 0\n",
            "2 1\n",
            "2 2\n",
            "2 3\n",
            "3 0\n",
            "3 1\n",
            "3 2\n",
            "3 3\n"
          ]
        }
      ],
      "source": [
        "max_time=4\n",
        "for i in range(max_time):\n",
        "    for j in range(max_time):\n",
        "        print(i, j)"
      ]
    },
    {
      "cell_type": "markdown",
      "metadata": {
        "id": "1BSlpjmeKtmk"
      },
      "source": [
        ">**(d)** Using nested loops, create all the lines of the times table, for all numbers between 1 and 12. Use the same format as in part (b). Create two more lines on top to put the label of each column. You should get the following output:"
      ]
    },
    {
      "cell_type": "raw",
      "metadata": {
        "id": "mD0uDTxBKtmk"
      },
      "source": [
        " 1 2 3 4 5 6 7 8 9 10 11 12\n",
        "------------------------------\n",
        "1 | 1 2 3 4 5 6 7 8 9 10 11 12\n",
        "2 | 2 4 6 8 10 12 14 16 18 20 22 24\n",
        "3 | 3 6 9 12 15 18 21 24 27 30 33 36\n",
        "4 | 4 8 12 16 20 24 28 32 36 40 44 48\n",
        "5 | 5 10 15 20 25 30 35 40 45 50 55 60\n",
        "6 | 6 12 18 24 30 36 42 48 54 60 66 72\n",
        "7 | 7 14 21 28 35 42 49 56 63 70 77 84\n",
        "8 | 8 16 24 32 40 48 56 64 72 80 88 96\n",
        "9 | 9 18 27 36 45 54 63 72 81 90 99 108\n",
        "10 | 10 20 30 40 50 60 70 80 90 100 110 120\n",
        "11 | 11 22 33 44 55 66 77 88 99 110 121 132\n",
        "12 | 12 24 36 48 60 72 84 96 108 120 132 144"
      ]
    },
    {
      "cell_type": "code",
      "execution_count": null,
      "metadata": {
        "colab": {
          "base_uri": "https://localhost:8080/"
        },
        "id": "iDCkCd6KKtml",
        "outputId": "b2b9c441-b711-4192-9a67-17eec2446c58"
      },
      "outputs": [
        {
          "output_type": "stream",
          "name": "stdout",
          "text": [
            " 1 2 3 4 5 6 7 8 9 10 11 12 13 14 15 16 \n",
            "    ------------------------------------------------\n",
            "1 | 1 \n",
            "2 | 2 \n",
            "3 | 3 \n",
            "4 | 4 \n",
            "5 | 5 \n",
            "6 | 6 \n",
            "7 | 7 \n",
            "8 | 8 \n",
            "9 | 9 \n",
            "10 | 10 \n",
            "11 | 11 \n",
            "12 | 12 \n",
            "13 | 13 \n",
            "14 | 14 \n",
            "15 | 15 \n",
            "16 | 16 \n"
          ]
        }
      ],
      "source": [
        "max_time = 12\n",
        "number = 12\n",
        "\n",
        "def row(number, max_time):\n",
        "  row = []\n",
        "  for i in range(1, max_time+1):\n",
        "    row.append(number*i)\n",
        "    return row\n",
        "\n",
        "def print_row(row):\n",
        "  row_string = str(row[0]) + \" | \"\n",
        "  for i in row:\n",
        "    row_string = row_string + str(i) + ' '\n",
        "  print (row_string)\n",
        "\n",
        "def print_header(max_time):\n",
        "  header = \" \" # Some initial whitespace\n",
        "  for i in range(1, max_time+1):\n",
        "    header = header + str(i) + ' '\n",
        "  print (header)\n",
        "  print (\"    \" + \"---\"*max_time)\n",
        "def times_table(max_time):\n",
        "  print_header(max_time)\n",
        "  for i in range(1,max_time+1):\n",
        "    print_row(row(i, max_time))\n",
        "\n",
        "times_table(16)"
      ]
    },
    {
      "cell_type": "markdown",
      "metadata": {
        "id": "wmdSLiuNKtml"
      },
      "source": [
        ">**Hint**: Generate a line for each line, and print it only when it’s complete. You actually do not need to create the intermediate list anymore, you can generate the string for the current line directly"
      ]
    },
    {
      "cell_type": "code",
      "source": [
        "\n",
        "table_size = 14\n",
        "\n",
        "\n",
        "for i in range(1, table_size + 1):\n",
        "    for j in range(1, table_size + 1):\n",
        "        print(\"{:3}\".format(i * j), end=\" \")\n",
        "    print()"
      ],
      "metadata": {
        "colab": {
          "base_uri": "https://localhost:8080/"
        },
        "id": "I7ghMU-ULAsZ",
        "outputId": "3c64c80e-69f9-41e3-b7e2-b84cf5622071"
      },
      "execution_count": null,
      "outputs": [
        {
          "output_type": "stream",
          "name": "stdout",
          "text": [
            "  1   2   3   4   5   6   7   8   9  10  11  12  13  14 \n",
            "  2   4   6   8  10  12  14  16  18  20  22  24  26  28 \n",
            "  3   6   9  12  15  18  21  24  27  30  33  36  39  42 \n",
            "  4   8  12  16  20  24  28  32  36  40  44  48  52  56 \n",
            "  5  10  15  20  25  30  35  40  45  50  55  60  65  70 \n",
            "  6  12  18  24  30  36  42  48  54  60  66  72  78  84 \n",
            "  7  14  21  28  35  42  49  56  63  70  77  84  91  98 \n",
            "  8  16  24  32  40  48  56  64  72  80  88  96 104 112 \n",
            "  9  18  27  36  45  54  63  72  81  90  99 108 117 126 \n",
            " 10  20  30  40  50  60  70  80  90 100 110 120 130 140 \n",
            " 11  22  33  44  55  66  77  88  99 110 121 132 143 154 \n",
            " 12  24  36  48  60  72  84  96 108 120 132 144 156 168 \n",
            " 13  26  39  52  65  78  91 104 117 130 143 156 169 182 \n",
            " 14  28  42  56  70  84  98 112 126 140 154 168 182 196 \n"
          ]
        }
      ]
    },
    {
      "cell_type": "markdown",
      "metadata": {
        "id": "77ArhDEwKtml"
      },
      "source": [
        ">**(e)** As you can see, our table is not well-aligned. We really need to enforce a minimum “size” used by each number. We can do that easily by putting spaces around the numbers when they are too short. Modify the code for your multiplication table so that the columns of the table it prints are aligned. Hint: the code <code>len(str(n)) == 1</code> will be <code>true</code> if the number contained in the variable n is one digit long.\n",
        "Correct your code to get the following output:"
      ]
    },
    {
      "cell_type": "raw",
      "metadata": {
        "id": "5t8dtR2rKtml"
      },
      "source": [
        "        1    2    3    4    5    6    7    8    9   10   11   12\n",
        "    ------------------------------------------------------------------------\n",
        " 1 |    1    2    3    4    5    6    7    8    9   10   11   12\n",
        " 2 |    2    4    6    8   10   12   14   16   18   20   22   24\n",
        " 3 |    3    6    9   12   15   18   21   24   27   30   33   36\n",
        " 4 |    4    8   12   16   20   24   28   32   36   40   44   48\n",
        " 5 |    5   10   15   20   25   30   35   40   45   50   55   60\n",
        " 6 |    6   12   18   24   30   36   42   48   54   60   66   72\n",
        " 7 |    7   14   21   28   35   42   49   56   63   70   77   84\n",
        " 8 |    8   16   24   32   40   48   56   64   72   80   88   96\n",
        " 9 |    9   18   27   36   45   54   63   72   81   90   99  108\n",
        "10 |   10   20   30   40   50   60   70   80   90  100  110  120\n",
        "11 |   11   22   33   44   55   66   77   88   99  110  121  132\n",
        "12 |   12   24   36   48   60   72   84   96  108  120  132  144"
      ]
    },
    {
      "cell_type": "markdown",
      "metadata": {
        "id": "di2hlA8FKtmm"
      },
      "source": [
        ">**Hint:** Remember the <code>ljust(), rjust()</code> and <code>center()</code>functions!   "
      ]
    },
    {
      "cell_type": "code",
      "execution_count": null,
      "metadata": {
        "colab": {
          "base_uri": "https://localhost:8080/"
        },
        "id": "QJEb1ZhSKtmm",
        "outputId": "4dbc3804-a8a0-4249-bfca-745e9b9c5302"
      },
      "outputs": [
        {
          "output_type": "stream",
          "name": "stdout",
          "text": [
            "   1    2    3    4    5    6    7    8    9   10  \n",
            "   --------------------------------------------------\n",
            " 1|  1  \n",
            " 1|  1    2  \n",
            " 1|  1    2    3  \n",
            " 1|  1    2    3    4  \n",
            " 1|  1    2    3    4    5  \n",
            " 1|  1    2    3    4    5    6  \n",
            " 1|  1    2    3    4    5    6    7  \n",
            " 1|  1    2    3    4    5    6    7    8  \n",
            " 1|  1    2    3    4    5    6    7    8    9  \n",
            " 1|  1    2    3    4    5    6    7    8    9   10  \n",
            " 2|  2  \n",
            " 2|  2    4  \n",
            " 2|  2    4    6  \n",
            " 2|  2    4    6    8  \n",
            " 2|  2    4    6    8   10  \n",
            " 2|  2    4    6    8   10   12  \n",
            " 2|  2    4    6    8   10   12   14  \n",
            " 2|  2    4    6    8   10   12   14   16  \n",
            " 2|  2    4    6    8   10   12   14   16   18  \n",
            " 2|  2    4    6    8   10   12   14   16   18   20  \n",
            " 3|  3  \n",
            " 3|  3    6  \n",
            " 3|  3    6    9  \n",
            " 3|  3    6    9   12  \n",
            " 3|  3    6    9   12   15  \n",
            " 3|  3    6    9   12   15   18  \n",
            " 3|  3    6    9   12   15   18   21  \n",
            " 3|  3    6    9   12   15   18   21   24  \n",
            " 3|  3    6    9   12   15   18   21   24   27  \n",
            " 3|  3    6    9   12   15   18   21   24   27   30  \n",
            " 4|  4  \n",
            " 4|  4    8  \n",
            " 4|  4    8   12  \n",
            " 4|  4    8   12   16  \n",
            " 4|  4    8   12   16   20  \n",
            " 4|  4    8   12   16   20   24  \n",
            " 4|  4    8   12   16   20   24   28  \n",
            " 4|  4    8   12   16   20   24   28   32  \n",
            " 4|  4    8   12   16   20   24   28   32   36  \n",
            " 4|  4    8   12   16   20   24   28   32   36   40  \n",
            " 5|  5  \n",
            " 5|  5   10  \n",
            " 5|  5   10   15  \n",
            " 5|  5   10   15   20  \n",
            " 5|  5   10   15   20   25  \n",
            " 5|  5   10   15   20   25   30  \n",
            " 5|  5   10   15   20   25   30   35  \n",
            " 5|  5   10   15   20   25   30   35   40  \n",
            " 5|  5   10   15   20   25   30   35   40   45  \n",
            " 5|  5   10   15   20   25   30   35   40   45   50  \n",
            " 6|  6  \n",
            " 6|  6   12  \n",
            " 6|  6   12   18  \n",
            " 6|  6   12   18   24  \n",
            " 6|  6   12   18   24   30  \n",
            " 6|  6   12   18   24   30   36  \n",
            " 6|  6   12   18   24   30   36   42  \n",
            " 6|  6   12   18   24   30   36   42   48  \n",
            " 6|  6   12   18   24   30   36   42   48   54  \n",
            " 6|  6   12   18   24   30   36   42   48   54   60  \n",
            " 7|  7  \n",
            " 7|  7   14  \n",
            " 7|  7   14   21  \n",
            " 7|  7   14   21   28  \n",
            " 7|  7   14   21   28   35  \n",
            " 7|  7   14   21   28   35   42  \n",
            " 7|  7   14   21   28   35   42   49  \n",
            " 7|  7   14   21   28   35   42   49   56  \n",
            " 7|  7   14   21   28   35   42   49   56   63  \n",
            " 7|  7   14   21   28   35   42   49   56   63   70  \n",
            " 8|  8  \n",
            " 8|  8   16  \n",
            " 8|  8   16   24  \n",
            " 8|  8   16   24   32  \n",
            " 8|  8   16   24   32   40  \n",
            " 8|  8   16   24   32   40   48  \n",
            " 8|  8   16   24   32   40   48   56  \n",
            " 8|  8   16   24   32   40   48   56   64  \n",
            " 8|  8   16   24   32   40   48   56   64   72  \n",
            " 8|  8   16   24   32   40   48   56   64   72   80  \n",
            " 9|  9  \n",
            " 9|  9   18  \n",
            " 9|  9   18   27  \n",
            " 9|  9   18   27   36  \n",
            " 9|  9   18   27   36   45  \n",
            " 9|  9   18   27   36   45   54  \n",
            " 9|  9   18   27   36   45   54   63  \n",
            " 9|  9   18   27   36   45   54   63   72  \n",
            " 9|  9   18   27   36   45   54   63   72   81  \n",
            " 9|  9   18   27   36   45   54   63   72   81   90  \n",
            "10| 10  \n",
            "10| 10   20  \n",
            "10| 10   20   30  \n",
            "10| 10   20   30   40  \n",
            "10| 10   20   30   40   50  \n",
            "10| 10   20   30   40   50   60  \n",
            "10| 10   20   30   40   50   60   70  \n",
            "10| 10   20   30   40   50   60   70   80  \n",
            "10| 10   20   30   40   50   60   70   80   90  \n",
            "10| 10   20   30   40   50   60   70   80   90  100  \n"
          ]
        }
      ],
      "source": [
        "# Your code here\n",
        "def row(number, max_time):\n",
        "  row = []\n",
        "  for i in range(1, max_time+1):\n",
        "    row.append(number*i)\n",
        "  return row\n",
        "def print_row(row):\n",
        "  row_string = str(row[0]).rjust(2) + \"|\"\n",
        "  for i in row:\n",
        "    row_string = row_string + str(i).rjust(3) + \"  \"\n",
        "    print (row_string)\n",
        "\n",
        "def print_header(max_time):\n",
        "  header = \" \" # Some initial whitespace\n",
        "  for i in range(1, max_time+1):\n",
        "    header = header + str(i).rjust(3) + \"  \"\n",
        "  print (header)\n",
        "  print (\"   \" + \"-\"*max_time*5)\n",
        "def times_table(max_time):\n",
        "  print_header(max_time)\n",
        "  for i in range(1,max_time+1):\n",
        "    print_row(row(i, max_time))\n",
        "times_table(10)"
      ]
    },
    {
      "cell_type": "markdown",
      "metadata": {
        "id": "7XHitxRgKtmm"
      },
      "source": [
        "### Problem 7. Pascal’s triangle\n",
        "\n",
        "This is a slight variation on the previous exercise. The goal is to generate [Pascal's Triangle](http://en.wikipedia.org/wiki/Pascal's_triangle):\n",
        "\n",
        "<p><center><a href=\"http://commons.wikimedia.org/wiki/File:PascalTriangleAnimated2.gif#mediaviewer/File:PascalTriangleAnimated2.gif\"><img src=\"http://upload.wikimedia.org/wikipedia/commons/0/0d/PascalTriangleAnimated2.gif\" alt=\"PascalTriangleAnimated2.gif\"></a></center></p>\n",
        "\n",
        "The rules to generate the triangle are quite simple:\n",
        "\n",
        "* Each number is the sum of the two just above it, the above-left and the above-right one. (e.g. 5 on the last line is 1 + 4).\n",
        "* The top and sides of the triangle are initialised with 1s."
      ]
    },
    {
      "cell_type": "markdown",
      "metadata": {
        "id": "HPQDS2ooKtmm"
      },
      "source": [
        ">**(a)** For this exercise, we’ll use a 2D list. This is really just a list of list, think of it like a matrix (or an Excel spreadsheet if you hate matrices). Example of usage:"
      ]
    },
    {
      "cell_type": "code",
      "execution_count": null,
      "metadata": {
        "colab": {
          "base_uri": "https://localhost:8080/"
        },
        "id": "wLIp-4-lKtmm",
        "outputId": "4f185526-6116-44bc-d56e-6c71986a4d56"
      },
      "outputs": [
        {
          "output_type": "execute_result",
          "data": {
            "text/plain": [
              "[[1], [2, 3], [4, 5, 6]]"
            ]
          },
          "metadata": {},
          "execution_count": 21
        }
      ],
      "source": [
        "list_list = [[1], [2, 3], [4, 5]]\n",
        "list_list[0]\n",
        "[1]\n",
        "list_list[0][0]\n",
        "1\n",
        "list_list[1][1]\n",
        "3\n",
        "list_list[2].append(6)\n",
        "list_list"
      ]
    },
    {
      "cell_type": "markdown",
      "metadata": {
        "id": "l_l9pA3LKtmn"
      },
      "source": [
        ">Let’s first start by generating a 2D list with the exact same structure as Pascal’s triangle (we’ll compute the correct values later, let’s fill it up with 1’s for now). We need to generate a list of lists with 1 element in the first list, 2 elements in the second list, 3 on the third list, etc... Modify the following code, using nested loops, to create the correct result:"
      ]
    },
    {
      "cell_type": "code",
      "execution_count": null,
      "metadata": {
        "colab": {
          "base_uri": "https://localhost:8080/"
        },
        "id": "CaiucmE0Ktmn",
        "outputId": "221f8572-9be9-479f-d7eb-4868fcb701b1"
      },
      "outputs": [
        {
          "output_type": "stream",
          "name": "stdout",
          "text": [
            "[[1], [1, 1], [1, 2, 1], [1, 3, 3, 1], [1, 4, 6, 4, 1], [1, 5, 10, 10, 5, 1], [1, 6, 15, 20, 15, 6, 1], [1, 7, 21, 35, 35, 21, 7, 1], [1, 8, 28, 56, 70, 56, 28, 8, 1], [1, 9, 36, 84, 126, 126, 84, 36, 9, 1]]\n"
          ]
        }
      ],
      "source": [
        "####\n",
        "# Pascal's Triangle\n",
        "#\n",
        "#  Create and print Pascal's triangle\n",
        "####\n",
        "\n",
        "number_lines = 6\n",
        "# Part (a)\n",
        "\n",
        "# Should get [[1], [1, 1], [1, 1, 1], [1, 1, 1, 1], [1, 1, 1, 1, 1]]"
      ]
    },
    {
      "cell_type": "markdown",
      "metadata": {
        "id": "6EaN3vCPKtmn"
      },
      "source": [
        ">**Hint:** remember range iterates up to a variable’s value"
      ]
    },
    {
      "cell_type": "markdown",
      "metadata": {
        "id": "H83wnLbbKtmo"
      },
      "source": [
        ">**(b)** Write some code to print your 2D list as a triangle! Where are the above-left and above-right items associated with each element in this view? This is relevant, as it corresponds exactly to accessing the items of your triangle with indices."
      ]
    },
    {
      "cell_type": "raw",
      "metadata": {
        "id": "MhRjtTuIKtmo"
      },
      "source": [
        "1\n",
        "1 1\n",
        "1 1 1\n",
        "1 1 1 1\n",
        "1 1 1 1 1"
      ]
    },
    {
      "cell_type": "code",
      "execution_count": null,
      "metadata": {
        "id": "vFaQ2fhKKtmo"
      },
      "outputs": [],
      "source": [
        "# Your code here"
      ]
    },
    {
      "cell_type": "markdown",
      "metadata": {
        "id": "EPvTWODLKtmo"
      },
      "source": [
        ">**(c)** Now modify your code to get the actual values of Pascal’s triangle. Remember you can access elements you already generated in a previous iteration of the for-loop (e.g. <code>triangle[i-1][j]</code>). You will have to be careful about accessing numbers that do not exist, add if-statements to handle special cases.\n",
        "(**Hint:** When you try to access the “above-right” element, you can compare i and j to figure out whether or not it exists)"
      ]
    },
    {
      "cell_type": "raw",
      "metadata": {
        "id": "fpB8Jt-vKtmo"
      },
      "source": [
        "1\n",
        "1 1\n",
        "1 2 1\n",
        "1 3 3 1\n",
        "1 4 6 4 1"
      ]
    },
    {
      "cell_type": "code",
      "execution_count": null,
      "metadata": {
        "colab": {
          "base_uri": "https://localhost:8080/"
        },
        "id": "xGsei_lJKtmp",
        "outputId": "91b1452e-3e6b-4ec1-ed6d-69e04d3234b0"
      },
      "outputs": [
        {
          "output_type": "stream",
          "name": "stdout",
          "text": [
            "[[1], [1, 1], [1, 2, 1], [1, 3, 3, 1], [1, 4, 6, 4, 1]]\n"
          ]
        }
      ],
      "source": [
        "# Your code here\n",
        "triangle = [[1]]\n",
        "   # Complete the code here\n",
        "number_lines = 5\n",
        "\n",
        "for i in range(1, number_lines):\n",
        "  triangle.append([])\n",
        "  for j in range(i+1):\n",
        "    if j == 0 or j == i:\n",
        "      triangle[i].append(1)\n",
        "    else:\n",
        "      triangle[i].append(triangle[i-1][j-1] + triangle[i-1][j])\n",
        "print(triangle)"
      ]
    },
    {
      "cell_type": "code",
      "source": [
        "for sublist in triangle:\n",
        "    for element in sublist:\n",
        "        print(element, end=\" \")"
      ],
      "metadata": {
        "colab": {
          "base_uri": "https://localhost:8080/"
        },
        "id": "bnOD7mmqOMnW",
        "outputId": "654a255e-5dcc-4749-fbd5-f71bf56e68fc"
      },
      "execution_count": null,
      "outputs": [
        {
          "output_type": "stream",
          "name": "stdout",
          "text": [
            "1 1 1 1 2 1 1 3 3 1 1 4 6 4 1 "
          ]
        }
      ]
    },
    {
      "cell_type": "markdown",
      "metadata": {
        "id": "mVvXLe2KKtmp"
      },
      "source": [
        ">**(d)** (advanced) Now modify the code printing your triangle to make it actually look just like the triangle shown at the start of the problem.\n",
        "You’ll have to adjust the space used by each element again, just like for the times table."
      ]
    },
    {
      "cell_type": "raw",
      "metadata": {
        "id": "nRrEvR0_Ktmp"
      },
      "source": [
        "           1\n",
        "         1   1\n",
        "       1   2   1\n",
        "     1   3   3   1\n",
        "   1   4   6   4   1\n",
        " 1   5   10  10  5   1"
      ]
    },
    {
      "cell_type": "code",
      "execution_count": null,
      "metadata": {
        "colab": {
          "base_uri": "https://localhost:8080/"
        },
        "id": "WZeFJhDOKtmp",
        "outputId": "37ffafdf-75d7-4e1b-b35c-18c6266489ef"
      },
      "outputs": [
        {
          "output_type": "stream",
          "name": "stdout",
          "text": [
            "           1            \n",
            "         1   1          \n",
            "       1   2   1        \n",
            "     1   3   3   1      \n",
            "   1   4   6   4   1    \n",
            " 1   5   10  10  5   1  \n"
          ]
        }
      ],
      "source": [
        "# Your code here\n",
        "triangle = [[1]]\n",
        "   # Complete the code here\n",
        "number_lines = 6\n",
        "\n",
        "for i in range(1, number_lines):\n",
        "  triangle.append([])\n",
        "  for j in range(i+1):\n",
        "    if j == 0 or j == i:\n",
        "      triangle[i].append(1)\n",
        "    else:\n",
        "      triangle[i].append(triangle[i-1][j-1] + triangle[i-1][j])\n",
        "w= len(str(triangle[-1][len(triangle)//2]))\n",
        "if w % 2 == 1:\n",
        "  w += 3\n",
        "else:\n",
        "  w += 2\n",
        "\n",
        "field = w* number_lines\n",
        "\n",
        "pretty_triangle = []\n",
        "for line in triangle:\n",
        "  items = []\n",
        "  for item in line:\n",
        "    items.append(str(item).center(w))\n",
        "  pretty_triangle.append(''.join(items).center(field))\n",
        "for l in pretty_triangle:\n",
        "  print (l)"
      ]
    },
    {
      "cell_type": "markdown",
      "metadata": {
        "id": "kTvdh3qTKtmp"
      },
      "source": [
        "### Problem 7. Scrolling display\n",
        "\n",
        "This exercise will get you to play with strings and indices. The goal is to create a simulation of a dot-matrix display, and scroll some text through it. Remember how your cheap alarm-clock shows time? That’s a dot-matrix display. We want to get something like that: http://www.youtube.com/watch?v=vWFPXTyoZCA"
      ]
    },
    {
      "cell_type": "markdown",
      "metadata": {
        "id": "JtRtokB1Ktmp"
      },
      "source": [
        ">**(a)** We start easy, and just try to scroll some text directly. Complete the following code in order to print only display_width characters of the message.\n",
        "Here, we use an infinite loop (this is a big source of errors, but sometimes useful. Stop your program by pressing CTRL-C), so we have to increment curr_start manually. Make sure to verify that it doesn’t go beyond the overall length of the message."
      ]
    },
    {
      "cell_type": "code",
      "execution_count": null,
      "metadata": {
        "id": "mwTVyYZ1Ktmq"
      },
      "outputs": [],
      "source": [
        "message = 'This is a completely relevant exercise'\n",
        "display_width = 15\n",
        "\n",
        "# Get the message length\n",
        "message_length = len(message)\n",
        "curr_start = 0\n",
        "\n",
        "while True:\n",
        "# Grab the important part of the message display = '' # ... Replace me\n",
        "         # Show the results\n",
        "print(display)\n",
        "# Complete me..."
      ]
    },
    {
      "cell_type": "code",
      "source": [
        "message = 'This is a completely relevant exercise'\n",
        "display_width = 15\n",
        "for i in range(len(message)):\n",
        "    print(message[i:], end=\"\\n\")"
      ],
      "metadata": {
        "colab": {
          "base_uri": "https://localhost:8080/"
        },
        "id": "JCNcqWsbPLD4",
        "outputId": "c84f8074-91cd-4353-8ff7-0a28aaeab0de"
      },
      "execution_count": null,
      "outputs": [
        {
          "output_type": "stream",
          "name": "stdout",
          "text": [
            "This is a completely relevant exercise\n",
            "his is a completely relevant exercise\n",
            "is is a completely relevant exercise\n",
            "s is a completely relevant exercise\n",
            " is a completely relevant exercise\n",
            "is a completely relevant exercise\n",
            "s a completely relevant exercise\n",
            " a completely relevant exercise\n",
            "a completely relevant exercise\n",
            " completely relevant exercise\n",
            "completely relevant exercise\n",
            "ompletely relevant exercise\n",
            "mpletely relevant exercise\n",
            "pletely relevant exercise\n",
            "letely relevant exercise\n",
            "etely relevant exercise\n",
            "tely relevant exercise\n",
            "ely relevant exercise\n",
            "ly relevant exercise\n",
            "y relevant exercise\n",
            " relevant exercise\n",
            "relevant exercise\n",
            "elevant exercise\n",
            "levant exercise\n",
            "evant exercise\n",
            "vant exercise\n",
            "ant exercise\n",
            "nt exercise\n",
            "t exercise\n",
            " exercise\n",
            "exercise\n",
            "xercise\n",
            "ercise\n",
            "rcise\n",
            "cise\n",
            "ise\n",
            "se\n",
            "e\n"
          ]
        }
      ]
    },
    {
      "cell_type": "markdown",
      "metadata": {
        "id": "K1umnVsRKtmq"
      },
      "source": [
        ">We should get something like this:"
      ]
    },
    {
      "cell_type": "raw",
      "metadata": {
        "id": "VEnr_iXlKtmq"
      },
      "source": [
        "This is a completely relevant\n",
        "his is a completely relevant e\n",
        "is is a completely relevant ex\n",
        "s is a completely relevant exe\n",
        " is a completely relevant exer\n",
        "is a completely relevant exerc\n",
        "s a completely relevant exerci\n",
        " a completely relevant exercis\n",
        "a completely relevant exercise\n",
        " completely relevant exercise\n",
        "completely relevant exercise\n",
        "ompletely relevant exercise\n",
        "mpletely relevant exercise\n",
        "pletely relevant exercise\n",
        "letely relevant exercise\n",
        "etely relevant exercise\n",
        "tely relevant exercise\n",
        "ely relevant exercise\n",
        "ly relevant exercise"
      ]
    },
    {
      "cell_type": "markdown",
      "metadata": {
        "id": "d61lnP8AKtmq"
      },
      "source": [
        ">**(c)** Now we will make it so that the message is repeated accross the display. You will need to concatenate another part of the message at the end of the display string. You can modify the original string to add a few spaces at the end, so that it doesn’t repeat directly and look weird (e.g. instead of getting “exerciseThis” you should get “exercise This”). Your output should now be:"
      ]
    },
    {
      "cell_type": "raw",
      "metadata": {
        "id": "Ir7QEZ9bKtmq"
      },
      "source": [
        "This is a completely relevant\n",
        "his is a completely relevant e\n",
        "is is a completely relevant ex\n",
        "s is a completely relevant exe\n",
        " is a completely relevant exer\n",
        "is a completely relevant exerc\n",
        "s a completely relevant exerci\n",
        " a completely relevant exercis\n",
        "a completely relevant exercise\n",
        " completely relevant exercise\n",
        "completely relevant exercise\n",
        "ompletely relevant exercise\n",
        "mpletely relevant exercise   T\n",
        "pletely relevant exercise   Th\n",
        "letely relevant exercise   Thi\n",
        "etely relevant exercise   This\n",
        "tely relevant exercise   This\n",
        "ely relevant exercise   This i\n",
        "ly relevant exercise   This is\n",
        "y relevant exercise   This is\n",
        " relevant exercise   This is a\n",
        "relevant exercise   This is a\n",
        "elevant exercise   This is a c\n",
        "levant exercise   This is a co\n",
        "evant exercise   This is a com"
      ]
    },
    {
      "cell_type": "code",
      "execution_count": null,
      "metadata": {
        "id": "oaIqDfkDKtmr"
      },
      "outputs": [],
      "source": [
        "# Your code here"
      ]
    },
    {
      "cell_type": "markdown",
      "metadata": {
        "id": "MEZphjv3Ktmr"
      },
      "source": [
        ">**(c)** You can make it so that your terminal is “cleared” by using the “os” module and add the following command at the start of your loop:"
      ]
    },
    {
      "cell_type": "code",
      "execution_count": null,
      "metadata": {
        "colab": {
          "base_uri": "https://localhost:8080/"
        },
        "id": "mvBYwRdgKtmr",
        "outputId": "f959ac79-931d-469d-dd67-c446dc24c51a"
      },
      "outputs": [
        {
          "output_type": "execute_result",
          "data": {
            "text/plain": [
              "0"
            ]
          },
          "metadata": {},
          "execution_count": 39
        }
      ],
      "source": [
        "import os\n",
        "os.system('cls' if os.name=='nt' else 'clear')"
      ]
    },
    {
      "cell_type": "markdown",
      "metadata": {
        "id": "0AoBCNKFKtmr"
      },
      "source": [
        ">You will see more about os.system later (if this looks complicated, it’s because this works on both Windows and Mac OS X/Linux).\n",
        "You can then slow down the speed of the display by putting small pauses between each iteration of the loop. You do that by importing the module time and using sleep:"
      ]
    },
    {
      "cell_type": "code",
      "execution_count": null,
      "metadata": {
        "id": "iqDLNLqTKtmr"
      },
      "outputs": [],
      "source": [
        "import time\n",
        "time.sleep(0.05)"
      ]
    },
    {
      "cell_type": "markdown",
      "metadata": {
        "id": "Bq9pAaTEKtmr"
      },
      "source": [
        ">Remember to read on function you do not know, for example in the Standard Library online.\n",
        "With those two functions, it should look like you have a real scrolling display in your Ter- minal."
      ]
    },
    {
      "cell_type": "code",
      "execution_count": null,
      "metadata": {
        "colab": {
          "base_uri": "https://localhost:8080/"
        },
        "id": "WRYSqU-xKtms",
        "outputId": "e2a69809-9fa9-46c9-a57f-3844ccea7a0c"
      },
      "outputs": [
        {
          "output_type": "stream",
          "name": "stdout",
          "text": [
            "This is a completely relevant exercise\n",
            "his is a completely relevant exercise\n",
            "is is a completely relevant exercise\n",
            "s is a completely relevant exercise\n",
            " is a completely relevant exercise\n",
            "is a completely relevant exercise\n",
            "s a completely relevant exercise\n",
            " a completely relevant exercise\n",
            "a completely relevant exercise\n",
            " completely relevant exercise\n",
            "completely relevant exercise\n",
            "ompletely relevant exercise\n",
            "mpletely relevant exercise\n",
            "pletely relevant exercise\n",
            "letely relevant exercise\n",
            "etely relevant exercise\n",
            "tely relevant exercise\n",
            "ely relevant exercise\n",
            "ly relevant exercise\n",
            "y relevant exercise\n",
            " relevant exercise\n",
            "relevant exercise\n",
            "elevant exercise\n",
            "levant exercise\n",
            "evant exercise\n",
            "vant exercise\n",
            "ant exercise\n",
            "nt exercise\n",
            "t exercise\n",
            " exercise\n",
            "exercise\n",
            "xercise\n",
            "ercise\n",
            "rcise\n",
            "cise\n",
            "ise\n",
            "se\n",
            "e\n"
          ]
        }
      ],
      "source": [
        "for i in range(len(message)):\n",
        "    print(message[i:], end=\"\\n\")"
      ]
    }
  ],
  "metadata": {
    "kernelspec": {
      "display_name": "Python 3",
      "language": "python",
      "name": "python3"
    },
    "language_info": {
      "codemirror_mode": {
        "name": "ipython",
        "version": 3
      },
      "file_extension": ".py",
      "mimetype": "text/x-python",
      "name": "python",
      "nbconvert_exporter": "python",
      "pygments_lexer": "ipython3",
      "version": "3.6.6"
    },
    "colab": {
      "provenance": [],
      "include_colab_link": true
    }
  },
  "nbformat": 4,
  "nbformat_minor": 0
}