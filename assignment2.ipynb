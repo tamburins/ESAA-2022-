{
  "cells": [
    {
      "cell_type": "markdown",
      "metadata": {
        "id": "view-in-github",
        "colab_type": "text"
      },
      "source": [
        "<a href=\"https://colab.research.google.com/github/tamburins/ESAA-2022-/blob/main/assignment2.ipynb\" target=\"_parent\"><img src=\"https://colab.research.google.com/assets/colab-badge.svg\" alt=\"Open In Colab\"/></a>"
      ]
    },
    {
      "cell_type": "markdown",
      "metadata": {
        "id": "qHaEL0tyP9M_"
      },
      "source": [
        "# Scientific Programming in Python - Control Flow & File IO"
      ]
    },
    {
      "cell_type": "markdown",
      "metadata": {
        "id": "YJ2yLGqnP9NF"
      },
      "source": [
        "### Problem 1. FizzBuzz"
      ]
    },
    {
      "cell_type": "markdown",
      "metadata": {
        "id": "fgnNWD5jP9NG"
      },
      "source": [
        ">**(a)** Write a program that prints out the numbers between one and 100 except that:\n",
        "* for multiples of three it prints the word Fizz instead of that number;\n",
        "* for multiples of five it prints the word Buzz instead of that number; and\n",
        "* for multiples of both three and five it prints the word FizzBuzz instead of that number.\n",
        "\n",
        ">For example, the first 15 lines of output from your program should be identical to the following:"
      ]
    },
    {
      "cell_type": "raw",
      "metadata": {
        "id": "zpnYhow2P9NI"
      },
      "source": [
        "1\n",
        "2\n",
        "Fizz\n",
        "4\n",
        "Buzz\n",
        "Fizz\n",
        "7\n",
        "8\n",
        "Fizz\n",
        "Buzz\n",
        "11\n",
        "Fizz\n",
        "13\n",
        "14\n",
        "FizzBuzz"
      ]
    },
    {
      "cell_type": "code",
      "execution_count": null,
      "metadata": {
        "scrolled": false,
        "colab": {
          "base_uri": "https://localhost:8080/"
        },
        "id": "Sq7AoFmnP9NI",
        "outputId": "a03f3d70-e03e-4ea4-d75e-efc8ad9cc9e0"
      },
      "outputs": [
        {
          "output_type": "stream",
          "name": "stdout",
          "text": [
            "1\n",
            "2\n",
            "Fizz\n",
            "4\n",
            "Buzz\n",
            "Fizz\n",
            "7\n",
            "8\n",
            "Fizz\n",
            "Buzz\n",
            "11\n",
            "Fizz\n",
            "13\n",
            "14\n",
            "FizzBuzz\n"
          ]
        }
      ],
      "source": [
        "# Your code here\n",
        "n=15\n",
        "for i in range(1, n + 1):\n",
        "    output = \"\"\n",
        "    if i % 3 == 0:\n",
        "        output += \"Fizz\"\n",
        "    if i % 5 == 0:\n",
        "        output += \"Buzz\"\n",
        "    if not output:\n",
        "        output = str(i)\n",
        "    print(output)\n"
      ]
    },
    {
      "cell_type": "markdown",
      "metadata": {
        "id": "hISGkNjNP9NK"
      },
      "source": [
        ">**Hint:** If you are having trouble, start by writing code that will print all the numbers one to 100, one per line. Then, modify that code so that it prints the word Fizz instead of multiples of three. Next, modify your code to prints the word Buzz instead of multiples of five. Finally, modify it so that it prints the correct output."
      ]
    },
    {
      "cell_type": "markdown",
      "metadata": {
        "id": "iSoLDtSzP9NK"
      },
      "source": [
        ">**Hint:** To test if a variable <code>n</code> is a multiple of three, you can use this code:\n",
        "\n",
        ">><code>(n % 3) == 0</code>\n",
        "\n",
        "> The <code>%</code> symbol here is called the [modulo operator](https://en.wikipedia.org/wiki/Modulo_operation) and the code <code>n % 3</code> is pronounced \"n modulo three\". So if <code>n</code> is zero modulo three, it gives 0 remainder on division by three and that means it’s a multiple of 3. You can use the code like this:\n",
        "\n",
        ">><code>if (n % 3) == 0:\n",
        "    do_stuff </code>\n",
        "\n",
        ">Here, <code>do_stuff</code> will be executed if and only if <code>n</code> is a multiple of 3."
      ]
    },
    {
      "cell_type": "markdown",
      "metadata": {
        "id": "I88G2QQCP9NL"
      },
      "source": [
        "### Problem 2. Library with File I/O"
      ]
    },
    {
      "cell_type": "markdown",
      "metadata": {
        "id": "THvJqbNLP9NM"
      },
      "source": [
        "In this problem, you are given a list of student names and library fees in a file and your task is to write some Python code to process it. Make sure you download [library_data.txt](http://ucl-cs-grad.github.io/scipython/notebooks/day2/library_data.txt) from the website and put it in the same folder as your iPython notebook. The file looks something like this:"
      ]
    },
    {
      "cell_type": "raw",
      "metadata": {
        "id": "_NDY6O5UP9NM"
      },
      "source": [
        "123456 John Doe 1.49\n",
        "312314 Jane Miller 0.00\n",
        "031337 Ted Johnson 8.12"
      ]
    },
    {
      "cell_type": "markdown",
      "metadata": {
        "id": "oHm6OkMQP9NN"
      },
      "source": [
        "Each line in the file is a single student record. Each student record has the following format:\n",
        "><code>StudentNumber FirstName LastName AmountOwed</code>"
      ]
    },
    {
      "cell_type": "markdown",
      "metadata": {
        "id": "OrA7GM9OP9NN"
      },
      "source": [
        ">**(a)** Write a function that uses a for-loop to iterate over each line in the file and store it in a list. The resulting list should look something like this:"
      ]
    },
    {
      "cell_type": "code",
      "source": [
        "from google.colab import drive\n",
        "drive.mount('/content/drive')"
      ],
      "metadata": {
        "colab": {
          "base_uri": "https://localhost:8080/"
        },
        "id": "U5_hkHN2S4_A",
        "outputId": "0e651535-5308-488e-90c0-586c5d7fdd44"
      },
      "execution_count": null,
      "outputs": [
        {
          "output_type": "stream",
          "name": "stdout",
          "text": [
            "Mounted at /content/drive\n"
          ]
        }
      ]
    },
    {
      "cell_type": "raw",
      "metadata": {
        "id": "Xb8brGneP9NN"
      },
      "source": [
        "['123456 John Doe 1.49\\n', '312314 Jane Miller 0.00\\n', '031337 Ted Johnson 8.12\\n']"
      ]
    },
    {
      "cell_type": "code",
      "source": [
        "file_path = \"/content/drive/MyDrive/대학원/입학과제/Python 과제 - week2/library_data.txt\"  # 파일의 실제 경로로 수정해주세요\n",
        "lines = []\n",
        "\n",
        "# 파일 열기\n",
        "with open(file_path, 'r') as file:\n",
        "    # 파일의 각 줄을 읽어서 리스트에 추가\n",
        "    for line in file:\n",
        "        lines.append(line.strip())  # 줄 바꿈 문자 제거 후 리스트에 추가\n",
        "\n",
        "print(lines)"
      ],
      "metadata": {
        "colab": {
          "base_uri": "https://localhost:8080/"
        },
        "id": "fXtj6nwdTEEw",
        "outputId": "0906bee7-d6e9-4449-b927-eda06151e98f"
      },
      "execution_count": null,
      "outputs": [
        {
          "output_type": "stream",
          "name": "stdout",
          "text": [
            "['123456 John Doe 1.49', '312314 Jane Miller 0.00', '531337 Ted Johnson 8.12', '273263 Johnny Depp 0.0', '102931 Fred Asteir 1.20', '391273 Sarah Connor 10.39']\n"
          ]
        }
      ]
    },
    {
      "cell_type": "markdown",
      "metadata": {
        "id": "GjHav5jsP9NO"
      },
      "source": [
        ">**(b)** Write a function to create two lists:\n",
        ">1. A list that contains only the first column (the student number)\n",
        ">2. A list that contains only the remaining information (the student name and the amount of money owed to the library)"
      ]
    },
    {
      "cell_type": "markdown",
      "metadata": {
        "id": "dRqFGkX3P9NP"
      },
      "source": [
        ">**Hint:** You could use the string method <code>split</code> to split a string into a list of smaller strings. Read the help for this function if needed."
      ]
    },
    {
      "cell_type": "code",
      "execution_count": null,
      "metadata": {
        "colab": {
          "base_uri": "https://localhost:8080/"
        },
        "id": "G1Ejfcg-P9NQ",
        "outputId": "08bd9fa0-0be9-4fa6-a817-1a6586e62457"
      },
      "outputs": [
        {
          "output_type": "stream",
          "name": "stdout",
          "text": [
            "첫 번째 단어 리스트: ['123456', '312314', '531337', '273263', '102931', '391273']\n",
            "나머지 단어 리스트: ['John Doe 1.49', 'Jane Miller 0.00', 'Ted Johnson 8.12', 'Johnny Depp 0.0', 'Fred Asteir 1.20', 'Sarah Connor 10.39']\n"
          ]
        }
      ],
      "source": [
        "# Your code here\n",
        "student_number = []\n",
        "namenmoney = []\n",
        "\n",
        "# 파일 열기\n",
        "with open(file_path, 'r') as file:\n",
        "    # 파일의 각 줄을 읽어서 리스트에 추가\n",
        "    for line in file:\n",
        "        # 각 줄을 공백을 기준으로 나누어서 첫 번째 단어와 나머지 단어로 분리\n",
        "        words = line.strip().split(' ', 1)\n",
        "        student_number.append(words[0])  # 첫 번째 단어를 first_words 리스트에 추가\n",
        "        if len(words) > 1:\n",
        "            namenmoney.append(words[1])  # 나머지 단어를 remaining_words 리스트에 추가\n",
        "\n",
        "print(\"첫 번째 단어 리스트:\", student_number)\n",
        "print(\"나머지 단어 리스트:\", namenmoney)"
      ]
    },
    {
      "cell_type": "markdown",
      "metadata": {
        "id": "mfIKwORgP9NQ"
      },
      "source": [
        ">**(c)** Write a function that splits the second list futher into two lists:\n",
        ">1. A list that contains the name\n",
        ">2. A list that contains the amount owed (as a float)"
      ]
    },
    {
      "cell_type": "code",
      "execution_count": null,
      "metadata": {
        "colab": {
          "base_uri": "https://localhost:8080/"
        },
        "id": "66GsQHcvP9NQ",
        "outputId": "ef6a65de-1ad4-48bb-dc6b-dbdc6bdd7894"
      },
      "outputs": [
        {
          "output_type": "stream",
          "name": "stdout",
          "text": [
            "이름 리스트: ['John Doe', 'Jane Miller', 'Ted Johnson', 'Johnny Depp', 'Fred Asteir', 'Sarah Connor']\n",
            "숫자 리스트: [1.49, 0.0, 8.12, 0.0, 1.2, 10.39]\n"
          ]
        }
      ],
      "source": [
        "# Your code here\n",
        "names = []\n",
        "money = []\n",
        "\n",
        "for item in namenmoney:\n",
        "    parts = item.split()  # 공백을 기준으로 문자열을 분리\n",
        "    name = ' '.join(parts[:-1])  # 마지막 요소를 제외한 나머지를 다시 합침\n",
        "    names.append(name)  # 이름을 names 리스트에 추가\n",
        "    number = float(parts[-1])  # 마지막 요소를 숫자로 변환하여 추가\n",
        "    money.append(number)  # 숫자를 numbers 리스트에 추가\n",
        "\n",
        "print(\"이름 리스트:\", names)\n",
        "print(\"숫자 리스트:\", money)"
      ]
    },
    {
      "cell_type": "markdown",
      "metadata": {
        "id": "nDBMRBg-P9NQ"
      },
      "source": [
        ">**(d)** Write a function that determines the name and student number of the person that owes the largest amount of money."
      ]
    },
    {
      "cell_type": "code",
      "execution_count": null,
      "metadata": {
        "colab": {
          "base_uri": "https://localhost:8080/",
          "height": 36
        },
        "id": "vOV5PBdWP9NQ",
        "outputId": "883353b4-08da-4a74-e1a6-5f4c69a08adc"
      },
      "outputs": [
        {
          "output_type": "execute_result",
          "data": {
            "text/plain": [
              "'Sarah Connor'"
            ],
            "application/vnd.google.colaboratory.intrinsic+json": {
              "type": "string"
            }
          },
          "metadata": {},
          "execution_count": 7
        }
      ],
      "source": [
        "# Your code here\n",
        "def find_max_index(lst):\n",
        "    if not lst:\n",
        "        return None  # 빈 리스트인 경우 None을 반환\n",
        "\n",
        "    max_value = lst[0]  # 리스트의 첫 번째 원소를 최댓값으로 초기화\n",
        "    max_index = 0  # 최댓값의 인덱스 초기화\n",
        "\n",
        "    for i in range(1, len(lst)):\n",
        "        if lst[i] > max_value:\n",
        "            max_value = lst[i]\n",
        "            max_index = i\n",
        "\n",
        "    return max_index\n",
        "\n",
        "def find_max_student(lst, lst2):\n",
        "  ind = find_max_index(lst)\n",
        "  max_student = lst2[ind]\n",
        "  return max_student\n",
        "\n",
        "find_max_student(money, names)"
      ]
    },
    {
      "cell_type": "markdown",
      "metadata": {
        "id": "-Y7whTjsP9NR"
      },
      "source": [
        ">**(e)** Write a function that determines the names and student numbers of all people that owe money (i.e. where the amount is not 0.00)."
      ]
    },
    {
      "cell_type": "code",
      "source": [
        "def get_names_at_non_zero_indices(names, indices):\n",
        "    selected_names = [names[i] for i in indices if i < len(names)]\n",
        "    return selected_names\n",
        "\n",
        "# 0이 아닌 원소의 인덱스 추출\n",
        "non_zero_indices = [i for i in range(len(money)) if money[i] != 0]\n",
        "\n",
        "# 이름 추출\n",
        "selected_names = get_names_at_non_zero_indices(names, non_zero_indices)\n",
        "\n",
        "# 출력\n",
        "print(\"who owe money\", selected_names)\n"
      ],
      "metadata": {
        "colab": {
          "base_uri": "https://localhost:8080/"
        },
        "id": "RFUD3mT5c84i",
        "outputId": "d8ed714b-3436-4653-c315-f63cf39e338f"
      },
      "execution_count": null,
      "outputs": [
        {
          "output_type": "stream",
          "name": "stdout",
          "text": [
            "who owe money ['John Doe', 'Ted Johnson', 'Fred Asteir', 'Sarah Connor']\n"
          ]
        }
      ]
    },
    {
      "cell_type": "markdown",
      "metadata": {
        "id": "MGhu3FjuP9NR"
      },
      "source": [
        ">**(f)** We will now write our results to a new file. Write some code that:\n",
        "> 1. lets the user enter a file name;\n",
        "> 2. creates this file; and\n",
        "> 3. writes to the file the list of people that owe money (e.g. one student per line, with how much they owe as well)."
      ]
    },
    {
      "cell_type": "code",
      "execution_count": null,
      "metadata": {
        "colab": {
          "base_uri": "https://localhost:8080/"
        },
        "id": "2xhP4nmvP9NS",
        "outputId": "f3f7dfbe-4834-4768-dbdf-edd8357239c9"
      },
      "outputs": [
        {
          "output_type": "stream",
          "name": "stdout",
          "text": [
            "데이터를 저장할 파일 이름을 입력하세요: library_data.txt\n",
            "데이터가 성공적으로 library_data.txt 파일에 기록되었습니다.\n"
          ]
        }
      ],
      "source": [
        "# Your code here\n",
        "def write_to_file(file_name, data):\n",
        "    try:\n",
        "        with open(file_name, 'w') as file:\n",
        "            for person, amount in data.items():\n",
        "                file.write(f\"{person}: {amount}\\n\")\n",
        "        print(f\"데이터가 성공적으로 {file_name} 파일에 기록되었습니다.\")\n",
        "    except Exception as e:\n",
        "        print(f\"파일 쓰기 중 오류가 발생했습니다: {e}\")\n",
        "\n",
        "def main():\n",
        "    # 사용자로부터 파일 이름을 입력받습니다.\n",
        "    file_name = input(\"데이터를 저장할 파일 이름을 입력하세요: \")\n",
        "\n",
        "    # 돈을 빌린 사람들의 샘플 데이터\n",
        "    people_owe_money = {\n",
        "        \"raree\": 50,\n",
        "        \"bara\": 200\n",
        "    }\n",
        "\n",
        "    # 파일에 데이터를 기록합니다.\n",
        "    write_to_file(file_name, people_owe_money)\n",
        "\n",
        "if __name__ == \"__main__\":\n",
        "    main()"
      ]
    },
    {
      "cell_type": "markdown",
      "metadata": {
        "id": "GUoJ0IdzP9NS"
      },
      "source": [
        "### Problem 3. FizzBuzz (applied science version)"
      ]
    },
    {
      "cell_type": "markdown",
      "metadata": {
        "id": "cpGrHlsbP9NS"
      },
      "source": [
        "Imagine that you are doing a psychology experiment in which your colleague records the response time of participants presented with some task. There are two task conditions: condition A and condition B. There are n participants, and they each do the task with condition A and then with condition B. The instrument used to record the response times stores the information in a long text file called response_time.txt (which you can get [here](http://ucl-cs-grad.github.io/scipython/notebooks/day2/response_time.txt)). The first line of the file is the response time of the first participant doing the task with condition A, the second line is the response time of the first participant with condition B, the third line is the response time of the second participant doing the task with condition A, and so on."
      ]
    },
    {
      "cell_type": "markdown",
      "metadata": {
        "id": "YV7g-WlBP9NS"
      },
      "source": [
        ">**(a)** Download [response_time.txt](http://ucl-cs-grad.github.io/scipython/notebooks/day2/response_time.txt) and then write a program which prints the mean response time of all participants for task A followed by the mean response time for all participants for task B. The output of your program should be the following:"
      ]
    },
    {
      "cell_type": "raw",
      "metadata": {
        "id": "KQTOjTOAP9NS"
      },
      "source": [
        "4.98704579795\n",
        "3.104619569"
      ]
    },
    {
      "cell_type": "markdown",
      "metadata": {
        "id": "cgVfP5_UP9NS"
      },
      "source": [
        ">**Hint:** The modulo operator should come in handy again. Any appropriately indented code following <code> if (n % 2) == 0: </code> will only be executed if <code>n</code> is even."
      ]
    },
    {
      "cell_type": "code",
      "execution_count": null,
      "metadata": {
        "colab": {
          "base_uri": "https://localhost:8080/"
        },
        "id": "_t_ycJHAP9NT",
        "outputId": "f6ab55bc-3980-49f9-ea9f-55933e6faf1a"
      },
      "outputs": [
        {
          "output_type": "stream",
          "name": "stdout",
          "text": [
            "홀수번째 줄 실수들의 평균: 3.1046195690\n",
            "짝수번째 줄 실수들의 평균: 4.9870457979\n"
          ]
        }
      ],
      "source": [
        "def calculate_average(file_name):\n",
        "    try:\n",
        "        with open(file_name, 'r') as file:\n",
        "            lines = file.readlines()\n",
        "\n",
        "            odd_numbers = []\n",
        "            even_numbers = []\n",
        "\n",
        "            # 홀수번째 줄과 짝수번째 줄에 있는 실수들을 추출하여 각각의 리스트에 추가\n",
        "            for i, line in enumerate(lines):\n",
        "                numbers = [float(num) for num in line.strip().split() if num.replace('.', '').isdigit()]\n",
        "                if i % 2 == 0:\n",
        "                    even_numbers.extend(numbers)\n",
        "                else:\n",
        "                    odd_numbers.extend(numbers)\n",
        "\n",
        "            # 홀수번째 줄과 짝수번째 줄에 실수가 있는지 확인하고 평균을 계산\n",
        "            if odd_numbers:\n",
        "                odd_average = sum(odd_numbers) / len(odd_numbers)\n",
        "                print(f\"홀수번째 줄 실수들의 평균: {odd_average:.10f}\")\n",
        "            else:\n",
        "                print(\"홀수번째 줄에 실수가 없습니다.\")\n",
        "\n",
        "            if even_numbers:\n",
        "                even_average = sum(even_numbers) / len(even_numbers)\n",
        "                print(f\"짝수번째 줄 실수들의 평균: {even_average:.10f}\")\n",
        "            else:\n",
        "                print(\"짝수번째 줄에 실수가 없습니다.\")\n",
        "\n",
        "    except Exception as e:\n",
        "        print(f\"파일 읽기 중 오류가 발생했습니다: {e}\")\n",
        "\n",
        "# 텍스트 파일 이름\n",
        "file_name =\"/content/drive/MyDrive/대학원/입학과제/Python 과제 - week2/response_time.txt\"\n",
        "\n",
        "# 평균 계산 함수 호출\n",
        "calculate_average(file_name)\n"
      ]
    },
    {
      "cell_type": "markdown",
      "metadata": {
        "id": "SKsNCbSNP9NT"
      },
      "source": [
        ">**(b)** Extend your script so that it displays a box plot of the response times of the participants for the two conditions."
      ]
    },
    {
      "cell_type": "markdown",
      "metadata": {
        "id": "P-rSvrjiP9NT"
      },
      "source": [
        ">**Hint:**  If you create two lists, called <code>condition_A</code> and <code>condition_B</code>, containing the response times for conditions A and B respectively, then the <code>boxplot</code> function from matplotlib will generate the actual boxplot:\n",
        ">><code>boxplot( [condition_A, condition_B] )</code>."
      ]
    },
    {
      "cell_type": "code",
      "execution_count": null,
      "metadata": {
        "colab": {
          "base_uri": "https://localhost:8080/",
          "height": 600
        },
        "id": "aq3HZ1BsP9NT",
        "outputId": "997c490f-0836-4895-bf65-e2c11fbfd9c7"
      },
      "outputs": [
        {
          "output_type": "stream",
          "name": "stdout",
          "text": [
            "홀수번째 줄 실수들의 평균: 3.10\n",
            "짝수번째 줄 실수들의 평균: 4.99\n"
          ]
        },
        {
          "output_type": "display_data",
          "data": {
            "text/plain": [
              "<Figure size 800x600 with 1 Axes>"
            ],
            "image/png": "[encoded data removed]"
          },
          "metadata": {}
        }
      ],
      "source": [
        "# Your code here\n",
        "\n",
        "import matplotlib.pyplot as plt\n",
        "\n",
        "def calculate_average(file_name):\n",
        "    try:\n",
        "        with open(file_name, 'r') as file:\n",
        "            lines = file.readlines()\n",
        "\n",
        "            odd_numbers = []\n",
        "            even_numbers = []\n",
        "\n",
        "            # 홀수번째 줄과 짝수번째 줄에 있는 실수들을 추출하여 각각의 리스트에 추가\n",
        "            for i, line in enumerate(lines):\n",
        "                numbers = [float(num) for num in line.strip().split() if num.replace('.', '').isdigit()]\n",
        "                if i % 2 == 0:\n",
        "                    even_numbers.extend(numbers)\n",
        "                else:\n",
        "                    odd_numbers.extend(numbers)\n",
        "\n",
        "            # 홀수번째 줄과 짝수번째 줄에 실수가 있는지 확인하고 평균을 계산\n",
        "            if odd_numbers:\n",
        "                odd_average = sum(odd_numbers) / len(odd_numbers)\n",
        "                print(f\"홀수번째 줄 실수들의 평균: {odd_average:.2f}\")\n",
        "            else:\n",
        "                print(\"홀수번째 줄에 실수가 없습니다.\")\n",
        "\n",
        "            if even_numbers:\n",
        "                even_average = sum(even_numbers) / len(even_numbers)\n",
        "                print(f\"짝수번째 줄 실수들의 평균: {even_average:.2f}\")\n",
        "            else:\n",
        "                print(\"짝수번째 줄에 실수가 없습니다.\")\n",
        "\n",
        "            # 상자 그림을 그리기 위해 데이터 반환\n",
        "            return even_numbers, odd_numbers\n",
        "\n",
        "    except Exception as e:\n",
        "        print(f\"파일 읽기 중 오류가 발생했습니다: {e}\")\n",
        "\n",
        "def plot_boxplot(data1, data2):\n",
        "    plt.figure(figsize=(8, 6))\n",
        "    plt.boxplot([data1, data2], labels=['Even Numbers', 'Odd Numbers'])\n",
        "    plt.title('Box Plot of Response Times for Even and Odd Numbered Lines')\n",
        "    plt.xlabel('Lines')\n",
        "    plt.ylabel('Response Times')\n",
        "    plt.grid(True)\n",
        "    plt.show()\n",
        "\n",
        "# 텍스트 파일 이름\n",
        "file_name = \"/content/drive/MyDrive/대학원/입학과제/Python 과제 - week2/response_time.txt\"\n",
        "\n",
        "# 평균 계산 함수 호출\n",
        "even_numbers, odd_numbers = calculate_average(file_name)\n",
        "\n",
        "# 상자 그림 플롯\n",
        "plot_boxplot(even_numbers, odd_numbers)\n"
      ]
    },
    {
      "cell_type": "markdown",
      "metadata": {
        "id": "1KaHdBLmP9NT"
      },
      "source": [
        "### Problem 4. Who’s the winner?"
      ]
    },
    {
      "cell_type": "markdown",
      "metadata": {
        "id": "ye9kYOPuP9NU"
      },
      "source": [
        "The London elections are around the corner and you have been tasked with writing the code that determines the winner given all the ballots. The winner is determined as follows:\n",
        "\n",
        "* From the list of candidates (which we will for simplicity number $0,1,2,...$ ), every voter gets to select his first and his second choice. The data you are given can thus be represented as a list of lists:\n",
        "\n",
        "><code>[ [1st_choice_voter_1, 2nd_choice_voter_1], [1st_choice_voter_2, 2nd_choice_voter_2], ...]</code>\n",
        "\n",
        "* If any of the candidates gets more than 50% of the first votes, he is declared the winner.\n",
        "\n",
        "\n",
        "* If no candidate achieves this absolute majority, the two candidates with the most first votes enter into a second round, all others are eliminated.  \n",
        "\n",
        "\n",
        "* In the second round, all ballots with first votes for candidates that did not enter the second round are re-examined, and any second choice votes for the top two candidates are added to their scores.  \n",
        "\n",
        "\n",
        "* The candidate with the highest number of combined first and second choice votes is the winner.  "
      ]
    },
    {
      "cell_type": "markdown",
      "metadata": {
        "id": "CSW0ryM1P9NU"
      },
      "source": [
        ">**(a)** Download the file [votes.pickle](ucl-cs-grad.github.io/scipython/notebooks/day2/votes.pickle) from the course website. Then, use the following code to read the list of votes from the file:"
      ]
    },
    {
      "cell_type": "code",
      "execution_count": null,
      "metadata": {
        "id": "WiNgDVsBP9NV"
      },
      "outputs": [],
      "source": [
        "from pickle import *\n",
        "\n",
        "votes = load( open(\"/content/drive/MyDrive/대학원/입학과제/Python 과제 - week2/votes.pickle\", \"rb\") )"
      ]
    },
    {
      "cell_type": "markdown",
      "metadata": {
        "id": "RzV8qMfsP9NW"
      },
      "source": [
        ">**(b)** Fill in the code required to count the first votes and to determine the possible first-round winner. There are 6 candidates in the given data set. You should find that in this data set no candidate wins in the first round."
      ]
    },
    {
      "cell_type": "code",
      "source": [
        "type(votes)"
      ],
      "metadata": {
        "colab": {
          "base_uri": "https://localhost:8080/"
        },
        "id": "OccxB-5mui1o",
        "outputId": "f42e5ab1-4433-468d-f3ad-0b3bbcc0d560"
      },
      "execution_count": null,
      "outputs": [
        {
          "output_type": "execute_result",
          "data": {
            "text/plain": [
              "list"
            ]
          },
          "metadata": {},
          "execution_count": 27
        }
      ]
    },
    {
      "cell_type": "code",
      "execution_count": null,
      "metadata": {
        "colab": {
          "base_uri": "https://localhost:8080/"
        },
        "id": "NwMNygg3P9Nj",
        "outputId": "143b4317-39ab-4e6a-8266-425eb946f60b"
      },
      "outputs": [
        {
          "output_type": "stream",
          "name": "stdout",
          "text": [
            "[10010, 26969, 23130, 4959, 14848, 20084]\n"
          ]
        }
      ],
      "source": [
        "num_candidates = 6\n",
        "\n",
        "first_votes = [0] * num_candidates\n",
        "for (first, second) in votes:\n",
        "    first_votes[first] += 1\n",
        "print(first_votes)\n",
        "\n",
        "for i in range( len(first_votes) ):\n",
        "  if first_votes[i] > len(votes)/2.0:\n",
        "    print (\"We have a winner! Candidate \" + str(i) + \" with \" + str( first_votes[i] / float( len(votes) ) ) + \"%\")"
      ]
    },
    {
      "cell_type": "markdown",
      "metadata": {
        "id": "VeuLGmkqP9Nj"
      },
      "source": [
        ">**(c)** Implement the second round process described above. If you do this correctly, you should find that candidate 2 wins with 45619 votes. There are some hints in the skeleton below to get you started"
      ]
    },
    {
      "cell_type": "code",
      "execution_count": null,
      "metadata": {
        "colab": {
          "base_uri": "https://localhost:8080/",
          "height": 216
        },
        "id": "8VF_rt34P9Nj",
        "outputId": "bbeb71ca-94ec-438f-e9ed-69eaf13b3ada"
      },
      "outputs": [
        {
          "output_type": "error",
          "ename": "TypeError",
          "evalue": "'zip' object is not subscriptable",
          "traceback": [
            "\u001b[0;31m---------------------------------------------------------------------------\u001b[0m",
            "\u001b[0;31mTypeError\u001b[0m                                 Traceback (most recent call last)",
            "\u001b[0;32m<ipython-input-36-4e196dd99bd6>\u001b[0m in \u001b[0;36m<cell line: 6>\u001b[0;34m()\u001b[0m\n\u001b[1;32m      4\u001b[0m \u001b[0;31m# top two candidates. Don't worry if you don't understand how this works yet --\u001b[0m\u001b[0;34m\u001b[0m\u001b[0;34m\u001b[0m\u001b[0m\n\u001b[1;32m      5\u001b[0m \u001b[0;31m# we will see a much simpler and more elegant way to achieve the same later in the course.\u001b[0m\u001b[0;34m\u001b[0m\u001b[0;34m\u001b[0m\u001b[0m\n\u001b[0;32m----> 6\u001b[0;31m \u001b[0melimination_candidates\u001b[0m \u001b[0;34m=\u001b[0m \u001b[0mzip\u001b[0m\u001b[0;34m(\u001b[0m \u001b[0;34m*\u001b[0m\u001b[0msorted\u001b[0m\u001b[0;34m(\u001b[0m\u001b[0mzip\u001b[0m\u001b[0;34m(\u001b[0m\u001b[0mfirst_votes\u001b[0m\u001b[0;34m,\u001b[0m \u001b[0mrange\u001b[0m\u001b[0;34m(\u001b[0m\u001b[0mlen\u001b[0m\u001b[0;34m(\u001b[0m\u001b[0mfirst_votes\u001b[0m\u001b[0;34m)\u001b[0m\u001b[0;34m)\u001b[0m\u001b[0;34m)\u001b[0m\u001b[0;34m)\u001b[0m\u001b[0;34m[\u001b[0m\u001b[0;34m-\u001b[0m\u001b[0;36m2\u001b[0m\u001b[0;34m:\u001b[0m\u001b[0;34m]\u001b[0m \u001b[0;34m)\u001b[0m\u001b[0;34m[\u001b[0m\u001b[0;36m1\u001b[0m\u001b[0;34m]\u001b[0m\u001b[0;34m\u001b[0m\u001b[0;34m\u001b[0m\u001b[0m\n\u001b[0m\u001b[1;32m      7\u001b[0m \u001b[0;31m# make a copy so we can add votes\u001b[0m\u001b[0;34m\u001b[0m\u001b[0;34m\u001b[0m\u001b[0m\n\u001b[1;32m      8\u001b[0m \u001b[0msecond_votes\u001b[0m \u001b[0;34m=\u001b[0m \u001b[0mfirst_votes\u001b[0m\u001b[0;34m[\u001b[0m\u001b[0;34m:\u001b[0m\u001b[0;34m]\u001b[0m\u001b[0;34m\u001b[0m\u001b[0;34m\u001b[0m\u001b[0m\n",
            "\u001b[0;31mTypeError\u001b[0m: 'zip' object is not subscriptable"
          ]
        }
      ],
      "source": [
        "# For the elimination round, we need to find the two candidates with the most\n",
        "# first votes.\n",
        "# The code below does just that: It returns a tuple of the indices of the\n",
        "# top two candidates. Don't worry if you don't understand how this works yet --\n",
        "# we will see a much simpler and more elegant way to achieve the same later in the course.\n",
        "elimination_candidates = zip( *sorted(zip(first_votes, range(len(first_votes))))[-2:] )[1]\n",
        "# make a copy so we can add votes\n",
        "second_votes = first_votes[:]\n",
        "# add second votes to first votes for remaining candidates\n",
        "for (first, second) in votes:\n",
        "  if first != elimination_candidates[0] and first != elimination_candidates[1]:\n",
        "    if second == elimination_candidates[0] or second ==elimination_candidates[1]:\n",
        "      if second != first:\n",
        "        second_votes[second] += 1\n",
        "print(second_votes)\n",
        "# find and display the winner\n",
        "# you can either try to adapt the code used to find the top two candidates above,\n",
        "# or simply use another for loop\n",
        "winner = sorted( zip( second_votes, range( len(second_votes)) ) )[-1][1]\n",
        "print (\"We have a winner! Candidate \" + str(winner) + \" with \" + str( second_votes[winner] ) + \" votes\")"
      ]
    },
    {
      "cell_type": "markdown",
      "metadata": {
        "id": "wGlTlcNKP9Nj"
      },
      "source": [
        "### Problem 5. Text processing for Alice in Wonderland"
      ]
    },
    {
      "cell_type": "markdown",
      "metadata": {
        "id": "1eN0YJT_P9Nk"
      },
      "source": [
        "The following code will create a file called alice.txt that contains the text of Alice in Wonderland. The code below will create the file in iPython’s current directory. This is the same as going to the website http://www.guttenberg.org/, finding the .txt file for Alice in Wonderland, and clicking *File* and then *Save as* and entering ‘alice.txt’ into the save dialog of your browser. The advantage of knowing how to do this in python is that you can then write a script to automatically download the data that you need for an experiment, which will save you time when there are a lot of files."
      ]
    },
    {
      "cell_type": "code",
      "execution_count": null,
      "metadata": {
        "colab": {
          "base_uri": "https://localhost:8080/"
        },
        "id": "WUzocokmP9Nk",
        "outputId": "8afc9200-c16e-421a-fbc9-3961c62c2094"
      },
      "outputs": [
        {
          "output_type": "execute_result",
          "data": {
            "text/plain": [
              "163810"
            ]
          },
          "metadata": {},
          "execution_count": 39
        }
      ],
      "source": [
        "import urllib.request\n",
        "\n",
        "# URL on guttenberg.org\n",
        "URL = \"http://www.gutenberg.org/files/11/11.txt\"\n",
        "\n",
        "# Local URL on UCL webserver\n",
        "URL = \"http://ucl-cs-grad.github.io/scipython/notebooks/day2/alice.txt\"\n",
        "\n",
        "local_filename, headers = urllib.request.urlretrieve(URL)\n",
        "f = open(local_filename)\n",
        "open(\"alice.txt\", \"w\").write( f.read() )"
      ]
    },
    {
      "cell_type": "markdown",
      "metadata": {
        "id": "XapESD6rP9Nm"
      },
      "source": [
        ">**(a)** Open up the file ‘alice.txt’ in a text editor of your choice (e.g. Notepad on Windows or TextEdit on Mac). There might be some text at the beginning or the end that isn’t part of Alice in Wonderland. Delete it and then save the file again."
      ]
    },
    {
      "cell_type": "markdown",
      "metadata": {
        "id": "5ncp5cgWP9Nm"
      },
      "source": [
        ">**(b)** The following code will count the number of words in Alice in Wonderland. Modify the code so that it prints out the number of times the word Alice appears."
      ]
    },
    {
      "cell_type": "code",
      "execution_count": null,
      "metadata": {
        "colab": {
          "base_uri": "https://localhost:8080/"
        },
        "id": "txhd1F9RP9Nm",
        "outputId": "1085d1d7-cbd7-47c2-cfb8-f1459d778b43"
      },
      "outputs": [
        {
          "output_type": "stream",
          "name": "stdout",
          "text": [
            "29465\n"
          ]
        }
      ],
      "source": [
        "f = open(\"alice.txt\", \"r\")\n",
        "num_words = 0\n",
        "\n",
        "for line in f.readlines():\n",
        "    for word in line.strip().split():\n",
        "        num_words += 1\n",
        "\n",
        "print(num_words)"
      ]
    },
    {
      "cell_type": "markdown",
      "metadata": {
        "id": "rn9un27SP9Nn"
      },
      "source": [
        "We will revisit this exercise later when dictionaries have been introduced to analyse the frequency of all words!"
      ]
    },
    {
      "cell_type": "markdown",
      "metadata": {
        "id": "Wae8fQelP9Nn"
      },
      "source": [
        "### Problem 6. Cryptograms"
      ]
    },
    {
      "cell_type": "markdown",
      "metadata": {
        "id": "R-goGW60P9Nn"
      },
      "source": [
        "The code below ‘encrypts’ some text by rotating the alphabet by a given amount:"
      ]
    },
    {
      "cell_type": "code",
      "execution_count": null,
      "metadata": {
        "colab": {
          "base_uri": "https://localhost:8080/"
        },
        "id": "8OvbigSSP9Nn",
        "outputId": "05c43843-4e2a-42a6-b42f-6e3639b38d3c"
      },
      "outputs": [
        {
          "name": "stdout",
          "output_type": "stream",
          "text": [
            "What amount do you want to rotate by? 2578\n",
            "Enter text to be rotated.\n",
            "Enter \"EOF\" on a line on its own when you are done.\n",
            "curious\n",
            "਻੍੊ੁੇ੍ੋ\n",
            "somehow\n",
            "ੋੇ੅਽ੀੇ੏\n",
            "FOUND\n",
            "ਾੇ੍੆਼\n",
            "EOF\n"
          ]
        }
      ],
      "source": [
        "amount = int( input('What amount do you want to rotate by? ') )\n",
        "\n",
        "print('Enter text to be rotated.')\n",
        "print('Enter \"EOF\" on a line on its own when you are done.')\n",
        "\n",
        "A_value = ord('A')\n",
        "Z_value = ord('Z')\n",
        "\n",
        "while True:\n",
        "    input_line = input()\n",
        "\n",
        "    if input_line == 'EOF':\n",
        "        break\n",
        "\n",
        "    output_line = ''\n",
        "\n",
        "    for c in input_line:\n",
        "        if c.isalpha():\n",
        "            c = c.upper()\n",
        "            value = ord(c)\n",
        "            value = value + amount\n",
        "\n",
        "            if value > Z_value:\n",
        "                value = A_value + (value - Z_value) - 1\n",
        "            elif value < A_value:\n",
        "                value = Z_value - (A_value - value) + 1\n",
        "\n",
        "            c = chr(value)\n",
        "\n",
        "        output_line += c\n",
        "\n",
        "    print(output_line)"
      ]
    },
    {
      "cell_type": "markdown",
      "metadata": {
        "id": "yO215VXDP9Nn"
      },
      "source": [
        ">**(a)** If you encrypt some text by rotating some amount, what amount do you need to rotate by to decrypt it?"
      ]
    },
    {
      "cell_type": "markdown",
      "metadata": {
        "id": "E0E5ogcKP9No"
      },
      "source": [
        ">**(b)** Encrypt some text and email it to the person next to you. Tell them what amount you rotated by so they can decrypt it."
      ]
    },
    {
      "cell_type": "markdown",
      "metadata": {
        "id": "OUZkSyg4P9No"
      },
      "source": [
        ">**(c)** Figure out what <code>ord</code> and <code>chr</code> do"
      ]
    },
    {
      "cell_type": "markdown",
      "source": [
        "ord는 어떤 string의 길이가 주어졌을 때 문자의 유니코드 ㅡ코드포인트를 나타내는 정수를 반환하거나 바이트의 값으로 반환하는 함수이다\n",
        "\n",
        "chr은 문자의 ascii코드가 주어졌을 때 이것에 해당하는 하나의 문자로 된 문자열을 반환하는 함수이다\n"
      ],
      "metadata": {
        "id": "RZnMLzmU2rYj"
      }
    },
    {
      "cell_type": "markdown",
      "metadata": {
        "id": "CCrcKvgwP9No"
      },
      "source": [
        ">**(d)** Do you understand the bit where it wraps around by checking if it’s moved past ‘A’ or ‘Z’?"
      ]
    },
    {
      "cell_type": "markdown",
      "source": [
        "라틴 알파벳을 rotating하는 것의 한계는 ord('A')와 ord('Z')의 결과에 의해 주어지며 우리가 이러한 경계안에 존재하는지 확인할 필요가 있다. 이러한 특징은 'A'나 'Z'로 이동하더라도 여전히 동일하다."
      ],
      "metadata": {
        "id": "hNUdCuG64DGm"
      }
    },
    {
      "cell_type": "markdown",
      "metadata": {
        "id": "1yKT2lteP9No"
      },
      "source": [
        ">**(e)** What does this part of the code do:\n",
        "\n",
        ">><code>while True:\n",
        "    input_line = input()\n",
        "    if input_line == \"EOF\":\n",
        "        break</code>"
      ]
    },
    {
      "cell_type": "markdown",
      "source": [
        "입력된 문자열이 EOF인 경우 encrypt과정을 중단하는 역할"
      ],
      "metadata": {
        "id": "1CAbolkP4ktx"
      }
    },
    {
      "cell_type": "markdown",
      "metadata": {
        "id": "L9oP3owuP9No"
      },
      "source": [
        ">**(f)** You should notice that our program converts lower case to upper case letters as a side effect as it rotates. Change it so that it doesn’t convert lower case to upper case (instead preserving the case of the letters) but still rotates them."
      ]
    },
    {
      "cell_type": "code",
      "source": [
        "amount = int( input('What amount do you want to rotate by? ' ))\n",
        "print ('Enter text to be rotated.')\n",
        "print ('Enter \"EOF\" on a line on its own when you are done.')\n",
        "A_value = ord('A')\n",
        "Z_value = ord('Z')\n",
        "\n",
        "while True:\n",
        "  input_line = raw_input()\n",
        "  if input_line == 'EOF':\n",
        "    break\n",
        "  output_line = ''\n",
        "  for c in input_line:\n",
        "    if c.islower():\n",
        "      preserve = True\n",
        "    else:\n",
        "      preserve = False\n",
        "    if c.isalpha():\n",
        "      c = c.upper()\n",
        "      value = ord(c)\n",
        "      value = value + amount\n",
        "      if value > Z_value:\n",
        "        value = A_value + (value - Z_value) - 1\n",
        "      elif value < A_value:\n",
        "        value = Z_value - (A_value - value) + 1\n",
        "      c = chr(value)\n",
        "      if preserve:\n",
        "        c = c.lower()\n",
        "    output_line += c\n",
        "  print (output_line)\n"
      ],
      "metadata": {
        "id": "ppBtQivX1Y3y"
      },
      "execution_count": null,
      "outputs": []
    }
  ],
  "metadata": {
    "anaconda-cloud": {},
    "kernelspec": {
      "display_name": "Python 3",
      "language": "python",
      "name": "python3"
    },
    "language_info": {
      "codemirror_mode": {
        "name": "ipython",
        "version": 3
      },
      "file_extension": ".py",
      "mimetype": "text/x-python",
      "name": "python",
      "nbconvert_exporter": "python",
      "pygments_lexer": "ipython3",
      "version": "3.6.6"
    },
    "colab": {
      "provenance": [],
      "include_colab_link": true
    }
  },
  "nbformat": 4,
  "nbformat_minor": 0
}